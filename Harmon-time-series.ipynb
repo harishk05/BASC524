{
 "cells": [
  {
   "cell_type": "markdown",
   "metadata": {},
   "source": [
    "# Harmon: simple time series analysis (ignore other explanatory variables)"
   ]
  },
  {
   "cell_type": "markdown",
   "metadata": {},
   "source": [
    "## Import required packges"
   ]
  },
  {
   "cell_type": "code",
   "execution_count": 1,
   "metadata": {},
   "outputs": [],
   "source": [
    "import pandas as pd\n",
    "import numpy as np\n",
    "import statsmodels.api as sm\n",
    "import matplotlib.pyplot as plt\n",
    "from datetime import datetime\n",
    "import plotly.express as px\n",
    "import plotly.graph_objects as go\n",
    "from plotly.subplots import make_subplots"
   ]
  },
  {
   "cell_type": "markdown",
   "metadata": {},
   "source": [
    "## Read csv file into dataframes"
   ]
  },
  {
   "cell_type": "code",
   "execution_count": 2,
   "metadata": {},
   "outputs": [],
   "source": [
    "harmon = pd.read_csv('Harmon exhibit 1.csv')\n",
    "seasonality = pd.read_csv('Harmon seasonality index.csv')"
   ]
  },
  {
   "cell_type": "markdown",
   "metadata": {},
   "source": [
    "## Check what data is in the dataframes"
   ]
  },
  {
   "cell_type": "code",
   "execution_count": 3,
   "metadata": {},
   "outputs": [
    {
     "data": {
      "text/html": [
       "<div>\n",
       "<style scoped>\n",
       "    .dataframe tbody tr th:only-of-type {\n",
       "        vertical-align: middle;\n",
       "    }\n",
       "\n",
       "    .dataframe tbody tr th {\n",
       "        vertical-align: top;\n",
       "    }\n",
       "\n",
       "    .dataframe thead th {\n",
       "        text-align: right;\n",
       "    }\n",
       "</style>\n",
       "<table border=\"1\" class=\"dataframe\">\n",
       "  <thead>\n",
       "    <tr style=\"text-align: right;\">\n",
       "      <th></th>\n",
       "      <th>Month</th>\n",
       "      <th>Case Shipments</th>\n",
       "      <th>Consumer Packs</th>\n",
       "      <th>Dealer Allowance</th>\n",
       "    </tr>\n",
       "  </thead>\n",
       "  <tbody>\n",
       "    <tr>\n",
       "      <th>0</th>\n",
       "      <td>1/1/1983</td>\n",
       "      <td>NaN</td>\n",
       "      <td>0</td>\n",
       "      <td>396776</td>\n",
       "    </tr>\n",
       "    <tr>\n",
       "      <th>1</th>\n",
       "      <td>2/1/1983</td>\n",
       "      <td>NaN</td>\n",
       "      <td>0</td>\n",
       "      <td>152296</td>\n",
       "    </tr>\n",
       "    <tr>\n",
       "      <th>2</th>\n",
       "      <td>3/1/1983</td>\n",
       "      <td>NaN</td>\n",
       "      <td>0</td>\n",
       "      <td>157640</td>\n",
       "    </tr>\n",
       "    <tr>\n",
       "      <th>3</th>\n",
       "      <td>4/1/1983</td>\n",
       "      <td>NaN</td>\n",
       "      <td>0</td>\n",
       "      <td>246064</td>\n",
       "    </tr>\n",
       "    <tr>\n",
       "      <th>4</th>\n",
       "      <td>5/1/1983</td>\n",
       "      <td>NaN</td>\n",
       "      <td>15012</td>\n",
       "      <td>335716</td>\n",
       "    </tr>\n",
       "  </tbody>\n",
       "</table>\n",
       "</div>"
      ],
      "text/plain": [
       "      Month  Case Shipments  Consumer Packs  Dealer Allowance\n",
       "0  1/1/1983             NaN               0            396776\n",
       "1  2/1/1983             NaN               0            152296\n",
       "2  3/1/1983             NaN               0            157640\n",
       "3  4/1/1983             NaN               0            246064\n",
       "4  5/1/1983             NaN           15012            335716"
      ]
     },
     "execution_count": 3,
     "metadata": {},
     "output_type": "execute_result"
    }
   ],
   "source": [
    "harmon.head()"
   ]
  },
  {
   "cell_type": "code",
   "execution_count": 4,
   "metadata": {},
   "outputs": [
    {
     "data": {
      "text/html": [
       "<div>\n",
       "<style scoped>\n",
       "    .dataframe tbody tr th:only-of-type {\n",
       "        vertical-align: middle;\n",
       "    }\n",
       "\n",
       "    .dataframe tbody tr th {\n",
       "        vertical-align: top;\n",
       "    }\n",
       "\n",
       "    .dataframe thead th {\n",
       "        text-align: right;\n",
       "    }\n",
       "</style>\n",
       "<table border=\"1\" class=\"dataframe\">\n",
       "  <thead>\n",
       "    <tr style=\"text-align: right;\">\n",
       "      <th></th>\n",
       "      <th>Month</th>\n",
       "      <th>Seasonality Index</th>\n",
       "    </tr>\n",
       "  </thead>\n",
       "  <tbody>\n",
       "    <tr>\n",
       "      <th>0</th>\n",
       "      <td>January</td>\n",
       "      <td>113</td>\n",
       "    </tr>\n",
       "    <tr>\n",
       "      <th>1</th>\n",
       "      <td>February</td>\n",
       "      <td>98</td>\n",
       "    </tr>\n",
       "    <tr>\n",
       "      <th>2</th>\n",
       "      <td>March</td>\n",
       "      <td>102</td>\n",
       "    </tr>\n",
       "    <tr>\n",
       "      <th>3</th>\n",
       "      <td>April</td>\n",
       "      <td>107</td>\n",
       "    </tr>\n",
       "    <tr>\n",
       "      <th>4</th>\n",
       "      <td>May</td>\n",
       "      <td>119</td>\n",
       "    </tr>\n",
       "  </tbody>\n",
       "</table>\n",
       "</div>"
      ],
      "text/plain": [
       "      Month  Seasonality Index\n",
       "0   January                113\n",
       "1  February                 98\n",
       "2     March                102\n",
       "3     April                107\n",
       "4       May                119"
      ]
     },
     "execution_count": 4,
     "metadata": {},
     "output_type": "execute_result"
    }
   ],
   "source": [
    "seasonality.head()"
   ]
  },
  {
   "cell_type": "markdown",
   "metadata": {},
   "source": [
    "## Drop Consumer Packs and Dealer Allowance (don't need for simple time series)"
   ]
  },
  {
   "cell_type": "code",
   "execution_count": 5,
   "metadata": {},
   "outputs": [],
   "source": [
    "harmon=harmon.drop(['Consumer Packs', 'Dealer Allowance'], axis=1)"
   ]
  },
  {
   "cell_type": "markdown",
   "metadata": {},
   "source": [
    "## Convert Month column to pandas datetime format"
   ]
  },
  {
   "cell_type": "code",
   "execution_count": 6,
   "metadata": {},
   "outputs": [],
   "source": [
    "harmon['Month']=harmon['Month'].apply(lambda x: pd.to_datetime(x))"
   ]
  },
  {
   "cell_type": "markdown",
   "metadata": {},
   "source": [
    "### Convert Month to month of year (1 to 12)"
   ]
  },
  {
   "cell_type": "code",
   "execution_count": 7,
   "metadata": {},
   "outputs": [],
   "source": [
    "harmon['Month of year'] = pd.DatetimeIndex(harmon['Month']).month"
   ]
  },
  {
   "cell_type": "markdown",
   "metadata": {},
   "source": [
    "### Add month name"
   ]
  },
  {
   "cell_type": "code",
   "execution_count": 8,
   "metadata": {},
   "outputs": [],
   "source": [
    "conditions2 = [harmon['Month of year'] == 1, \n",
    "              harmon['Month of year'] == 2,\n",
    "              harmon['Month of year'] == 3,\n",
    "              harmon['Month of year'] == 4,\n",
    "              harmon['Month of year'] == 5,\n",
    "              harmon['Month of year'] == 6,\n",
    "              harmon['Month of year'] == 7,\n",
    "              harmon['Month of year'] == 8,\n",
    "              harmon['Month of year'] == 9,\n",
    "              harmon['Month of year'] == 10,\n",
    "              harmon['Month of year'] == 11,\n",
    "              harmon['Month of year'] == 12,\n",
    "             ]\n",
    "choices2 = ['January', 'February', 'March', 'April', 'May', 'June', 'July', 'August', 'September', 'October', 'November', 'December']\n",
    "harmon['Month name'] = np.select(conditions2, choices2, default=0)"
   ]
  },
  {
   "cell_type": "markdown",
   "metadata": {},
   "source": [
    "### Add a sequential month number"
   ]
  },
  {
   "cell_type": "code",
   "execution_count": 9,
   "metadata": {},
   "outputs": [],
   "source": [
    "harmon['Seq month number']=harmon.index+1"
   ]
  },
  {
   "cell_type": "markdown",
   "metadata": {},
   "source": [
    "### Rename columns in seasonality dataframe"
   ]
  },
  {
   "cell_type": "code",
   "execution_count": 10,
   "metadata": {},
   "outputs": [],
   "source": [
    "seasonality=seasonality.rename(columns={\"Month\": \"Month name\"}, errors=\"raise\")\n",
    "seasonality=seasonality.rename(columns={\"Seasonality Index\": \"Industry SI\"}, errors=\"raise\")"
   ]
  },
  {
   "cell_type": "code",
   "execution_count": 11,
   "metadata": {},
   "outputs": [
    {
     "data": {
      "text/html": [
       "<div>\n",
       "<style scoped>\n",
       "    .dataframe tbody tr th:only-of-type {\n",
       "        vertical-align: middle;\n",
       "    }\n",
       "\n",
       "    .dataframe tbody tr th {\n",
       "        vertical-align: top;\n",
       "    }\n",
       "\n",
       "    .dataframe thead th {\n",
       "        text-align: right;\n",
       "    }\n",
       "</style>\n",
       "<table border=\"1\" class=\"dataframe\">\n",
       "  <thead>\n",
       "    <tr style=\"text-align: right;\">\n",
       "      <th></th>\n",
       "      <th>Month name</th>\n",
       "      <th>Industry SI</th>\n",
       "    </tr>\n",
       "  </thead>\n",
       "  <tbody>\n",
       "    <tr>\n",
       "      <th>0</th>\n",
       "      <td>January</td>\n",
       "      <td>113</td>\n",
       "    </tr>\n",
       "    <tr>\n",
       "      <th>1</th>\n",
       "      <td>February</td>\n",
       "      <td>98</td>\n",
       "    </tr>\n",
       "    <tr>\n",
       "      <th>2</th>\n",
       "      <td>March</td>\n",
       "      <td>102</td>\n",
       "    </tr>\n",
       "    <tr>\n",
       "      <th>3</th>\n",
       "      <td>April</td>\n",
       "      <td>107</td>\n",
       "    </tr>\n",
       "    <tr>\n",
       "      <th>4</th>\n",
       "      <td>May</td>\n",
       "      <td>119</td>\n",
       "    </tr>\n",
       "    <tr>\n",
       "      <th>5</th>\n",
       "      <td>June</td>\n",
       "      <td>104</td>\n",
       "    </tr>\n",
       "    <tr>\n",
       "      <th>6</th>\n",
       "      <td>July</td>\n",
       "      <td>107</td>\n",
       "    </tr>\n",
       "    <tr>\n",
       "      <th>7</th>\n",
       "      <td>August</td>\n",
       "      <td>81</td>\n",
       "    </tr>\n",
       "    <tr>\n",
       "      <th>8</th>\n",
       "      <td>September</td>\n",
       "      <td>113</td>\n",
       "    </tr>\n",
       "    <tr>\n",
       "      <th>9</th>\n",
       "      <td>October</td>\n",
       "      <td>97</td>\n",
       "    </tr>\n",
       "    <tr>\n",
       "      <th>10</th>\n",
       "      <td>November</td>\n",
       "      <td>95</td>\n",
       "    </tr>\n",
       "    <tr>\n",
       "      <th>11</th>\n",
       "      <td>December</td>\n",
       "      <td>65</td>\n",
       "    </tr>\n",
       "  </tbody>\n",
       "</table>\n",
       "</div>"
      ],
      "text/plain": [
       "   Month name  Industry SI\n",
       "0     January          113\n",
       "1    February           98\n",
       "2       March          102\n",
       "3       April          107\n",
       "4         May          119\n",
       "5        June          104\n",
       "6        July          107\n",
       "7      August           81\n",
       "8   September          113\n",
       "9     October           97\n",
       "10   November           95\n",
       "11   December           65"
      ]
     },
     "execution_count": 11,
     "metadata": {},
     "output_type": "execute_result"
    }
   ],
   "source": [
    "seasonality"
   ]
  },
  {
   "cell_type": "markdown",
   "metadata": {},
   "source": [
    "### Merge dataframes"
   ]
  },
  {
   "cell_type": "code",
   "execution_count": 12,
   "metadata": {},
   "outputs": [],
   "source": [
    "harmon=pd.merge(harmon, seasonality, on=['Month name'])\n",
    "harmon=harmon.sort_values(by=['Seq month number'])\n",
    "harmon=harmon.reset_index()\n",
    "harmon=harmon.drop(columns = ['index'])"
   ]
  },
  {
   "cell_type": "markdown",
   "metadata": {},
   "source": [
    "### Check data"
   ]
  },
  {
   "cell_type": "code",
   "execution_count": 13,
   "metadata": {},
   "outputs": [
    {
     "data": {
      "text/html": [
       "<div>\n",
       "<style scoped>\n",
       "    .dataframe tbody tr th:only-of-type {\n",
       "        vertical-align: middle;\n",
       "    }\n",
       "\n",
       "    .dataframe tbody tr th {\n",
       "        vertical-align: top;\n",
       "    }\n",
       "\n",
       "    .dataframe thead th {\n",
       "        text-align: right;\n",
       "    }\n",
       "</style>\n",
       "<table border=\"1\" class=\"dataframe\">\n",
       "  <thead>\n",
       "    <tr style=\"text-align: right;\">\n",
       "      <th></th>\n",
       "      <th>Month</th>\n",
       "      <th>Case Shipments</th>\n",
       "      <th>Month of year</th>\n",
       "      <th>Month name</th>\n",
       "      <th>Seq month number</th>\n",
       "      <th>Industry SI</th>\n",
       "    </tr>\n",
       "  </thead>\n",
       "  <tbody>\n",
       "    <tr>\n",
       "      <th>0</th>\n",
       "      <td>1983-01-01</td>\n",
       "      <td>NaN</td>\n",
       "      <td>1</td>\n",
       "      <td>January</td>\n",
       "      <td>1</td>\n",
       "      <td>113</td>\n",
       "    </tr>\n",
       "    <tr>\n",
       "      <th>1</th>\n",
       "      <td>1983-02-01</td>\n",
       "      <td>NaN</td>\n",
       "      <td>2</td>\n",
       "      <td>February</td>\n",
       "      <td>2</td>\n",
       "      <td>98</td>\n",
       "    </tr>\n",
       "    <tr>\n",
       "      <th>2</th>\n",
       "      <td>1983-03-01</td>\n",
       "      <td>NaN</td>\n",
       "      <td>3</td>\n",
       "      <td>March</td>\n",
       "      <td>3</td>\n",
       "      <td>102</td>\n",
       "    </tr>\n",
       "    <tr>\n",
       "      <th>3</th>\n",
       "      <td>1983-04-01</td>\n",
       "      <td>NaN</td>\n",
       "      <td>4</td>\n",
       "      <td>April</td>\n",
       "      <td>4</td>\n",
       "      <td>107</td>\n",
       "    </tr>\n",
       "    <tr>\n",
       "      <th>4</th>\n",
       "      <td>1983-05-01</td>\n",
       "      <td>NaN</td>\n",
       "      <td>5</td>\n",
       "      <td>May</td>\n",
       "      <td>5</td>\n",
       "      <td>119</td>\n",
       "    </tr>\n",
       "  </tbody>\n",
       "</table>\n",
       "</div>"
      ],
      "text/plain": [
       "       Month  Case Shipments  Month of year Month name  Seq month number  \\\n",
       "0 1983-01-01             NaN              1    January                 1   \n",
       "1 1983-02-01             NaN              2   February                 2   \n",
       "2 1983-03-01             NaN              3      March                 3   \n",
       "3 1983-04-01             NaN              4      April                 4   \n",
       "4 1983-05-01             NaN              5        May                 5   \n",
       "\n",
       "   Industry SI  \n",
       "0          113  \n",
       "1           98  \n",
       "2          102  \n",
       "3          107  \n",
       "4          119  "
      ]
     },
     "execution_count": 13,
     "metadata": {},
     "output_type": "execute_result"
    }
   ],
   "source": [
    "harmon.head()"
   ]
  },
  {
   "cell_type": "markdown",
   "metadata": {},
   "source": [
    "### Describe/summarize data in dataframes"
   ]
  },
  {
   "cell_type": "code",
   "execution_count": 14,
   "metadata": {},
   "outputs": [
    {
     "data": {
      "text/html": [
       "<div>\n",
       "<style scoped>\n",
       "    .dataframe tbody tr th:only-of-type {\n",
       "        vertical-align: middle;\n",
       "    }\n",
       "\n",
       "    .dataframe tbody tr th {\n",
       "        vertical-align: top;\n",
       "    }\n",
       "\n",
       "    .dataframe thead th {\n",
       "        text-align: right;\n",
       "    }\n",
       "</style>\n",
       "<table border=\"1\" class=\"dataframe\">\n",
       "  <thead>\n",
       "    <tr style=\"text-align: right;\">\n",
       "      <th></th>\n",
       "      <th>Case Shipments</th>\n",
       "      <th>Month of year</th>\n",
       "      <th>Seq month number</th>\n",
       "      <th>Industry SI</th>\n",
       "    </tr>\n",
       "  </thead>\n",
       "  <tbody>\n",
       "    <tr>\n",
       "      <th>count</th>\n",
       "      <td>48.000000</td>\n",
       "      <td>60.000000</td>\n",
       "      <td>60.000000</td>\n",
       "      <td>60.000000</td>\n",
       "    </tr>\n",
       "    <tr>\n",
       "      <th>mean</th>\n",
       "      <td>382521.916667</td>\n",
       "      <td>6.500000</td>\n",
       "      <td>30.500000</td>\n",
       "      <td>100.083333</td>\n",
       "    </tr>\n",
       "    <tr>\n",
       "      <th>std</th>\n",
       "      <td>121169.648800</td>\n",
       "      <td>3.481184</td>\n",
       "      <td>17.464249</td>\n",
       "      <td>14.382536</td>\n",
       "    </tr>\n",
       "    <tr>\n",
       "      <th>min</th>\n",
       "      <td>166391.000000</td>\n",
       "      <td>1.000000</td>\n",
       "      <td>1.000000</td>\n",
       "      <td>65.000000</td>\n",
       "    </tr>\n",
       "    <tr>\n",
       "      <th>25%</th>\n",
       "      <td>298678.500000</td>\n",
       "      <td>3.750000</td>\n",
       "      <td>15.750000</td>\n",
       "      <td>96.500000</td>\n",
       "    </tr>\n",
       "    <tr>\n",
       "      <th>50%</th>\n",
       "      <td>371927.500000</td>\n",
       "      <td>6.500000</td>\n",
       "      <td>30.500000</td>\n",
       "      <td>103.000000</td>\n",
       "    </tr>\n",
       "    <tr>\n",
       "      <th>75%</th>\n",
       "      <td>437747.750000</td>\n",
       "      <td>9.250000</td>\n",
       "      <td>45.250000</td>\n",
       "      <td>108.500000</td>\n",
       "    </tr>\n",
       "    <tr>\n",
       "      <th>max</th>\n",
       "      <td>744583.000000</td>\n",
       "      <td>12.000000</td>\n",
       "      <td>60.000000</td>\n",
       "      <td>119.000000</td>\n",
       "    </tr>\n",
       "  </tbody>\n",
       "</table>\n",
       "</div>"
      ],
      "text/plain": [
       "       Case Shipments  Month of year  Seq month number  Industry SI\n",
       "count       48.000000      60.000000         60.000000    60.000000\n",
       "mean    382521.916667       6.500000         30.500000   100.083333\n",
       "std     121169.648800       3.481184         17.464249    14.382536\n",
       "min     166391.000000       1.000000          1.000000    65.000000\n",
       "25%     298678.500000       3.750000         15.750000    96.500000\n",
       "50%     371927.500000       6.500000         30.500000   103.000000\n",
       "75%     437747.750000       9.250000         45.250000   108.500000\n",
       "max     744583.000000      12.000000         60.000000   119.000000"
      ]
     },
     "execution_count": 14,
     "metadata": {},
     "output_type": "execute_result"
    }
   ],
   "source": [
    "harmon.describe()"
   ]
  },
  {
   "cell_type": "markdown",
   "metadata": {},
   "source": [
    "### Drop missing values in data"
   ]
  },
  {
   "cell_type": "code",
   "execution_count": 15,
   "metadata": {},
   "outputs": [],
   "source": [
    "harmon = harmon.dropna()"
   ]
  },
  {
   "cell_type": "markdown",
   "metadata": {},
   "source": [
    "### Check data"
   ]
  },
  {
   "cell_type": "code",
   "execution_count": 16,
   "metadata": {},
   "outputs": [
    {
     "data": {
      "text/html": [
       "<div>\n",
       "<style scoped>\n",
       "    .dataframe tbody tr th:only-of-type {\n",
       "        vertical-align: middle;\n",
       "    }\n",
       "\n",
       "    .dataframe tbody tr th {\n",
       "        vertical-align: top;\n",
       "    }\n",
       "\n",
       "    .dataframe thead th {\n",
       "        text-align: right;\n",
       "    }\n",
       "</style>\n",
       "<table border=\"1\" class=\"dataframe\">\n",
       "  <thead>\n",
       "    <tr style=\"text-align: right;\">\n",
       "      <th></th>\n",
       "      <th>Month</th>\n",
       "      <th>Case Shipments</th>\n",
       "      <th>Month of year</th>\n",
       "      <th>Month name</th>\n",
       "      <th>Seq month number</th>\n",
       "      <th>Industry SI</th>\n",
       "    </tr>\n",
       "  </thead>\n",
       "  <tbody>\n",
       "    <tr>\n",
       "      <th>12</th>\n",
       "      <td>1984-01-01</td>\n",
       "      <td>425075.0</td>\n",
       "      <td>1</td>\n",
       "      <td>January</td>\n",
       "      <td>13</td>\n",
       "      <td>113</td>\n",
       "    </tr>\n",
       "    <tr>\n",
       "      <th>13</th>\n",
       "      <td>1984-02-01</td>\n",
       "      <td>315305.0</td>\n",
       "      <td>2</td>\n",
       "      <td>February</td>\n",
       "      <td>14</td>\n",
       "      <td>98</td>\n",
       "    </tr>\n",
       "    <tr>\n",
       "      <th>14</th>\n",
       "      <td>1984-03-01</td>\n",
       "      <td>367286.0</td>\n",
       "      <td>3</td>\n",
       "      <td>March</td>\n",
       "      <td>15</td>\n",
       "      <td>102</td>\n",
       "    </tr>\n",
       "    <tr>\n",
       "      <th>15</th>\n",
       "      <td>1984-04-01</td>\n",
       "      <td>429432.0</td>\n",
       "      <td>4</td>\n",
       "      <td>April</td>\n",
       "      <td>16</td>\n",
       "      <td>107</td>\n",
       "    </tr>\n",
       "    <tr>\n",
       "      <th>16</th>\n",
       "      <td>1984-05-01</td>\n",
       "      <td>347874.0</td>\n",
       "      <td>5</td>\n",
       "      <td>May</td>\n",
       "      <td>17</td>\n",
       "      <td>119</td>\n",
       "    </tr>\n",
       "  </tbody>\n",
       "</table>\n",
       "</div>"
      ],
      "text/plain": [
       "        Month  Case Shipments  Month of year Month name  Seq month number  \\\n",
       "12 1984-01-01        425075.0              1    January                13   \n",
       "13 1984-02-01        315305.0              2   February                14   \n",
       "14 1984-03-01        367286.0              3      March                15   \n",
       "15 1984-04-01        429432.0              4      April                16   \n",
       "16 1984-05-01        347874.0              5        May                17   \n",
       "\n",
       "    Industry SI  \n",
       "12          113  \n",
       "13           98  \n",
       "14          102  \n",
       "15          107  \n",
       "16          119  "
      ]
     },
     "execution_count": 16,
     "metadata": {},
     "output_type": "execute_result"
    }
   ],
   "source": [
    "harmon.head()"
   ]
  },
  {
   "cell_type": "markdown",
   "metadata": {},
   "source": [
    "## Simple time series analysis"
   ]
  },
  {
   "cell_type": "markdown",
   "metadata": {},
   "source": [
    "### Basic scatter plot"
   ]
  },
  {
   "cell_type": "code",
   "execution_count": 18,
   "metadata": {},
   "outputs": [
    {
     "data": {
      "application/vnd.plotly.v1+json": {
       "config": {
        "plotlyServerURL": "https://plot.ly"
       },
       "data": [
        {
         "hovertemplate": "Seq month number=%{x}<br>Case Shipments=%{y}<extra></extra>",
         "legendgroup": "",
         "marker": {
          "color": "#636efa",
          "symbol": "circle"
         },
         "mode": "markers",
         "name": "",
         "orientation": "v",
         "showlegend": false,
         "type": "scatter",
         "x": [
          13,
          14,
          15,
          16,
          17,
          18,
          19,
          20,
          21,
          22,
          23,
          24,
          25,
          26,
          27,
          28,
          29,
          30,
          31,
          32,
          33,
          34,
          35,
          36,
          37,
          38,
          39,
          40,
          41,
          42,
          43,
          44,
          45,
          46,
          47,
          48,
          49,
          50,
          51,
          52,
          53,
          54,
          55,
          56,
          57,
          58,
          59,
          60
         ],
         "xaxis": "x",
         "y": [
          425075,
          315305,
          367286,
          429432,
          347874,
          435529,
          299403,
          296505,
          426701,
          329722,
          281783,
          166391,
          629402,
          263467,
          398320,
          376569,
          444404,
          386986,
          414314,
          253493,
          484365,
          305989,
          315407,
          182784,
          655748,
          270483,
          365058,
          313135,
          528210,
          379856,
          472058,
          254516,
          551354,
          335826,
          320408,
          276901,
          455136,
          247570,
          622204,
          429331,
          453156,
          320103,
          451779,
          249482,
          744583,
          421186,
          397367,
          269096
         ],
         "yaxis": "y"
        },
        {
         "hovertemplate": "<b>OLS trendline</b><br>Case Shipments = 1290.44 * Seq month number + 335421<br>R<sup>2</sup>=0.022230<br><br>Seq month number=%{x}<br>Case Shipments=%{y} <b>(trend)</b><extra></extra>",
         "legendgroup": "",
         "marker": {
          "color": "#636efa",
          "symbol": "circle"
         },
         "mode": "lines",
         "name": "",
         "showlegend": false,
         "type": "scatter",
         "x": [
          13,
          14,
          15,
          16,
          17,
          18,
          19,
          20,
          21,
          22,
          23,
          24,
          25,
          26,
          27,
          28,
          29,
          30,
          31,
          32,
          33,
          34,
          35,
          36,
          37,
          38,
          39,
          40,
          41,
          42,
          43,
          44,
          45,
          46,
          47,
          48,
          49,
          50,
          51,
          52,
          53,
          54,
          55,
          56,
          57,
          58,
          59,
          60
         ],
         "xaxis": "x",
         "y": [
          352196.47023809556,
          353486.91476697096,
          354777.3592958463,
          356067.8038247217,
          357358.24835359707,
          358648.6928824725,
          359939.1374113478,
          361229.58194022323,
          362520.0264690986,
          363810.470997974,
          365100.91552684933,
          366391.36005572474,
          367681.8045846001,
          368972.2491134755,
          370262.69364235085,
          371553.13817122625,
          372843.5827001016,
          374134.027228977,
          375424.47175785236,
          376714.91628672776,
          378005.3608156031,
          379295.8053444785,
          380586.24987335387,
          381876.6944022293,
          383167.1389311046,
          384457.58345998003,
          385748.0279888554,
          387038.4725177308,
          388328.91704660613,
          389619.36157548154,
          390909.8061043569,
          392200.2506332323,
          393490.69516210764,
          394781.13969098305,
          396071.5842198584,
          397362.0287487338,
          398652.47327760916,
          399942.91780648456,
          401233.3623353599,
          402523.8068642353,
          403814.25139311067,
          405104.6959219861,
          406395.1404508614,
          407685.5849797368,
          408976.0295086122,
          410266.4740374876,
          411556.91856636293,
          412847.36309523834
         ],
         "yaxis": "y"
        }
       ],
       "layout": {
        "legend": {
         "tracegroupgap": 0
        },
        "margin": {
         "t": 60
        },
        "template": {
         "data": {
          "bar": [
           {
            "error_x": {
             "color": "#2a3f5f"
            },
            "error_y": {
             "color": "#2a3f5f"
            },
            "marker": {
             "line": {
              "color": "#E5ECF6",
              "width": 0.5
             }
            },
            "type": "bar"
           }
          ],
          "barpolar": [
           {
            "marker": {
             "line": {
              "color": "#E5ECF6",
              "width": 0.5
             }
            },
            "type": "barpolar"
           }
          ],
          "carpet": [
           {
            "aaxis": {
             "endlinecolor": "#2a3f5f",
             "gridcolor": "white",
             "linecolor": "white",
             "minorgridcolor": "white",
             "startlinecolor": "#2a3f5f"
            },
            "baxis": {
             "endlinecolor": "#2a3f5f",
             "gridcolor": "white",
             "linecolor": "white",
             "minorgridcolor": "white",
             "startlinecolor": "#2a3f5f"
            },
            "type": "carpet"
           }
          ],
          "choropleth": [
           {
            "colorbar": {
             "outlinewidth": 0,
             "ticks": ""
            },
            "type": "choropleth"
           }
          ],
          "contour": [
           {
            "colorbar": {
             "outlinewidth": 0,
             "ticks": ""
            },
            "colorscale": [
             [
              0,
              "#0d0887"
             ],
             [
              0.1111111111111111,
              "#46039f"
             ],
             [
              0.2222222222222222,
              "#7201a8"
             ],
             [
              0.3333333333333333,
              "#9c179e"
             ],
             [
              0.4444444444444444,
              "#bd3786"
             ],
             [
              0.5555555555555556,
              "#d8576b"
             ],
             [
              0.6666666666666666,
              "#ed7953"
             ],
             [
              0.7777777777777778,
              "#fb9f3a"
             ],
             [
              0.8888888888888888,
              "#fdca26"
             ],
             [
              1,
              "#f0f921"
             ]
            ],
            "type": "contour"
           }
          ],
          "contourcarpet": [
           {
            "colorbar": {
             "outlinewidth": 0,
             "ticks": ""
            },
            "type": "contourcarpet"
           }
          ],
          "heatmap": [
           {
            "colorbar": {
             "outlinewidth": 0,
             "ticks": ""
            },
            "colorscale": [
             [
              0,
              "#0d0887"
             ],
             [
              0.1111111111111111,
              "#46039f"
             ],
             [
              0.2222222222222222,
              "#7201a8"
             ],
             [
              0.3333333333333333,
              "#9c179e"
             ],
             [
              0.4444444444444444,
              "#bd3786"
             ],
             [
              0.5555555555555556,
              "#d8576b"
             ],
             [
              0.6666666666666666,
              "#ed7953"
             ],
             [
              0.7777777777777778,
              "#fb9f3a"
             ],
             [
              0.8888888888888888,
              "#fdca26"
             ],
             [
              1,
              "#f0f921"
             ]
            ],
            "type": "heatmap"
           }
          ],
          "heatmapgl": [
           {
            "colorbar": {
             "outlinewidth": 0,
             "ticks": ""
            },
            "colorscale": [
             [
              0,
              "#0d0887"
             ],
             [
              0.1111111111111111,
              "#46039f"
             ],
             [
              0.2222222222222222,
              "#7201a8"
             ],
             [
              0.3333333333333333,
              "#9c179e"
             ],
             [
              0.4444444444444444,
              "#bd3786"
             ],
             [
              0.5555555555555556,
              "#d8576b"
             ],
             [
              0.6666666666666666,
              "#ed7953"
             ],
             [
              0.7777777777777778,
              "#fb9f3a"
             ],
             [
              0.8888888888888888,
              "#fdca26"
             ],
             [
              1,
              "#f0f921"
             ]
            ],
            "type": "heatmapgl"
           }
          ],
          "histogram": [
           {
            "marker": {
             "colorbar": {
              "outlinewidth": 0,
              "ticks": ""
             }
            },
            "type": "histogram"
           }
          ],
          "histogram2d": [
           {
            "colorbar": {
             "outlinewidth": 0,
             "ticks": ""
            },
            "colorscale": [
             [
              0,
              "#0d0887"
             ],
             [
              0.1111111111111111,
              "#46039f"
             ],
             [
              0.2222222222222222,
              "#7201a8"
             ],
             [
              0.3333333333333333,
              "#9c179e"
             ],
             [
              0.4444444444444444,
              "#bd3786"
             ],
             [
              0.5555555555555556,
              "#d8576b"
             ],
             [
              0.6666666666666666,
              "#ed7953"
             ],
             [
              0.7777777777777778,
              "#fb9f3a"
             ],
             [
              0.8888888888888888,
              "#fdca26"
             ],
             [
              1,
              "#f0f921"
             ]
            ],
            "type": "histogram2d"
           }
          ],
          "histogram2dcontour": [
           {
            "colorbar": {
             "outlinewidth": 0,
             "ticks": ""
            },
            "colorscale": [
             [
              0,
              "#0d0887"
             ],
             [
              0.1111111111111111,
              "#46039f"
             ],
             [
              0.2222222222222222,
              "#7201a8"
             ],
             [
              0.3333333333333333,
              "#9c179e"
             ],
             [
              0.4444444444444444,
              "#bd3786"
             ],
             [
              0.5555555555555556,
              "#d8576b"
             ],
             [
              0.6666666666666666,
              "#ed7953"
             ],
             [
              0.7777777777777778,
              "#fb9f3a"
             ],
             [
              0.8888888888888888,
              "#fdca26"
             ],
             [
              1,
              "#f0f921"
             ]
            ],
            "type": "histogram2dcontour"
           }
          ],
          "mesh3d": [
           {
            "colorbar": {
             "outlinewidth": 0,
             "ticks": ""
            },
            "type": "mesh3d"
           }
          ],
          "parcoords": [
           {
            "line": {
             "colorbar": {
              "outlinewidth": 0,
              "ticks": ""
             }
            },
            "type": "parcoords"
           }
          ],
          "pie": [
           {
            "automargin": true,
            "type": "pie"
           }
          ],
          "scatter": [
           {
            "marker": {
             "colorbar": {
              "outlinewidth": 0,
              "ticks": ""
             }
            },
            "type": "scatter"
           }
          ],
          "scatter3d": [
           {
            "line": {
             "colorbar": {
              "outlinewidth": 0,
              "ticks": ""
             }
            },
            "marker": {
             "colorbar": {
              "outlinewidth": 0,
              "ticks": ""
             }
            },
            "type": "scatter3d"
           }
          ],
          "scattercarpet": [
           {
            "marker": {
             "colorbar": {
              "outlinewidth": 0,
              "ticks": ""
             }
            },
            "type": "scattercarpet"
           }
          ],
          "scattergeo": [
           {
            "marker": {
             "colorbar": {
              "outlinewidth": 0,
              "ticks": ""
             }
            },
            "type": "scattergeo"
           }
          ],
          "scattergl": [
           {
            "marker": {
             "colorbar": {
              "outlinewidth": 0,
              "ticks": ""
             }
            },
            "type": "scattergl"
           }
          ],
          "scattermapbox": [
           {
            "marker": {
             "colorbar": {
              "outlinewidth": 0,
              "ticks": ""
             }
            },
            "type": "scattermapbox"
           }
          ],
          "scatterpolar": [
           {
            "marker": {
             "colorbar": {
              "outlinewidth": 0,
              "ticks": ""
             }
            },
            "type": "scatterpolar"
           }
          ],
          "scatterpolargl": [
           {
            "marker": {
             "colorbar": {
              "outlinewidth": 0,
              "ticks": ""
             }
            },
            "type": "scatterpolargl"
           }
          ],
          "scatterternary": [
           {
            "marker": {
             "colorbar": {
              "outlinewidth": 0,
              "ticks": ""
             }
            },
            "type": "scatterternary"
           }
          ],
          "surface": [
           {
            "colorbar": {
             "outlinewidth": 0,
             "ticks": ""
            },
            "colorscale": [
             [
              0,
              "#0d0887"
             ],
             [
              0.1111111111111111,
              "#46039f"
             ],
             [
              0.2222222222222222,
              "#7201a8"
             ],
             [
              0.3333333333333333,
              "#9c179e"
             ],
             [
              0.4444444444444444,
              "#bd3786"
             ],
             [
              0.5555555555555556,
              "#d8576b"
             ],
             [
              0.6666666666666666,
              "#ed7953"
             ],
             [
              0.7777777777777778,
              "#fb9f3a"
             ],
             [
              0.8888888888888888,
              "#fdca26"
             ],
             [
              1,
              "#f0f921"
             ]
            ],
            "type": "surface"
           }
          ],
          "table": [
           {
            "cells": {
             "fill": {
              "color": "#EBF0F8"
             },
             "line": {
              "color": "white"
             }
            },
            "header": {
             "fill": {
              "color": "#C8D4E3"
             },
             "line": {
              "color": "white"
             }
            },
            "type": "table"
           }
          ]
         },
         "layout": {
          "annotationdefaults": {
           "arrowcolor": "#2a3f5f",
           "arrowhead": 0,
           "arrowwidth": 1
          },
          "coloraxis": {
           "colorbar": {
            "outlinewidth": 0,
            "ticks": ""
           }
          },
          "colorscale": {
           "diverging": [
            [
             0,
             "#8e0152"
            ],
            [
             0.1,
             "#c51b7d"
            ],
            [
             0.2,
             "#de77ae"
            ],
            [
             0.3,
             "#f1b6da"
            ],
            [
             0.4,
             "#fde0ef"
            ],
            [
             0.5,
             "#f7f7f7"
            ],
            [
             0.6,
             "#e6f5d0"
            ],
            [
             0.7,
             "#b8e186"
            ],
            [
             0.8,
             "#7fbc41"
            ],
            [
             0.9,
             "#4d9221"
            ],
            [
             1,
             "#276419"
            ]
           ],
           "sequential": [
            [
             0,
             "#0d0887"
            ],
            [
             0.1111111111111111,
             "#46039f"
            ],
            [
             0.2222222222222222,
             "#7201a8"
            ],
            [
             0.3333333333333333,
             "#9c179e"
            ],
            [
             0.4444444444444444,
             "#bd3786"
            ],
            [
             0.5555555555555556,
             "#d8576b"
            ],
            [
             0.6666666666666666,
             "#ed7953"
            ],
            [
             0.7777777777777778,
             "#fb9f3a"
            ],
            [
             0.8888888888888888,
             "#fdca26"
            ],
            [
             1,
             "#f0f921"
            ]
           ],
           "sequentialminus": [
            [
             0,
             "#0d0887"
            ],
            [
             0.1111111111111111,
             "#46039f"
            ],
            [
             0.2222222222222222,
             "#7201a8"
            ],
            [
             0.3333333333333333,
             "#9c179e"
            ],
            [
             0.4444444444444444,
             "#bd3786"
            ],
            [
             0.5555555555555556,
             "#d8576b"
            ],
            [
             0.6666666666666666,
             "#ed7953"
            ],
            [
             0.7777777777777778,
             "#fb9f3a"
            ],
            [
             0.8888888888888888,
             "#fdca26"
            ],
            [
             1,
             "#f0f921"
            ]
           ]
          },
          "colorway": [
           "#636efa",
           "#EF553B",
           "#00cc96",
           "#ab63fa",
           "#FFA15A",
           "#19d3f3",
           "#FF6692",
           "#B6E880",
           "#FF97FF",
           "#FECB52"
          ],
          "font": {
           "color": "#2a3f5f"
          },
          "geo": {
           "bgcolor": "white",
           "lakecolor": "white",
           "landcolor": "#E5ECF6",
           "showlakes": true,
           "showland": true,
           "subunitcolor": "white"
          },
          "hoverlabel": {
           "align": "left"
          },
          "hovermode": "closest",
          "mapbox": {
           "style": "light"
          },
          "paper_bgcolor": "white",
          "plot_bgcolor": "#E5ECF6",
          "polar": {
           "angularaxis": {
            "gridcolor": "white",
            "linecolor": "white",
            "ticks": ""
           },
           "bgcolor": "#E5ECF6",
           "radialaxis": {
            "gridcolor": "white",
            "linecolor": "white",
            "ticks": ""
           }
          },
          "scene": {
           "xaxis": {
            "backgroundcolor": "#E5ECF6",
            "gridcolor": "white",
            "gridwidth": 2,
            "linecolor": "white",
            "showbackground": true,
            "ticks": "",
            "zerolinecolor": "white"
           },
           "yaxis": {
            "backgroundcolor": "#E5ECF6",
            "gridcolor": "white",
            "gridwidth": 2,
            "linecolor": "white",
            "showbackground": true,
            "ticks": "",
            "zerolinecolor": "white"
           },
           "zaxis": {
            "backgroundcolor": "#E5ECF6",
            "gridcolor": "white",
            "gridwidth": 2,
            "linecolor": "white",
            "showbackground": true,
            "ticks": "",
            "zerolinecolor": "white"
           }
          },
          "shapedefaults": {
           "line": {
            "color": "#2a3f5f"
           }
          },
          "ternary": {
           "aaxis": {
            "gridcolor": "white",
            "linecolor": "white",
            "ticks": ""
           },
           "baxis": {
            "gridcolor": "white",
            "linecolor": "white",
            "ticks": ""
           },
           "bgcolor": "#E5ECF6",
           "caxis": {
            "gridcolor": "white",
            "linecolor": "white",
            "ticks": ""
           }
          },
          "title": {
           "x": 0.05
          },
          "xaxis": {
           "automargin": true,
           "gridcolor": "white",
           "linecolor": "white",
           "ticks": "",
           "title": {
            "standoff": 15
           },
           "zerolinecolor": "white",
           "zerolinewidth": 2
          },
          "yaxis": {
           "automargin": true,
           "gridcolor": "white",
           "linecolor": "white",
           "ticks": "",
           "title": {
            "standoff": 15
           },
           "zerolinecolor": "white",
           "zerolinewidth": 2
          }
         }
        },
        "xaxis": {
         "anchor": "y",
         "domain": [
          0,
          1
         ],
         "title": {
          "text": "Seq month number"
         }
        },
        "yaxis": {
         "anchor": "x",
         "domain": [
          0,
          1
         ],
         "title": {
          "text": "Case Shipments"
         }
        }
       }
      },
      "text/html": [
       "<div>                            <div id=\"d7ee834e-4d43-4abd-946b-f57021b34f1d\" class=\"plotly-graph-div\" style=\"height:525px; width:100%;\"></div>            <script type=\"text/javascript\">                require([\"plotly\"], function(Plotly) {                    window.PLOTLYENV=window.PLOTLYENV || {};                                    if (document.getElementById(\"d7ee834e-4d43-4abd-946b-f57021b34f1d\")) {                    Plotly.newPlot(                        \"d7ee834e-4d43-4abd-946b-f57021b34f1d\",                        [{\"hovertemplate\": \"Seq month number=%{x}<br>Case Shipments=%{y}<extra></extra>\", \"legendgroup\": \"\", \"marker\": {\"color\": \"#636efa\", \"symbol\": \"circle\"}, \"mode\": \"markers\", \"name\": \"\", \"orientation\": \"v\", \"showlegend\": false, \"type\": \"scatter\", \"x\": [13, 14, 15, 16, 17, 18, 19, 20, 21, 22, 23, 24, 25, 26, 27, 28, 29, 30, 31, 32, 33, 34, 35, 36, 37, 38, 39, 40, 41, 42, 43, 44, 45, 46, 47, 48, 49, 50, 51, 52, 53, 54, 55, 56, 57, 58, 59, 60], \"xaxis\": \"x\", \"y\": [425075.0, 315305.0, 367286.0, 429432.0, 347874.0, 435529.0, 299403.0, 296505.0, 426701.0, 329722.0, 281783.0, 166391.0, 629402.0, 263467.0, 398320.0, 376569.0, 444404.0, 386986.0, 414314.0, 253493.0, 484365.0, 305989.0, 315407.0, 182784.0, 655748.0, 270483.0, 365058.0, 313135.0, 528210.0, 379856.0, 472058.0, 254516.0, 551354.0, 335826.0, 320408.0, 276901.0, 455136.0, 247570.0, 622204.0, 429331.0, 453156.0, 320103.0, 451779.0, 249482.0, 744583.0, 421186.0, 397367.0, 269096.0], \"yaxis\": \"y\"}, {\"hovertemplate\": \"<b>OLS trendline</b><br>Case Shipments = 1290.44 * Seq month number + 335421<br>R<sup>2</sup>=0.022230<br><br>Seq month number=%{x}<br>Case Shipments=%{y} <b>(trend)</b><extra></extra>\", \"legendgroup\": \"\", \"marker\": {\"color\": \"#636efa\", \"symbol\": \"circle\"}, \"mode\": \"lines\", \"name\": \"\", \"showlegend\": false, \"type\": \"scatter\", \"x\": [13, 14, 15, 16, 17, 18, 19, 20, 21, 22, 23, 24, 25, 26, 27, 28, 29, 30, 31, 32, 33, 34, 35, 36, 37, 38, 39, 40, 41, 42, 43, 44, 45, 46, 47, 48, 49, 50, 51, 52, 53, 54, 55, 56, 57, 58, 59, 60], \"xaxis\": \"x\", \"y\": [352196.47023809556, 353486.91476697096, 354777.3592958463, 356067.8038247217, 357358.24835359707, 358648.6928824725, 359939.1374113478, 361229.58194022323, 362520.0264690986, 363810.470997974, 365100.91552684933, 366391.36005572474, 367681.8045846001, 368972.2491134755, 370262.69364235085, 371553.13817122625, 372843.5827001016, 374134.027228977, 375424.47175785236, 376714.91628672776, 378005.3608156031, 379295.8053444785, 380586.24987335387, 381876.6944022293, 383167.1389311046, 384457.58345998003, 385748.0279888554, 387038.4725177308, 388328.91704660613, 389619.36157548154, 390909.8061043569, 392200.2506332323, 393490.69516210764, 394781.13969098305, 396071.5842198584, 397362.0287487338, 398652.47327760916, 399942.91780648456, 401233.3623353599, 402523.8068642353, 403814.25139311067, 405104.6959219861, 406395.1404508614, 407685.5849797368, 408976.0295086122, 410266.4740374876, 411556.91856636293, 412847.36309523834], \"yaxis\": \"y\"}],                        {\"legend\": {\"tracegroupgap\": 0}, \"margin\": {\"t\": 60}, \"template\": {\"data\": {\"bar\": [{\"error_x\": {\"color\": \"#2a3f5f\"}, \"error_y\": {\"color\": \"#2a3f5f\"}, \"marker\": {\"line\": {\"color\": \"#E5ECF6\", \"width\": 0.5}}, \"type\": \"bar\"}], \"barpolar\": [{\"marker\": {\"line\": {\"color\": \"#E5ECF6\", \"width\": 0.5}}, \"type\": \"barpolar\"}], \"carpet\": [{\"aaxis\": {\"endlinecolor\": \"#2a3f5f\", \"gridcolor\": \"white\", \"linecolor\": \"white\", \"minorgridcolor\": \"white\", \"startlinecolor\": \"#2a3f5f\"}, \"baxis\": {\"endlinecolor\": \"#2a3f5f\", \"gridcolor\": \"white\", \"linecolor\": \"white\", \"minorgridcolor\": \"white\", \"startlinecolor\": \"#2a3f5f\"}, \"type\": \"carpet\"}], \"choropleth\": [{\"colorbar\": {\"outlinewidth\": 0, \"ticks\": \"\"}, \"type\": \"choropleth\"}], \"contour\": [{\"colorbar\": {\"outlinewidth\": 0, \"ticks\": \"\"}, \"colorscale\": [[0.0, \"#0d0887\"], [0.1111111111111111, \"#46039f\"], [0.2222222222222222, \"#7201a8\"], [0.3333333333333333, \"#9c179e\"], [0.4444444444444444, \"#bd3786\"], [0.5555555555555556, \"#d8576b\"], [0.6666666666666666, \"#ed7953\"], [0.7777777777777778, \"#fb9f3a\"], [0.8888888888888888, \"#fdca26\"], [1.0, \"#f0f921\"]], \"type\": \"contour\"}], \"contourcarpet\": [{\"colorbar\": {\"outlinewidth\": 0, \"ticks\": \"\"}, \"type\": \"contourcarpet\"}], \"heatmap\": [{\"colorbar\": {\"outlinewidth\": 0, \"ticks\": \"\"}, \"colorscale\": [[0.0, \"#0d0887\"], [0.1111111111111111, \"#46039f\"], [0.2222222222222222, \"#7201a8\"], [0.3333333333333333, \"#9c179e\"], [0.4444444444444444, \"#bd3786\"], [0.5555555555555556, \"#d8576b\"], [0.6666666666666666, \"#ed7953\"], [0.7777777777777778, \"#fb9f3a\"], [0.8888888888888888, \"#fdca26\"], [1.0, \"#f0f921\"]], \"type\": \"heatmap\"}], \"heatmapgl\": [{\"colorbar\": {\"outlinewidth\": 0, \"ticks\": \"\"}, \"colorscale\": [[0.0, \"#0d0887\"], [0.1111111111111111, \"#46039f\"], [0.2222222222222222, \"#7201a8\"], [0.3333333333333333, \"#9c179e\"], [0.4444444444444444, \"#bd3786\"], [0.5555555555555556, \"#d8576b\"], [0.6666666666666666, \"#ed7953\"], [0.7777777777777778, \"#fb9f3a\"], [0.8888888888888888, \"#fdca26\"], [1.0, \"#f0f921\"]], \"type\": \"heatmapgl\"}], \"histogram\": [{\"marker\": {\"colorbar\": {\"outlinewidth\": 0, \"ticks\": \"\"}}, \"type\": \"histogram\"}], \"histogram2d\": [{\"colorbar\": {\"outlinewidth\": 0, \"ticks\": \"\"}, \"colorscale\": [[0.0, \"#0d0887\"], [0.1111111111111111, \"#46039f\"], [0.2222222222222222, \"#7201a8\"], [0.3333333333333333, \"#9c179e\"], [0.4444444444444444, \"#bd3786\"], [0.5555555555555556, \"#d8576b\"], [0.6666666666666666, \"#ed7953\"], [0.7777777777777778, \"#fb9f3a\"], [0.8888888888888888, \"#fdca26\"], [1.0, \"#f0f921\"]], \"type\": \"histogram2d\"}], \"histogram2dcontour\": [{\"colorbar\": {\"outlinewidth\": 0, \"ticks\": \"\"}, \"colorscale\": [[0.0, \"#0d0887\"], [0.1111111111111111, \"#46039f\"], [0.2222222222222222, \"#7201a8\"], [0.3333333333333333, \"#9c179e\"], [0.4444444444444444, \"#bd3786\"], [0.5555555555555556, \"#d8576b\"], [0.6666666666666666, \"#ed7953\"], [0.7777777777777778, \"#fb9f3a\"], [0.8888888888888888, \"#fdca26\"], [1.0, \"#f0f921\"]], \"type\": \"histogram2dcontour\"}], \"mesh3d\": [{\"colorbar\": {\"outlinewidth\": 0, \"ticks\": \"\"}, \"type\": \"mesh3d\"}], \"parcoords\": [{\"line\": {\"colorbar\": {\"outlinewidth\": 0, \"ticks\": \"\"}}, \"type\": \"parcoords\"}], \"pie\": [{\"automargin\": true, \"type\": \"pie\"}], \"scatter\": [{\"marker\": {\"colorbar\": {\"outlinewidth\": 0, \"ticks\": \"\"}}, \"type\": \"scatter\"}], \"scatter3d\": [{\"line\": {\"colorbar\": {\"outlinewidth\": 0, \"ticks\": \"\"}}, \"marker\": {\"colorbar\": {\"outlinewidth\": 0, \"ticks\": \"\"}}, \"type\": \"scatter3d\"}], \"scattercarpet\": [{\"marker\": {\"colorbar\": {\"outlinewidth\": 0, \"ticks\": \"\"}}, \"type\": \"scattercarpet\"}], \"scattergeo\": [{\"marker\": {\"colorbar\": {\"outlinewidth\": 0, \"ticks\": \"\"}}, \"type\": \"scattergeo\"}], \"scattergl\": [{\"marker\": {\"colorbar\": {\"outlinewidth\": 0, \"ticks\": \"\"}}, \"type\": \"scattergl\"}], \"scattermapbox\": [{\"marker\": {\"colorbar\": {\"outlinewidth\": 0, \"ticks\": \"\"}}, \"type\": \"scattermapbox\"}], \"scatterpolar\": [{\"marker\": {\"colorbar\": {\"outlinewidth\": 0, \"ticks\": \"\"}}, \"type\": \"scatterpolar\"}], \"scatterpolargl\": [{\"marker\": {\"colorbar\": {\"outlinewidth\": 0, \"ticks\": \"\"}}, \"type\": \"scatterpolargl\"}], \"scatterternary\": [{\"marker\": {\"colorbar\": {\"outlinewidth\": 0, \"ticks\": \"\"}}, \"type\": \"scatterternary\"}], \"surface\": [{\"colorbar\": {\"outlinewidth\": 0, \"ticks\": \"\"}, \"colorscale\": [[0.0, \"#0d0887\"], [0.1111111111111111, \"#46039f\"], [0.2222222222222222, \"#7201a8\"], [0.3333333333333333, \"#9c179e\"], [0.4444444444444444, \"#bd3786\"], [0.5555555555555556, \"#d8576b\"], [0.6666666666666666, \"#ed7953\"], [0.7777777777777778, \"#fb9f3a\"], [0.8888888888888888, \"#fdca26\"], [1.0, \"#f0f921\"]], \"type\": \"surface\"}], \"table\": [{\"cells\": {\"fill\": {\"color\": \"#EBF0F8\"}, \"line\": {\"color\": \"white\"}}, \"header\": {\"fill\": {\"color\": \"#C8D4E3\"}, \"line\": {\"color\": \"white\"}}, \"type\": \"table\"}]}, \"layout\": {\"annotationdefaults\": {\"arrowcolor\": \"#2a3f5f\", \"arrowhead\": 0, \"arrowwidth\": 1}, \"coloraxis\": {\"colorbar\": {\"outlinewidth\": 0, \"ticks\": \"\"}}, \"colorscale\": {\"diverging\": [[0, \"#8e0152\"], [0.1, \"#c51b7d\"], [0.2, \"#de77ae\"], [0.3, \"#f1b6da\"], [0.4, \"#fde0ef\"], [0.5, \"#f7f7f7\"], [0.6, \"#e6f5d0\"], [0.7, \"#b8e186\"], [0.8, \"#7fbc41\"], [0.9, \"#4d9221\"], [1, \"#276419\"]], \"sequential\": [[0.0, \"#0d0887\"], [0.1111111111111111, \"#46039f\"], [0.2222222222222222, \"#7201a8\"], [0.3333333333333333, \"#9c179e\"], [0.4444444444444444, \"#bd3786\"], [0.5555555555555556, \"#d8576b\"], [0.6666666666666666, \"#ed7953\"], [0.7777777777777778, \"#fb9f3a\"], [0.8888888888888888, \"#fdca26\"], [1.0, \"#f0f921\"]], \"sequentialminus\": [[0.0, \"#0d0887\"], [0.1111111111111111, \"#46039f\"], [0.2222222222222222, \"#7201a8\"], [0.3333333333333333, \"#9c179e\"], [0.4444444444444444, \"#bd3786\"], [0.5555555555555556, \"#d8576b\"], [0.6666666666666666, \"#ed7953\"], [0.7777777777777778, \"#fb9f3a\"], [0.8888888888888888, \"#fdca26\"], [1.0, \"#f0f921\"]]}, \"colorway\": [\"#636efa\", \"#EF553B\", \"#00cc96\", \"#ab63fa\", \"#FFA15A\", \"#19d3f3\", \"#FF6692\", \"#B6E880\", \"#FF97FF\", \"#FECB52\"], \"font\": {\"color\": \"#2a3f5f\"}, \"geo\": {\"bgcolor\": \"white\", \"lakecolor\": \"white\", \"landcolor\": \"#E5ECF6\", \"showlakes\": true, \"showland\": true, \"subunitcolor\": \"white\"}, \"hoverlabel\": {\"align\": \"left\"}, \"hovermode\": \"closest\", \"mapbox\": {\"style\": \"light\"}, \"paper_bgcolor\": \"white\", \"plot_bgcolor\": \"#E5ECF6\", \"polar\": {\"angularaxis\": {\"gridcolor\": \"white\", \"linecolor\": \"white\", \"ticks\": \"\"}, \"bgcolor\": \"#E5ECF6\", \"radialaxis\": {\"gridcolor\": \"white\", \"linecolor\": \"white\", \"ticks\": \"\"}}, \"scene\": {\"xaxis\": {\"backgroundcolor\": \"#E5ECF6\", \"gridcolor\": \"white\", \"gridwidth\": 2, \"linecolor\": \"white\", \"showbackground\": true, \"ticks\": \"\", \"zerolinecolor\": \"white\"}, \"yaxis\": {\"backgroundcolor\": \"#E5ECF6\", \"gridcolor\": \"white\", \"gridwidth\": 2, \"linecolor\": \"white\", \"showbackground\": true, \"ticks\": \"\", \"zerolinecolor\": \"white\"}, \"zaxis\": {\"backgroundcolor\": \"#E5ECF6\", \"gridcolor\": \"white\", \"gridwidth\": 2, \"linecolor\": \"white\", \"showbackground\": true, \"ticks\": \"\", \"zerolinecolor\": \"white\"}}, \"shapedefaults\": {\"line\": {\"color\": \"#2a3f5f\"}}, \"ternary\": {\"aaxis\": {\"gridcolor\": \"white\", \"linecolor\": \"white\", \"ticks\": \"\"}, \"baxis\": {\"gridcolor\": \"white\", \"linecolor\": \"white\", \"ticks\": \"\"}, \"bgcolor\": \"#E5ECF6\", \"caxis\": {\"gridcolor\": \"white\", \"linecolor\": \"white\", \"ticks\": \"\"}}, \"title\": {\"x\": 0.05}, \"xaxis\": {\"automargin\": true, \"gridcolor\": \"white\", \"linecolor\": \"white\", \"ticks\": \"\", \"title\": {\"standoff\": 15}, \"zerolinecolor\": \"white\", \"zerolinewidth\": 2}, \"yaxis\": {\"automargin\": true, \"gridcolor\": \"white\", \"linecolor\": \"white\", \"ticks\": \"\", \"title\": {\"standoff\": 15}, \"zerolinecolor\": \"white\", \"zerolinewidth\": 2}}}, \"xaxis\": {\"anchor\": \"y\", \"domain\": [0.0, 1.0], \"title\": {\"text\": \"Seq month number\"}}, \"yaxis\": {\"anchor\": \"x\", \"domain\": [0.0, 1.0], \"title\": {\"text\": \"Case Shipments\"}}},                        {\"responsive\": true}                    ).then(function(){\n",
       "                            \n",
       "var gd = document.getElementById('d7ee834e-4d43-4abd-946b-f57021b34f1d');\n",
       "var x = new MutationObserver(function (mutations, observer) {{\n",
       "        var display = window.getComputedStyle(gd).display;\n",
       "        if (!display || display === 'none') {{\n",
       "            console.log([gd, 'removed!']);\n",
       "            Plotly.purge(gd);\n",
       "            observer.disconnect();\n",
       "        }}\n",
       "}});\n",
       "\n",
       "// Listen for the removal of the full notebook cells\n",
       "var notebookContainer = gd.closest('#notebook-container');\n",
       "if (notebookContainer) {{\n",
       "    x.observe(notebookContainer, {childList: true});\n",
       "}}\n",
       "\n",
       "// Listen for the clearing of the current output cell\n",
       "var outputEl = gd.closest('.output');\n",
       "if (outputEl) {{\n",
       "    x.observe(outputEl, {childList: true});\n",
       "}}\n",
       "\n",
       "                        })                };                });            </script>        </div>"
      ]
     },
     "metadata": {},
     "output_type": "display_data"
    }
   ],
   "source": [
    "fig = px.scatter(harmon, x=\"Seq month number\", y=\"Case Shipments\", trendline=\"ols\")\n",
    "fig.show()\n",
    "## More basic scatter plot\n",
    "#plt.style.use('seaborn')\n",
    "#harmon.plot(x='Seq month number', y='Case Shipments', kind='scatter')\n",
    "#plt.show()"
   ]
  },
  {
   "cell_type": "markdown",
   "metadata": {},
   "source": [
    "### Basic regression to find level and trend "
   ]
  },
  {
   "cell_type": "markdown",
   "metadata": {},
   "source": [
    "#### Note that statsmodels does not add an intercept; need to \"add.constant\""
   ]
  },
  {
   "cell_type": "code",
   "execution_count": 19,
   "metadata": {},
   "outputs": [
    {
     "name": "stdout",
     "output_type": "stream",
     "text": [
      "                            OLS Regression Results                            \n",
      "==============================================================================\n",
      "Dep. Variable:         Case Shipments   R-squared:                       0.022\n",
      "Model:                            OLS   Adj. R-squared:                  0.001\n",
      "Method:                 Least Squares   F-statistic:                     1.046\n",
      "Date:                Wed, 19 Jan 2022   Prob (F-statistic):              0.312\n",
      "Time:                        11:11:46   Log-Likelihood:                -628.90\n",
      "No. Observations:                  48   AIC:                             1262.\n",
      "Df Residuals:                      46   BIC:                             1266.\n",
      "Df Model:                           1                                         \n",
      "Covariance Type:            nonrobust                                         \n",
      "====================================================================================\n",
      "                       coef    std err          t      P>|t|      [0.025      0.975]\n",
      "------------------------------------------------------------------------------------\n",
      "const             3.354e+05   4.93e+04      6.809      0.000    2.36e+05    4.35e+05\n",
      "Seq month number  1290.4445   1261.843      1.023      0.312   -1249.513    3830.402\n",
      "==============================================================================\n",
      "Omnibus:                        5.774   Durbin-Watson:                   2.873\n",
      "Prob(Omnibus):                  0.056   Jarque-Bera (JB):                4.728\n",
      "Skew:                           0.735   Prob(JB):                       0.0940\n",
      "Kurtosis:                       3.451   Cond. No.                         110.\n",
      "==============================================================================\n",
      "\n",
      "Notes:\n",
      "[1] Standard Errors assume that the covariance matrix of the errors is correctly specified.\n"
     ]
    }
   ],
   "source": [
    "X = harmon['Seq month number']\n",
    "X = sm.add_constant(X)\n",
    "y = harmon['Case Shipments']\n",
    "model = sm.OLS(y, X)\n",
    "results = model.fit()\n",
    "print(results.summary())"
   ]
  },
  {
   "cell_type": "markdown",
   "metadata": {},
   "source": [
    "### Deseasonalize data"
   ]
  },
  {
   "cell_type": "code",
   "execution_count": 20,
   "metadata": {},
   "outputs": [],
   "source": [
    "harmon['Deseasonalized Case Shipments']=harmon['Case Shipments'].rolling(window=12, center=True).mean().rolling(2).mean().shift(-1)"
   ]
  },
  {
   "cell_type": "markdown",
   "metadata": {},
   "source": [
    "### Check data"
   ]
  },
  {
   "cell_type": "code",
   "execution_count": 21,
   "metadata": {},
   "outputs": [
    {
     "data": {
      "text/html": [
       "<div>\n",
       "<style scoped>\n",
       "    .dataframe tbody tr th:only-of-type {\n",
       "        vertical-align: middle;\n",
       "    }\n",
       "\n",
       "    .dataframe tbody tr th {\n",
       "        vertical-align: top;\n",
       "    }\n",
       "\n",
       "    .dataframe thead th {\n",
       "        text-align: right;\n",
       "    }\n",
       "</style>\n",
       "<table border=\"1\" class=\"dataframe\">\n",
       "  <thead>\n",
       "    <tr style=\"text-align: right;\">\n",
       "      <th></th>\n",
       "      <th>Month</th>\n",
       "      <th>Case Shipments</th>\n",
       "      <th>Month of year</th>\n",
       "      <th>Month name</th>\n",
       "      <th>Seq month number</th>\n",
       "      <th>Industry SI</th>\n",
       "      <th>Deseasonalized Case Shipments</th>\n",
       "    </tr>\n",
       "  </thead>\n",
       "  <tbody>\n",
       "    <tr>\n",
       "      <th>12</th>\n",
       "      <td>1984-01-01</td>\n",
       "      <td>425075.0</td>\n",
       "      <td>1</td>\n",
       "      <td>January</td>\n",
       "      <td>13</td>\n",
       "      <td>113</td>\n",
       "      <td>NaN</td>\n",
       "    </tr>\n",
       "    <tr>\n",
       "      <th>13</th>\n",
       "      <td>1984-02-01</td>\n",
       "      <td>315305.0</td>\n",
       "      <td>2</td>\n",
       "      <td>February</td>\n",
       "      <td>14</td>\n",
       "      <td>98</td>\n",
       "      <td>NaN</td>\n",
       "    </tr>\n",
       "    <tr>\n",
       "      <th>14</th>\n",
       "      <td>1984-03-01</td>\n",
       "      <td>367286.0</td>\n",
       "      <td>3</td>\n",
       "      <td>March</td>\n",
       "      <td>15</td>\n",
       "      <td>102</td>\n",
       "      <td>NaN</td>\n",
       "    </tr>\n",
       "    <tr>\n",
       "      <th>15</th>\n",
       "      <td>1984-04-01</td>\n",
       "      <td>429432.0</td>\n",
       "      <td>4</td>\n",
       "      <td>April</td>\n",
       "      <td>16</td>\n",
       "      <td>107</td>\n",
       "      <td>NaN</td>\n",
       "    </tr>\n",
       "    <tr>\n",
       "      <th>16</th>\n",
       "      <td>1984-05-01</td>\n",
       "      <td>347874.0</td>\n",
       "      <td>5</td>\n",
       "      <td>May</td>\n",
       "      <td>17</td>\n",
       "      <td>119</td>\n",
       "      <td>NaN</td>\n",
       "    </tr>\n",
       "  </tbody>\n",
       "</table>\n",
       "</div>"
      ],
      "text/plain": [
       "        Month  Case Shipments  Month of year Month name  Seq month number  \\\n",
       "12 1984-01-01        425075.0              1    January                13   \n",
       "13 1984-02-01        315305.0              2   February                14   \n",
       "14 1984-03-01        367286.0              3      March                15   \n",
       "15 1984-04-01        429432.0              4      April                16   \n",
       "16 1984-05-01        347874.0              5        May                17   \n",
       "\n",
       "    Industry SI  Deseasonalized Case Shipments  \n",
       "12          113                            NaN  \n",
       "13           98                            NaN  \n",
       "14          102                            NaN  \n",
       "15          107                            NaN  \n",
       "16          119                            NaN  "
      ]
     },
     "execution_count": 21,
     "metadata": {},
     "output_type": "execute_result"
    }
   ],
   "source": [
    "harmon.head()"
   ]
  },
  {
   "cell_type": "markdown",
   "metadata": {},
   "source": [
    "### Drop missing values"
   ]
  },
  {
   "cell_type": "code",
   "execution_count": 22,
   "metadata": {},
   "outputs": [],
   "source": [
    "harmon_deseasonalized=harmon.dropna()"
   ]
  },
  {
   "cell_type": "markdown",
   "metadata": {},
   "source": [
    "### Check data"
   ]
  },
  {
   "cell_type": "code",
   "execution_count": 23,
   "metadata": {},
   "outputs": [
    {
     "data": {
      "text/html": [
       "<div>\n",
       "<style scoped>\n",
       "    .dataframe tbody tr th:only-of-type {\n",
       "        vertical-align: middle;\n",
       "    }\n",
       "\n",
       "    .dataframe tbody tr th {\n",
       "        vertical-align: top;\n",
       "    }\n",
       "\n",
       "    .dataframe thead th {\n",
       "        text-align: right;\n",
       "    }\n",
       "</style>\n",
       "<table border=\"1\" class=\"dataframe\">\n",
       "  <thead>\n",
       "    <tr style=\"text-align: right;\">\n",
       "      <th></th>\n",
       "      <th>Month</th>\n",
       "      <th>Case Shipments</th>\n",
       "      <th>Month of year</th>\n",
       "      <th>Month name</th>\n",
       "      <th>Seq month number</th>\n",
       "      <th>Industry SI</th>\n",
       "      <th>Deseasonalized Case Shipments</th>\n",
       "    </tr>\n",
       "  </thead>\n",
       "  <tbody>\n",
       "    <tr>\n",
       "      <th>18</th>\n",
       "      <td>1984-07-01</td>\n",
       "      <td>299403.0</td>\n",
       "      <td>7</td>\n",
       "      <td>July</td>\n",
       "      <td>19</td>\n",
       "      <td>107</td>\n",
       "      <td>351930.791667</td>\n",
       "    </tr>\n",
       "    <tr>\n",
       "      <th>19</th>\n",
       "      <td>1984-08-01</td>\n",
       "      <td>296505.0</td>\n",
       "      <td>8</td>\n",
       "      <td>August</td>\n",
       "      <td>20</td>\n",
       "      <td>81</td>\n",
       "      <td>358284.500000</td>\n",
       "    </tr>\n",
       "    <tr>\n",
       "      <th>20</th>\n",
       "      <td>1984-09-01</td>\n",
       "      <td>426701.0</td>\n",
       "      <td>9</td>\n",
       "      <td>September</td>\n",
       "      <td>21</td>\n",
       "      <td>113</td>\n",
       "      <td>357417.666667</td>\n",
       "    </tr>\n",
       "    <tr>\n",
       "      <th>21</th>\n",
       "      <td>1984-10-01</td>\n",
       "      <td>329722.0</td>\n",
       "      <td>10</td>\n",
       "      <td>October</td>\n",
       "      <td>22</td>\n",
       "      <td>97</td>\n",
       "      <td>356508.125000</td>\n",
       "    </tr>\n",
       "    <tr>\n",
       "      <th>22</th>\n",
       "      <td>1984-11-01</td>\n",
       "      <td>281783.0</td>\n",
       "      <td>11</td>\n",
       "      <td>November</td>\n",
       "      <td>23</td>\n",
       "      <td>95</td>\n",
       "      <td>358327.583333</td>\n",
       "    </tr>\n",
       "  </tbody>\n",
       "</table>\n",
       "</div>"
      ],
      "text/plain": [
       "        Month  Case Shipments  Month of year Month name  Seq month number  \\\n",
       "18 1984-07-01        299403.0              7       July                19   \n",
       "19 1984-08-01        296505.0              8     August                20   \n",
       "20 1984-09-01        426701.0              9  September                21   \n",
       "21 1984-10-01        329722.0             10    October                22   \n",
       "22 1984-11-01        281783.0             11   November                23   \n",
       "\n",
       "    Industry SI  Deseasonalized Case Shipments  \n",
       "18          107                  351930.791667  \n",
       "19           81                  358284.500000  \n",
       "20          113                  357417.666667  \n",
       "21           97                  356508.125000  \n",
       "22           95                  358327.583333  "
      ]
     },
     "execution_count": 23,
     "metadata": {},
     "output_type": "execute_result"
    }
   ],
   "source": [
    "harmon_deseasonalized.head()"
   ]
  },
  {
   "cell_type": "markdown",
   "metadata": {},
   "source": [
    "### Basic deseasonalized scatter plot"
   ]
  },
  {
   "cell_type": "code",
   "execution_count": 24,
   "metadata": {},
   "outputs": [
    {
     "data": {
      "application/vnd.plotly.v1+json": {
       "config": {
        "plotlyServerURL": "https://plot.ly"
       },
       "data": [
        {
         "hovertemplate": "Seq month number=%{x}<br>Deseasonalized Case Shipments=%{y}<extra></extra>",
         "legendgroup": "",
         "marker": {
          "color": "#636efa",
          "symbol": "circle"
         },
         "mode": "markers",
         "name": "",
         "orientation": "v",
         "showlegend": false,
         "type": "scatter",
         "x": [
          19,
          20,
          21,
          22,
          23,
          24,
          25,
          26,
          27,
          28,
          29,
          30,
          31,
          32,
          33,
          34,
          35,
          36,
          37,
          38,
          39,
          40,
          41,
          42,
          43,
          44,
          45,
          46,
          47,
          48,
          49,
          50,
          51,
          52,
          53,
          54
         ],
         "xaxis": "x",
         "y": [
          351930.7916666667,
          358284.5,
          357417.6666666666,
          356508.125,
          358327.5833333334,
          360327.04166666674,
          363092.375,
          366088.1666666666,
          366698.6666666666,
          368112.45833333326,
          368524.58333333326,
          370608.625,
          372389.41666666674,
          373779.5,
          372685.9166666666,
          368656.9166666666,
          369505.75,
          372700.5833333334,
          374809.5,
          377258.125,
          380091.9583333334,
          384126.375,
          385577.95833333326,
          389707.875,
          385270.5833333334,
          375957.0416666666,
          385716.75,
          401272.66666666674,
          402986.91666666674,
          397369.9583333334,
          394035.2916666666,
          392980.58333333326,
          400822.0416666666,
          412429.9166666666,
          419193.20833333326,
          422074.625
         ],
         "yaxis": "y"
        },
        {
         "hovertemplate": "<b>OLS trendline</b><br>Deseasonalized Case Shipments = 1610.64 * Seq month number + 320582<br>R<sup>2</sup>=0.890561<br><br>Seq month number=%{x}<br>Deseasonalized Case Shipments=%{y} <b>(trend)</b><extra></extra>",
         "legendgroup": "",
         "marker": {
          "color": "#636efa",
          "symbol": "circle"
         },
         "mode": "lines",
         "name": "",
         "showlegend": false,
         "type": "scatter",
         "x": [
          19,
          20,
          21,
          22,
          23,
          24,
          25,
          26,
          27,
          28,
          29,
          30,
          31,
          32,
          33,
          34,
          35,
          36,
          37,
          38,
          39,
          40,
          41,
          42,
          43,
          44,
          45,
          46,
          47,
          48,
          49,
          50,
          51,
          52,
          53,
          54
         ],
         "xaxis": "x",
         "y": [
          351183.77321071055,
          352794.4148076647,
          354405.0564046188,
          356015.69800157286,
          357626.33959852695,
          359236.981195481,
          360847.62279243517,
          362458.26438938925,
          364068.90598634334,
          365679.5475832975,
          367290.18918025156,
          368900.83077720564,
          370511.4723741597,
          372122.11397111387,
          373732.75556806795,
          375343.39716502203,
          376954.0387619762,
          378564.68035893026,
          380175.32195588434,
          381785.9635528384,
          383396.60514979257,
          385007.24674674665,
          386617.88834370073,
          388228.5299406549,
          389839.17153760896,
          391449.81313456304,
          393060.4547315171,
          394671.0963284712,
          396281.73792542535,
          397892.37952237943,
          399503.02111933357,
          401113.66271628765,
          402724.30431324174,
          404334.9459101958,
          405945.5875071499,
          407556.22910410404
         ],
         "yaxis": "y"
        }
       ],
       "layout": {
        "legend": {
         "tracegroupgap": 0
        },
        "margin": {
         "t": 60
        },
        "template": {
         "data": {
          "bar": [
           {
            "error_x": {
             "color": "#2a3f5f"
            },
            "error_y": {
             "color": "#2a3f5f"
            },
            "marker": {
             "line": {
              "color": "#E5ECF6",
              "width": 0.5
             }
            },
            "type": "bar"
           }
          ],
          "barpolar": [
           {
            "marker": {
             "line": {
              "color": "#E5ECF6",
              "width": 0.5
             }
            },
            "type": "barpolar"
           }
          ],
          "carpet": [
           {
            "aaxis": {
             "endlinecolor": "#2a3f5f",
             "gridcolor": "white",
             "linecolor": "white",
             "minorgridcolor": "white",
             "startlinecolor": "#2a3f5f"
            },
            "baxis": {
             "endlinecolor": "#2a3f5f",
             "gridcolor": "white",
             "linecolor": "white",
             "minorgridcolor": "white",
             "startlinecolor": "#2a3f5f"
            },
            "type": "carpet"
           }
          ],
          "choropleth": [
           {
            "colorbar": {
             "outlinewidth": 0,
             "ticks": ""
            },
            "type": "choropleth"
           }
          ],
          "contour": [
           {
            "colorbar": {
             "outlinewidth": 0,
             "ticks": ""
            },
            "colorscale": [
             [
              0,
              "#0d0887"
             ],
             [
              0.1111111111111111,
              "#46039f"
             ],
             [
              0.2222222222222222,
              "#7201a8"
             ],
             [
              0.3333333333333333,
              "#9c179e"
             ],
             [
              0.4444444444444444,
              "#bd3786"
             ],
             [
              0.5555555555555556,
              "#d8576b"
             ],
             [
              0.6666666666666666,
              "#ed7953"
             ],
             [
              0.7777777777777778,
              "#fb9f3a"
             ],
             [
              0.8888888888888888,
              "#fdca26"
             ],
             [
              1,
              "#f0f921"
             ]
            ],
            "type": "contour"
           }
          ],
          "contourcarpet": [
           {
            "colorbar": {
             "outlinewidth": 0,
             "ticks": ""
            },
            "type": "contourcarpet"
           }
          ],
          "heatmap": [
           {
            "colorbar": {
             "outlinewidth": 0,
             "ticks": ""
            },
            "colorscale": [
             [
              0,
              "#0d0887"
             ],
             [
              0.1111111111111111,
              "#46039f"
             ],
             [
              0.2222222222222222,
              "#7201a8"
             ],
             [
              0.3333333333333333,
              "#9c179e"
             ],
             [
              0.4444444444444444,
              "#bd3786"
             ],
             [
              0.5555555555555556,
              "#d8576b"
             ],
             [
              0.6666666666666666,
              "#ed7953"
             ],
             [
              0.7777777777777778,
              "#fb9f3a"
             ],
             [
              0.8888888888888888,
              "#fdca26"
             ],
             [
              1,
              "#f0f921"
             ]
            ],
            "type": "heatmap"
           }
          ],
          "heatmapgl": [
           {
            "colorbar": {
             "outlinewidth": 0,
             "ticks": ""
            },
            "colorscale": [
             [
              0,
              "#0d0887"
             ],
             [
              0.1111111111111111,
              "#46039f"
             ],
             [
              0.2222222222222222,
              "#7201a8"
             ],
             [
              0.3333333333333333,
              "#9c179e"
             ],
             [
              0.4444444444444444,
              "#bd3786"
             ],
             [
              0.5555555555555556,
              "#d8576b"
             ],
             [
              0.6666666666666666,
              "#ed7953"
             ],
             [
              0.7777777777777778,
              "#fb9f3a"
             ],
             [
              0.8888888888888888,
              "#fdca26"
             ],
             [
              1,
              "#f0f921"
             ]
            ],
            "type": "heatmapgl"
           }
          ],
          "histogram": [
           {
            "marker": {
             "colorbar": {
              "outlinewidth": 0,
              "ticks": ""
             }
            },
            "type": "histogram"
           }
          ],
          "histogram2d": [
           {
            "colorbar": {
             "outlinewidth": 0,
             "ticks": ""
            },
            "colorscale": [
             [
              0,
              "#0d0887"
             ],
             [
              0.1111111111111111,
              "#46039f"
             ],
             [
              0.2222222222222222,
              "#7201a8"
             ],
             [
              0.3333333333333333,
              "#9c179e"
             ],
             [
              0.4444444444444444,
              "#bd3786"
             ],
             [
              0.5555555555555556,
              "#d8576b"
             ],
             [
              0.6666666666666666,
              "#ed7953"
             ],
             [
              0.7777777777777778,
              "#fb9f3a"
             ],
             [
              0.8888888888888888,
              "#fdca26"
             ],
             [
              1,
              "#f0f921"
             ]
            ],
            "type": "histogram2d"
           }
          ],
          "histogram2dcontour": [
           {
            "colorbar": {
             "outlinewidth": 0,
             "ticks": ""
            },
            "colorscale": [
             [
              0,
              "#0d0887"
             ],
             [
              0.1111111111111111,
              "#46039f"
             ],
             [
              0.2222222222222222,
              "#7201a8"
             ],
             [
              0.3333333333333333,
              "#9c179e"
             ],
             [
              0.4444444444444444,
              "#bd3786"
             ],
             [
              0.5555555555555556,
              "#d8576b"
             ],
             [
              0.6666666666666666,
              "#ed7953"
             ],
             [
              0.7777777777777778,
              "#fb9f3a"
             ],
             [
              0.8888888888888888,
              "#fdca26"
             ],
             [
              1,
              "#f0f921"
             ]
            ],
            "type": "histogram2dcontour"
           }
          ],
          "mesh3d": [
           {
            "colorbar": {
             "outlinewidth": 0,
             "ticks": ""
            },
            "type": "mesh3d"
           }
          ],
          "parcoords": [
           {
            "line": {
             "colorbar": {
              "outlinewidth": 0,
              "ticks": ""
             }
            },
            "type": "parcoords"
           }
          ],
          "pie": [
           {
            "automargin": true,
            "type": "pie"
           }
          ],
          "scatter": [
           {
            "marker": {
             "colorbar": {
              "outlinewidth": 0,
              "ticks": ""
             }
            },
            "type": "scatter"
           }
          ],
          "scatter3d": [
           {
            "line": {
             "colorbar": {
              "outlinewidth": 0,
              "ticks": ""
             }
            },
            "marker": {
             "colorbar": {
              "outlinewidth": 0,
              "ticks": ""
             }
            },
            "type": "scatter3d"
           }
          ],
          "scattercarpet": [
           {
            "marker": {
             "colorbar": {
              "outlinewidth": 0,
              "ticks": ""
             }
            },
            "type": "scattercarpet"
           }
          ],
          "scattergeo": [
           {
            "marker": {
             "colorbar": {
              "outlinewidth": 0,
              "ticks": ""
             }
            },
            "type": "scattergeo"
           }
          ],
          "scattergl": [
           {
            "marker": {
             "colorbar": {
              "outlinewidth": 0,
              "ticks": ""
             }
            },
            "type": "scattergl"
           }
          ],
          "scattermapbox": [
           {
            "marker": {
             "colorbar": {
              "outlinewidth": 0,
              "ticks": ""
             }
            },
            "type": "scattermapbox"
           }
          ],
          "scatterpolar": [
           {
            "marker": {
             "colorbar": {
              "outlinewidth": 0,
              "ticks": ""
             }
            },
            "type": "scatterpolar"
           }
          ],
          "scatterpolargl": [
           {
            "marker": {
             "colorbar": {
              "outlinewidth": 0,
              "ticks": ""
             }
            },
            "type": "scatterpolargl"
           }
          ],
          "scatterternary": [
           {
            "marker": {
             "colorbar": {
              "outlinewidth": 0,
              "ticks": ""
             }
            },
            "type": "scatterternary"
           }
          ],
          "surface": [
           {
            "colorbar": {
             "outlinewidth": 0,
             "ticks": ""
            },
            "colorscale": [
             [
              0,
              "#0d0887"
             ],
             [
              0.1111111111111111,
              "#46039f"
             ],
             [
              0.2222222222222222,
              "#7201a8"
             ],
             [
              0.3333333333333333,
              "#9c179e"
             ],
             [
              0.4444444444444444,
              "#bd3786"
             ],
             [
              0.5555555555555556,
              "#d8576b"
             ],
             [
              0.6666666666666666,
              "#ed7953"
             ],
             [
              0.7777777777777778,
              "#fb9f3a"
             ],
             [
              0.8888888888888888,
              "#fdca26"
             ],
             [
              1,
              "#f0f921"
             ]
            ],
            "type": "surface"
           }
          ],
          "table": [
           {
            "cells": {
             "fill": {
              "color": "#EBF0F8"
             },
             "line": {
              "color": "white"
             }
            },
            "header": {
             "fill": {
              "color": "#C8D4E3"
             },
             "line": {
              "color": "white"
             }
            },
            "type": "table"
           }
          ]
         },
         "layout": {
          "annotationdefaults": {
           "arrowcolor": "#2a3f5f",
           "arrowhead": 0,
           "arrowwidth": 1
          },
          "coloraxis": {
           "colorbar": {
            "outlinewidth": 0,
            "ticks": ""
           }
          },
          "colorscale": {
           "diverging": [
            [
             0,
             "#8e0152"
            ],
            [
             0.1,
             "#c51b7d"
            ],
            [
             0.2,
             "#de77ae"
            ],
            [
             0.3,
             "#f1b6da"
            ],
            [
             0.4,
             "#fde0ef"
            ],
            [
             0.5,
             "#f7f7f7"
            ],
            [
             0.6,
             "#e6f5d0"
            ],
            [
             0.7,
             "#b8e186"
            ],
            [
             0.8,
             "#7fbc41"
            ],
            [
             0.9,
             "#4d9221"
            ],
            [
             1,
             "#276419"
            ]
           ],
           "sequential": [
            [
             0,
             "#0d0887"
            ],
            [
             0.1111111111111111,
             "#46039f"
            ],
            [
             0.2222222222222222,
             "#7201a8"
            ],
            [
             0.3333333333333333,
             "#9c179e"
            ],
            [
             0.4444444444444444,
             "#bd3786"
            ],
            [
             0.5555555555555556,
             "#d8576b"
            ],
            [
             0.6666666666666666,
             "#ed7953"
            ],
            [
             0.7777777777777778,
             "#fb9f3a"
            ],
            [
             0.8888888888888888,
             "#fdca26"
            ],
            [
             1,
             "#f0f921"
            ]
           ],
           "sequentialminus": [
            [
             0,
             "#0d0887"
            ],
            [
             0.1111111111111111,
             "#46039f"
            ],
            [
             0.2222222222222222,
             "#7201a8"
            ],
            [
             0.3333333333333333,
             "#9c179e"
            ],
            [
             0.4444444444444444,
             "#bd3786"
            ],
            [
             0.5555555555555556,
             "#d8576b"
            ],
            [
             0.6666666666666666,
             "#ed7953"
            ],
            [
             0.7777777777777778,
             "#fb9f3a"
            ],
            [
             0.8888888888888888,
             "#fdca26"
            ],
            [
             1,
             "#f0f921"
            ]
           ]
          },
          "colorway": [
           "#636efa",
           "#EF553B",
           "#00cc96",
           "#ab63fa",
           "#FFA15A",
           "#19d3f3",
           "#FF6692",
           "#B6E880",
           "#FF97FF",
           "#FECB52"
          ],
          "font": {
           "color": "#2a3f5f"
          },
          "geo": {
           "bgcolor": "white",
           "lakecolor": "white",
           "landcolor": "#E5ECF6",
           "showlakes": true,
           "showland": true,
           "subunitcolor": "white"
          },
          "hoverlabel": {
           "align": "left"
          },
          "hovermode": "closest",
          "mapbox": {
           "style": "light"
          },
          "paper_bgcolor": "white",
          "plot_bgcolor": "#E5ECF6",
          "polar": {
           "angularaxis": {
            "gridcolor": "white",
            "linecolor": "white",
            "ticks": ""
           },
           "bgcolor": "#E5ECF6",
           "radialaxis": {
            "gridcolor": "white",
            "linecolor": "white",
            "ticks": ""
           }
          },
          "scene": {
           "xaxis": {
            "backgroundcolor": "#E5ECF6",
            "gridcolor": "white",
            "gridwidth": 2,
            "linecolor": "white",
            "showbackground": true,
            "ticks": "",
            "zerolinecolor": "white"
           },
           "yaxis": {
            "backgroundcolor": "#E5ECF6",
            "gridcolor": "white",
            "gridwidth": 2,
            "linecolor": "white",
            "showbackground": true,
            "ticks": "",
            "zerolinecolor": "white"
           },
           "zaxis": {
            "backgroundcolor": "#E5ECF6",
            "gridcolor": "white",
            "gridwidth": 2,
            "linecolor": "white",
            "showbackground": true,
            "ticks": "",
            "zerolinecolor": "white"
           }
          },
          "shapedefaults": {
           "line": {
            "color": "#2a3f5f"
           }
          },
          "ternary": {
           "aaxis": {
            "gridcolor": "white",
            "linecolor": "white",
            "ticks": ""
           },
           "baxis": {
            "gridcolor": "white",
            "linecolor": "white",
            "ticks": ""
           },
           "bgcolor": "#E5ECF6",
           "caxis": {
            "gridcolor": "white",
            "linecolor": "white",
            "ticks": ""
           }
          },
          "title": {
           "x": 0.05
          },
          "xaxis": {
           "automargin": true,
           "gridcolor": "white",
           "linecolor": "white",
           "ticks": "",
           "title": {
            "standoff": 15
           },
           "zerolinecolor": "white",
           "zerolinewidth": 2
          },
          "yaxis": {
           "automargin": true,
           "gridcolor": "white",
           "linecolor": "white",
           "ticks": "",
           "title": {
            "standoff": 15
           },
           "zerolinecolor": "white",
           "zerolinewidth": 2
          }
         }
        },
        "xaxis": {
         "anchor": "y",
         "domain": [
          0,
          1
         ],
         "title": {
          "text": "Seq month number"
         }
        },
        "yaxis": {
         "anchor": "x",
         "domain": [
          0,
          1
         ],
         "title": {
          "text": "Deseasonalized Case Shipments"
         }
        }
       }
      },
      "text/html": [
       "<div>                            <div id=\"381a6c6f-5a15-4fe0-8214-8118c500959d\" class=\"plotly-graph-div\" style=\"height:525px; width:100%;\"></div>            <script type=\"text/javascript\">                require([\"plotly\"], function(Plotly) {                    window.PLOTLYENV=window.PLOTLYENV || {};                                    if (document.getElementById(\"381a6c6f-5a15-4fe0-8214-8118c500959d\")) {                    Plotly.newPlot(                        \"381a6c6f-5a15-4fe0-8214-8118c500959d\",                        [{\"hovertemplate\": \"Seq month number=%{x}<br>Deseasonalized Case Shipments=%{y}<extra></extra>\", \"legendgroup\": \"\", \"marker\": {\"color\": \"#636efa\", \"symbol\": \"circle\"}, \"mode\": \"markers\", \"name\": \"\", \"orientation\": \"v\", \"showlegend\": false, \"type\": \"scatter\", \"x\": [19, 20, 21, 22, 23, 24, 25, 26, 27, 28, 29, 30, 31, 32, 33, 34, 35, 36, 37, 38, 39, 40, 41, 42, 43, 44, 45, 46, 47, 48, 49, 50, 51, 52, 53, 54], \"xaxis\": \"x\", \"y\": [351930.7916666667, 358284.5, 357417.6666666666, 356508.125, 358327.5833333334, 360327.04166666674, 363092.375, 366088.1666666666, 366698.6666666666, 368112.45833333326, 368524.58333333326, 370608.625, 372389.41666666674, 373779.5, 372685.9166666666, 368656.9166666666, 369505.75, 372700.5833333334, 374809.5, 377258.125, 380091.9583333334, 384126.375, 385577.95833333326, 389707.875, 385270.5833333334, 375957.0416666666, 385716.75, 401272.66666666674, 402986.91666666674, 397369.9583333334, 394035.2916666666, 392980.58333333326, 400822.0416666666, 412429.9166666666, 419193.20833333326, 422074.625], \"yaxis\": \"y\"}, {\"hovertemplate\": \"<b>OLS trendline</b><br>Deseasonalized Case Shipments = 1610.64 * Seq month number + 320582<br>R<sup>2</sup>=0.890561<br><br>Seq month number=%{x}<br>Deseasonalized Case Shipments=%{y} <b>(trend)</b><extra></extra>\", \"legendgroup\": \"\", \"marker\": {\"color\": \"#636efa\", \"symbol\": \"circle\"}, \"mode\": \"lines\", \"name\": \"\", \"showlegend\": false, \"type\": \"scatter\", \"x\": [19, 20, 21, 22, 23, 24, 25, 26, 27, 28, 29, 30, 31, 32, 33, 34, 35, 36, 37, 38, 39, 40, 41, 42, 43, 44, 45, 46, 47, 48, 49, 50, 51, 52, 53, 54], \"xaxis\": \"x\", \"y\": [351183.77321071055, 352794.4148076647, 354405.0564046188, 356015.69800157286, 357626.33959852695, 359236.981195481, 360847.62279243517, 362458.26438938925, 364068.90598634334, 365679.5475832975, 367290.18918025156, 368900.83077720564, 370511.4723741597, 372122.11397111387, 373732.75556806795, 375343.39716502203, 376954.0387619762, 378564.68035893026, 380175.32195588434, 381785.9635528384, 383396.60514979257, 385007.24674674665, 386617.88834370073, 388228.5299406549, 389839.17153760896, 391449.81313456304, 393060.4547315171, 394671.0963284712, 396281.73792542535, 397892.37952237943, 399503.02111933357, 401113.66271628765, 402724.30431324174, 404334.9459101958, 405945.5875071499, 407556.22910410404], \"yaxis\": \"y\"}],                        {\"legend\": {\"tracegroupgap\": 0}, \"margin\": {\"t\": 60}, \"template\": {\"data\": {\"bar\": [{\"error_x\": {\"color\": \"#2a3f5f\"}, \"error_y\": {\"color\": \"#2a3f5f\"}, \"marker\": {\"line\": {\"color\": \"#E5ECF6\", \"width\": 0.5}}, \"type\": \"bar\"}], \"barpolar\": [{\"marker\": {\"line\": {\"color\": \"#E5ECF6\", \"width\": 0.5}}, \"type\": \"barpolar\"}], \"carpet\": [{\"aaxis\": {\"endlinecolor\": \"#2a3f5f\", \"gridcolor\": \"white\", \"linecolor\": \"white\", \"minorgridcolor\": \"white\", \"startlinecolor\": \"#2a3f5f\"}, \"baxis\": {\"endlinecolor\": \"#2a3f5f\", \"gridcolor\": \"white\", \"linecolor\": \"white\", \"minorgridcolor\": \"white\", \"startlinecolor\": \"#2a3f5f\"}, \"type\": \"carpet\"}], \"choropleth\": [{\"colorbar\": {\"outlinewidth\": 0, \"ticks\": \"\"}, \"type\": \"choropleth\"}], \"contour\": [{\"colorbar\": {\"outlinewidth\": 0, \"ticks\": \"\"}, \"colorscale\": [[0.0, \"#0d0887\"], [0.1111111111111111, \"#46039f\"], [0.2222222222222222, \"#7201a8\"], [0.3333333333333333, \"#9c179e\"], [0.4444444444444444, \"#bd3786\"], [0.5555555555555556, \"#d8576b\"], [0.6666666666666666, \"#ed7953\"], [0.7777777777777778, \"#fb9f3a\"], [0.8888888888888888, \"#fdca26\"], [1.0, \"#f0f921\"]], \"type\": \"contour\"}], \"contourcarpet\": [{\"colorbar\": {\"outlinewidth\": 0, \"ticks\": \"\"}, \"type\": \"contourcarpet\"}], \"heatmap\": [{\"colorbar\": {\"outlinewidth\": 0, \"ticks\": \"\"}, \"colorscale\": [[0.0, \"#0d0887\"], [0.1111111111111111, \"#46039f\"], [0.2222222222222222, \"#7201a8\"], [0.3333333333333333, \"#9c179e\"], [0.4444444444444444, \"#bd3786\"], [0.5555555555555556, \"#d8576b\"], [0.6666666666666666, \"#ed7953\"], [0.7777777777777778, \"#fb9f3a\"], [0.8888888888888888, \"#fdca26\"], [1.0, \"#f0f921\"]], \"type\": \"heatmap\"}], \"heatmapgl\": [{\"colorbar\": {\"outlinewidth\": 0, \"ticks\": \"\"}, \"colorscale\": [[0.0, \"#0d0887\"], [0.1111111111111111, \"#46039f\"], [0.2222222222222222, \"#7201a8\"], [0.3333333333333333, \"#9c179e\"], [0.4444444444444444, \"#bd3786\"], [0.5555555555555556, \"#d8576b\"], [0.6666666666666666, \"#ed7953\"], [0.7777777777777778, \"#fb9f3a\"], [0.8888888888888888, \"#fdca26\"], [1.0, \"#f0f921\"]], \"type\": \"heatmapgl\"}], \"histogram\": [{\"marker\": {\"colorbar\": {\"outlinewidth\": 0, \"ticks\": \"\"}}, \"type\": \"histogram\"}], \"histogram2d\": [{\"colorbar\": {\"outlinewidth\": 0, \"ticks\": \"\"}, \"colorscale\": [[0.0, \"#0d0887\"], [0.1111111111111111, \"#46039f\"], [0.2222222222222222, \"#7201a8\"], [0.3333333333333333, \"#9c179e\"], [0.4444444444444444, \"#bd3786\"], [0.5555555555555556, \"#d8576b\"], [0.6666666666666666, \"#ed7953\"], [0.7777777777777778, \"#fb9f3a\"], [0.8888888888888888, \"#fdca26\"], [1.0, \"#f0f921\"]], \"type\": \"histogram2d\"}], \"histogram2dcontour\": [{\"colorbar\": {\"outlinewidth\": 0, \"ticks\": \"\"}, \"colorscale\": [[0.0, \"#0d0887\"], [0.1111111111111111, \"#46039f\"], [0.2222222222222222, \"#7201a8\"], [0.3333333333333333, \"#9c179e\"], [0.4444444444444444, \"#bd3786\"], [0.5555555555555556, \"#d8576b\"], [0.6666666666666666, \"#ed7953\"], [0.7777777777777778, \"#fb9f3a\"], [0.8888888888888888, \"#fdca26\"], [1.0, \"#f0f921\"]], \"type\": \"histogram2dcontour\"}], \"mesh3d\": [{\"colorbar\": {\"outlinewidth\": 0, \"ticks\": \"\"}, \"type\": \"mesh3d\"}], \"parcoords\": [{\"line\": {\"colorbar\": {\"outlinewidth\": 0, \"ticks\": \"\"}}, \"type\": \"parcoords\"}], \"pie\": [{\"automargin\": true, \"type\": \"pie\"}], \"scatter\": [{\"marker\": {\"colorbar\": {\"outlinewidth\": 0, \"ticks\": \"\"}}, \"type\": \"scatter\"}], \"scatter3d\": [{\"line\": {\"colorbar\": {\"outlinewidth\": 0, \"ticks\": \"\"}}, \"marker\": {\"colorbar\": {\"outlinewidth\": 0, \"ticks\": \"\"}}, \"type\": \"scatter3d\"}], \"scattercarpet\": [{\"marker\": {\"colorbar\": {\"outlinewidth\": 0, \"ticks\": \"\"}}, \"type\": \"scattercarpet\"}], \"scattergeo\": [{\"marker\": {\"colorbar\": {\"outlinewidth\": 0, \"ticks\": \"\"}}, \"type\": \"scattergeo\"}], \"scattergl\": [{\"marker\": {\"colorbar\": {\"outlinewidth\": 0, \"ticks\": \"\"}}, \"type\": \"scattergl\"}], \"scattermapbox\": [{\"marker\": {\"colorbar\": {\"outlinewidth\": 0, \"ticks\": \"\"}}, \"type\": \"scattermapbox\"}], \"scatterpolar\": [{\"marker\": {\"colorbar\": {\"outlinewidth\": 0, \"ticks\": \"\"}}, \"type\": \"scatterpolar\"}], \"scatterpolargl\": [{\"marker\": {\"colorbar\": {\"outlinewidth\": 0, \"ticks\": \"\"}}, \"type\": \"scatterpolargl\"}], \"scatterternary\": [{\"marker\": {\"colorbar\": {\"outlinewidth\": 0, \"ticks\": \"\"}}, \"type\": \"scatterternary\"}], \"surface\": [{\"colorbar\": {\"outlinewidth\": 0, \"ticks\": \"\"}, \"colorscale\": [[0.0, \"#0d0887\"], [0.1111111111111111, \"#46039f\"], [0.2222222222222222, \"#7201a8\"], [0.3333333333333333, \"#9c179e\"], [0.4444444444444444, \"#bd3786\"], [0.5555555555555556, \"#d8576b\"], [0.6666666666666666, \"#ed7953\"], [0.7777777777777778, \"#fb9f3a\"], [0.8888888888888888, \"#fdca26\"], [1.0, \"#f0f921\"]], \"type\": \"surface\"}], \"table\": [{\"cells\": {\"fill\": {\"color\": \"#EBF0F8\"}, \"line\": {\"color\": \"white\"}}, \"header\": {\"fill\": {\"color\": \"#C8D4E3\"}, \"line\": {\"color\": \"white\"}}, \"type\": \"table\"}]}, \"layout\": {\"annotationdefaults\": {\"arrowcolor\": \"#2a3f5f\", \"arrowhead\": 0, \"arrowwidth\": 1}, \"coloraxis\": {\"colorbar\": {\"outlinewidth\": 0, \"ticks\": \"\"}}, \"colorscale\": {\"diverging\": [[0, \"#8e0152\"], [0.1, \"#c51b7d\"], [0.2, \"#de77ae\"], [0.3, \"#f1b6da\"], [0.4, \"#fde0ef\"], [0.5, \"#f7f7f7\"], [0.6, \"#e6f5d0\"], [0.7, \"#b8e186\"], [0.8, \"#7fbc41\"], [0.9, \"#4d9221\"], [1, \"#276419\"]], \"sequential\": [[0.0, \"#0d0887\"], [0.1111111111111111, \"#46039f\"], [0.2222222222222222, \"#7201a8\"], [0.3333333333333333, \"#9c179e\"], [0.4444444444444444, \"#bd3786\"], [0.5555555555555556, \"#d8576b\"], [0.6666666666666666, \"#ed7953\"], [0.7777777777777778, \"#fb9f3a\"], [0.8888888888888888, \"#fdca26\"], [1.0, \"#f0f921\"]], \"sequentialminus\": [[0.0, \"#0d0887\"], [0.1111111111111111, \"#46039f\"], [0.2222222222222222, \"#7201a8\"], [0.3333333333333333, \"#9c179e\"], [0.4444444444444444, \"#bd3786\"], [0.5555555555555556, \"#d8576b\"], [0.6666666666666666, \"#ed7953\"], [0.7777777777777778, \"#fb9f3a\"], [0.8888888888888888, \"#fdca26\"], [1.0, \"#f0f921\"]]}, \"colorway\": [\"#636efa\", \"#EF553B\", \"#00cc96\", \"#ab63fa\", \"#FFA15A\", \"#19d3f3\", \"#FF6692\", \"#B6E880\", \"#FF97FF\", \"#FECB52\"], \"font\": {\"color\": \"#2a3f5f\"}, \"geo\": {\"bgcolor\": \"white\", \"lakecolor\": \"white\", \"landcolor\": \"#E5ECF6\", \"showlakes\": true, \"showland\": true, \"subunitcolor\": \"white\"}, \"hoverlabel\": {\"align\": \"left\"}, \"hovermode\": \"closest\", \"mapbox\": {\"style\": \"light\"}, \"paper_bgcolor\": \"white\", \"plot_bgcolor\": \"#E5ECF6\", \"polar\": {\"angularaxis\": {\"gridcolor\": \"white\", \"linecolor\": \"white\", \"ticks\": \"\"}, \"bgcolor\": \"#E5ECF6\", \"radialaxis\": {\"gridcolor\": \"white\", \"linecolor\": \"white\", \"ticks\": \"\"}}, \"scene\": {\"xaxis\": {\"backgroundcolor\": \"#E5ECF6\", \"gridcolor\": \"white\", \"gridwidth\": 2, \"linecolor\": \"white\", \"showbackground\": true, \"ticks\": \"\", \"zerolinecolor\": \"white\"}, \"yaxis\": {\"backgroundcolor\": \"#E5ECF6\", \"gridcolor\": \"white\", \"gridwidth\": 2, \"linecolor\": \"white\", \"showbackground\": true, \"ticks\": \"\", \"zerolinecolor\": \"white\"}, \"zaxis\": {\"backgroundcolor\": \"#E5ECF6\", \"gridcolor\": \"white\", \"gridwidth\": 2, \"linecolor\": \"white\", \"showbackground\": true, \"ticks\": \"\", \"zerolinecolor\": \"white\"}}, \"shapedefaults\": {\"line\": {\"color\": \"#2a3f5f\"}}, \"ternary\": {\"aaxis\": {\"gridcolor\": \"white\", \"linecolor\": \"white\", \"ticks\": \"\"}, \"baxis\": {\"gridcolor\": \"white\", \"linecolor\": \"white\", \"ticks\": \"\"}, \"bgcolor\": \"#E5ECF6\", \"caxis\": {\"gridcolor\": \"white\", \"linecolor\": \"white\", \"ticks\": \"\"}}, \"title\": {\"x\": 0.05}, \"xaxis\": {\"automargin\": true, \"gridcolor\": \"white\", \"linecolor\": \"white\", \"ticks\": \"\", \"title\": {\"standoff\": 15}, \"zerolinecolor\": \"white\", \"zerolinewidth\": 2}, \"yaxis\": {\"automargin\": true, \"gridcolor\": \"white\", \"linecolor\": \"white\", \"ticks\": \"\", \"title\": {\"standoff\": 15}, \"zerolinecolor\": \"white\", \"zerolinewidth\": 2}}}, \"xaxis\": {\"anchor\": \"y\", \"domain\": [0.0, 1.0], \"title\": {\"text\": \"Seq month number\"}}, \"yaxis\": {\"anchor\": \"x\", \"domain\": [0.0, 1.0], \"title\": {\"text\": \"Deseasonalized Case Shipments\"}}},                        {\"responsive\": true}                    ).then(function(){\n",
       "                            \n",
       "var gd = document.getElementById('381a6c6f-5a15-4fe0-8214-8118c500959d');\n",
       "var x = new MutationObserver(function (mutations, observer) {{\n",
       "        var display = window.getComputedStyle(gd).display;\n",
       "        if (!display || display === 'none') {{\n",
       "            console.log([gd, 'removed!']);\n",
       "            Plotly.purge(gd);\n",
       "            observer.disconnect();\n",
       "        }}\n",
       "}});\n",
       "\n",
       "// Listen for the removal of the full notebook cells\n",
       "var notebookContainer = gd.closest('#notebook-container');\n",
       "if (notebookContainer) {{\n",
       "    x.observe(notebookContainer, {childList: true});\n",
       "}}\n",
       "\n",
       "// Listen for the clearing of the current output cell\n",
       "var outputEl = gd.closest('.output');\n",
       "if (outputEl) {{\n",
       "    x.observe(outputEl, {childList: true});\n",
       "}}\n",
       "\n",
       "                        })                };                });            </script>        </div>"
      ]
     },
     "metadata": {},
     "output_type": "display_data"
    }
   ],
   "source": [
    "fig = px.scatter(harmon_deseasonalized, x=\"Seq month number\", y=\"Deseasonalized Case Shipments\", trendline=\"ols\")\n",
    "fig.show()"
   ]
  },
  {
   "cell_type": "markdown",
   "metadata": {},
   "source": [
    "### Basic deseasonalized regression to find level and trend"
   ]
  },
  {
   "cell_type": "code",
   "execution_count": 25,
   "metadata": {},
   "outputs": [
    {
     "name": "stdout",
     "output_type": "stream",
     "text": [
      "                                  OLS Regression Results                                 \n",
      "=========================================================================================\n",
      "Dep. Variable:     Deseasonalized Case Shipments   R-squared:                       0.891\n",
      "Model:                                       OLS   Adj. R-squared:                  0.887\n",
      "Method:                            Least Squares   F-statistic:                     276.7\n",
      "Date:                           Wed, 19 Jan 2022   Prob (F-statistic):           6.65e-18\n",
      "Time:                                   11:13:32   Log-Likelihood:                -363.45\n",
      "No. Observations:                             36   AIC:                             730.9\n",
      "Df Residuals:                                 34   BIC:                             734.1\n",
      "Df Model:                                      1                                         \n",
      "Covariance Type:                       nonrobust                                         \n",
      "====================================================================================\n",
      "                       coef    std err          t      P>|t|      [0.025      0.975]\n",
      "------------------------------------------------------------------------------------\n",
      "const             3.206e+05   3674.686     87.241      0.000    3.13e+05    3.28e+05\n",
      "Seq month number  1610.6416     96.831     16.634      0.000    1413.858    1807.426\n",
      "==============================================================================\n",
      "Omnibus:                        1.841   Durbin-Watson:                   0.618\n",
      "Prob(Omnibus):                  0.398   Jarque-Bera (JB):                0.839\n",
      "Skew:                           0.096   Prob(JB):                        0.658\n",
      "Kurtosis:                       3.723   Cond. No.                         139.\n",
      "==============================================================================\n",
      "\n",
      "Notes:\n",
      "[1] Standard Errors assume that the covariance matrix of the errors is correctly specified.\n"
     ]
    }
   ],
   "source": [
    "X = harmon_deseasonalized['Seq month number']\n",
    "X = sm.add_constant(X)\n",
    "y = harmon_deseasonalized['Deseasonalized Case Shipments']\n",
    "model = sm.OLS(y, X)\n",
    "results = model.fit()\n",
    "print(results.summary())"
   ]
  },
  {
   "cell_type": "markdown",
   "metadata": {},
   "source": [
    "### Predict deseasonalized demand using above model"
   ]
  },
  {
   "cell_type": "code",
   "execution_count": 26,
   "metadata": {},
   "outputs": [],
   "source": [
    "harmon['M1 Predicted Deseasonalized Case Shipments'] = results.predict(X)"
   ]
  },
  {
   "cell_type": "markdown",
   "metadata": {},
   "source": [
    "### Check data"
   ]
  },
  {
   "cell_type": "code",
   "execution_count": 27,
   "metadata": {},
   "outputs": [
    {
     "data": {
      "text/html": [
       "<div>\n",
       "<style scoped>\n",
       "    .dataframe tbody tr th:only-of-type {\n",
       "        vertical-align: middle;\n",
       "    }\n",
       "\n",
       "    .dataframe tbody tr th {\n",
       "        vertical-align: top;\n",
       "    }\n",
       "\n",
       "    .dataframe thead th {\n",
       "        text-align: right;\n",
       "    }\n",
       "</style>\n",
       "<table border=\"1\" class=\"dataframe\">\n",
       "  <thead>\n",
       "    <tr style=\"text-align: right;\">\n",
       "      <th></th>\n",
       "      <th>Month</th>\n",
       "      <th>Case Shipments</th>\n",
       "      <th>Month of year</th>\n",
       "      <th>Month name</th>\n",
       "      <th>Seq month number</th>\n",
       "      <th>Industry SI</th>\n",
       "      <th>Deseasonalized Case Shipments</th>\n",
       "      <th>M1 Predicted Deseasonalized Case Shipments</th>\n",
       "    </tr>\n",
       "  </thead>\n",
       "  <tbody>\n",
       "    <tr>\n",
       "      <th>12</th>\n",
       "      <td>1984-01-01</td>\n",
       "      <td>425075.0</td>\n",
       "      <td>1</td>\n",
       "      <td>January</td>\n",
       "      <td>13</td>\n",
       "      <td>113</td>\n",
       "      <td>NaN</td>\n",
       "      <td>NaN</td>\n",
       "    </tr>\n",
       "    <tr>\n",
       "      <th>13</th>\n",
       "      <td>1984-02-01</td>\n",
       "      <td>315305.0</td>\n",
       "      <td>2</td>\n",
       "      <td>February</td>\n",
       "      <td>14</td>\n",
       "      <td>98</td>\n",
       "      <td>NaN</td>\n",
       "      <td>NaN</td>\n",
       "    </tr>\n",
       "    <tr>\n",
       "      <th>14</th>\n",
       "      <td>1984-03-01</td>\n",
       "      <td>367286.0</td>\n",
       "      <td>3</td>\n",
       "      <td>March</td>\n",
       "      <td>15</td>\n",
       "      <td>102</td>\n",
       "      <td>NaN</td>\n",
       "      <td>NaN</td>\n",
       "    </tr>\n",
       "    <tr>\n",
       "      <th>15</th>\n",
       "      <td>1984-04-01</td>\n",
       "      <td>429432.0</td>\n",
       "      <td>4</td>\n",
       "      <td>April</td>\n",
       "      <td>16</td>\n",
       "      <td>107</td>\n",
       "      <td>NaN</td>\n",
       "      <td>NaN</td>\n",
       "    </tr>\n",
       "    <tr>\n",
       "      <th>16</th>\n",
       "      <td>1984-05-01</td>\n",
       "      <td>347874.0</td>\n",
       "      <td>5</td>\n",
       "      <td>May</td>\n",
       "      <td>17</td>\n",
       "      <td>119</td>\n",
       "      <td>NaN</td>\n",
       "      <td>NaN</td>\n",
       "    </tr>\n",
       "    <tr>\n",
       "      <th>17</th>\n",
       "      <td>1984-06-01</td>\n",
       "      <td>435529.0</td>\n",
       "      <td>6</td>\n",
       "      <td>June</td>\n",
       "      <td>18</td>\n",
       "      <td>104</td>\n",
       "      <td>NaN</td>\n",
       "      <td>NaN</td>\n",
       "    </tr>\n",
       "    <tr>\n",
       "      <th>18</th>\n",
       "      <td>1984-07-01</td>\n",
       "      <td>299403.0</td>\n",
       "      <td>7</td>\n",
       "      <td>July</td>\n",
       "      <td>19</td>\n",
       "      <td>107</td>\n",
       "      <td>351930.791667</td>\n",
       "      <td>351183.773211</td>\n",
       "    </tr>\n",
       "    <tr>\n",
       "      <th>19</th>\n",
       "      <td>1984-08-01</td>\n",
       "      <td>296505.0</td>\n",
       "      <td>8</td>\n",
       "      <td>August</td>\n",
       "      <td>20</td>\n",
       "      <td>81</td>\n",
       "      <td>358284.500000</td>\n",
       "      <td>352794.414808</td>\n",
       "    </tr>\n",
       "    <tr>\n",
       "      <th>20</th>\n",
       "      <td>1984-09-01</td>\n",
       "      <td>426701.0</td>\n",
       "      <td>9</td>\n",
       "      <td>September</td>\n",
       "      <td>21</td>\n",
       "      <td>113</td>\n",
       "      <td>357417.666667</td>\n",
       "      <td>354405.056405</td>\n",
       "    </tr>\n",
       "    <tr>\n",
       "      <th>21</th>\n",
       "      <td>1984-10-01</td>\n",
       "      <td>329722.0</td>\n",
       "      <td>10</td>\n",
       "      <td>October</td>\n",
       "      <td>22</td>\n",
       "      <td>97</td>\n",
       "      <td>356508.125000</td>\n",
       "      <td>356015.698002</td>\n",
       "    </tr>\n",
       "    <tr>\n",
       "      <th>22</th>\n",
       "      <td>1984-11-01</td>\n",
       "      <td>281783.0</td>\n",
       "      <td>11</td>\n",
       "      <td>November</td>\n",
       "      <td>23</td>\n",
       "      <td>95</td>\n",
       "      <td>358327.583333</td>\n",
       "      <td>357626.339599</td>\n",
       "    </tr>\n",
       "    <tr>\n",
       "      <th>23</th>\n",
       "      <td>1984-12-01</td>\n",
       "      <td>166391.0</td>\n",
       "      <td>12</td>\n",
       "      <td>December</td>\n",
       "      <td>24</td>\n",
       "      <td>65</td>\n",
       "      <td>360327.041667</td>\n",
       "      <td>359236.981195</td>\n",
       "    </tr>\n",
       "    <tr>\n",
       "      <th>24</th>\n",
       "      <td>1985-01-01</td>\n",
       "      <td>629402.0</td>\n",
       "      <td>1</td>\n",
       "      <td>January</td>\n",
       "      <td>25</td>\n",
       "      <td>113</td>\n",
       "      <td>363092.375000</td>\n",
       "      <td>360847.622792</td>\n",
       "    </tr>\n",
       "    <tr>\n",
       "      <th>25</th>\n",
       "      <td>1985-02-01</td>\n",
       "      <td>263467.0</td>\n",
       "      <td>2</td>\n",
       "      <td>February</td>\n",
       "      <td>26</td>\n",
       "      <td>98</td>\n",
       "      <td>366088.166667</td>\n",
       "      <td>362458.264389</td>\n",
       "    </tr>\n",
       "    <tr>\n",
       "      <th>26</th>\n",
       "      <td>1985-03-01</td>\n",
       "      <td>398320.0</td>\n",
       "      <td>3</td>\n",
       "      <td>March</td>\n",
       "      <td>27</td>\n",
       "      <td>102</td>\n",
       "      <td>366698.666667</td>\n",
       "      <td>364068.905986</td>\n",
       "    </tr>\n",
       "    <tr>\n",
       "      <th>27</th>\n",
       "      <td>1985-04-01</td>\n",
       "      <td>376569.0</td>\n",
       "      <td>4</td>\n",
       "      <td>April</td>\n",
       "      <td>28</td>\n",
       "      <td>107</td>\n",
       "      <td>368112.458333</td>\n",
       "      <td>365679.547583</td>\n",
       "    </tr>\n",
       "    <tr>\n",
       "      <th>28</th>\n",
       "      <td>1985-05-01</td>\n",
       "      <td>444404.0</td>\n",
       "      <td>5</td>\n",
       "      <td>May</td>\n",
       "      <td>29</td>\n",
       "      <td>119</td>\n",
       "      <td>368524.583333</td>\n",
       "      <td>367290.189180</td>\n",
       "    </tr>\n",
       "    <tr>\n",
       "      <th>29</th>\n",
       "      <td>1985-06-01</td>\n",
       "      <td>386986.0</td>\n",
       "      <td>6</td>\n",
       "      <td>June</td>\n",
       "      <td>30</td>\n",
       "      <td>104</td>\n",
       "      <td>370608.625000</td>\n",
       "      <td>368900.830777</td>\n",
       "    </tr>\n",
       "    <tr>\n",
       "      <th>30</th>\n",
       "      <td>1985-07-01</td>\n",
       "      <td>414314.0</td>\n",
       "      <td>7</td>\n",
       "      <td>July</td>\n",
       "      <td>31</td>\n",
       "      <td>107</td>\n",
       "      <td>372389.416667</td>\n",
       "      <td>370511.472374</td>\n",
       "    </tr>\n",
       "    <tr>\n",
       "      <th>31</th>\n",
       "      <td>1985-08-01</td>\n",
       "      <td>253493.0</td>\n",
       "      <td>8</td>\n",
       "      <td>August</td>\n",
       "      <td>32</td>\n",
       "      <td>81</td>\n",
       "      <td>373779.500000</td>\n",
       "      <td>372122.113971</td>\n",
       "    </tr>\n",
       "    <tr>\n",
       "      <th>32</th>\n",
       "      <td>1985-09-01</td>\n",
       "      <td>484365.0</td>\n",
       "      <td>9</td>\n",
       "      <td>September</td>\n",
       "      <td>33</td>\n",
       "      <td>113</td>\n",
       "      <td>372685.916667</td>\n",
       "      <td>373732.755568</td>\n",
       "    </tr>\n",
       "    <tr>\n",
       "      <th>33</th>\n",
       "      <td>1985-10-01</td>\n",
       "      <td>305989.0</td>\n",
       "      <td>10</td>\n",
       "      <td>October</td>\n",
       "      <td>34</td>\n",
       "      <td>97</td>\n",
       "      <td>368656.916667</td>\n",
       "      <td>375343.397165</td>\n",
       "    </tr>\n",
       "    <tr>\n",
       "      <th>34</th>\n",
       "      <td>1985-11-01</td>\n",
       "      <td>315407.0</td>\n",
       "      <td>11</td>\n",
       "      <td>November</td>\n",
       "      <td>35</td>\n",
       "      <td>95</td>\n",
       "      <td>369505.750000</td>\n",
       "      <td>376954.038762</td>\n",
       "    </tr>\n",
       "    <tr>\n",
       "      <th>35</th>\n",
       "      <td>1985-12-01</td>\n",
       "      <td>182784.0</td>\n",
       "      <td>12</td>\n",
       "      <td>December</td>\n",
       "      <td>36</td>\n",
       "      <td>65</td>\n",
       "      <td>372700.583333</td>\n",
       "      <td>378564.680359</td>\n",
       "    </tr>\n",
       "    <tr>\n",
       "      <th>36</th>\n",
       "      <td>1986-01-01</td>\n",
       "      <td>655748.0</td>\n",
       "      <td>1</td>\n",
       "      <td>January</td>\n",
       "      <td>37</td>\n",
       "      <td>113</td>\n",
       "      <td>374809.500000</td>\n",
       "      <td>380175.321956</td>\n",
       "    </tr>\n",
       "    <tr>\n",
       "      <th>37</th>\n",
       "      <td>1986-02-01</td>\n",
       "      <td>270483.0</td>\n",
       "      <td>2</td>\n",
       "      <td>February</td>\n",
       "      <td>38</td>\n",
       "      <td>98</td>\n",
       "      <td>377258.125000</td>\n",
       "      <td>381785.963553</td>\n",
       "    </tr>\n",
       "    <tr>\n",
       "      <th>38</th>\n",
       "      <td>1986-03-01</td>\n",
       "      <td>365058.0</td>\n",
       "      <td>3</td>\n",
       "      <td>March</td>\n",
       "      <td>39</td>\n",
       "      <td>102</td>\n",
       "      <td>380091.958333</td>\n",
       "      <td>383396.605150</td>\n",
       "    </tr>\n",
       "    <tr>\n",
       "      <th>39</th>\n",
       "      <td>1986-04-01</td>\n",
       "      <td>313135.0</td>\n",
       "      <td>4</td>\n",
       "      <td>April</td>\n",
       "      <td>40</td>\n",
       "      <td>107</td>\n",
       "      <td>384126.375000</td>\n",
       "      <td>385007.246747</td>\n",
       "    </tr>\n",
       "    <tr>\n",
       "      <th>40</th>\n",
       "      <td>1986-05-01</td>\n",
       "      <td>528210.0</td>\n",
       "      <td>5</td>\n",
       "      <td>May</td>\n",
       "      <td>41</td>\n",
       "      <td>119</td>\n",
       "      <td>385577.958333</td>\n",
       "      <td>386617.888344</td>\n",
       "    </tr>\n",
       "    <tr>\n",
       "      <th>41</th>\n",
       "      <td>1986-06-01</td>\n",
       "      <td>379856.0</td>\n",
       "      <td>6</td>\n",
       "      <td>June</td>\n",
       "      <td>42</td>\n",
       "      <td>104</td>\n",
       "      <td>389707.875000</td>\n",
       "      <td>388228.529941</td>\n",
       "    </tr>\n",
       "    <tr>\n",
       "      <th>42</th>\n",
       "      <td>1986-07-01</td>\n",
       "      <td>472058.0</td>\n",
       "      <td>7</td>\n",
       "      <td>July</td>\n",
       "      <td>43</td>\n",
       "      <td>107</td>\n",
       "      <td>385270.583333</td>\n",
       "      <td>389839.171538</td>\n",
       "    </tr>\n",
       "    <tr>\n",
       "      <th>43</th>\n",
       "      <td>1986-08-01</td>\n",
       "      <td>254516.0</td>\n",
       "      <td>8</td>\n",
       "      <td>August</td>\n",
       "      <td>44</td>\n",
       "      <td>81</td>\n",
       "      <td>375957.041667</td>\n",
       "      <td>391449.813135</td>\n",
       "    </tr>\n",
       "    <tr>\n",
       "      <th>44</th>\n",
       "      <td>1986-09-01</td>\n",
       "      <td>551354.0</td>\n",
       "      <td>9</td>\n",
       "      <td>September</td>\n",
       "      <td>45</td>\n",
       "      <td>113</td>\n",
       "      <td>385716.750000</td>\n",
       "      <td>393060.454732</td>\n",
       "    </tr>\n",
       "    <tr>\n",
       "      <th>45</th>\n",
       "      <td>1986-10-01</td>\n",
       "      <td>335826.0</td>\n",
       "      <td>10</td>\n",
       "      <td>October</td>\n",
       "      <td>46</td>\n",
       "      <td>97</td>\n",
       "      <td>401272.666667</td>\n",
       "      <td>394671.096328</td>\n",
       "    </tr>\n",
       "    <tr>\n",
       "      <th>46</th>\n",
       "      <td>1986-11-01</td>\n",
       "      <td>320408.0</td>\n",
       "      <td>11</td>\n",
       "      <td>November</td>\n",
       "      <td>47</td>\n",
       "      <td>95</td>\n",
       "      <td>402986.916667</td>\n",
       "      <td>396281.737925</td>\n",
       "    </tr>\n",
       "    <tr>\n",
       "      <th>47</th>\n",
       "      <td>1986-12-01</td>\n",
       "      <td>276901.0</td>\n",
       "      <td>12</td>\n",
       "      <td>December</td>\n",
       "      <td>48</td>\n",
       "      <td>65</td>\n",
       "      <td>397369.958333</td>\n",
       "      <td>397892.379522</td>\n",
       "    </tr>\n",
       "    <tr>\n",
       "      <th>48</th>\n",
       "      <td>1987-01-01</td>\n",
       "      <td>455136.0</td>\n",
       "      <td>1</td>\n",
       "      <td>January</td>\n",
       "      <td>49</td>\n",
       "      <td>113</td>\n",
       "      <td>394035.291667</td>\n",
       "      <td>399503.021119</td>\n",
       "    </tr>\n",
       "    <tr>\n",
       "      <th>49</th>\n",
       "      <td>1987-02-01</td>\n",
       "      <td>247570.0</td>\n",
       "      <td>2</td>\n",
       "      <td>February</td>\n",
       "      <td>50</td>\n",
       "      <td>98</td>\n",
       "      <td>392980.583333</td>\n",
       "      <td>401113.662716</td>\n",
       "    </tr>\n",
       "    <tr>\n",
       "      <th>50</th>\n",
       "      <td>1987-03-01</td>\n",
       "      <td>622204.0</td>\n",
       "      <td>3</td>\n",
       "      <td>March</td>\n",
       "      <td>51</td>\n",
       "      <td>102</td>\n",
       "      <td>400822.041667</td>\n",
       "      <td>402724.304313</td>\n",
       "    </tr>\n",
       "    <tr>\n",
       "      <th>51</th>\n",
       "      <td>1987-04-01</td>\n",
       "      <td>429331.0</td>\n",
       "      <td>4</td>\n",
       "      <td>April</td>\n",
       "      <td>52</td>\n",
       "      <td>107</td>\n",
       "      <td>412429.916667</td>\n",
       "      <td>404334.945910</td>\n",
       "    </tr>\n",
       "    <tr>\n",
       "      <th>52</th>\n",
       "      <td>1987-05-01</td>\n",
       "      <td>453156.0</td>\n",
       "      <td>5</td>\n",
       "      <td>May</td>\n",
       "      <td>53</td>\n",
       "      <td>119</td>\n",
       "      <td>419193.208333</td>\n",
       "      <td>405945.587507</td>\n",
       "    </tr>\n",
       "    <tr>\n",
       "      <th>53</th>\n",
       "      <td>1987-06-01</td>\n",
       "      <td>320103.0</td>\n",
       "      <td>6</td>\n",
       "      <td>June</td>\n",
       "      <td>54</td>\n",
       "      <td>104</td>\n",
       "      <td>422074.625000</td>\n",
       "      <td>407556.229104</td>\n",
       "    </tr>\n",
       "    <tr>\n",
       "      <th>54</th>\n",
       "      <td>1987-07-01</td>\n",
       "      <td>451779.0</td>\n",
       "      <td>7</td>\n",
       "      <td>July</td>\n",
       "      <td>55</td>\n",
       "      <td>107</td>\n",
       "      <td>NaN</td>\n",
       "      <td>NaN</td>\n",
       "    </tr>\n",
       "    <tr>\n",
       "      <th>55</th>\n",
       "      <td>1987-08-01</td>\n",
       "      <td>249482.0</td>\n",
       "      <td>8</td>\n",
       "      <td>August</td>\n",
       "      <td>56</td>\n",
       "      <td>81</td>\n",
       "      <td>NaN</td>\n",
       "      <td>NaN</td>\n",
       "    </tr>\n",
       "    <tr>\n",
       "      <th>56</th>\n",
       "      <td>1987-09-01</td>\n",
       "      <td>744583.0</td>\n",
       "      <td>9</td>\n",
       "      <td>September</td>\n",
       "      <td>57</td>\n",
       "      <td>113</td>\n",
       "      <td>NaN</td>\n",
       "      <td>NaN</td>\n",
       "    </tr>\n",
       "    <tr>\n",
       "      <th>57</th>\n",
       "      <td>1987-10-01</td>\n",
       "      <td>421186.0</td>\n",
       "      <td>10</td>\n",
       "      <td>October</td>\n",
       "      <td>58</td>\n",
       "      <td>97</td>\n",
       "      <td>NaN</td>\n",
       "      <td>NaN</td>\n",
       "    </tr>\n",
       "    <tr>\n",
       "      <th>58</th>\n",
       "      <td>1987-11-01</td>\n",
       "      <td>397367.0</td>\n",
       "      <td>11</td>\n",
       "      <td>November</td>\n",
       "      <td>59</td>\n",
       "      <td>95</td>\n",
       "      <td>NaN</td>\n",
       "      <td>NaN</td>\n",
       "    </tr>\n",
       "    <tr>\n",
       "      <th>59</th>\n",
       "      <td>1987-12-01</td>\n",
       "      <td>269096.0</td>\n",
       "      <td>12</td>\n",
       "      <td>December</td>\n",
       "      <td>60</td>\n",
       "      <td>65</td>\n",
       "      <td>NaN</td>\n",
       "      <td>NaN</td>\n",
       "    </tr>\n",
       "  </tbody>\n",
       "</table>\n",
       "</div>"
      ],
      "text/plain": [
       "        Month  Case Shipments  Month of year Month name  Seq month number  \\\n",
       "12 1984-01-01        425075.0              1    January                13   \n",
       "13 1984-02-01        315305.0              2   February                14   \n",
       "14 1984-03-01        367286.0              3      March                15   \n",
       "15 1984-04-01        429432.0              4      April                16   \n",
       "16 1984-05-01        347874.0              5        May                17   \n",
       "17 1984-06-01        435529.0              6       June                18   \n",
       "18 1984-07-01        299403.0              7       July                19   \n",
       "19 1984-08-01        296505.0              8     August                20   \n",
       "20 1984-09-01        426701.0              9  September                21   \n",
       "21 1984-10-01        329722.0             10    October                22   \n",
       "22 1984-11-01        281783.0             11   November                23   \n",
       "23 1984-12-01        166391.0             12   December                24   \n",
       "24 1985-01-01        629402.0              1    January                25   \n",
       "25 1985-02-01        263467.0              2   February                26   \n",
       "26 1985-03-01        398320.0              3      March                27   \n",
       "27 1985-04-01        376569.0              4      April                28   \n",
       "28 1985-05-01        444404.0              5        May                29   \n",
       "29 1985-06-01        386986.0              6       June                30   \n",
       "30 1985-07-01        414314.0              7       July                31   \n",
       "31 1985-08-01        253493.0              8     August                32   \n",
       "32 1985-09-01        484365.0              9  September                33   \n",
       "33 1985-10-01        305989.0             10    October                34   \n",
       "34 1985-11-01        315407.0             11   November                35   \n",
       "35 1985-12-01        182784.0             12   December                36   \n",
       "36 1986-01-01        655748.0              1    January                37   \n",
       "37 1986-02-01        270483.0              2   February                38   \n",
       "38 1986-03-01        365058.0              3      March                39   \n",
       "39 1986-04-01        313135.0              4      April                40   \n",
       "40 1986-05-01        528210.0              5        May                41   \n",
       "41 1986-06-01        379856.0              6       June                42   \n",
       "42 1986-07-01        472058.0              7       July                43   \n",
       "43 1986-08-01        254516.0              8     August                44   \n",
       "44 1986-09-01        551354.0              9  September                45   \n",
       "45 1986-10-01        335826.0             10    October                46   \n",
       "46 1986-11-01        320408.0             11   November                47   \n",
       "47 1986-12-01        276901.0             12   December                48   \n",
       "48 1987-01-01        455136.0              1    January                49   \n",
       "49 1987-02-01        247570.0              2   February                50   \n",
       "50 1987-03-01        622204.0              3      March                51   \n",
       "51 1987-04-01        429331.0              4      April                52   \n",
       "52 1987-05-01        453156.0              5        May                53   \n",
       "53 1987-06-01        320103.0              6       June                54   \n",
       "54 1987-07-01        451779.0              7       July                55   \n",
       "55 1987-08-01        249482.0              8     August                56   \n",
       "56 1987-09-01        744583.0              9  September                57   \n",
       "57 1987-10-01        421186.0             10    October                58   \n",
       "58 1987-11-01        397367.0             11   November                59   \n",
       "59 1987-12-01        269096.0             12   December                60   \n",
       "\n",
       "    Industry SI  Deseasonalized Case Shipments  \\\n",
       "12          113                            NaN   \n",
       "13           98                            NaN   \n",
       "14          102                            NaN   \n",
       "15          107                            NaN   \n",
       "16          119                            NaN   \n",
       "17          104                            NaN   \n",
       "18          107                  351930.791667   \n",
       "19           81                  358284.500000   \n",
       "20          113                  357417.666667   \n",
       "21           97                  356508.125000   \n",
       "22           95                  358327.583333   \n",
       "23           65                  360327.041667   \n",
       "24          113                  363092.375000   \n",
       "25           98                  366088.166667   \n",
       "26          102                  366698.666667   \n",
       "27          107                  368112.458333   \n",
       "28          119                  368524.583333   \n",
       "29          104                  370608.625000   \n",
       "30          107                  372389.416667   \n",
       "31           81                  373779.500000   \n",
       "32          113                  372685.916667   \n",
       "33           97                  368656.916667   \n",
       "34           95                  369505.750000   \n",
       "35           65                  372700.583333   \n",
       "36          113                  374809.500000   \n",
       "37           98                  377258.125000   \n",
       "38          102                  380091.958333   \n",
       "39          107                  384126.375000   \n",
       "40          119                  385577.958333   \n",
       "41          104                  389707.875000   \n",
       "42          107                  385270.583333   \n",
       "43           81                  375957.041667   \n",
       "44          113                  385716.750000   \n",
       "45           97                  401272.666667   \n",
       "46           95                  402986.916667   \n",
       "47           65                  397369.958333   \n",
       "48          113                  394035.291667   \n",
       "49           98                  392980.583333   \n",
       "50          102                  400822.041667   \n",
       "51          107                  412429.916667   \n",
       "52          119                  419193.208333   \n",
       "53          104                  422074.625000   \n",
       "54          107                            NaN   \n",
       "55           81                            NaN   \n",
       "56          113                            NaN   \n",
       "57           97                            NaN   \n",
       "58           95                            NaN   \n",
       "59           65                            NaN   \n",
       "\n",
       "    M1 Predicted Deseasonalized Case Shipments  \n",
       "12                                         NaN  \n",
       "13                                         NaN  \n",
       "14                                         NaN  \n",
       "15                                         NaN  \n",
       "16                                         NaN  \n",
       "17                                         NaN  \n",
       "18                               351183.773211  \n",
       "19                               352794.414808  \n",
       "20                               354405.056405  \n",
       "21                               356015.698002  \n",
       "22                               357626.339599  \n",
       "23                               359236.981195  \n",
       "24                               360847.622792  \n",
       "25                               362458.264389  \n",
       "26                               364068.905986  \n",
       "27                               365679.547583  \n",
       "28                               367290.189180  \n",
       "29                               368900.830777  \n",
       "30                               370511.472374  \n",
       "31                               372122.113971  \n",
       "32                               373732.755568  \n",
       "33                               375343.397165  \n",
       "34                               376954.038762  \n",
       "35                               378564.680359  \n",
       "36                               380175.321956  \n",
       "37                               381785.963553  \n",
       "38                               383396.605150  \n",
       "39                               385007.246747  \n",
       "40                               386617.888344  \n",
       "41                               388228.529941  \n",
       "42                               389839.171538  \n",
       "43                               391449.813135  \n",
       "44                               393060.454732  \n",
       "45                               394671.096328  \n",
       "46                               396281.737925  \n",
       "47                               397892.379522  \n",
       "48                               399503.021119  \n",
       "49                               401113.662716  \n",
       "50                               402724.304313  \n",
       "51                               404334.945910  \n",
       "52                               405945.587507  \n",
       "53                               407556.229104  \n",
       "54                                         NaN  \n",
       "55                                         NaN  \n",
       "56                                         NaN  \n",
       "57                                         NaN  \n",
       "58                                         NaN  \n",
       "59                                         NaN  "
      ]
     },
     "execution_count": 27,
     "metadata": {},
     "output_type": "execute_result"
    }
   ],
   "source": [
    "harmon"
   ]
  },
  {
   "cell_type": "markdown",
   "metadata": {},
   "source": [
    "### Put seasonal effects back in (using industry provided data)"
   ]
  },
  {
   "cell_type": "code",
   "execution_count": 28,
   "metadata": {},
   "outputs": [],
   "source": [
    "harmon['M1 Predicted Case Shipments'] = harmon['M1 Predicted Deseasonalized Case Shipments']*(harmon['Industry SI']/100)"
   ]
  },
  {
   "cell_type": "markdown",
   "metadata": {},
   "source": [
    "### Check data"
   ]
  },
  {
   "cell_type": "code",
   "execution_count": 29,
   "metadata": {},
   "outputs": [
    {
     "data": {
      "text/html": [
       "<div>\n",
       "<style scoped>\n",
       "    .dataframe tbody tr th:only-of-type {\n",
       "        vertical-align: middle;\n",
       "    }\n",
       "\n",
       "    .dataframe tbody tr th {\n",
       "        vertical-align: top;\n",
       "    }\n",
       "\n",
       "    .dataframe thead th {\n",
       "        text-align: right;\n",
       "    }\n",
       "</style>\n",
       "<table border=\"1\" class=\"dataframe\">\n",
       "  <thead>\n",
       "    <tr style=\"text-align: right;\">\n",
       "      <th></th>\n",
       "      <th>Month</th>\n",
       "      <th>Case Shipments</th>\n",
       "      <th>Month of year</th>\n",
       "      <th>Month name</th>\n",
       "      <th>Seq month number</th>\n",
       "      <th>Industry SI</th>\n",
       "      <th>Deseasonalized Case Shipments</th>\n",
       "      <th>M1 Predicted Deseasonalized Case Shipments</th>\n",
       "      <th>M1 Predicted Case Shipments</th>\n",
       "    </tr>\n",
       "  </thead>\n",
       "  <tbody>\n",
       "    <tr>\n",
       "      <th>12</th>\n",
       "      <td>1984-01-01</td>\n",
       "      <td>425075.0</td>\n",
       "      <td>1</td>\n",
       "      <td>January</td>\n",
       "      <td>13</td>\n",
       "      <td>113</td>\n",
       "      <td>NaN</td>\n",
       "      <td>NaN</td>\n",
       "      <td>NaN</td>\n",
       "    </tr>\n",
       "    <tr>\n",
       "      <th>13</th>\n",
       "      <td>1984-02-01</td>\n",
       "      <td>315305.0</td>\n",
       "      <td>2</td>\n",
       "      <td>February</td>\n",
       "      <td>14</td>\n",
       "      <td>98</td>\n",
       "      <td>NaN</td>\n",
       "      <td>NaN</td>\n",
       "      <td>NaN</td>\n",
       "    </tr>\n",
       "    <tr>\n",
       "      <th>14</th>\n",
       "      <td>1984-03-01</td>\n",
       "      <td>367286.0</td>\n",
       "      <td>3</td>\n",
       "      <td>March</td>\n",
       "      <td>15</td>\n",
       "      <td>102</td>\n",
       "      <td>NaN</td>\n",
       "      <td>NaN</td>\n",
       "      <td>NaN</td>\n",
       "    </tr>\n",
       "    <tr>\n",
       "      <th>15</th>\n",
       "      <td>1984-04-01</td>\n",
       "      <td>429432.0</td>\n",
       "      <td>4</td>\n",
       "      <td>April</td>\n",
       "      <td>16</td>\n",
       "      <td>107</td>\n",
       "      <td>NaN</td>\n",
       "      <td>NaN</td>\n",
       "      <td>NaN</td>\n",
       "    </tr>\n",
       "    <tr>\n",
       "      <th>16</th>\n",
       "      <td>1984-05-01</td>\n",
       "      <td>347874.0</td>\n",
       "      <td>5</td>\n",
       "      <td>May</td>\n",
       "      <td>17</td>\n",
       "      <td>119</td>\n",
       "      <td>NaN</td>\n",
       "      <td>NaN</td>\n",
       "      <td>NaN</td>\n",
       "    </tr>\n",
       "    <tr>\n",
       "      <th>17</th>\n",
       "      <td>1984-06-01</td>\n",
       "      <td>435529.0</td>\n",
       "      <td>6</td>\n",
       "      <td>June</td>\n",
       "      <td>18</td>\n",
       "      <td>104</td>\n",
       "      <td>NaN</td>\n",
       "      <td>NaN</td>\n",
       "      <td>NaN</td>\n",
       "    </tr>\n",
       "    <tr>\n",
       "      <th>18</th>\n",
       "      <td>1984-07-01</td>\n",
       "      <td>299403.0</td>\n",
       "      <td>7</td>\n",
       "      <td>July</td>\n",
       "      <td>19</td>\n",
       "      <td>107</td>\n",
       "      <td>351930.791667</td>\n",
       "      <td>351183.773211</td>\n",
       "      <td>375766.637335</td>\n",
       "    </tr>\n",
       "    <tr>\n",
       "      <th>19</th>\n",
       "      <td>1984-08-01</td>\n",
       "      <td>296505.0</td>\n",
       "      <td>8</td>\n",
       "      <td>August</td>\n",
       "      <td>20</td>\n",
       "      <td>81</td>\n",
       "      <td>358284.500000</td>\n",
       "      <td>352794.414808</td>\n",
       "      <td>285763.475994</td>\n",
       "    </tr>\n",
       "    <tr>\n",
       "      <th>20</th>\n",
       "      <td>1984-09-01</td>\n",
       "      <td>426701.0</td>\n",
       "      <td>9</td>\n",
       "      <td>September</td>\n",
       "      <td>21</td>\n",
       "      <td>113</td>\n",
       "      <td>357417.666667</td>\n",
       "      <td>354405.056405</td>\n",
       "      <td>400477.713737</td>\n",
       "    </tr>\n",
       "    <tr>\n",
       "      <th>21</th>\n",
       "      <td>1984-10-01</td>\n",
       "      <td>329722.0</td>\n",
       "      <td>10</td>\n",
       "      <td>October</td>\n",
       "      <td>22</td>\n",
       "      <td>97</td>\n",
       "      <td>356508.125000</td>\n",
       "      <td>356015.698002</td>\n",
       "      <td>345335.227062</td>\n",
       "    </tr>\n",
       "    <tr>\n",
       "      <th>22</th>\n",
       "      <td>1984-11-01</td>\n",
       "      <td>281783.0</td>\n",
       "      <td>11</td>\n",
       "      <td>November</td>\n",
       "      <td>23</td>\n",
       "      <td>95</td>\n",
       "      <td>358327.583333</td>\n",
       "      <td>357626.339599</td>\n",
       "      <td>339745.022619</td>\n",
       "    </tr>\n",
       "    <tr>\n",
       "      <th>23</th>\n",
       "      <td>1984-12-01</td>\n",
       "      <td>166391.0</td>\n",
       "      <td>12</td>\n",
       "      <td>December</td>\n",
       "      <td>24</td>\n",
       "      <td>65</td>\n",
       "      <td>360327.041667</td>\n",
       "      <td>359236.981195</td>\n",
       "      <td>233504.037777</td>\n",
       "    </tr>\n",
       "    <tr>\n",
       "      <th>24</th>\n",
       "      <td>1985-01-01</td>\n",
       "      <td>629402.0</td>\n",
       "      <td>1</td>\n",
       "      <td>January</td>\n",
       "      <td>25</td>\n",
       "      <td>113</td>\n",
       "      <td>363092.375000</td>\n",
       "      <td>360847.622792</td>\n",
       "      <td>407757.813755</td>\n",
       "    </tr>\n",
       "    <tr>\n",
       "      <th>25</th>\n",
       "      <td>1985-02-01</td>\n",
       "      <td>263467.0</td>\n",
       "      <td>2</td>\n",
       "      <td>February</td>\n",
       "      <td>26</td>\n",
       "      <td>98</td>\n",
       "      <td>366088.166667</td>\n",
       "      <td>362458.264389</td>\n",
       "      <td>355209.099102</td>\n",
       "    </tr>\n",
       "    <tr>\n",
       "      <th>26</th>\n",
       "      <td>1985-03-01</td>\n",
       "      <td>398320.0</td>\n",
       "      <td>3</td>\n",
       "      <td>March</td>\n",
       "      <td>27</td>\n",
       "      <td>102</td>\n",
       "      <td>366698.666667</td>\n",
       "      <td>364068.905986</td>\n",
       "      <td>371350.284106</td>\n",
       "    </tr>\n",
       "    <tr>\n",
       "      <th>27</th>\n",
       "      <td>1985-04-01</td>\n",
       "      <td>376569.0</td>\n",
       "      <td>4</td>\n",
       "      <td>April</td>\n",
       "      <td>28</td>\n",
       "      <td>107</td>\n",
       "      <td>368112.458333</td>\n",
       "      <td>365679.547583</td>\n",
       "      <td>391277.115914</td>\n",
       "    </tr>\n",
       "    <tr>\n",
       "      <th>28</th>\n",
       "      <td>1985-05-01</td>\n",
       "      <td>444404.0</td>\n",
       "      <td>5</td>\n",
       "      <td>May</td>\n",
       "      <td>29</td>\n",
       "      <td>119</td>\n",
       "      <td>368524.583333</td>\n",
       "      <td>367290.189180</td>\n",
       "      <td>437075.325124</td>\n",
       "    </tr>\n",
       "    <tr>\n",
       "      <th>29</th>\n",
       "      <td>1985-06-01</td>\n",
       "      <td>386986.0</td>\n",
       "      <td>6</td>\n",
       "      <td>June</td>\n",
       "      <td>30</td>\n",
       "      <td>104</td>\n",
       "      <td>370608.625000</td>\n",
       "      <td>368900.830777</td>\n",
       "      <td>383656.864008</td>\n",
       "    </tr>\n",
       "    <tr>\n",
       "      <th>30</th>\n",
       "      <td>1985-07-01</td>\n",
       "      <td>414314.0</td>\n",
       "      <td>7</td>\n",
       "      <td>July</td>\n",
       "      <td>31</td>\n",
       "      <td>107</td>\n",
       "      <td>372389.416667</td>\n",
       "      <td>370511.472374</td>\n",
       "      <td>396447.275440</td>\n",
       "    </tr>\n",
       "    <tr>\n",
       "      <th>31</th>\n",
       "      <td>1985-08-01</td>\n",
       "      <td>253493.0</td>\n",
       "      <td>8</td>\n",
       "      <td>August</td>\n",
       "      <td>32</td>\n",
       "      <td>81</td>\n",
       "      <td>373779.500000</td>\n",
       "      <td>372122.113971</td>\n",
       "      <td>301418.912317</td>\n",
       "    </tr>\n",
       "    <tr>\n",
       "      <th>32</th>\n",
       "      <td>1985-09-01</td>\n",
       "      <td>484365.0</td>\n",
       "      <td>9</td>\n",
       "      <td>September</td>\n",
       "      <td>33</td>\n",
       "      <td>113</td>\n",
       "      <td>372685.916667</td>\n",
       "      <td>373732.755568</td>\n",
       "      <td>422318.013792</td>\n",
       "    </tr>\n",
       "    <tr>\n",
       "      <th>33</th>\n",
       "      <td>1985-10-01</td>\n",
       "      <td>305989.0</td>\n",
       "      <td>10</td>\n",
       "      <td>October</td>\n",
       "      <td>34</td>\n",
       "      <td>97</td>\n",
       "      <td>368656.916667</td>\n",
       "      <td>375343.397165</td>\n",
       "      <td>364083.095250</td>\n",
       "    </tr>\n",
       "    <tr>\n",
       "      <th>34</th>\n",
       "      <td>1985-11-01</td>\n",
       "      <td>315407.0</td>\n",
       "      <td>11</td>\n",
       "      <td>November</td>\n",
       "      <td>35</td>\n",
       "      <td>95</td>\n",
       "      <td>369505.750000</td>\n",
       "      <td>376954.038762</td>\n",
       "      <td>358106.336824</td>\n",
       "    </tr>\n",
       "    <tr>\n",
       "      <th>35</th>\n",
       "      <td>1985-12-01</td>\n",
       "      <td>182784.0</td>\n",
       "      <td>12</td>\n",
       "      <td>December</td>\n",
       "      <td>36</td>\n",
       "      <td>65</td>\n",
       "      <td>372700.583333</td>\n",
       "      <td>378564.680359</td>\n",
       "      <td>246067.042233</td>\n",
       "    </tr>\n",
       "    <tr>\n",
       "      <th>36</th>\n",
       "      <td>1986-01-01</td>\n",
       "      <td>655748.0</td>\n",
       "      <td>1</td>\n",
       "      <td>January</td>\n",
       "      <td>37</td>\n",
       "      <td>113</td>\n",
       "      <td>374809.500000</td>\n",
       "      <td>380175.321956</td>\n",
       "      <td>429598.113810</td>\n",
       "    </tr>\n",
       "    <tr>\n",
       "      <th>37</th>\n",
       "      <td>1986-02-01</td>\n",
       "      <td>270483.0</td>\n",
       "      <td>2</td>\n",
       "      <td>February</td>\n",
       "      <td>38</td>\n",
       "      <td>98</td>\n",
       "      <td>377258.125000</td>\n",
       "      <td>381785.963553</td>\n",
       "      <td>374150.244282</td>\n",
       "    </tr>\n",
       "    <tr>\n",
       "      <th>38</th>\n",
       "      <td>1986-03-01</td>\n",
       "      <td>365058.0</td>\n",
       "      <td>3</td>\n",
       "      <td>March</td>\n",
       "      <td>39</td>\n",
       "      <td>102</td>\n",
       "      <td>380091.958333</td>\n",
       "      <td>383396.605150</td>\n",
       "      <td>391064.537253</td>\n",
       "    </tr>\n",
       "    <tr>\n",
       "      <th>39</th>\n",
       "      <td>1986-04-01</td>\n",
       "      <td>313135.0</td>\n",
       "      <td>4</td>\n",
       "      <td>April</td>\n",
       "      <td>40</td>\n",
       "      <td>107</td>\n",
       "      <td>384126.375000</td>\n",
       "      <td>385007.246747</td>\n",
       "      <td>411957.754019</td>\n",
       "    </tr>\n",
       "    <tr>\n",
       "      <th>40</th>\n",
       "      <td>1986-05-01</td>\n",
       "      <td>528210.0</td>\n",
       "      <td>5</td>\n",
       "      <td>May</td>\n",
       "      <td>41</td>\n",
       "      <td>119</td>\n",
       "      <td>385577.958333</td>\n",
       "      <td>386617.888344</td>\n",
       "      <td>460075.287129</td>\n",
       "    </tr>\n",
       "    <tr>\n",
       "      <th>41</th>\n",
       "      <td>1986-06-01</td>\n",
       "      <td>379856.0</td>\n",
       "      <td>6</td>\n",
       "      <td>June</td>\n",
       "      <td>42</td>\n",
       "      <td>104</td>\n",
       "      <td>389707.875000</td>\n",
       "      <td>388228.529941</td>\n",
       "      <td>403757.671138</td>\n",
       "    </tr>\n",
       "    <tr>\n",
       "      <th>42</th>\n",
       "      <td>1986-07-01</td>\n",
       "      <td>472058.0</td>\n",
       "      <td>7</td>\n",
       "      <td>July</td>\n",
       "      <td>43</td>\n",
       "      <td>107</td>\n",
       "      <td>385270.583333</td>\n",
       "      <td>389839.171538</td>\n",
       "      <td>417127.913545</td>\n",
       "    </tr>\n",
       "    <tr>\n",
       "      <th>43</th>\n",
       "      <td>1986-08-01</td>\n",
       "      <td>254516.0</td>\n",
       "      <td>8</td>\n",
       "      <td>August</td>\n",
       "      <td>44</td>\n",
       "      <td>81</td>\n",
       "      <td>375957.041667</td>\n",
       "      <td>391449.813135</td>\n",
       "      <td>317074.348639</td>\n",
       "    </tr>\n",
       "    <tr>\n",
       "      <th>44</th>\n",
       "      <td>1986-09-01</td>\n",
       "      <td>551354.0</td>\n",
       "      <td>9</td>\n",
       "      <td>September</td>\n",
       "      <td>45</td>\n",
       "      <td>113</td>\n",
       "      <td>385716.750000</td>\n",
       "      <td>393060.454732</td>\n",
       "      <td>444158.313847</td>\n",
       "    </tr>\n",
       "    <tr>\n",
       "      <th>45</th>\n",
       "      <td>1986-10-01</td>\n",
       "      <td>335826.0</td>\n",
       "      <td>10</td>\n",
       "      <td>October</td>\n",
       "      <td>46</td>\n",
       "      <td>97</td>\n",
       "      <td>401272.666667</td>\n",
       "      <td>394671.096328</td>\n",
       "      <td>382830.963439</td>\n",
       "    </tr>\n",
       "    <tr>\n",
       "      <th>46</th>\n",
       "      <td>1986-11-01</td>\n",
       "      <td>320408.0</td>\n",
       "      <td>11</td>\n",
       "      <td>November</td>\n",
       "      <td>47</td>\n",
       "      <td>95</td>\n",
       "      <td>402986.916667</td>\n",
       "      <td>396281.737925</td>\n",
       "      <td>376467.651029</td>\n",
       "    </tr>\n",
       "    <tr>\n",
       "      <th>47</th>\n",
       "      <td>1986-12-01</td>\n",
       "      <td>276901.0</td>\n",
       "      <td>12</td>\n",
       "      <td>December</td>\n",
       "      <td>48</td>\n",
       "      <td>65</td>\n",
       "      <td>397369.958333</td>\n",
       "      <td>397892.379522</td>\n",
       "      <td>258630.046690</td>\n",
       "    </tr>\n",
       "    <tr>\n",
       "      <th>48</th>\n",
       "      <td>1987-01-01</td>\n",
       "      <td>455136.0</td>\n",
       "      <td>1</td>\n",
       "      <td>January</td>\n",
       "      <td>49</td>\n",
       "      <td>113</td>\n",
       "      <td>394035.291667</td>\n",
       "      <td>399503.021119</td>\n",
       "      <td>451438.413865</td>\n",
       "    </tr>\n",
       "    <tr>\n",
       "      <th>49</th>\n",
       "      <td>1987-02-01</td>\n",
       "      <td>247570.0</td>\n",
       "      <td>2</td>\n",
       "      <td>February</td>\n",
       "      <td>50</td>\n",
       "      <td>98</td>\n",
       "      <td>392980.583333</td>\n",
       "      <td>401113.662716</td>\n",
       "      <td>393091.389462</td>\n",
       "    </tr>\n",
       "    <tr>\n",
       "      <th>50</th>\n",
       "      <td>1987-03-01</td>\n",
       "      <td>622204.0</td>\n",
       "      <td>3</td>\n",
       "      <td>March</td>\n",
       "      <td>51</td>\n",
       "      <td>102</td>\n",
       "      <td>400822.041667</td>\n",
       "      <td>402724.304313</td>\n",
       "      <td>410778.790400</td>\n",
       "    </tr>\n",
       "    <tr>\n",
       "      <th>51</th>\n",
       "      <td>1987-04-01</td>\n",
       "      <td>429331.0</td>\n",
       "      <td>4</td>\n",
       "      <td>April</td>\n",
       "      <td>52</td>\n",
       "      <td>107</td>\n",
       "      <td>412429.916667</td>\n",
       "      <td>404334.945910</td>\n",
       "      <td>432638.392124</td>\n",
       "    </tr>\n",
       "    <tr>\n",
       "      <th>52</th>\n",
       "      <td>1987-05-01</td>\n",
       "      <td>453156.0</td>\n",
       "      <td>5</td>\n",
       "      <td>May</td>\n",
       "      <td>53</td>\n",
       "      <td>119</td>\n",
       "      <td>419193.208333</td>\n",
       "      <td>405945.587507</td>\n",
       "      <td>483075.249134</td>\n",
       "    </tr>\n",
       "    <tr>\n",
       "      <th>53</th>\n",
       "      <td>1987-06-01</td>\n",
       "      <td>320103.0</td>\n",
       "      <td>6</td>\n",
       "      <td>June</td>\n",
       "      <td>54</td>\n",
       "      <td>104</td>\n",
       "      <td>422074.625000</td>\n",
       "      <td>407556.229104</td>\n",
       "      <td>423858.478268</td>\n",
       "    </tr>\n",
       "    <tr>\n",
       "      <th>54</th>\n",
       "      <td>1987-07-01</td>\n",
       "      <td>451779.0</td>\n",
       "      <td>7</td>\n",
       "      <td>July</td>\n",
       "      <td>55</td>\n",
       "      <td>107</td>\n",
       "      <td>NaN</td>\n",
       "      <td>NaN</td>\n",
       "      <td>NaN</td>\n",
       "    </tr>\n",
       "    <tr>\n",
       "      <th>55</th>\n",
       "      <td>1987-08-01</td>\n",
       "      <td>249482.0</td>\n",
       "      <td>8</td>\n",
       "      <td>August</td>\n",
       "      <td>56</td>\n",
       "      <td>81</td>\n",
       "      <td>NaN</td>\n",
       "      <td>NaN</td>\n",
       "      <td>NaN</td>\n",
       "    </tr>\n",
       "    <tr>\n",
       "      <th>56</th>\n",
       "      <td>1987-09-01</td>\n",
       "      <td>744583.0</td>\n",
       "      <td>9</td>\n",
       "      <td>September</td>\n",
       "      <td>57</td>\n",
       "      <td>113</td>\n",
       "      <td>NaN</td>\n",
       "      <td>NaN</td>\n",
       "      <td>NaN</td>\n",
       "    </tr>\n",
       "    <tr>\n",
       "      <th>57</th>\n",
       "      <td>1987-10-01</td>\n",
       "      <td>421186.0</td>\n",
       "      <td>10</td>\n",
       "      <td>October</td>\n",
       "      <td>58</td>\n",
       "      <td>97</td>\n",
       "      <td>NaN</td>\n",
       "      <td>NaN</td>\n",
       "      <td>NaN</td>\n",
       "    </tr>\n",
       "    <tr>\n",
       "      <th>58</th>\n",
       "      <td>1987-11-01</td>\n",
       "      <td>397367.0</td>\n",
       "      <td>11</td>\n",
       "      <td>November</td>\n",
       "      <td>59</td>\n",
       "      <td>95</td>\n",
       "      <td>NaN</td>\n",
       "      <td>NaN</td>\n",
       "      <td>NaN</td>\n",
       "    </tr>\n",
       "    <tr>\n",
       "      <th>59</th>\n",
       "      <td>1987-12-01</td>\n",
       "      <td>269096.0</td>\n",
       "      <td>12</td>\n",
       "      <td>December</td>\n",
       "      <td>60</td>\n",
       "      <td>65</td>\n",
       "      <td>NaN</td>\n",
       "      <td>NaN</td>\n",
       "      <td>NaN</td>\n",
       "    </tr>\n",
       "  </tbody>\n",
       "</table>\n",
       "</div>"
      ],
      "text/plain": [
       "        Month  Case Shipments  Month of year Month name  Seq month number  \\\n",
       "12 1984-01-01        425075.0              1    January                13   \n",
       "13 1984-02-01        315305.0              2   February                14   \n",
       "14 1984-03-01        367286.0              3      March                15   \n",
       "15 1984-04-01        429432.0              4      April                16   \n",
       "16 1984-05-01        347874.0              5        May                17   \n",
       "17 1984-06-01        435529.0              6       June                18   \n",
       "18 1984-07-01        299403.0              7       July                19   \n",
       "19 1984-08-01        296505.0              8     August                20   \n",
       "20 1984-09-01        426701.0              9  September                21   \n",
       "21 1984-10-01        329722.0             10    October                22   \n",
       "22 1984-11-01        281783.0             11   November                23   \n",
       "23 1984-12-01        166391.0             12   December                24   \n",
       "24 1985-01-01        629402.0              1    January                25   \n",
       "25 1985-02-01        263467.0              2   February                26   \n",
       "26 1985-03-01        398320.0              3      March                27   \n",
       "27 1985-04-01        376569.0              4      April                28   \n",
       "28 1985-05-01        444404.0              5        May                29   \n",
       "29 1985-06-01        386986.0              6       June                30   \n",
       "30 1985-07-01        414314.0              7       July                31   \n",
       "31 1985-08-01        253493.0              8     August                32   \n",
       "32 1985-09-01        484365.0              9  September                33   \n",
       "33 1985-10-01        305989.0             10    October                34   \n",
       "34 1985-11-01        315407.0             11   November                35   \n",
       "35 1985-12-01        182784.0             12   December                36   \n",
       "36 1986-01-01        655748.0              1    January                37   \n",
       "37 1986-02-01        270483.0              2   February                38   \n",
       "38 1986-03-01        365058.0              3      March                39   \n",
       "39 1986-04-01        313135.0              4      April                40   \n",
       "40 1986-05-01        528210.0              5        May                41   \n",
       "41 1986-06-01        379856.0              6       June                42   \n",
       "42 1986-07-01        472058.0              7       July                43   \n",
       "43 1986-08-01        254516.0              8     August                44   \n",
       "44 1986-09-01        551354.0              9  September                45   \n",
       "45 1986-10-01        335826.0             10    October                46   \n",
       "46 1986-11-01        320408.0             11   November                47   \n",
       "47 1986-12-01        276901.0             12   December                48   \n",
       "48 1987-01-01        455136.0              1    January                49   \n",
       "49 1987-02-01        247570.0              2   February                50   \n",
       "50 1987-03-01        622204.0              3      March                51   \n",
       "51 1987-04-01        429331.0              4      April                52   \n",
       "52 1987-05-01        453156.0              5        May                53   \n",
       "53 1987-06-01        320103.0              6       June                54   \n",
       "54 1987-07-01        451779.0              7       July                55   \n",
       "55 1987-08-01        249482.0              8     August                56   \n",
       "56 1987-09-01        744583.0              9  September                57   \n",
       "57 1987-10-01        421186.0             10    October                58   \n",
       "58 1987-11-01        397367.0             11   November                59   \n",
       "59 1987-12-01        269096.0             12   December                60   \n",
       "\n",
       "    Industry SI  Deseasonalized Case Shipments  \\\n",
       "12          113                            NaN   \n",
       "13           98                            NaN   \n",
       "14          102                            NaN   \n",
       "15          107                            NaN   \n",
       "16          119                            NaN   \n",
       "17          104                            NaN   \n",
       "18          107                  351930.791667   \n",
       "19           81                  358284.500000   \n",
       "20          113                  357417.666667   \n",
       "21           97                  356508.125000   \n",
       "22           95                  358327.583333   \n",
       "23           65                  360327.041667   \n",
       "24          113                  363092.375000   \n",
       "25           98                  366088.166667   \n",
       "26          102                  366698.666667   \n",
       "27          107                  368112.458333   \n",
       "28          119                  368524.583333   \n",
       "29          104                  370608.625000   \n",
       "30          107                  372389.416667   \n",
       "31           81                  373779.500000   \n",
       "32          113                  372685.916667   \n",
       "33           97                  368656.916667   \n",
       "34           95                  369505.750000   \n",
       "35           65                  372700.583333   \n",
       "36          113                  374809.500000   \n",
       "37           98                  377258.125000   \n",
       "38          102                  380091.958333   \n",
       "39          107                  384126.375000   \n",
       "40          119                  385577.958333   \n",
       "41          104                  389707.875000   \n",
       "42          107                  385270.583333   \n",
       "43           81                  375957.041667   \n",
       "44          113                  385716.750000   \n",
       "45           97                  401272.666667   \n",
       "46           95                  402986.916667   \n",
       "47           65                  397369.958333   \n",
       "48          113                  394035.291667   \n",
       "49           98                  392980.583333   \n",
       "50          102                  400822.041667   \n",
       "51          107                  412429.916667   \n",
       "52          119                  419193.208333   \n",
       "53          104                  422074.625000   \n",
       "54          107                            NaN   \n",
       "55           81                            NaN   \n",
       "56          113                            NaN   \n",
       "57           97                            NaN   \n",
       "58           95                            NaN   \n",
       "59           65                            NaN   \n",
       "\n",
       "    M1 Predicted Deseasonalized Case Shipments  M1 Predicted Case Shipments  \n",
       "12                                         NaN                          NaN  \n",
       "13                                         NaN                          NaN  \n",
       "14                                         NaN                          NaN  \n",
       "15                                         NaN                          NaN  \n",
       "16                                         NaN                          NaN  \n",
       "17                                         NaN                          NaN  \n",
       "18                               351183.773211                375766.637335  \n",
       "19                               352794.414808                285763.475994  \n",
       "20                               354405.056405                400477.713737  \n",
       "21                               356015.698002                345335.227062  \n",
       "22                               357626.339599                339745.022619  \n",
       "23                               359236.981195                233504.037777  \n",
       "24                               360847.622792                407757.813755  \n",
       "25                               362458.264389                355209.099102  \n",
       "26                               364068.905986                371350.284106  \n",
       "27                               365679.547583                391277.115914  \n",
       "28                               367290.189180                437075.325124  \n",
       "29                               368900.830777                383656.864008  \n",
       "30                               370511.472374                396447.275440  \n",
       "31                               372122.113971                301418.912317  \n",
       "32                               373732.755568                422318.013792  \n",
       "33                               375343.397165                364083.095250  \n",
       "34                               376954.038762                358106.336824  \n",
       "35                               378564.680359                246067.042233  \n",
       "36                               380175.321956                429598.113810  \n",
       "37                               381785.963553                374150.244282  \n",
       "38                               383396.605150                391064.537253  \n",
       "39                               385007.246747                411957.754019  \n",
       "40                               386617.888344                460075.287129  \n",
       "41                               388228.529941                403757.671138  \n",
       "42                               389839.171538                417127.913545  \n",
       "43                               391449.813135                317074.348639  \n",
       "44                               393060.454732                444158.313847  \n",
       "45                               394671.096328                382830.963439  \n",
       "46                               396281.737925                376467.651029  \n",
       "47                               397892.379522                258630.046690  \n",
       "48                               399503.021119                451438.413865  \n",
       "49                               401113.662716                393091.389462  \n",
       "50                               402724.304313                410778.790400  \n",
       "51                               404334.945910                432638.392124  \n",
       "52                               405945.587507                483075.249134  \n",
       "53                               407556.229104                423858.478268  \n",
       "54                                         NaN                          NaN  \n",
       "55                                         NaN                          NaN  \n",
       "56                                         NaN                          NaN  \n",
       "57                                         NaN                          NaN  \n",
       "58                                         NaN                          NaN  \n",
       "59                                         NaN                          NaN  "
      ]
     },
     "execution_count": 29,
     "metadata": {},
     "output_type": "execute_result"
    }
   ],
   "source": [
    "harmon"
   ]
  },
  {
   "cell_type": "markdown",
   "metadata": {},
   "source": [
    "### Calculate Abs Error"
   ]
  },
  {
   "cell_type": "code",
   "execution_count": 30,
   "metadata": {},
   "outputs": [],
   "source": [
    "harmon['M1 Abs Error']= abs(harmon['M1 Predicted Case Shipments'] - harmon['Case Shipments'])"
   ]
  },
  {
   "cell_type": "markdown",
   "metadata": {},
   "source": [
    "### Check data"
   ]
  },
  {
   "cell_type": "code",
   "execution_count": 31,
   "metadata": {},
   "outputs": [
    {
     "data": {
      "text/html": [
       "<div>\n",
       "<style scoped>\n",
       "    .dataframe tbody tr th:only-of-type {\n",
       "        vertical-align: middle;\n",
       "    }\n",
       "\n",
       "    .dataframe tbody tr th {\n",
       "        vertical-align: top;\n",
       "    }\n",
       "\n",
       "    .dataframe thead th {\n",
       "        text-align: right;\n",
       "    }\n",
       "</style>\n",
       "<table border=\"1\" class=\"dataframe\">\n",
       "  <thead>\n",
       "    <tr style=\"text-align: right;\">\n",
       "      <th></th>\n",
       "      <th>Month</th>\n",
       "      <th>Case Shipments</th>\n",
       "      <th>Month of year</th>\n",
       "      <th>Month name</th>\n",
       "      <th>Seq month number</th>\n",
       "      <th>Industry SI</th>\n",
       "      <th>Deseasonalized Case Shipments</th>\n",
       "      <th>M1 Predicted Deseasonalized Case Shipments</th>\n",
       "      <th>M1 Predicted Case Shipments</th>\n",
       "      <th>M1 Abs Error</th>\n",
       "    </tr>\n",
       "  </thead>\n",
       "  <tbody>\n",
       "    <tr>\n",
       "      <th>12</th>\n",
       "      <td>1984-01-01</td>\n",
       "      <td>425075.0</td>\n",
       "      <td>1</td>\n",
       "      <td>January</td>\n",
       "      <td>13</td>\n",
       "      <td>113</td>\n",
       "      <td>NaN</td>\n",
       "      <td>NaN</td>\n",
       "      <td>NaN</td>\n",
       "      <td>NaN</td>\n",
       "    </tr>\n",
       "    <tr>\n",
       "      <th>13</th>\n",
       "      <td>1984-02-01</td>\n",
       "      <td>315305.0</td>\n",
       "      <td>2</td>\n",
       "      <td>February</td>\n",
       "      <td>14</td>\n",
       "      <td>98</td>\n",
       "      <td>NaN</td>\n",
       "      <td>NaN</td>\n",
       "      <td>NaN</td>\n",
       "      <td>NaN</td>\n",
       "    </tr>\n",
       "    <tr>\n",
       "      <th>14</th>\n",
       "      <td>1984-03-01</td>\n",
       "      <td>367286.0</td>\n",
       "      <td>3</td>\n",
       "      <td>March</td>\n",
       "      <td>15</td>\n",
       "      <td>102</td>\n",
       "      <td>NaN</td>\n",
       "      <td>NaN</td>\n",
       "      <td>NaN</td>\n",
       "      <td>NaN</td>\n",
       "    </tr>\n",
       "    <tr>\n",
       "      <th>15</th>\n",
       "      <td>1984-04-01</td>\n",
       "      <td>429432.0</td>\n",
       "      <td>4</td>\n",
       "      <td>April</td>\n",
       "      <td>16</td>\n",
       "      <td>107</td>\n",
       "      <td>NaN</td>\n",
       "      <td>NaN</td>\n",
       "      <td>NaN</td>\n",
       "      <td>NaN</td>\n",
       "    </tr>\n",
       "    <tr>\n",
       "      <th>16</th>\n",
       "      <td>1984-05-01</td>\n",
       "      <td>347874.0</td>\n",
       "      <td>5</td>\n",
       "      <td>May</td>\n",
       "      <td>17</td>\n",
       "      <td>119</td>\n",
       "      <td>NaN</td>\n",
       "      <td>NaN</td>\n",
       "      <td>NaN</td>\n",
       "      <td>NaN</td>\n",
       "    </tr>\n",
       "    <tr>\n",
       "      <th>17</th>\n",
       "      <td>1984-06-01</td>\n",
       "      <td>435529.0</td>\n",
       "      <td>6</td>\n",
       "      <td>June</td>\n",
       "      <td>18</td>\n",
       "      <td>104</td>\n",
       "      <td>NaN</td>\n",
       "      <td>NaN</td>\n",
       "      <td>NaN</td>\n",
       "      <td>NaN</td>\n",
       "    </tr>\n",
       "    <tr>\n",
       "      <th>18</th>\n",
       "      <td>1984-07-01</td>\n",
       "      <td>299403.0</td>\n",
       "      <td>7</td>\n",
       "      <td>July</td>\n",
       "      <td>19</td>\n",
       "      <td>107</td>\n",
       "      <td>351930.791667</td>\n",
       "      <td>351183.773211</td>\n",
       "      <td>375766.637335</td>\n",
       "      <td>76363.637335</td>\n",
       "    </tr>\n",
       "    <tr>\n",
       "      <th>19</th>\n",
       "      <td>1984-08-01</td>\n",
       "      <td>296505.0</td>\n",
       "      <td>8</td>\n",
       "      <td>August</td>\n",
       "      <td>20</td>\n",
       "      <td>81</td>\n",
       "      <td>358284.500000</td>\n",
       "      <td>352794.414808</td>\n",
       "      <td>285763.475994</td>\n",
       "      <td>10741.524006</td>\n",
       "    </tr>\n",
       "    <tr>\n",
       "      <th>20</th>\n",
       "      <td>1984-09-01</td>\n",
       "      <td>426701.0</td>\n",
       "      <td>9</td>\n",
       "      <td>September</td>\n",
       "      <td>21</td>\n",
       "      <td>113</td>\n",
       "      <td>357417.666667</td>\n",
       "      <td>354405.056405</td>\n",
       "      <td>400477.713737</td>\n",
       "      <td>26223.286263</td>\n",
       "    </tr>\n",
       "    <tr>\n",
       "      <th>21</th>\n",
       "      <td>1984-10-01</td>\n",
       "      <td>329722.0</td>\n",
       "      <td>10</td>\n",
       "      <td>October</td>\n",
       "      <td>22</td>\n",
       "      <td>97</td>\n",
       "      <td>356508.125000</td>\n",
       "      <td>356015.698002</td>\n",
       "      <td>345335.227062</td>\n",
       "      <td>15613.227062</td>\n",
       "    </tr>\n",
       "    <tr>\n",
       "      <th>22</th>\n",
       "      <td>1984-11-01</td>\n",
       "      <td>281783.0</td>\n",
       "      <td>11</td>\n",
       "      <td>November</td>\n",
       "      <td>23</td>\n",
       "      <td>95</td>\n",
       "      <td>358327.583333</td>\n",
       "      <td>357626.339599</td>\n",
       "      <td>339745.022619</td>\n",
       "      <td>57962.022619</td>\n",
       "    </tr>\n",
       "    <tr>\n",
       "      <th>23</th>\n",
       "      <td>1984-12-01</td>\n",
       "      <td>166391.0</td>\n",
       "      <td>12</td>\n",
       "      <td>December</td>\n",
       "      <td>24</td>\n",
       "      <td>65</td>\n",
       "      <td>360327.041667</td>\n",
       "      <td>359236.981195</td>\n",
       "      <td>233504.037777</td>\n",
       "      <td>67113.037777</td>\n",
       "    </tr>\n",
       "    <tr>\n",
       "      <th>24</th>\n",
       "      <td>1985-01-01</td>\n",
       "      <td>629402.0</td>\n",
       "      <td>1</td>\n",
       "      <td>January</td>\n",
       "      <td>25</td>\n",
       "      <td>113</td>\n",
       "      <td>363092.375000</td>\n",
       "      <td>360847.622792</td>\n",
       "      <td>407757.813755</td>\n",
       "      <td>221644.186245</td>\n",
       "    </tr>\n",
       "    <tr>\n",
       "      <th>25</th>\n",
       "      <td>1985-02-01</td>\n",
       "      <td>263467.0</td>\n",
       "      <td>2</td>\n",
       "      <td>February</td>\n",
       "      <td>26</td>\n",
       "      <td>98</td>\n",
       "      <td>366088.166667</td>\n",
       "      <td>362458.264389</td>\n",
       "      <td>355209.099102</td>\n",
       "      <td>91742.099102</td>\n",
       "    </tr>\n",
       "    <tr>\n",
       "      <th>26</th>\n",
       "      <td>1985-03-01</td>\n",
       "      <td>398320.0</td>\n",
       "      <td>3</td>\n",
       "      <td>March</td>\n",
       "      <td>27</td>\n",
       "      <td>102</td>\n",
       "      <td>366698.666667</td>\n",
       "      <td>364068.905986</td>\n",
       "      <td>371350.284106</td>\n",
       "      <td>26969.715894</td>\n",
       "    </tr>\n",
       "    <tr>\n",
       "      <th>27</th>\n",
       "      <td>1985-04-01</td>\n",
       "      <td>376569.0</td>\n",
       "      <td>4</td>\n",
       "      <td>April</td>\n",
       "      <td>28</td>\n",
       "      <td>107</td>\n",
       "      <td>368112.458333</td>\n",
       "      <td>365679.547583</td>\n",
       "      <td>391277.115914</td>\n",
       "      <td>14708.115914</td>\n",
       "    </tr>\n",
       "    <tr>\n",
       "      <th>28</th>\n",
       "      <td>1985-05-01</td>\n",
       "      <td>444404.0</td>\n",
       "      <td>5</td>\n",
       "      <td>May</td>\n",
       "      <td>29</td>\n",
       "      <td>119</td>\n",
       "      <td>368524.583333</td>\n",
       "      <td>367290.189180</td>\n",
       "      <td>437075.325124</td>\n",
       "      <td>7328.674876</td>\n",
       "    </tr>\n",
       "    <tr>\n",
       "      <th>29</th>\n",
       "      <td>1985-06-01</td>\n",
       "      <td>386986.0</td>\n",
       "      <td>6</td>\n",
       "      <td>June</td>\n",
       "      <td>30</td>\n",
       "      <td>104</td>\n",
       "      <td>370608.625000</td>\n",
       "      <td>368900.830777</td>\n",
       "      <td>383656.864008</td>\n",
       "      <td>3329.135992</td>\n",
       "    </tr>\n",
       "    <tr>\n",
       "      <th>30</th>\n",
       "      <td>1985-07-01</td>\n",
       "      <td>414314.0</td>\n",
       "      <td>7</td>\n",
       "      <td>July</td>\n",
       "      <td>31</td>\n",
       "      <td>107</td>\n",
       "      <td>372389.416667</td>\n",
       "      <td>370511.472374</td>\n",
       "      <td>396447.275440</td>\n",
       "      <td>17866.724560</td>\n",
       "    </tr>\n",
       "    <tr>\n",
       "      <th>31</th>\n",
       "      <td>1985-08-01</td>\n",
       "      <td>253493.0</td>\n",
       "      <td>8</td>\n",
       "      <td>August</td>\n",
       "      <td>32</td>\n",
       "      <td>81</td>\n",
       "      <td>373779.500000</td>\n",
       "      <td>372122.113971</td>\n",
       "      <td>301418.912317</td>\n",
       "      <td>47925.912317</td>\n",
       "    </tr>\n",
       "    <tr>\n",
       "      <th>32</th>\n",
       "      <td>1985-09-01</td>\n",
       "      <td>484365.0</td>\n",
       "      <td>9</td>\n",
       "      <td>September</td>\n",
       "      <td>33</td>\n",
       "      <td>113</td>\n",
       "      <td>372685.916667</td>\n",
       "      <td>373732.755568</td>\n",
       "      <td>422318.013792</td>\n",
       "      <td>62046.986208</td>\n",
       "    </tr>\n",
       "    <tr>\n",
       "      <th>33</th>\n",
       "      <td>1985-10-01</td>\n",
       "      <td>305989.0</td>\n",
       "      <td>10</td>\n",
       "      <td>October</td>\n",
       "      <td>34</td>\n",
       "      <td>97</td>\n",
       "      <td>368656.916667</td>\n",
       "      <td>375343.397165</td>\n",
       "      <td>364083.095250</td>\n",
       "      <td>58094.095250</td>\n",
       "    </tr>\n",
       "    <tr>\n",
       "      <th>34</th>\n",
       "      <td>1985-11-01</td>\n",
       "      <td>315407.0</td>\n",
       "      <td>11</td>\n",
       "      <td>November</td>\n",
       "      <td>35</td>\n",
       "      <td>95</td>\n",
       "      <td>369505.750000</td>\n",
       "      <td>376954.038762</td>\n",
       "      <td>358106.336824</td>\n",
       "      <td>42699.336824</td>\n",
       "    </tr>\n",
       "    <tr>\n",
       "      <th>35</th>\n",
       "      <td>1985-12-01</td>\n",
       "      <td>182784.0</td>\n",
       "      <td>12</td>\n",
       "      <td>December</td>\n",
       "      <td>36</td>\n",
       "      <td>65</td>\n",
       "      <td>372700.583333</td>\n",
       "      <td>378564.680359</td>\n",
       "      <td>246067.042233</td>\n",
       "      <td>63283.042233</td>\n",
       "    </tr>\n",
       "    <tr>\n",
       "      <th>36</th>\n",
       "      <td>1986-01-01</td>\n",
       "      <td>655748.0</td>\n",
       "      <td>1</td>\n",
       "      <td>January</td>\n",
       "      <td>37</td>\n",
       "      <td>113</td>\n",
       "      <td>374809.500000</td>\n",
       "      <td>380175.321956</td>\n",
       "      <td>429598.113810</td>\n",
       "      <td>226149.886190</td>\n",
       "    </tr>\n",
       "    <tr>\n",
       "      <th>37</th>\n",
       "      <td>1986-02-01</td>\n",
       "      <td>270483.0</td>\n",
       "      <td>2</td>\n",
       "      <td>February</td>\n",
       "      <td>38</td>\n",
       "      <td>98</td>\n",
       "      <td>377258.125000</td>\n",
       "      <td>381785.963553</td>\n",
       "      <td>374150.244282</td>\n",
       "      <td>103667.244282</td>\n",
       "    </tr>\n",
       "    <tr>\n",
       "      <th>38</th>\n",
       "      <td>1986-03-01</td>\n",
       "      <td>365058.0</td>\n",
       "      <td>3</td>\n",
       "      <td>March</td>\n",
       "      <td>39</td>\n",
       "      <td>102</td>\n",
       "      <td>380091.958333</td>\n",
       "      <td>383396.605150</td>\n",
       "      <td>391064.537253</td>\n",
       "      <td>26006.537253</td>\n",
       "    </tr>\n",
       "    <tr>\n",
       "      <th>39</th>\n",
       "      <td>1986-04-01</td>\n",
       "      <td>313135.0</td>\n",
       "      <td>4</td>\n",
       "      <td>April</td>\n",
       "      <td>40</td>\n",
       "      <td>107</td>\n",
       "      <td>384126.375000</td>\n",
       "      <td>385007.246747</td>\n",
       "      <td>411957.754019</td>\n",
       "      <td>98822.754019</td>\n",
       "    </tr>\n",
       "    <tr>\n",
       "      <th>40</th>\n",
       "      <td>1986-05-01</td>\n",
       "      <td>528210.0</td>\n",
       "      <td>5</td>\n",
       "      <td>May</td>\n",
       "      <td>41</td>\n",
       "      <td>119</td>\n",
       "      <td>385577.958333</td>\n",
       "      <td>386617.888344</td>\n",
       "      <td>460075.287129</td>\n",
       "      <td>68134.712871</td>\n",
       "    </tr>\n",
       "    <tr>\n",
       "      <th>41</th>\n",
       "      <td>1986-06-01</td>\n",
       "      <td>379856.0</td>\n",
       "      <td>6</td>\n",
       "      <td>June</td>\n",
       "      <td>42</td>\n",
       "      <td>104</td>\n",
       "      <td>389707.875000</td>\n",
       "      <td>388228.529941</td>\n",
       "      <td>403757.671138</td>\n",
       "      <td>23901.671138</td>\n",
       "    </tr>\n",
       "    <tr>\n",
       "      <th>42</th>\n",
       "      <td>1986-07-01</td>\n",
       "      <td>472058.0</td>\n",
       "      <td>7</td>\n",
       "      <td>July</td>\n",
       "      <td>43</td>\n",
       "      <td>107</td>\n",
       "      <td>385270.583333</td>\n",
       "      <td>389839.171538</td>\n",
       "      <td>417127.913545</td>\n",
       "      <td>54930.086455</td>\n",
       "    </tr>\n",
       "    <tr>\n",
       "      <th>43</th>\n",
       "      <td>1986-08-01</td>\n",
       "      <td>254516.0</td>\n",
       "      <td>8</td>\n",
       "      <td>August</td>\n",
       "      <td>44</td>\n",
       "      <td>81</td>\n",
       "      <td>375957.041667</td>\n",
       "      <td>391449.813135</td>\n",
       "      <td>317074.348639</td>\n",
       "      <td>62558.348639</td>\n",
       "    </tr>\n",
       "    <tr>\n",
       "      <th>44</th>\n",
       "      <td>1986-09-01</td>\n",
       "      <td>551354.0</td>\n",
       "      <td>9</td>\n",
       "      <td>September</td>\n",
       "      <td>45</td>\n",
       "      <td>113</td>\n",
       "      <td>385716.750000</td>\n",
       "      <td>393060.454732</td>\n",
       "      <td>444158.313847</td>\n",
       "      <td>107195.686153</td>\n",
       "    </tr>\n",
       "    <tr>\n",
       "      <th>45</th>\n",
       "      <td>1986-10-01</td>\n",
       "      <td>335826.0</td>\n",
       "      <td>10</td>\n",
       "      <td>October</td>\n",
       "      <td>46</td>\n",
       "      <td>97</td>\n",
       "      <td>401272.666667</td>\n",
       "      <td>394671.096328</td>\n",
       "      <td>382830.963439</td>\n",
       "      <td>47004.963439</td>\n",
       "    </tr>\n",
       "    <tr>\n",
       "      <th>46</th>\n",
       "      <td>1986-11-01</td>\n",
       "      <td>320408.0</td>\n",
       "      <td>11</td>\n",
       "      <td>November</td>\n",
       "      <td>47</td>\n",
       "      <td>95</td>\n",
       "      <td>402986.916667</td>\n",
       "      <td>396281.737925</td>\n",
       "      <td>376467.651029</td>\n",
       "      <td>56059.651029</td>\n",
       "    </tr>\n",
       "    <tr>\n",
       "      <th>47</th>\n",
       "      <td>1986-12-01</td>\n",
       "      <td>276901.0</td>\n",
       "      <td>12</td>\n",
       "      <td>December</td>\n",
       "      <td>48</td>\n",
       "      <td>65</td>\n",
       "      <td>397369.958333</td>\n",
       "      <td>397892.379522</td>\n",
       "      <td>258630.046690</td>\n",
       "      <td>18270.953310</td>\n",
       "    </tr>\n",
       "    <tr>\n",
       "      <th>48</th>\n",
       "      <td>1987-01-01</td>\n",
       "      <td>455136.0</td>\n",
       "      <td>1</td>\n",
       "      <td>January</td>\n",
       "      <td>49</td>\n",
       "      <td>113</td>\n",
       "      <td>394035.291667</td>\n",
       "      <td>399503.021119</td>\n",
       "      <td>451438.413865</td>\n",
       "      <td>3697.586135</td>\n",
       "    </tr>\n",
       "    <tr>\n",
       "      <th>49</th>\n",
       "      <td>1987-02-01</td>\n",
       "      <td>247570.0</td>\n",
       "      <td>2</td>\n",
       "      <td>February</td>\n",
       "      <td>50</td>\n",
       "      <td>98</td>\n",
       "      <td>392980.583333</td>\n",
       "      <td>401113.662716</td>\n",
       "      <td>393091.389462</td>\n",
       "      <td>145521.389462</td>\n",
       "    </tr>\n",
       "    <tr>\n",
       "      <th>50</th>\n",
       "      <td>1987-03-01</td>\n",
       "      <td>622204.0</td>\n",
       "      <td>3</td>\n",
       "      <td>March</td>\n",
       "      <td>51</td>\n",
       "      <td>102</td>\n",
       "      <td>400822.041667</td>\n",
       "      <td>402724.304313</td>\n",
       "      <td>410778.790400</td>\n",
       "      <td>211425.209600</td>\n",
       "    </tr>\n",
       "    <tr>\n",
       "      <th>51</th>\n",
       "      <td>1987-04-01</td>\n",
       "      <td>429331.0</td>\n",
       "      <td>4</td>\n",
       "      <td>April</td>\n",
       "      <td>52</td>\n",
       "      <td>107</td>\n",
       "      <td>412429.916667</td>\n",
       "      <td>404334.945910</td>\n",
       "      <td>432638.392124</td>\n",
       "      <td>3307.392124</td>\n",
       "    </tr>\n",
       "    <tr>\n",
       "      <th>52</th>\n",
       "      <td>1987-05-01</td>\n",
       "      <td>453156.0</td>\n",
       "      <td>5</td>\n",
       "      <td>May</td>\n",
       "      <td>53</td>\n",
       "      <td>119</td>\n",
       "      <td>419193.208333</td>\n",
       "      <td>405945.587507</td>\n",
       "      <td>483075.249134</td>\n",
       "      <td>29919.249134</td>\n",
       "    </tr>\n",
       "    <tr>\n",
       "      <th>53</th>\n",
       "      <td>1987-06-01</td>\n",
       "      <td>320103.0</td>\n",
       "      <td>6</td>\n",
       "      <td>June</td>\n",
       "      <td>54</td>\n",
       "      <td>104</td>\n",
       "      <td>422074.625000</td>\n",
       "      <td>407556.229104</td>\n",
       "      <td>423858.478268</td>\n",
       "      <td>103755.478268</td>\n",
       "    </tr>\n",
       "    <tr>\n",
       "      <th>54</th>\n",
       "      <td>1987-07-01</td>\n",
       "      <td>451779.0</td>\n",
       "      <td>7</td>\n",
       "      <td>July</td>\n",
       "      <td>55</td>\n",
       "      <td>107</td>\n",
       "      <td>NaN</td>\n",
       "      <td>NaN</td>\n",
       "      <td>NaN</td>\n",
       "      <td>NaN</td>\n",
       "    </tr>\n",
       "    <tr>\n",
       "      <th>55</th>\n",
       "      <td>1987-08-01</td>\n",
       "      <td>249482.0</td>\n",
       "      <td>8</td>\n",
       "      <td>August</td>\n",
       "      <td>56</td>\n",
       "      <td>81</td>\n",
       "      <td>NaN</td>\n",
       "      <td>NaN</td>\n",
       "      <td>NaN</td>\n",
       "      <td>NaN</td>\n",
       "    </tr>\n",
       "    <tr>\n",
       "      <th>56</th>\n",
       "      <td>1987-09-01</td>\n",
       "      <td>744583.0</td>\n",
       "      <td>9</td>\n",
       "      <td>September</td>\n",
       "      <td>57</td>\n",
       "      <td>113</td>\n",
       "      <td>NaN</td>\n",
       "      <td>NaN</td>\n",
       "      <td>NaN</td>\n",
       "      <td>NaN</td>\n",
       "    </tr>\n",
       "    <tr>\n",
       "      <th>57</th>\n",
       "      <td>1987-10-01</td>\n",
       "      <td>421186.0</td>\n",
       "      <td>10</td>\n",
       "      <td>October</td>\n",
       "      <td>58</td>\n",
       "      <td>97</td>\n",
       "      <td>NaN</td>\n",
       "      <td>NaN</td>\n",
       "      <td>NaN</td>\n",
       "      <td>NaN</td>\n",
       "    </tr>\n",
       "    <tr>\n",
       "      <th>58</th>\n",
       "      <td>1987-11-01</td>\n",
       "      <td>397367.0</td>\n",
       "      <td>11</td>\n",
       "      <td>November</td>\n",
       "      <td>59</td>\n",
       "      <td>95</td>\n",
       "      <td>NaN</td>\n",
       "      <td>NaN</td>\n",
       "      <td>NaN</td>\n",
       "      <td>NaN</td>\n",
       "    </tr>\n",
       "    <tr>\n",
       "      <th>59</th>\n",
       "      <td>1987-12-01</td>\n",
       "      <td>269096.0</td>\n",
       "      <td>12</td>\n",
       "      <td>December</td>\n",
       "      <td>60</td>\n",
       "      <td>65</td>\n",
       "      <td>NaN</td>\n",
       "      <td>NaN</td>\n",
       "      <td>NaN</td>\n",
       "      <td>NaN</td>\n",
       "    </tr>\n",
       "  </tbody>\n",
       "</table>\n",
       "</div>"
      ],
      "text/plain": [
       "        Month  Case Shipments  Month of year Month name  Seq month number  \\\n",
       "12 1984-01-01        425075.0              1    January                13   \n",
       "13 1984-02-01        315305.0              2   February                14   \n",
       "14 1984-03-01        367286.0              3      March                15   \n",
       "15 1984-04-01        429432.0              4      April                16   \n",
       "16 1984-05-01        347874.0              5        May                17   \n",
       "17 1984-06-01        435529.0              6       June                18   \n",
       "18 1984-07-01        299403.0              7       July                19   \n",
       "19 1984-08-01        296505.0              8     August                20   \n",
       "20 1984-09-01        426701.0              9  September                21   \n",
       "21 1984-10-01        329722.0             10    October                22   \n",
       "22 1984-11-01        281783.0             11   November                23   \n",
       "23 1984-12-01        166391.0             12   December                24   \n",
       "24 1985-01-01        629402.0              1    January                25   \n",
       "25 1985-02-01        263467.0              2   February                26   \n",
       "26 1985-03-01        398320.0              3      March                27   \n",
       "27 1985-04-01        376569.0              4      April                28   \n",
       "28 1985-05-01        444404.0              5        May                29   \n",
       "29 1985-06-01        386986.0              6       June                30   \n",
       "30 1985-07-01        414314.0              7       July                31   \n",
       "31 1985-08-01        253493.0              8     August                32   \n",
       "32 1985-09-01        484365.0              9  September                33   \n",
       "33 1985-10-01        305989.0             10    October                34   \n",
       "34 1985-11-01        315407.0             11   November                35   \n",
       "35 1985-12-01        182784.0             12   December                36   \n",
       "36 1986-01-01        655748.0              1    January                37   \n",
       "37 1986-02-01        270483.0              2   February                38   \n",
       "38 1986-03-01        365058.0              3      March                39   \n",
       "39 1986-04-01        313135.0              4      April                40   \n",
       "40 1986-05-01        528210.0              5        May                41   \n",
       "41 1986-06-01        379856.0              6       June                42   \n",
       "42 1986-07-01        472058.0              7       July                43   \n",
       "43 1986-08-01        254516.0              8     August                44   \n",
       "44 1986-09-01        551354.0              9  September                45   \n",
       "45 1986-10-01        335826.0             10    October                46   \n",
       "46 1986-11-01        320408.0             11   November                47   \n",
       "47 1986-12-01        276901.0             12   December                48   \n",
       "48 1987-01-01        455136.0              1    January                49   \n",
       "49 1987-02-01        247570.0              2   February                50   \n",
       "50 1987-03-01        622204.0              3      March                51   \n",
       "51 1987-04-01        429331.0              4      April                52   \n",
       "52 1987-05-01        453156.0              5        May                53   \n",
       "53 1987-06-01        320103.0              6       June                54   \n",
       "54 1987-07-01        451779.0              7       July                55   \n",
       "55 1987-08-01        249482.0              8     August                56   \n",
       "56 1987-09-01        744583.0              9  September                57   \n",
       "57 1987-10-01        421186.0             10    October                58   \n",
       "58 1987-11-01        397367.0             11   November                59   \n",
       "59 1987-12-01        269096.0             12   December                60   \n",
       "\n",
       "    Industry SI  Deseasonalized Case Shipments  \\\n",
       "12          113                            NaN   \n",
       "13           98                            NaN   \n",
       "14          102                            NaN   \n",
       "15          107                            NaN   \n",
       "16          119                            NaN   \n",
       "17          104                            NaN   \n",
       "18          107                  351930.791667   \n",
       "19           81                  358284.500000   \n",
       "20          113                  357417.666667   \n",
       "21           97                  356508.125000   \n",
       "22           95                  358327.583333   \n",
       "23           65                  360327.041667   \n",
       "24          113                  363092.375000   \n",
       "25           98                  366088.166667   \n",
       "26          102                  366698.666667   \n",
       "27          107                  368112.458333   \n",
       "28          119                  368524.583333   \n",
       "29          104                  370608.625000   \n",
       "30          107                  372389.416667   \n",
       "31           81                  373779.500000   \n",
       "32          113                  372685.916667   \n",
       "33           97                  368656.916667   \n",
       "34           95                  369505.750000   \n",
       "35           65                  372700.583333   \n",
       "36          113                  374809.500000   \n",
       "37           98                  377258.125000   \n",
       "38          102                  380091.958333   \n",
       "39          107                  384126.375000   \n",
       "40          119                  385577.958333   \n",
       "41          104                  389707.875000   \n",
       "42          107                  385270.583333   \n",
       "43           81                  375957.041667   \n",
       "44          113                  385716.750000   \n",
       "45           97                  401272.666667   \n",
       "46           95                  402986.916667   \n",
       "47           65                  397369.958333   \n",
       "48          113                  394035.291667   \n",
       "49           98                  392980.583333   \n",
       "50          102                  400822.041667   \n",
       "51          107                  412429.916667   \n",
       "52          119                  419193.208333   \n",
       "53          104                  422074.625000   \n",
       "54          107                            NaN   \n",
       "55           81                            NaN   \n",
       "56          113                            NaN   \n",
       "57           97                            NaN   \n",
       "58           95                            NaN   \n",
       "59           65                            NaN   \n",
       "\n",
       "    M1 Predicted Deseasonalized Case Shipments  M1 Predicted Case Shipments  \\\n",
       "12                                         NaN                          NaN   \n",
       "13                                         NaN                          NaN   \n",
       "14                                         NaN                          NaN   \n",
       "15                                         NaN                          NaN   \n",
       "16                                         NaN                          NaN   \n",
       "17                                         NaN                          NaN   \n",
       "18                               351183.773211                375766.637335   \n",
       "19                               352794.414808                285763.475994   \n",
       "20                               354405.056405                400477.713737   \n",
       "21                               356015.698002                345335.227062   \n",
       "22                               357626.339599                339745.022619   \n",
       "23                               359236.981195                233504.037777   \n",
       "24                               360847.622792                407757.813755   \n",
       "25                               362458.264389                355209.099102   \n",
       "26                               364068.905986                371350.284106   \n",
       "27                               365679.547583                391277.115914   \n",
       "28                               367290.189180                437075.325124   \n",
       "29                               368900.830777                383656.864008   \n",
       "30                               370511.472374                396447.275440   \n",
       "31                               372122.113971                301418.912317   \n",
       "32                               373732.755568                422318.013792   \n",
       "33                               375343.397165                364083.095250   \n",
       "34                               376954.038762                358106.336824   \n",
       "35                               378564.680359                246067.042233   \n",
       "36                               380175.321956                429598.113810   \n",
       "37                               381785.963553                374150.244282   \n",
       "38                               383396.605150                391064.537253   \n",
       "39                               385007.246747                411957.754019   \n",
       "40                               386617.888344                460075.287129   \n",
       "41                               388228.529941                403757.671138   \n",
       "42                               389839.171538                417127.913545   \n",
       "43                               391449.813135                317074.348639   \n",
       "44                               393060.454732                444158.313847   \n",
       "45                               394671.096328                382830.963439   \n",
       "46                               396281.737925                376467.651029   \n",
       "47                               397892.379522                258630.046690   \n",
       "48                               399503.021119                451438.413865   \n",
       "49                               401113.662716                393091.389462   \n",
       "50                               402724.304313                410778.790400   \n",
       "51                               404334.945910                432638.392124   \n",
       "52                               405945.587507                483075.249134   \n",
       "53                               407556.229104                423858.478268   \n",
       "54                                         NaN                          NaN   \n",
       "55                                         NaN                          NaN   \n",
       "56                                         NaN                          NaN   \n",
       "57                                         NaN                          NaN   \n",
       "58                                         NaN                          NaN   \n",
       "59                                         NaN                          NaN   \n",
       "\n",
       "     M1 Abs Error  \n",
       "12            NaN  \n",
       "13            NaN  \n",
       "14            NaN  \n",
       "15            NaN  \n",
       "16            NaN  \n",
       "17            NaN  \n",
       "18   76363.637335  \n",
       "19   10741.524006  \n",
       "20   26223.286263  \n",
       "21   15613.227062  \n",
       "22   57962.022619  \n",
       "23   67113.037777  \n",
       "24  221644.186245  \n",
       "25   91742.099102  \n",
       "26   26969.715894  \n",
       "27   14708.115914  \n",
       "28    7328.674876  \n",
       "29    3329.135992  \n",
       "30   17866.724560  \n",
       "31   47925.912317  \n",
       "32   62046.986208  \n",
       "33   58094.095250  \n",
       "34   42699.336824  \n",
       "35   63283.042233  \n",
       "36  226149.886190  \n",
       "37  103667.244282  \n",
       "38   26006.537253  \n",
       "39   98822.754019  \n",
       "40   68134.712871  \n",
       "41   23901.671138  \n",
       "42   54930.086455  \n",
       "43   62558.348639  \n",
       "44  107195.686153  \n",
       "45   47004.963439  \n",
       "46   56059.651029  \n",
       "47   18270.953310  \n",
       "48    3697.586135  \n",
       "49  145521.389462  \n",
       "50  211425.209600  \n",
       "51    3307.392124  \n",
       "52   29919.249134  \n",
       "53  103755.478268  \n",
       "54            NaN  \n",
       "55            NaN  \n",
       "56            NaN  \n",
       "57            NaN  \n",
       "58            NaN  \n",
       "59            NaN  "
      ]
     },
     "execution_count": 31,
     "metadata": {},
     "output_type": "execute_result"
    }
   ],
   "source": [
    "harmon"
   ]
  },
  {
   "cell_type": "markdown",
   "metadata": {},
   "source": [
    "### Plot case shipments and forecasted case shipments"
   ]
  },
  {
   "cell_type": "code",
   "execution_count": 32,
   "metadata": {},
   "outputs": [
    {
     "data": {
      "application/vnd.plotly.v1+json": {
       "config": {
        "plotlyServerURL": "https://plot.ly"
       },
       "data": [
        {
         "mode": "lines+markers",
         "name": "Case Shipments",
         "type": "scatter",
         "x": [
          13,
          14,
          15,
          16,
          17,
          18,
          19,
          20,
          21,
          22,
          23,
          24,
          25,
          26,
          27,
          28,
          29,
          30,
          31,
          32,
          33,
          34,
          35,
          36,
          37,
          38,
          39,
          40,
          41,
          42,
          43,
          44,
          45,
          46,
          47,
          48,
          49,
          50,
          51,
          52,
          53,
          54,
          55,
          56,
          57,
          58,
          59,
          60
         ],
         "xaxis": "x",
         "y": [
          425075,
          315305,
          367286,
          429432,
          347874,
          435529,
          299403,
          296505,
          426701,
          329722,
          281783,
          166391,
          629402,
          263467,
          398320,
          376569,
          444404,
          386986,
          414314,
          253493,
          484365,
          305989,
          315407,
          182784,
          655748,
          270483,
          365058,
          313135,
          528210,
          379856,
          472058,
          254516,
          551354,
          335826,
          320408,
          276901,
          455136,
          247570,
          622204,
          429331,
          453156,
          320103,
          451779,
          249482,
          744583,
          421186,
          397367,
          269096
         ],
         "yaxis": "y"
        },
        {
         "mode": "lines+markers",
         "name": "M1 Predicted Case Shipments",
         "type": "scatter",
         "x": [
          13,
          14,
          15,
          16,
          17,
          18,
          19,
          20,
          21,
          22,
          23,
          24,
          25,
          26,
          27,
          28,
          29,
          30,
          31,
          32,
          33,
          34,
          35,
          36,
          37,
          38,
          39,
          40,
          41,
          42,
          43,
          44,
          45,
          46,
          47,
          48,
          49,
          50,
          51,
          52,
          53,
          54,
          55,
          56,
          57,
          58,
          59,
          60
         ],
         "xaxis": "x",
         "y": [
          null,
          null,
          null,
          null,
          null,
          null,
          375766.63733546034,
          285763.47599420836,
          400477.71373721916,
          345335.2270615257,
          339745.0226186006,
          233504.0377770627,
          407757.8137554517,
          355209.09910160146,
          371350.28410607023,
          391277.1159141283,
          437075.32512449933,
          383656.8640082939,
          396447.27544035093,
          301418.91231660225,
          422318.0137919167,
          364083.0952500714,
          358106.33682387735,
          246067.04223330467,
          429598.11381014925,
          374150.24428178166,
          391064.53725278843,
          411957.75401901896,
          460075.28712900385,
          403757.671138281,
          417127.9135452416,
          317074.3486389961,
          444158.3138466143,
          382830.9634386171,
          376467.6510291541,
          258630.04668954664,
          451438.4138648468,
          393091.38946196187,
          410778.7903995066,
          432638.39212390955,
          483075.24913350836,
          423858.4782682682,
          null,
          null,
          null,
          null,
          null,
          null
         ],
         "yaxis": "y"
        }
       ],
       "layout": {
        "template": {
         "data": {
          "bar": [
           {
            "error_x": {
             "color": "#2a3f5f"
            },
            "error_y": {
             "color": "#2a3f5f"
            },
            "marker": {
             "line": {
              "color": "#E5ECF6",
              "width": 0.5
             }
            },
            "type": "bar"
           }
          ],
          "barpolar": [
           {
            "marker": {
             "line": {
              "color": "#E5ECF6",
              "width": 0.5
             }
            },
            "type": "barpolar"
           }
          ],
          "carpet": [
           {
            "aaxis": {
             "endlinecolor": "#2a3f5f",
             "gridcolor": "white",
             "linecolor": "white",
             "minorgridcolor": "white",
             "startlinecolor": "#2a3f5f"
            },
            "baxis": {
             "endlinecolor": "#2a3f5f",
             "gridcolor": "white",
             "linecolor": "white",
             "minorgridcolor": "white",
             "startlinecolor": "#2a3f5f"
            },
            "type": "carpet"
           }
          ],
          "choropleth": [
           {
            "colorbar": {
             "outlinewidth": 0,
             "ticks": ""
            },
            "type": "choropleth"
           }
          ],
          "contour": [
           {
            "colorbar": {
             "outlinewidth": 0,
             "ticks": ""
            },
            "colorscale": [
             [
              0,
              "#0d0887"
             ],
             [
              0.1111111111111111,
              "#46039f"
             ],
             [
              0.2222222222222222,
              "#7201a8"
             ],
             [
              0.3333333333333333,
              "#9c179e"
             ],
             [
              0.4444444444444444,
              "#bd3786"
             ],
             [
              0.5555555555555556,
              "#d8576b"
             ],
             [
              0.6666666666666666,
              "#ed7953"
             ],
             [
              0.7777777777777778,
              "#fb9f3a"
             ],
             [
              0.8888888888888888,
              "#fdca26"
             ],
             [
              1,
              "#f0f921"
             ]
            ],
            "type": "contour"
           }
          ],
          "contourcarpet": [
           {
            "colorbar": {
             "outlinewidth": 0,
             "ticks": ""
            },
            "type": "contourcarpet"
           }
          ],
          "heatmap": [
           {
            "colorbar": {
             "outlinewidth": 0,
             "ticks": ""
            },
            "colorscale": [
             [
              0,
              "#0d0887"
             ],
             [
              0.1111111111111111,
              "#46039f"
             ],
             [
              0.2222222222222222,
              "#7201a8"
             ],
             [
              0.3333333333333333,
              "#9c179e"
             ],
             [
              0.4444444444444444,
              "#bd3786"
             ],
             [
              0.5555555555555556,
              "#d8576b"
             ],
             [
              0.6666666666666666,
              "#ed7953"
             ],
             [
              0.7777777777777778,
              "#fb9f3a"
             ],
             [
              0.8888888888888888,
              "#fdca26"
             ],
             [
              1,
              "#f0f921"
             ]
            ],
            "type": "heatmap"
           }
          ],
          "heatmapgl": [
           {
            "colorbar": {
             "outlinewidth": 0,
             "ticks": ""
            },
            "colorscale": [
             [
              0,
              "#0d0887"
             ],
             [
              0.1111111111111111,
              "#46039f"
             ],
             [
              0.2222222222222222,
              "#7201a8"
             ],
             [
              0.3333333333333333,
              "#9c179e"
             ],
             [
              0.4444444444444444,
              "#bd3786"
             ],
             [
              0.5555555555555556,
              "#d8576b"
             ],
             [
              0.6666666666666666,
              "#ed7953"
             ],
             [
              0.7777777777777778,
              "#fb9f3a"
             ],
             [
              0.8888888888888888,
              "#fdca26"
             ],
             [
              1,
              "#f0f921"
             ]
            ],
            "type": "heatmapgl"
           }
          ],
          "histogram": [
           {
            "marker": {
             "colorbar": {
              "outlinewidth": 0,
              "ticks": ""
             }
            },
            "type": "histogram"
           }
          ],
          "histogram2d": [
           {
            "colorbar": {
             "outlinewidth": 0,
             "ticks": ""
            },
            "colorscale": [
             [
              0,
              "#0d0887"
             ],
             [
              0.1111111111111111,
              "#46039f"
             ],
             [
              0.2222222222222222,
              "#7201a8"
             ],
             [
              0.3333333333333333,
              "#9c179e"
             ],
             [
              0.4444444444444444,
              "#bd3786"
             ],
             [
              0.5555555555555556,
              "#d8576b"
             ],
             [
              0.6666666666666666,
              "#ed7953"
             ],
             [
              0.7777777777777778,
              "#fb9f3a"
             ],
             [
              0.8888888888888888,
              "#fdca26"
             ],
             [
              1,
              "#f0f921"
             ]
            ],
            "type": "histogram2d"
           }
          ],
          "histogram2dcontour": [
           {
            "colorbar": {
             "outlinewidth": 0,
             "ticks": ""
            },
            "colorscale": [
             [
              0,
              "#0d0887"
             ],
             [
              0.1111111111111111,
              "#46039f"
             ],
             [
              0.2222222222222222,
              "#7201a8"
             ],
             [
              0.3333333333333333,
              "#9c179e"
             ],
             [
              0.4444444444444444,
              "#bd3786"
             ],
             [
              0.5555555555555556,
              "#d8576b"
             ],
             [
              0.6666666666666666,
              "#ed7953"
             ],
             [
              0.7777777777777778,
              "#fb9f3a"
             ],
             [
              0.8888888888888888,
              "#fdca26"
             ],
             [
              1,
              "#f0f921"
             ]
            ],
            "type": "histogram2dcontour"
           }
          ],
          "mesh3d": [
           {
            "colorbar": {
             "outlinewidth": 0,
             "ticks": ""
            },
            "type": "mesh3d"
           }
          ],
          "parcoords": [
           {
            "line": {
             "colorbar": {
              "outlinewidth": 0,
              "ticks": ""
             }
            },
            "type": "parcoords"
           }
          ],
          "pie": [
           {
            "automargin": true,
            "type": "pie"
           }
          ],
          "scatter": [
           {
            "marker": {
             "colorbar": {
              "outlinewidth": 0,
              "ticks": ""
             }
            },
            "type": "scatter"
           }
          ],
          "scatter3d": [
           {
            "line": {
             "colorbar": {
              "outlinewidth": 0,
              "ticks": ""
             }
            },
            "marker": {
             "colorbar": {
              "outlinewidth": 0,
              "ticks": ""
             }
            },
            "type": "scatter3d"
           }
          ],
          "scattercarpet": [
           {
            "marker": {
             "colorbar": {
              "outlinewidth": 0,
              "ticks": ""
             }
            },
            "type": "scattercarpet"
           }
          ],
          "scattergeo": [
           {
            "marker": {
             "colorbar": {
              "outlinewidth": 0,
              "ticks": ""
             }
            },
            "type": "scattergeo"
           }
          ],
          "scattergl": [
           {
            "marker": {
             "colorbar": {
              "outlinewidth": 0,
              "ticks": ""
             }
            },
            "type": "scattergl"
           }
          ],
          "scattermapbox": [
           {
            "marker": {
             "colorbar": {
              "outlinewidth": 0,
              "ticks": ""
             }
            },
            "type": "scattermapbox"
           }
          ],
          "scatterpolar": [
           {
            "marker": {
             "colorbar": {
              "outlinewidth": 0,
              "ticks": ""
             }
            },
            "type": "scatterpolar"
           }
          ],
          "scatterpolargl": [
           {
            "marker": {
             "colorbar": {
              "outlinewidth": 0,
              "ticks": ""
             }
            },
            "type": "scatterpolargl"
           }
          ],
          "scatterternary": [
           {
            "marker": {
             "colorbar": {
              "outlinewidth": 0,
              "ticks": ""
             }
            },
            "type": "scatterternary"
           }
          ],
          "surface": [
           {
            "colorbar": {
             "outlinewidth": 0,
             "ticks": ""
            },
            "colorscale": [
             [
              0,
              "#0d0887"
             ],
             [
              0.1111111111111111,
              "#46039f"
             ],
             [
              0.2222222222222222,
              "#7201a8"
             ],
             [
              0.3333333333333333,
              "#9c179e"
             ],
             [
              0.4444444444444444,
              "#bd3786"
             ],
             [
              0.5555555555555556,
              "#d8576b"
             ],
             [
              0.6666666666666666,
              "#ed7953"
             ],
             [
              0.7777777777777778,
              "#fb9f3a"
             ],
             [
              0.8888888888888888,
              "#fdca26"
             ],
             [
              1,
              "#f0f921"
             ]
            ],
            "type": "surface"
           }
          ],
          "table": [
           {
            "cells": {
             "fill": {
              "color": "#EBF0F8"
             },
             "line": {
              "color": "white"
             }
            },
            "header": {
             "fill": {
              "color": "#C8D4E3"
             },
             "line": {
              "color": "white"
             }
            },
            "type": "table"
           }
          ]
         },
         "layout": {
          "annotationdefaults": {
           "arrowcolor": "#2a3f5f",
           "arrowhead": 0,
           "arrowwidth": 1
          },
          "coloraxis": {
           "colorbar": {
            "outlinewidth": 0,
            "ticks": ""
           }
          },
          "colorscale": {
           "diverging": [
            [
             0,
             "#8e0152"
            ],
            [
             0.1,
             "#c51b7d"
            ],
            [
             0.2,
             "#de77ae"
            ],
            [
             0.3,
             "#f1b6da"
            ],
            [
             0.4,
             "#fde0ef"
            ],
            [
             0.5,
             "#f7f7f7"
            ],
            [
             0.6,
             "#e6f5d0"
            ],
            [
             0.7,
             "#b8e186"
            ],
            [
             0.8,
             "#7fbc41"
            ],
            [
             0.9,
             "#4d9221"
            ],
            [
             1,
             "#276419"
            ]
           ],
           "sequential": [
            [
             0,
             "#0d0887"
            ],
            [
             0.1111111111111111,
             "#46039f"
            ],
            [
             0.2222222222222222,
             "#7201a8"
            ],
            [
             0.3333333333333333,
             "#9c179e"
            ],
            [
             0.4444444444444444,
             "#bd3786"
            ],
            [
             0.5555555555555556,
             "#d8576b"
            ],
            [
             0.6666666666666666,
             "#ed7953"
            ],
            [
             0.7777777777777778,
             "#fb9f3a"
            ],
            [
             0.8888888888888888,
             "#fdca26"
            ],
            [
             1,
             "#f0f921"
            ]
           ],
           "sequentialminus": [
            [
             0,
             "#0d0887"
            ],
            [
             0.1111111111111111,
             "#46039f"
            ],
            [
             0.2222222222222222,
             "#7201a8"
            ],
            [
             0.3333333333333333,
             "#9c179e"
            ],
            [
             0.4444444444444444,
             "#bd3786"
            ],
            [
             0.5555555555555556,
             "#d8576b"
            ],
            [
             0.6666666666666666,
             "#ed7953"
            ],
            [
             0.7777777777777778,
             "#fb9f3a"
            ],
            [
             0.8888888888888888,
             "#fdca26"
            ],
            [
             1,
             "#f0f921"
            ]
           ]
          },
          "colorway": [
           "#636efa",
           "#EF553B",
           "#00cc96",
           "#ab63fa",
           "#FFA15A",
           "#19d3f3",
           "#FF6692",
           "#B6E880",
           "#FF97FF",
           "#FECB52"
          ],
          "font": {
           "color": "#2a3f5f"
          },
          "geo": {
           "bgcolor": "white",
           "lakecolor": "white",
           "landcolor": "#E5ECF6",
           "showlakes": true,
           "showland": true,
           "subunitcolor": "white"
          },
          "hoverlabel": {
           "align": "left"
          },
          "hovermode": "closest",
          "mapbox": {
           "style": "light"
          },
          "paper_bgcolor": "white",
          "plot_bgcolor": "#E5ECF6",
          "polar": {
           "angularaxis": {
            "gridcolor": "white",
            "linecolor": "white",
            "ticks": ""
           },
           "bgcolor": "#E5ECF6",
           "radialaxis": {
            "gridcolor": "white",
            "linecolor": "white",
            "ticks": ""
           }
          },
          "scene": {
           "xaxis": {
            "backgroundcolor": "#E5ECF6",
            "gridcolor": "white",
            "gridwidth": 2,
            "linecolor": "white",
            "showbackground": true,
            "ticks": "",
            "zerolinecolor": "white"
           },
           "yaxis": {
            "backgroundcolor": "#E5ECF6",
            "gridcolor": "white",
            "gridwidth": 2,
            "linecolor": "white",
            "showbackground": true,
            "ticks": "",
            "zerolinecolor": "white"
           },
           "zaxis": {
            "backgroundcolor": "#E5ECF6",
            "gridcolor": "white",
            "gridwidth": 2,
            "linecolor": "white",
            "showbackground": true,
            "ticks": "",
            "zerolinecolor": "white"
           }
          },
          "shapedefaults": {
           "line": {
            "color": "#2a3f5f"
           }
          },
          "ternary": {
           "aaxis": {
            "gridcolor": "white",
            "linecolor": "white",
            "ticks": ""
           },
           "baxis": {
            "gridcolor": "white",
            "linecolor": "white",
            "ticks": ""
           },
           "bgcolor": "#E5ECF6",
           "caxis": {
            "gridcolor": "white",
            "linecolor": "white",
            "ticks": ""
           }
          },
          "title": {
           "x": 0.05
          },
          "xaxis": {
           "automargin": true,
           "gridcolor": "white",
           "linecolor": "white",
           "ticks": "",
           "title": {
            "standoff": 15
           },
           "zerolinecolor": "white",
           "zerolinewidth": 2
          },
          "yaxis": {
           "automargin": true,
           "gridcolor": "white",
           "linecolor": "white",
           "ticks": "",
           "title": {
            "standoff": 15
           },
           "zerolinecolor": "white",
           "zerolinewidth": 2
          }
         }
        },
        "xaxis": {
         "anchor": "y",
         "domain": [
          0,
          0.94
         ]
        },
        "yaxis": {
         "anchor": "x",
         "domain": [
          0,
          1
         ]
        },
        "yaxis2": {
         "anchor": "x",
         "overlaying": "y",
         "side": "right"
        }
       }
      },
      "text/html": [
       "<div>                            <div id=\"6ff8cb73-300c-4324-8918-2562a1159570\" class=\"plotly-graph-div\" style=\"height:525px; width:100%;\"></div>            <script type=\"text/javascript\">                require([\"plotly\"], function(Plotly) {                    window.PLOTLYENV=window.PLOTLYENV || {};                                    if (document.getElementById(\"6ff8cb73-300c-4324-8918-2562a1159570\")) {                    Plotly.newPlot(                        \"6ff8cb73-300c-4324-8918-2562a1159570\",                        [{\"mode\": \"lines+markers\", \"name\": \"Case Shipments\", \"type\": \"scatter\", \"x\": [13, 14, 15, 16, 17, 18, 19, 20, 21, 22, 23, 24, 25, 26, 27, 28, 29, 30, 31, 32, 33, 34, 35, 36, 37, 38, 39, 40, 41, 42, 43, 44, 45, 46, 47, 48, 49, 50, 51, 52, 53, 54, 55, 56, 57, 58, 59, 60], \"xaxis\": \"x\", \"y\": [425075.0, 315305.0, 367286.0, 429432.0, 347874.0, 435529.0, 299403.0, 296505.0, 426701.0, 329722.0, 281783.0, 166391.0, 629402.0, 263467.0, 398320.0, 376569.0, 444404.0, 386986.0, 414314.0, 253493.0, 484365.0, 305989.0, 315407.0, 182784.0, 655748.0, 270483.0, 365058.0, 313135.0, 528210.0, 379856.0, 472058.0, 254516.0, 551354.0, 335826.0, 320408.0, 276901.0, 455136.0, 247570.0, 622204.0, 429331.0, 453156.0, 320103.0, 451779.0, 249482.0, 744583.0, 421186.0, 397367.0, 269096.0], \"yaxis\": \"y\"}, {\"mode\": \"lines+markers\", \"name\": \"M1 Predicted Case Shipments\", \"type\": \"scatter\", \"x\": [13, 14, 15, 16, 17, 18, 19, 20, 21, 22, 23, 24, 25, 26, 27, 28, 29, 30, 31, 32, 33, 34, 35, 36, 37, 38, 39, 40, 41, 42, 43, 44, 45, 46, 47, 48, 49, 50, 51, 52, 53, 54, 55, 56, 57, 58, 59, 60], \"xaxis\": \"x\", \"y\": [null, null, null, null, null, null, 375766.63733546034, 285763.47599420836, 400477.71373721916, 345335.2270615257, 339745.0226186006, 233504.0377770627, 407757.8137554517, 355209.09910160146, 371350.28410607023, 391277.1159141283, 437075.32512449933, 383656.8640082939, 396447.27544035093, 301418.91231660225, 422318.0137919167, 364083.0952500714, 358106.33682387735, 246067.04223330467, 429598.11381014925, 374150.24428178166, 391064.53725278843, 411957.75401901896, 460075.28712900385, 403757.671138281, 417127.9135452416, 317074.3486389961, 444158.3138466143, 382830.9634386171, 376467.6510291541, 258630.04668954664, 451438.4138648468, 393091.38946196187, 410778.7903995066, 432638.39212390955, 483075.24913350836, 423858.4782682682, null, null, null, null, null, null], \"yaxis\": \"y\"}],                        {\"template\": {\"data\": {\"bar\": [{\"error_x\": {\"color\": \"#2a3f5f\"}, \"error_y\": {\"color\": \"#2a3f5f\"}, \"marker\": {\"line\": {\"color\": \"#E5ECF6\", \"width\": 0.5}}, \"type\": \"bar\"}], \"barpolar\": [{\"marker\": {\"line\": {\"color\": \"#E5ECF6\", \"width\": 0.5}}, \"type\": \"barpolar\"}], \"carpet\": [{\"aaxis\": {\"endlinecolor\": \"#2a3f5f\", \"gridcolor\": \"white\", \"linecolor\": \"white\", \"minorgridcolor\": \"white\", \"startlinecolor\": \"#2a3f5f\"}, \"baxis\": {\"endlinecolor\": \"#2a3f5f\", \"gridcolor\": \"white\", \"linecolor\": \"white\", \"minorgridcolor\": \"white\", \"startlinecolor\": \"#2a3f5f\"}, \"type\": \"carpet\"}], \"choropleth\": [{\"colorbar\": {\"outlinewidth\": 0, \"ticks\": \"\"}, \"type\": \"choropleth\"}], \"contour\": [{\"colorbar\": {\"outlinewidth\": 0, \"ticks\": \"\"}, \"colorscale\": [[0.0, \"#0d0887\"], [0.1111111111111111, \"#46039f\"], [0.2222222222222222, \"#7201a8\"], [0.3333333333333333, \"#9c179e\"], [0.4444444444444444, \"#bd3786\"], [0.5555555555555556, \"#d8576b\"], [0.6666666666666666, \"#ed7953\"], [0.7777777777777778, \"#fb9f3a\"], [0.8888888888888888, \"#fdca26\"], [1.0, \"#f0f921\"]], \"type\": \"contour\"}], \"contourcarpet\": [{\"colorbar\": {\"outlinewidth\": 0, \"ticks\": \"\"}, \"type\": \"contourcarpet\"}], \"heatmap\": [{\"colorbar\": {\"outlinewidth\": 0, \"ticks\": \"\"}, \"colorscale\": [[0.0, \"#0d0887\"], [0.1111111111111111, \"#46039f\"], [0.2222222222222222, \"#7201a8\"], [0.3333333333333333, \"#9c179e\"], [0.4444444444444444, \"#bd3786\"], [0.5555555555555556, \"#d8576b\"], [0.6666666666666666, \"#ed7953\"], [0.7777777777777778, \"#fb9f3a\"], [0.8888888888888888, \"#fdca26\"], [1.0, \"#f0f921\"]], \"type\": \"heatmap\"}], \"heatmapgl\": [{\"colorbar\": {\"outlinewidth\": 0, \"ticks\": \"\"}, \"colorscale\": [[0.0, \"#0d0887\"], [0.1111111111111111, \"#46039f\"], [0.2222222222222222, \"#7201a8\"], [0.3333333333333333, \"#9c179e\"], [0.4444444444444444, \"#bd3786\"], [0.5555555555555556, \"#d8576b\"], [0.6666666666666666, \"#ed7953\"], [0.7777777777777778, \"#fb9f3a\"], [0.8888888888888888, \"#fdca26\"], [1.0, \"#f0f921\"]], \"type\": \"heatmapgl\"}], \"histogram\": [{\"marker\": {\"colorbar\": {\"outlinewidth\": 0, \"ticks\": \"\"}}, \"type\": \"histogram\"}], \"histogram2d\": [{\"colorbar\": {\"outlinewidth\": 0, \"ticks\": \"\"}, \"colorscale\": [[0.0, \"#0d0887\"], [0.1111111111111111, \"#46039f\"], [0.2222222222222222, \"#7201a8\"], [0.3333333333333333, \"#9c179e\"], [0.4444444444444444, \"#bd3786\"], [0.5555555555555556, \"#d8576b\"], [0.6666666666666666, \"#ed7953\"], [0.7777777777777778, \"#fb9f3a\"], [0.8888888888888888, \"#fdca26\"], [1.0, \"#f0f921\"]], \"type\": \"histogram2d\"}], \"histogram2dcontour\": [{\"colorbar\": {\"outlinewidth\": 0, \"ticks\": \"\"}, \"colorscale\": [[0.0, \"#0d0887\"], [0.1111111111111111, \"#46039f\"], [0.2222222222222222, \"#7201a8\"], [0.3333333333333333, \"#9c179e\"], [0.4444444444444444, \"#bd3786\"], [0.5555555555555556, \"#d8576b\"], [0.6666666666666666, \"#ed7953\"], [0.7777777777777778, \"#fb9f3a\"], [0.8888888888888888, \"#fdca26\"], [1.0, \"#f0f921\"]], \"type\": \"histogram2dcontour\"}], \"mesh3d\": [{\"colorbar\": {\"outlinewidth\": 0, \"ticks\": \"\"}, \"type\": \"mesh3d\"}], \"parcoords\": [{\"line\": {\"colorbar\": {\"outlinewidth\": 0, \"ticks\": \"\"}}, \"type\": \"parcoords\"}], \"pie\": [{\"automargin\": true, \"type\": \"pie\"}], \"scatter\": [{\"marker\": {\"colorbar\": {\"outlinewidth\": 0, \"ticks\": \"\"}}, \"type\": \"scatter\"}], \"scatter3d\": [{\"line\": {\"colorbar\": {\"outlinewidth\": 0, \"ticks\": \"\"}}, \"marker\": {\"colorbar\": {\"outlinewidth\": 0, \"ticks\": \"\"}}, \"type\": \"scatter3d\"}], \"scattercarpet\": [{\"marker\": {\"colorbar\": {\"outlinewidth\": 0, \"ticks\": \"\"}}, \"type\": \"scattercarpet\"}], \"scattergeo\": [{\"marker\": {\"colorbar\": {\"outlinewidth\": 0, \"ticks\": \"\"}}, \"type\": \"scattergeo\"}], \"scattergl\": [{\"marker\": {\"colorbar\": {\"outlinewidth\": 0, \"ticks\": \"\"}}, \"type\": \"scattergl\"}], \"scattermapbox\": [{\"marker\": {\"colorbar\": {\"outlinewidth\": 0, \"ticks\": \"\"}}, \"type\": \"scattermapbox\"}], \"scatterpolar\": [{\"marker\": {\"colorbar\": {\"outlinewidth\": 0, \"ticks\": \"\"}}, \"type\": \"scatterpolar\"}], \"scatterpolargl\": [{\"marker\": {\"colorbar\": {\"outlinewidth\": 0, \"ticks\": \"\"}}, \"type\": \"scatterpolargl\"}], \"scatterternary\": [{\"marker\": {\"colorbar\": {\"outlinewidth\": 0, \"ticks\": \"\"}}, \"type\": \"scatterternary\"}], \"surface\": [{\"colorbar\": {\"outlinewidth\": 0, \"ticks\": \"\"}, \"colorscale\": [[0.0, \"#0d0887\"], [0.1111111111111111, \"#46039f\"], [0.2222222222222222, \"#7201a8\"], [0.3333333333333333, \"#9c179e\"], [0.4444444444444444, \"#bd3786\"], [0.5555555555555556, \"#d8576b\"], [0.6666666666666666, \"#ed7953\"], [0.7777777777777778, \"#fb9f3a\"], [0.8888888888888888, \"#fdca26\"], [1.0, \"#f0f921\"]], \"type\": \"surface\"}], \"table\": [{\"cells\": {\"fill\": {\"color\": \"#EBF0F8\"}, \"line\": {\"color\": \"white\"}}, \"header\": {\"fill\": {\"color\": \"#C8D4E3\"}, \"line\": {\"color\": \"white\"}}, \"type\": \"table\"}]}, \"layout\": {\"annotationdefaults\": {\"arrowcolor\": \"#2a3f5f\", \"arrowhead\": 0, \"arrowwidth\": 1}, \"coloraxis\": {\"colorbar\": {\"outlinewidth\": 0, \"ticks\": \"\"}}, \"colorscale\": {\"diverging\": [[0, \"#8e0152\"], [0.1, \"#c51b7d\"], [0.2, \"#de77ae\"], [0.3, \"#f1b6da\"], [0.4, \"#fde0ef\"], [0.5, \"#f7f7f7\"], [0.6, \"#e6f5d0\"], [0.7, \"#b8e186\"], [0.8, \"#7fbc41\"], [0.9, \"#4d9221\"], [1, \"#276419\"]], \"sequential\": [[0.0, \"#0d0887\"], [0.1111111111111111, \"#46039f\"], [0.2222222222222222, \"#7201a8\"], [0.3333333333333333, \"#9c179e\"], [0.4444444444444444, \"#bd3786\"], [0.5555555555555556, \"#d8576b\"], [0.6666666666666666, \"#ed7953\"], [0.7777777777777778, \"#fb9f3a\"], [0.8888888888888888, \"#fdca26\"], [1.0, \"#f0f921\"]], \"sequentialminus\": [[0.0, \"#0d0887\"], [0.1111111111111111, \"#46039f\"], [0.2222222222222222, \"#7201a8\"], [0.3333333333333333, \"#9c179e\"], [0.4444444444444444, \"#bd3786\"], [0.5555555555555556, \"#d8576b\"], [0.6666666666666666, \"#ed7953\"], [0.7777777777777778, \"#fb9f3a\"], [0.8888888888888888, \"#fdca26\"], [1.0, \"#f0f921\"]]}, \"colorway\": [\"#636efa\", \"#EF553B\", \"#00cc96\", \"#ab63fa\", \"#FFA15A\", \"#19d3f3\", \"#FF6692\", \"#B6E880\", \"#FF97FF\", \"#FECB52\"], \"font\": {\"color\": \"#2a3f5f\"}, \"geo\": {\"bgcolor\": \"white\", \"lakecolor\": \"white\", \"landcolor\": \"#E5ECF6\", \"showlakes\": true, \"showland\": true, \"subunitcolor\": \"white\"}, \"hoverlabel\": {\"align\": \"left\"}, \"hovermode\": \"closest\", \"mapbox\": {\"style\": \"light\"}, \"paper_bgcolor\": \"white\", \"plot_bgcolor\": \"#E5ECF6\", \"polar\": {\"angularaxis\": {\"gridcolor\": \"white\", \"linecolor\": \"white\", \"ticks\": \"\"}, \"bgcolor\": \"#E5ECF6\", \"radialaxis\": {\"gridcolor\": \"white\", \"linecolor\": \"white\", \"ticks\": \"\"}}, \"scene\": {\"xaxis\": {\"backgroundcolor\": \"#E5ECF6\", \"gridcolor\": \"white\", \"gridwidth\": 2, \"linecolor\": \"white\", \"showbackground\": true, \"ticks\": \"\", \"zerolinecolor\": \"white\"}, \"yaxis\": {\"backgroundcolor\": \"#E5ECF6\", \"gridcolor\": \"white\", \"gridwidth\": 2, \"linecolor\": \"white\", \"showbackground\": true, \"ticks\": \"\", \"zerolinecolor\": \"white\"}, \"zaxis\": {\"backgroundcolor\": \"#E5ECF6\", \"gridcolor\": \"white\", \"gridwidth\": 2, \"linecolor\": \"white\", \"showbackground\": true, \"ticks\": \"\", \"zerolinecolor\": \"white\"}}, \"shapedefaults\": {\"line\": {\"color\": \"#2a3f5f\"}}, \"ternary\": {\"aaxis\": {\"gridcolor\": \"white\", \"linecolor\": \"white\", \"ticks\": \"\"}, \"baxis\": {\"gridcolor\": \"white\", \"linecolor\": \"white\", \"ticks\": \"\"}, \"bgcolor\": \"#E5ECF6\", \"caxis\": {\"gridcolor\": \"white\", \"linecolor\": \"white\", \"ticks\": \"\"}}, \"title\": {\"x\": 0.05}, \"xaxis\": {\"automargin\": true, \"gridcolor\": \"white\", \"linecolor\": \"white\", \"ticks\": \"\", \"title\": {\"standoff\": 15}, \"zerolinecolor\": \"white\", \"zerolinewidth\": 2}, \"yaxis\": {\"automargin\": true, \"gridcolor\": \"white\", \"linecolor\": \"white\", \"ticks\": \"\", \"title\": {\"standoff\": 15}, \"zerolinecolor\": \"white\", \"zerolinewidth\": 2}}}, \"xaxis\": {\"anchor\": \"y\", \"domain\": [0.0, 0.94]}, \"yaxis\": {\"anchor\": \"x\", \"domain\": [0.0, 1.0]}, \"yaxis2\": {\"anchor\": \"x\", \"overlaying\": \"y\", \"side\": \"right\"}},                        {\"responsive\": true}                    ).then(function(){\n",
       "                            \n",
       "var gd = document.getElementById('6ff8cb73-300c-4324-8918-2562a1159570');\n",
       "var x = new MutationObserver(function (mutations, observer) {{\n",
       "        var display = window.getComputedStyle(gd).display;\n",
       "        if (!display || display === 'none') {{\n",
       "            console.log([gd, 'removed!']);\n",
       "            Plotly.purge(gd);\n",
       "            observer.disconnect();\n",
       "        }}\n",
       "}});\n",
       "\n",
       "// Listen for the removal of the full notebook cells\n",
       "var notebookContainer = gd.closest('#notebook-container');\n",
       "if (notebookContainer) {{\n",
       "    x.observe(notebookContainer, {childList: true});\n",
       "}}\n",
       "\n",
       "// Listen for the clearing of the current output cell\n",
       "var outputEl = gd.closest('.output');\n",
       "if (outputEl) {{\n",
       "    x.observe(outputEl, {childList: true});\n",
       "}}\n",
       "\n",
       "                        })                };                });            </script>        </div>"
      ]
     },
     "metadata": {},
     "output_type": "display_data"
    }
   ],
   "source": [
    "x=harmon['Seq month number']\n",
    "y1=harmon['Case Shipments']\n",
    "y2=harmon['M1 Predicted Case Shipments']\n",
    "#fig = go.Figure()\n",
    "fig = make_subplots(specs=[[{\"secondary_y\": True}]])\n",
    "fig.add_trace(go.Scatter(x=x, y=y1,\n",
    "                    mode='lines+markers', name='Case Shipments'), secondary_y=False)\n",
    "fig.add_trace(go.Scatter(x=x, y=y2,\n",
    "                    mode='lines+markers', name='M1 Predicted Case Shipments'), secondary_y=False)\n",
    "fig.show()"
   ]
  },
  {
   "cell_type": "markdown",
   "metadata": {},
   "source": [
    "## Time series with data-driven seasonal index"
   ]
  },
  {
   "cell_type": "markdown",
   "metadata": {},
   "source": [
    "### Create data driven seasonal factors"
   ]
  },
  {
   "cell_type": "code",
   "execution_count": 33,
   "metadata": {},
   "outputs": [],
   "source": [
    "harmon['Data-driven seasonal factor']=(harmon['Case Shipments']/harmon['Deseasonalized Case Shipments'])*100"
   ]
  },
  {
   "cell_type": "markdown",
   "metadata": {},
   "source": [
    "### Check data"
   ]
  },
  {
   "cell_type": "code",
   "execution_count": 34,
   "metadata": {},
   "outputs": [
    {
     "data": {
      "text/html": [
       "<div>\n",
       "<style scoped>\n",
       "    .dataframe tbody tr th:only-of-type {\n",
       "        vertical-align: middle;\n",
       "    }\n",
       "\n",
       "    .dataframe tbody tr th {\n",
       "        vertical-align: top;\n",
       "    }\n",
       "\n",
       "    .dataframe thead th {\n",
       "        text-align: right;\n",
       "    }\n",
       "</style>\n",
       "<table border=\"1\" class=\"dataframe\">\n",
       "  <thead>\n",
       "    <tr style=\"text-align: right;\">\n",
       "      <th></th>\n",
       "      <th>Month</th>\n",
       "      <th>Case Shipments</th>\n",
       "      <th>Month of year</th>\n",
       "      <th>Month name</th>\n",
       "      <th>Seq month number</th>\n",
       "      <th>Industry SI</th>\n",
       "      <th>Deseasonalized Case Shipments</th>\n",
       "      <th>M1 Predicted Deseasonalized Case Shipments</th>\n",
       "      <th>M1 Predicted Case Shipments</th>\n",
       "      <th>M1 Abs Error</th>\n",
       "      <th>Data-driven seasonal factor</th>\n",
       "    </tr>\n",
       "  </thead>\n",
       "  <tbody>\n",
       "    <tr>\n",
       "      <th>12</th>\n",
       "      <td>1984-01-01</td>\n",
       "      <td>425075.0</td>\n",
       "      <td>1</td>\n",
       "      <td>January</td>\n",
       "      <td>13</td>\n",
       "      <td>113</td>\n",
       "      <td>NaN</td>\n",
       "      <td>NaN</td>\n",
       "      <td>NaN</td>\n",
       "      <td>NaN</td>\n",
       "      <td>NaN</td>\n",
       "    </tr>\n",
       "    <tr>\n",
       "      <th>13</th>\n",
       "      <td>1984-02-01</td>\n",
       "      <td>315305.0</td>\n",
       "      <td>2</td>\n",
       "      <td>February</td>\n",
       "      <td>14</td>\n",
       "      <td>98</td>\n",
       "      <td>NaN</td>\n",
       "      <td>NaN</td>\n",
       "      <td>NaN</td>\n",
       "      <td>NaN</td>\n",
       "      <td>NaN</td>\n",
       "    </tr>\n",
       "    <tr>\n",
       "      <th>14</th>\n",
       "      <td>1984-03-01</td>\n",
       "      <td>367286.0</td>\n",
       "      <td>3</td>\n",
       "      <td>March</td>\n",
       "      <td>15</td>\n",
       "      <td>102</td>\n",
       "      <td>NaN</td>\n",
       "      <td>NaN</td>\n",
       "      <td>NaN</td>\n",
       "      <td>NaN</td>\n",
       "      <td>NaN</td>\n",
       "    </tr>\n",
       "    <tr>\n",
       "      <th>15</th>\n",
       "      <td>1984-04-01</td>\n",
       "      <td>429432.0</td>\n",
       "      <td>4</td>\n",
       "      <td>April</td>\n",
       "      <td>16</td>\n",
       "      <td>107</td>\n",
       "      <td>NaN</td>\n",
       "      <td>NaN</td>\n",
       "      <td>NaN</td>\n",
       "      <td>NaN</td>\n",
       "      <td>NaN</td>\n",
       "    </tr>\n",
       "    <tr>\n",
       "      <th>16</th>\n",
       "      <td>1984-05-01</td>\n",
       "      <td>347874.0</td>\n",
       "      <td>5</td>\n",
       "      <td>May</td>\n",
       "      <td>17</td>\n",
       "      <td>119</td>\n",
       "      <td>NaN</td>\n",
       "      <td>NaN</td>\n",
       "      <td>NaN</td>\n",
       "      <td>NaN</td>\n",
       "      <td>NaN</td>\n",
       "    </tr>\n",
       "    <tr>\n",
       "      <th>17</th>\n",
       "      <td>1984-06-01</td>\n",
       "      <td>435529.0</td>\n",
       "      <td>6</td>\n",
       "      <td>June</td>\n",
       "      <td>18</td>\n",
       "      <td>104</td>\n",
       "      <td>NaN</td>\n",
       "      <td>NaN</td>\n",
       "      <td>NaN</td>\n",
       "      <td>NaN</td>\n",
       "      <td>NaN</td>\n",
       "    </tr>\n",
       "    <tr>\n",
       "      <th>18</th>\n",
       "      <td>1984-07-01</td>\n",
       "      <td>299403.0</td>\n",
       "      <td>7</td>\n",
       "      <td>July</td>\n",
       "      <td>19</td>\n",
       "      <td>107</td>\n",
       "      <td>351930.791667</td>\n",
       "      <td>351183.773211</td>\n",
       "      <td>375766.637335</td>\n",
       "      <td>76363.637335</td>\n",
       "      <td>85.074397</td>\n",
       "    </tr>\n",
       "    <tr>\n",
       "      <th>19</th>\n",
       "      <td>1984-08-01</td>\n",
       "      <td>296505.0</td>\n",
       "      <td>8</td>\n",
       "      <td>August</td>\n",
       "      <td>20</td>\n",
       "      <td>81</td>\n",
       "      <td>358284.500000</td>\n",
       "      <td>352794.414808</td>\n",
       "      <td>285763.475994</td>\n",
       "      <td>10741.524006</td>\n",
       "      <td>82.756859</td>\n",
       "    </tr>\n",
       "    <tr>\n",
       "      <th>20</th>\n",
       "      <td>1984-09-01</td>\n",
       "      <td>426701.0</td>\n",
       "      <td>9</td>\n",
       "      <td>September</td>\n",
       "      <td>21</td>\n",
       "      <td>113</td>\n",
       "      <td>357417.666667</td>\n",
       "      <td>354405.056405</td>\n",
       "      <td>400477.713737</td>\n",
       "      <td>26223.286263</td>\n",
       "      <td>119.384418</td>\n",
       "    </tr>\n",
       "    <tr>\n",
       "      <th>21</th>\n",
       "      <td>1984-10-01</td>\n",
       "      <td>329722.0</td>\n",
       "      <td>10</td>\n",
       "      <td>October</td>\n",
       "      <td>22</td>\n",
       "      <td>97</td>\n",
       "      <td>356508.125000</td>\n",
       "      <td>356015.698002</td>\n",
       "      <td>345335.227062</td>\n",
       "      <td>15613.227062</td>\n",
       "      <td>92.486532</td>\n",
       "    </tr>\n",
       "    <tr>\n",
       "      <th>22</th>\n",
       "      <td>1984-11-01</td>\n",
       "      <td>281783.0</td>\n",
       "      <td>11</td>\n",
       "      <td>November</td>\n",
       "      <td>23</td>\n",
       "      <td>95</td>\n",
       "      <td>358327.583333</td>\n",
       "      <td>357626.339599</td>\n",
       "      <td>339745.022619</td>\n",
       "      <td>57962.022619</td>\n",
       "      <td>78.638378</td>\n",
       "    </tr>\n",
       "    <tr>\n",
       "      <th>23</th>\n",
       "      <td>1984-12-01</td>\n",
       "      <td>166391.0</td>\n",
       "      <td>12</td>\n",
       "      <td>December</td>\n",
       "      <td>24</td>\n",
       "      <td>65</td>\n",
       "      <td>360327.041667</td>\n",
       "      <td>359236.981195</td>\n",
       "      <td>233504.037777</td>\n",
       "      <td>67113.037777</td>\n",
       "      <td>46.177772</td>\n",
       "    </tr>\n",
       "    <tr>\n",
       "      <th>24</th>\n",
       "      <td>1985-01-01</td>\n",
       "      <td>629402.0</td>\n",
       "      <td>1</td>\n",
       "      <td>January</td>\n",
       "      <td>25</td>\n",
       "      <td>113</td>\n",
       "      <td>363092.375000</td>\n",
       "      <td>360847.622792</td>\n",
       "      <td>407757.813755</td>\n",
       "      <td>221644.186245</td>\n",
       "      <td>173.344869</td>\n",
       "    </tr>\n",
       "    <tr>\n",
       "      <th>25</th>\n",
       "      <td>1985-02-01</td>\n",
       "      <td>263467.0</td>\n",
       "      <td>2</td>\n",
       "      <td>February</td>\n",
       "      <td>26</td>\n",
       "      <td>98</td>\n",
       "      <td>366088.166667</td>\n",
       "      <td>362458.264389</td>\n",
       "      <td>355209.099102</td>\n",
       "      <td>91742.099102</td>\n",
       "      <td>71.968183</td>\n",
       "    </tr>\n",
       "    <tr>\n",
       "      <th>26</th>\n",
       "      <td>1985-03-01</td>\n",
       "      <td>398320.0</td>\n",
       "      <td>3</td>\n",
       "      <td>March</td>\n",
       "      <td>27</td>\n",
       "      <td>102</td>\n",
       "      <td>366698.666667</td>\n",
       "      <td>364068.905986</td>\n",
       "      <td>371350.284106</td>\n",
       "      <td>26969.715894</td>\n",
       "      <td>108.623247</td>\n",
       "    </tr>\n",
       "    <tr>\n",
       "      <th>27</th>\n",
       "      <td>1985-04-01</td>\n",
       "      <td>376569.0</td>\n",
       "      <td>4</td>\n",
       "      <td>April</td>\n",
       "      <td>28</td>\n",
       "      <td>107</td>\n",
       "      <td>368112.458333</td>\n",
       "      <td>365679.547583</td>\n",
       "      <td>391277.115914</td>\n",
       "      <td>14708.115914</td>\n",
       "      <td>102.297271</td>\n",
       "    </tr>\n",
       "    <tr>\n",
       "      <th>28</th>\n",
       "      <td>1985-05-01</td>\n",
       "      <td>444404.0</td>\n",
       "      <td>5</td>\n",
       "      <td>May</td>\n",
       "      <td>29</td>\n",
       "      <td>119</td>\n",
       "      <td>368524.583333</td>\n",
       "      <td>367290.189180</td>\n",
       "      <td>437075.325124</td>\n",
       "      <td>7328.674876</td>\n",
       "      <td>120.590056</td>\n",
       "    </tr>\n",
       "    <tr>\n",
       "      <th>29</th>\n",
       "      <td>1985-06-01</td>\n",
       "      <td>386986.0</td>\n",
       "      <td>6</td>\n",
       "      <td>June</td>\n",
       "      <td>30</td>\n",
       "      <td>104</td>\n",
       "      <td>370608.625000</td>\n",
       "      <td>368900.830777</td>\n",
       "      <td>383656.864008</td>\n",
       "      <td>3329.135992</td>\n",
       "      <td>104.419049</td>\n",
       "    </tr>\n",
       "    <tr>\n",
       "      <th>30</th>\n",
       "      <td>1985-07-01</td>\n",
       "      <td>414314.0</td>\n",
       "      <td>7</td>\n",
       "      <td>July</td>\n",
       "      <td>31</td>\n",
       "      <td>107</td>\n",
       "      <td>372389.416667</td>\n",
       "      <td>370511.472374</td>\n",
       "      <td>396447.275440</td>\n",
       "      <td>17866.724560</td>\n",
       "      <td>111.258264</td>\n",
       "    </tr>\n",
       "    <tr>\n",
       "      <th>31</th>\n",
       "      <td>1985-08-01</td>\n",
       "      <td>253493.0</td>\n",
       "      <td>8</td>\n",
       "      <td>August</td>\n",
       "      <td>32</td>\n",
       "      <td>81</td>\n",
       "      <td>373779.500000</td>\n",
       "      <td>372122.113971</td>\n",
       "      <td>301418.912317</td>\n",
       "      <td>47925.912317</td>\n",
       "      <td>67.818861</td>\n",
       "    </tr>\n",
       "    <tr>\n",
       "      <th>32</th>\n",
       "      <td>1985-09-01</td>\n",
       "      <td>484365.0</td>\n",
       "      <td>9</td>\n",
       "      <td>September</td>\n",
       "      <td>33</td>\n",
       "      <td>113</td>\n",
       "      <td>372685.916667</td>\n",
       "      <td>373732.755568</td>\n",
       "      <td>422318.013792</td>\n",
       "      <td>62046.986208</td>\n",
       "      <td>129.966006</td>\n",
       "    </tr>\n",
       "    <tr>\n",
       "      <th>33</th>\n",
       "      <td>1985-10-01</td>\n",
       "      <td>305989.0</td>\n",
       "      <td>10</td>\n",
       "      <td>October</td>\n",
       "      <td>34</td>\n",
       "      <td>97</td>\n",
       "      <td>368656.916667</td>\n",
       "      <td>375343.397165</td>\n",
       "      <td>364083.095250</td>\n",
       "      <td>58094.095250</td>\n",
       "      <td>83.001020</td>\n",
       "    </tr>\n",
       "    <tr>\n",
       "      <th>34</th>\n",
       "      <td>1985-11-01</td>\n",
       "      <td>315407.0</td>\n",
       "      <td>11</td>\n",
       "      <td>November</td>\n",
       "      <td>35</td>\n",
       "      <td>95</td>\n",
       "      <td>369505.750000</td>\n",
       "      <td>376954.038762</td>\n",
       "      <td>358106.336824</td>\n",
       "      <td>42699.336824</td>\n",
       "      <td>85.359159</td>\n",
       "    </tr>\n",
       "    <tr>\n",
       "      <th>35</th>\n",
       "      <td>1985-12-01</td>\n",
       "      <td>182784.0</td>\n",
       "      <td>12</td>\n",
       "      <td>December</td>\n",
       "      <td>36</td>\n",
       "      <td>65</td>\n",
       "      <td>372700.583333</td>\n",
       "      <td>378564.680359</td>\n",
       "      <td>246067.042233</td>\n",
       "      <td>63283.042233</td>\n",
       "      <td>49.043122</td>\n",
       "    </tr>\n",
       "    <tr>\n",
       "      <th>36</th>\n",
       "      <td>1986-01-01</td>\n",
       "      <td>655748.0</td>\n",
       "      <td>1</td>\n",
       "      <td>January</td>\n",
       "      <td>37</td>\n",
       "      <td>113</td>\n",
       "      <td>374809.500000</td>\n",
       "      <td>380175.321956</td>\n",
       "      <td>429598.113810</td>\n",
       "      <td>226149.886190</td>\n",
       "      <td>174.955010</td>\n",
       "    </tr>\n",
       "    <tr>\n",
       "      <th>37</th>\n",
       "      <td>1986-02-01</td>\n",
       "      <td>270483.0</td>\n",
       "      <td>2</td>\n",
       "      <td>February</td>\n",
       "      <td>38</td>\n",
       "      <td>98</td>\n",
       "      <td>377258.125000</td>\n",
       "      <td>381785.963553</td>\n",
       "      <td>374150.244282</td>\n",
       "      <td>103667.244282</td>\n",
       "      <td>71.697064</td>\n",
       "    </tr>\n",
       "    <tr>\n",
       "      <th>38</th>\n",
       "      <td>1986-03-01</td>\n",
       "      <td>365058.0</td>\n",
       "      <td>3</td>\n",
       "      <td>March</td>\n",
       "      <td>39</td>\n",
       "      <td>102</td>\n",
       "      <td>380091.958333</td>\n",
       "      <td>383396.605150</td>\n",
       "      <td>391064.537253</td>\n",
       "      <td>26006.537253</td>\n",
       "      <td>96.044652</td>\n",
       "    </tr>\n",
       "    <tr>\n",
       "      <th>39</th>\n",
       "      <td>1986-04-01</td>\n",
       "      <td>313135.0</td>\n",
       "      <td>4</td>\n",
       "      <td>April</td>\n",
       "      <td>40</td>\n",
       "      <td>107</td>\n",
       "      <td>384126.375000</td>\n",
       "      <td>385007.246747</td>\n",
       "      <td>411957.754019</td>\n",
       "      <td>98822.754019</td>\n",
       "      <td>81.518745</td>\n",
       "    </tr>\n",
       "    <tr>\n",
       "      <th>40</th>\n",
       "      <td>1986-05-01</td>\n",
       "      <td>528210.0</td>\n",
       "      <td>5</td>\n",
       "      <td>May</td>\n",
       "      <td>41</td>\n",
       "      <td>119</td>\n",
       "      <td>385577.958333</td>\n",
       "      <td>386617.888344</td>\n",
       "      <td>460075.287129</td>\n",
       "      <td>68134.712871</td>\n",
       "      <td>136.991752</td>\n",
       "    </tr>\n",
       "    <tr>\n",
       "      <th>41</th>\n",
       "      <td>1986-06-01</td>\n",
       "      <td>379856.0</td>\n",
       "      <td>6</td>\n",
       "      <td>June</td>\n",
       "      <td>42</td>\n",
       "      <td>104</td>\n",
       "      <td>389707.875000</td>\n",
       "      <td>388228.529941</td>\n",
       "      <td>403757.671138</td>\n",
       "      <td>23901.671138</td>\n",
       "      <td>97.471985</td>\n",
       "    </tr>\n",
       "    <tr>\n",
       "      <th>42</th>\n",
       "      <td>1986-07-01</td>\n",
       "      <td>472058.0</td>\n",
       "      <td>7</td>\n",
       "      <td>July</td>\n",
       "      <td>43</td>\n",
       "      <td>107</td>\n",
       "      <td>385270.583333</td>\n",
       "      <td>389839.171538</td>\n",
       "      <td>417127.913545</td>\n",
       "      <td>54930.086455</td>\n",
       "      <td>122.526354</td>\n",
       "    </tr>\n",
       "    <tr>\n",
       "      <th>43</th>\n",
       "      <td>1986-08-01</td>\n",
       "      <td>254516.0</td>\n",
       "      <td>8</td>\n",
       "      <td>August</td>\n",
       "      <td>44</td>\n",
       "      <td>81</td>\n",
       "      <td>375957.041667</td>\n",
       "      <td>391449.813135</td>\n",
       "      <td>317074.348639</td>\n",
       "      <td>62558.348639</td>\n",
       "      <td>67.698160</td>\n",
       "    </tr>\n",
       "    <tr>\n",
       "      <th>44</th>\n",
       "      <td>1986-09-01</td>\n",
       "      <td>551354.0</td>\n",
       "      <td>9</td>\n",
       "      <td>September</td>\n",
       "      <td>45</td>\n",
       "      <td>113</td>\n",
       "      <td>385716.750000</td>\n",
       "      <td>393060.454732</td>\n",
       "      <td>444158.313847</td>\n",
       "      <td>107195.686153</td>\n",
       "      <td>142.942716</td>\n",
       "    </tr>\n",
       "    <tr>\n",
       "      <th>45</th>\n",
       "      <td>1986-10-01</td>\n",
       "      <td>335826.0</td>\n",
       "      <td>10</td>\n",
       "      <td>October</td>\n",
       "      <td>46</td>\n",
       "      <td>97</td>\n",
       "      <td>401272.666667</td>\n",
       "      <td>394671.096328</td>\n",
       "      <td>382830.963439</td>\n",
       "      <td>47004.963439</td>\n",
       "      <td>83.690226</td>\n",
       "    </tr>\n",
       "    <tr>\n",
       "      <th>46</th>\n",
       "      <td>1986-11-01</td>\n",
       "      <td>320408.0</td>\n",
       "      <td>11</td>\n",
       "      <td>November</td>\n",
       "      <td>47</td>\n",
       "      <td>95</td>\n",
       "      <td>402986.916667</td>\n",
       "      <td>396281.737925</td>\n",
       "      <td>376467.651029</td>\n",
       "      <td>56059.651029</td>\n",
       "      <td>79.508288</td>\n",
       "    </tr>\n",
       "    <tr>\n",
       "      <th>47</th>\n",
       "      <td>1986-12-01</td>\n",
       "      <td>276901.0</td>\n",
       "      <td>12</td>\n",
       "      <td>December</td>\n",
       "      <td>48</td>\n",
       "      <td>65</td>\n",
       "      <td>397369.958333</td>\n",
       "      <td>397892.379522</td>\n",
       "      <td>258630.046690</td>\n",
       "      <td>18270.953310</td>\n",
       "      <td>69.683426</td>\n",
       "    </tr>\n",
       "    <tr>\n",
       "      <th>48</th>\n",
       "      <td>1987-01-01</td>\n",
       "      <td>455136.0</td>\n",
       "      <td>1</td>\n",
       "      <td>January</td>\n",
       "      <td>49</td>\n",
       "      <td>113</td>\n",
       "      <td>394035.291667</td>\n",
       "      <td>399503.021119</td>\n",
       "      <td>451438.413865</td>\n",
       "      <td>3697.586135</td>\n",
       "      <td>115.506405</td>\n",
       "    </tr>\n",
       "    <tr>\n",
       "      <th>49</th>\n",
       "      <td>1987-02-01</td>\n",
       "      <td>247570.0</td>\n",
       "      <td>2</td>\n",
       "      <td>February</td>\n",
       "      <td>50</td>\n",
       "      <td>98</td>\n",
       "      <td>392980.583333</td>\n",
       "      <td>401113.662716</td>\n",
       "      <td>393091.389462</td>\n",
       "      <td>145521.389462</td>\n",
       "      <td>62.998023</td>\n",
       "    </tr>\n",
       "    <tr>\n",
       "      <th>50</th>\n",
       "      <td>1987-03-01</td>\n",
       "      <td>622204.0</td>\n",
       "      <td>3</td>\n",
       "      <td>March</td>\n",
       "      <td>51</td>\n",
       "      <td>102</td>\n",
       "      <td>400822.041667</td>\n",
       "      <td>402724.304313</td>\n",
       "      <td>410778.790400</td>\n",
       "      <td>211425.209600</td>\n",
       "      <td>155.231982</td>\n",
       "    </tr>\n",
       "    <tr>\n",
       "      <th>51</th>\n",
       "      <td>1987-04-01</td>\n",
       "      <td>429331.0</td>\n",
       "      <td>4</td>\n",
       "      <td>April</td>\n",
       "      <td>52</td>\n",
       "      <td>107</td>\n",
       "      <td>412429.916667</td>\n",
       "      <td>404334.945910</td>\n",
       "      <td>432638.392124</td>\n",
       "      <td>3307.392124</td>\n",
       "      <td>104.097929</td>\n",
       "    </tr>\n",
       "    <tr>\n",
       "      <th>52</th>\n",
       "      <td>1987-05-01</td>\n",
       "      <td>453156.0</td>\n",
       "      <td>5</td>\n",
       "      <td>May</td>\n",
       "      <td>53</td>\n",
       "      <td>119</td>\n",
       "      <td>419193.208333</td>\n",
       "      <td>405945.587507</td>\n",
       "      <td>483075.249134</td>\n",
       "      <td>29919.249134</td>\n",
       "      <td>108.101942</td>\n",
       "    </tr>\n",
       "    <tr>\n",
       "      <th>53</th>\n",
       "      <td>1987-06-01</td>\n",
       "      <td>320103.0</td>\n",
       "      <td>6</td>\n",
       "      <td>June</td>\n",
       "      <td>54</td>\n",
       "      <td>104</td>\n",
       "      <td>422074.625000</td>\n",
       "      <td>407556.229104</td>\n",
       "      <td>423858.478268</td>\n",
       "      <td>103755.478268</td>\n",
       "      <td>75.840380</td>\n",
       "    </tr>\n",
       "    <tr>\n",
       "      <th>54</th>\n",
       "      <td>1987-07-01</td>\n",
       "      <td>451779.0</td>\n",
       "      <td>7</td>\n",
       "      <td>July</td>\n",
       "      <td>55</td>\n",
       "      <td>107</td>\n",
       "      <td>NaN</td>\n",
       "      <td>NaN</td>\n",
       "      <td>NaN</td>\n",
       "      <td>NaN</td>\n",
       "      <td>NaN</td>\n",
       "    </tr>\n",
       "    <tr>\n",
       "      <th>55</th>\n",
       "      <td>1987-08-01</td>\n",
       "      <td>249482.0</td>\n",
       "      <td>8</td>\n",
       "      <td>August</td>\n",
       "      <td>56</td>\n",
       "      <td>81</td>\n",
       "      <td>NaN</td>\n",
       "      <td>NaN</td>\n",
       "      <td>NaN</td>\n",
       "      <td>NaN</td>\n",
       "      <td>NaN</td>\n",
       "    </tr>\n",
       "    <tr>\n",
       "      <th>56</th>\n",
       "      <td>1987-09-01</td>\n",
       "      <td>744583.0</td>\n",
       "      <td>9</td>\n",
       "      <td>September</td>\n",
       "      <td>57</td>\n",
       "      <td>113</td>\n",
       "      <td>NaN</td>\n",
       "      <td>NaN</td>\n",
       "      <td>NaN</td>\n",
       "      <td>NaN</td>\n",
       "      <td>NaN</td>\n",
       "    </tr>\n",
       "    <tr>\n",
       "      <th>57</th>\n",
       "      <td>1987-10-01</td>\n",
       "      <td>421186.0</td>\n",
       "      <td>10</td>\n",
       "      <td>October</td>\n",
       "      <td>58</td>\n",
       "      <td>97</td>\n",
       "      <td>NaN</td>\n",
       "      <td>NaN</td>\n",
       "      <td>NaN</td>\n",
       "      <td>NaN</td>\n",
       "      <td>NaN</td>\n",
       "    </tr>\n",
       "    <tr>\n",
       "      <th>58</th>\n",
       "      <td>1987-11-01</td>\n",
       "      <td>397367.0</td>\n",
       "      <td>11</td>\n",
       "      <td>November</td>\n",
       "      <td>59</td>\n",
       "      <td>95</td>\n",
       "      <td>NaN</td>\n",
       "      <td>NaN</td>\n",
       "      <td>NaN</td>\n",
       "      <td>NaN</td>\n",
       "      <td>NaN</td>\n",
       "    </tr>\n",
       "    <tr>\n",
       "      <th>59</th>\n",
       "      <td>1987-12-01</td>\n",
       "      <td>269096.0</td>\n",
       "      <td>12</td>\n",
       "      <td>December</td>\n",
       "      <td>60</td>\n",
       "      <td>65</td>\n",
       "      <td>NaN</td>\n",
       "      <td>NaN</td>\n",
       "      <td>NaN</td>\n",
       "      <td>NaN</td>\n",
       "      <td>NaN</td>\n",
       "    </tr>\n",
       "  </tbody>\n",
       "</table>\n",
       "</div>"
      ],
      "text/plain": [
       "        Month  Case Shipments  Month of year Month name  Seq month number  \\\n",
       "12 1984-01-01        425075.0              1    January                13   \n",
       "13 1984-02-01        315305.0              2   February                14   \n",
       "14 1984-03-01        367286.0              3      March                15   \n",
       "15 1984-04-01        429432.0              4      April                16   \n",
       "16 1984-05-01        347874.0              5        May                17   \n",
       "17 1984-06-01        435529.0              6       June                18   \n",
       "18 1984-07-01        299403.0              7       July                19   \n",
       "19 1984-08-01        296505.0              8     August                20   \n",
       "20 1984-09-01        426701.0              9  September                21   \n",
       "21 1984-10-01        329722.0             10    October                22   \n",
       "22 1984-11-01        281783.0             11   November                23   \n",
       "23 1984-12-01        166391.0             12   December                24   \n",
       "24 1985-01-01        629402.0              1    January                25   \n",
       "25 1985-02-01        263467.0              2   February                26   \n",
       "26 1985-03-01        398320.0              3      March                27   \n",
       "27 1985-04-01        376569.0              4      April                28   \n",
       "28 1985-05-01        444404.0              5        May                29   \n",
       "29 1985-06-01        386986.0              6       June                30   \n",
       "30 1985-07-01        414314.0              7       July                31   \n",
       "31 1985-08-01        253493.0              8     August                32   \n",
       "32 1985-09-01        484365.0              9  September                33   \n",
       "33 1985-10-01        305989.0             10    October                34   \n",
       "34 1985-11-01        315407.0             11   November                35   \n",
       "35 1985-12-01        182784.0             12   December                36   \n",
       "36 1986-01-01        655748.0              1    January                37   \n",
       "37 1986-02-01        270483.0              2   February                38   \n",
       "38 1986-03-01        365058.0              3      March                39   \n",
       "39 1986-04-01        313135.0              4      April                40   \n",
       "40 1986-05-01        528210.0              5        May                41   \n",
       "41 1986-06-01        379856.0              6       June                42   \n",
       "42 1986-07-01        472058.0              7       July                43   \n",
       "43 1986-08-01        254516.0              8     August                44   \n",
       "44 1986-09-01        551354.0              9  September                45   \n",
       "45 1986-10-01        335826.0             10    October                46   \n",
       "46 1986-11-01        320408.0             11   November                47   \n",
       "47 1986-12-01        276901.0             12   December                48   \n",
       "48 1987-01-01        455136.0              1    January                49   \n",
       "49 1987-02-01        247570.0              2   February                50   \n",
       "50 1987-03-01        622204.0              3      March                51   \n",
       "51 1987-04-01        429331.0              4      April                52   \n",
       "52 1987-05-01        453156.0              5        May                53   \n",
       "53 1987-06-01        320103.0              6       June                54   \n",
       "54 1987-07-01        451779.0              7       July                55   \n",
       "55 1987-08-01        249482.0              8     August                56   \n",
       "56 1987-09-01        744583.0              9  September                57   \n",
       "57 1987-10-01        421186.0             10    October                58   \n",
       "58 1987-11-01        397367.0             11   November                59   \n",
       "59 1987-12-01        269096.0             12   December                60   \n",
       "\n",
       "    Industry SI  Deseasonalized Case Shipments  \\\n",
       "12          113                            NaN   \n",
       "13           98                            NaN   \n",
       "14          102                            NaN   \n",
       "15          107                            NaN   \n",
       "16          119                            NaN   \n",
       "17          104                            NaN   \n",
       "18          107                  351930.791667   \n",
       "19           81                  358284.500000   \n",
       "20          113                  357417.666667   \n",
       "21           97                  356508.125000   \n",
       "22           95                  358327.583333   \n",
       "23           65                  360327.041667   \n",
       "24          113                  363092.375000   \n",
       "25           98                  366088.166667   \n",
       "26          102                  366698.666667   \n",
       "27          107                  368112.458333   \n",
       "28          119                  368524.583333   \n",
       "29          104                  370608.625000   \n",
       "30          107                  372389.416667   \n",
       "31           81                  373779.500000   \n",
       "32          113                  372685.916667   \n",
       "33           97                  368656.916667   \n",
       "34           95                  369505.750000   \n",
       "35           65                  372700.583333   \n",
       "36          113                  374809.500000   \n",
       "37           98                  377258.125000   \n",
       "38          102                  380091.958333   \n",
       "39          107                  384126.375000   \n",
       "40          119                  385577.958333   \n",
       "41          104                  389707.875000   \n",
       "42          107                  385270.583333   \n",
       "43           81                  375957.041667   \n",
       "44          113                  385716.750000   \n",
       "45           97                  401272.666667   \n",
       "46           95                  402986.916667   \n",
       "47           65                  397369.958333   \n",
       "48          113                  394035.291667   \n",
       "49           98                  392980.583333   \n",
       "50          102                  400822.041667   \n",
       "51          107                  412429.916667   \n",
       "52          119                  419193.208333   \n",
       "53          104                  422074.625000   \n",
       "54          107                            NaN   \n",
       "55           81                            NaN   \n",
       "56          113                            NaN   \n",
       "57           97                            NaN   \n",
       "58           95                            NaN   \n",
       "59           65                            NaN   \n",
       "\n",
       "    M1 Predicted Deseasonalized Case Shipments  M1 Predicted Case Shipments  \\\n",
       "12                                         NaN                          NaN   \n",
       "13                                         NaN                          NaN   \n",
       "14                                         NaN                          NaN   \n",
       "15                                         NaN                          NaN   \n",
       "16                                         NaN                          NaN   \n",
       "17                                         NaN                          NaN   \n",
       "18                               351183.773211                375766.637335   \n",
       "19                               352794.414808                285763.475994   \n",
       "20                               354405.056405                400477.713737   \n",
       "21                               356015.698002                345335.227062   \n",
       "22                               357626.339599                339745.022619   \n",
       "23                               359236.981195                233504.037777   \n",
       "24                               360847.622792                407757.813755   \n",
       "25                               362458.264389                355209.099102   \n",
       "26                               364068.905986                371350.284106   \n",
       "27                               365679.547583                391277.115914   \n",
       "28                               367290.189180                437075.325124   \n",
       "29                               368900.830777                383656.864008   \n",
       "30                               370511.472374                396447.275440   \n",
       "31                               372122.113971                301418.912317   \n",
       "32                               373732.755568                422318.013792   \n",
       "33                               375343.397165                364083.095250   \n",
       "34                               376954.038762                358106.336824   \n",
       "35                               378564.680359                246067.042233   \n",
       "36                               380175.321956                429598.113810   \n",
       "37                               381785.963553                374150.244282   \n",
       "38                               383396.605150                391064.537253   \n",
       "39                               385007.246747                411957.754019   \n",
       "40                               386617.888344                460075.287129   \n",
       "41                               388228.529941                403757.671138   \n",
       "42                               389839.171538                417127.913545   \n",
       "43                               391449.813135                317074.348639   \n",
       "44                               393060.454732                444158.313847   \n",
       "45                               394671.096328                382830.963439   \n",
       "46                               396281.737925                376467.651029   \n",
       "47                               397892.379522                258630.046690   \n",
       "48                               399503.021119                451438.413865   \n",
       "49                               401113.662716                393091.389462   \n",
       "50                               402724.304313                410778.790400   \n",
       "51                               404334.945910                432638.392124   \n",
       "52                               405945.587507                483075.249134   \n",
       "53                               407556.229104                423858.478268   \n",
       "54                                         NaN                          NaN   \n",
       "55                                         NaN                          NaN   \n",
       "56                                         NaN                          NaN   \n",
       "57                                         NaN                          NaN   \n",
       "58                                         NaN                          NaN   \n",
       "59                                         NaN                          NaN   \n",
       "\n",
       "     M1 Abs Error  Data-driven seasonal factor  \n",
       "12            NaN                          NaN  \n",
       "13            NaN                          NaN  \n",
       "14            NaN                          NaN  \n",
       "15            NaN                          NaN  \n",
       "16            NaN                          NaN  \n",
       "17            NaN                          NaN  \n",
       "18   76363.637335                    85.074397  \n",
       "19   10741.524006                    82.756859  \n",
       "20   26223.286263                   119.384418  \n",
       "21   15613.227062                    92.486532  \n",
       "22   57962.022619                    78.638378  \n",
       "23   67113.037777                    46.177772  \n",
       "24  221644.186245                   173.344869  \n",
       "25   91742.099102                    71.968183  \n",
       "26   26969.715894                   108.623247  \n",
       "27   14708.115914                   102.297271  \n",
       "28    7328.674876                   120.590056  \n",
       "29    3329.135992                   104.419049  \n",
       "30   17866.724560                   111.258264  \n",
       "31   47925.912317                    67.818861  \n",
       "32   62046.986208                   129.966006  \n",
       "33   58094.095250                    83.001020  \n",
       "34   42699.336824                    85.359159  \n",
       "35   63283.042233                    49.043122  \n",
       "36  226149.886190                   174.955010  \n",
       "37  103667.244282                    71.697064  \n",
       "38   26006.537253                    96.044652  \n",
       "39   98822.754019                    81.518745  \n",
       "40   68134.712871                   136.991752  \n",
       "41   23901.671138                    97.471985  \n",
       "42   54930.086455                   122.526354  \n",
       "43   62558.348639                    67.698160  \n",
       "44  107195.686153                   142.942716  \n",
       "45   47004.963439                    83.690226  \n",
       "46   56059.651029                    79.508288  \n",
       "47   18270.953310                    69.683426  \n",
       "48    3697.586135                   115.506405  \n",
       "49  145521.389462                    62.998023  \n",
       "50  211425.209600                   155.231982  \n",
       "51    3307.392124                   104.097929  \n",
       "52   29919.249134                   108.101942  \n",
       "53  103755.478268                    75.840380  \n",
       "54            NaN                          NaN  \n",
       "55            NaN                          NaN  \n",
       "56            NaN                          NaN  \n",
       "57            NaN                          NaN  \n",
       "58            NaN                          NaN  \n",
       "59            NaN                          NaN  "
      ]
     },
     "execution_count": 34,
     "metadata": {},
     "output_type": "execute_result"
    }
   ],
   "source": [
    "harmon"
   ]
  },
  {
   "cell_type": "markdown",
   "metadata": {},
   "source": [
    "### Use Pivot to calculate data-driven seasonal index (average of seasonal factors for each month)"
   ]
  },
  {
   "cell_type": "code",
   "execution_count": 35,
   "metadata": {},
   "outputs": [
    {
     "data": {
      "text/html": [
       "<div>\n",
       "<style scoped>\n",
       "    .dataframe tbody tr th:only-of-type {\n",
       "        vertical-align: middle;\n",
       "    }\n",
       "\n",
       "    .dataframe tbody tr th {\n",
       "        vertical-align: top;\n",
       "    }\n",
       "\n",
       "    .dataframe thead th {\n",
       "        text-align: right;\n",
       "    }\n",
       "</style>\n",
       "<table border=\"1\" class=\"dataframe\">\n",
       "  <thead>\n",
       "    <tr style=\"text-align: right;\">\n",
       "      <th></th>\n",
       "      <th>Data-driven SI</th>\n",
       "    </tr>\n",
       "    <tr>\n",
       "      <th>Month of year</th>\n",
       "      <th></th>\n",
       "    </tr>\n",
       "  </thead>\n",
       "  <tbody>\n",
       "    <tr>\n",
       "      <th>1</th>\n",
       "      <td>154.602095</td>\n",
       "    </tr>\n",
       "    <tr>\n",
       "      <th>2</th>\n",
       "      <td>68.887757</td>\n",
       "    </tr>\n",
       "    <tr>\n",
       "      <th>3</th>\n",
       "      <td>119.966627</td>\n",
       "    </tr>\n",
       "    <tr>\n",
       "      <th>4</th>\n",
       "      <td>95.971315</td>\n",
       "    </tr>\n",
       "    <tr>\n",
       "      <th>5</th>\n",
       "      <td>121.894583</td>\n",
       "    </tr>\n",
       "    <tr>\n",
       "      <th>6</th>\n",
       "      <td>92.577138</td>\n",
       "    </tr>\n",
       "    <tr>\n",
       "      <th>7</th>\n",
       "      <td>106.286339</td>\n",
       "    </tr>\n",
       "    <tr>\n",
       "      <th>8</th>\n",
       "      <td>72.757960</td>\n",
       "    </tr>\n",
       "    <tr>\n",
       "      <th>9</th>\n",
       "      <td>130.764380</td>\n",
       "    </tr>\n",
       "    <tr>\n",
       "      <th>10</th>\n",
       "      <td>86.392592</td>\n",
       "    </tr>\n",
       "    <tr>\n",
       "      <th>11</th>\n",
       "      <td>81.168608</td>\n",
       "    </tr>\n",
       "    <tr>\n",
       "      <th>12</th>\n",
       "      <td>54.968106</td>\n",
       "    </tr>\n",
       "  </tbody>\n",
       "</table>\n",
       "</div>"
      ],
      "text/plain": [
       "               Data-driven SI\n",
       "Month of year                \n",
       "1                  154.602095\n",
       "2                   68.887757\n",
       "3                  119.966627\n",
       "4                   95.971315\n",
       "5                  121.894583\n",
       "6                   92.577138\n",
       "7                  106.286339\n",
       "8                   72.757960\n",
       "9                  130.764380\n",
       "10                  86.392592\n",
       "11                  81.168608\n",
       "12                  54.968106"
      ]
     },
     "execution_count": 35,
     "metadata": {},
     "output_type": "execute_result"
    }
   ],
   "source": [
    "datadrivenSI = pd.pivot_table(harmon, values='Data-driven seasonal factor', index=['Month of year'], aggfunc=np.mean)\n",
    "datadrivenSI=datadrivenSI.rename(columns={\"Data-driven seasonal factor\": \"Data-driven SI\"}, errors=\"raise\")\n",
    "datadrivenSI"
   ]
  },
  {
   "cell_type": "markdown",
   "metadata": {},
   "source": [
    "### Merge this back into the dataframe"
   ]
  },
  {
   "cell_type": "code",
   "execution_count": 36,
   "metadata": {},
   "outputs": [],
   "source": [
    "harmon=pd.merge(harmon, datadrivenSI, on=['Month of year'])\n",
    "harmon=harmon.sort_values(by=['Seq month number'])\n",
    "harmon=harmon.reset_index()\n",
    "harmon=harmon.drop(columns = ['index'])"
   ]
  },
  {
   "cell_type": "markdown",
   "metadata": {},
   "source": [
    "### Check data"
   ]
  },
  {
   "cell_type": "code",
   "execution_count": 37,
   "metadata": {},
   "outputs": [
    {
     "data": {
      "text/html": [
       "<div>\n",
       "<style scoped>\n",
       "    .dataframe tbody tr th:only-of-type {\n",
       "        vertical-align: middle;\n",
       "    }\n",
       "\n",
       "    .dataframe tbody tr th {\n",
       "        vertical-align: top;\n",
       "    }\n",
       "\n",
       "    .dataframe thead th {\n",
       "        text-align: right;\n",
       "    }\n",
       "</style>\n",
       "<table border=\"1\" class=\"dataframe\">\n",
       "  <thead>\n",
       "    <tr style=\"text-align: right;\">\n",
       "      <th></th>\n",
       "      <th>Month</th>\n",
       "      <th>Case Shipments</th>\n",
       "      <th>Month of year</th>\n",
       "      <th>Month name</th>\n",
       "      <th>Seq month number</th>\n",
       "      <th>Industry SI</th>\n",
       "      <th>Deseasonalized Case Shipments</th>\n",
       "      <th>M1 Predicted Deseasonalized Case Shipments</th>\n",
       "      <th>M1 Predicted Case Shipments</th>\n",
       "      <th>M1 Abs Error</th>\n",
       "      <th>Data-driven seasonal factor</th>\n",
       "      <th>Data-driven SI</th>\n",
       "    </tr>\n",
       "  </thead>\n",
       "  <tbody>\n",
       "    <tr>\n",
       "      <th>0</th>\n",
       "      <td>1984-01-01</td>\n",
       "      <td>425075.0</td>\n",
       "      <td>1</td>\n",
       "      <td>January</td>\n",
       "      <td>13</td>\n",
       "      <td>113</td>\n",
       "      <td>NaN</td>\n",
       "      <td>NaN</td>\n",
       "      <td>NaN</td>\n",
       "      <td>NaN</td>\n",
       "      <td>NaN</td>\n",
       "      <td>154.602095</td>\n",
       "    </tr>\n",
       "    <tr>\n",
       "      <th>1</th>\n",
       "      <td>1984-02-01</td>\n",
       "      <td>315305.0</td>\n",
       "      <td>2</td>\n",
       "      <td>February</td>\n",
       "      <td>14</td>\n",
       "      <td>98</td>\n",
       "      <td>NaN</td>\n",
       "      <td>NaN</td>\n",
       "      <td>NaN</td>\n",
       "      <td>NaN</td>\n",
       "      <td>NaN</td>\n",
       "      <td>68.887757</td>\n",
       "    </tr>\n",
       "    <tr>\n",
       "      <th>2</th>\n",
       "      <td>1984-03-01</td>\n",
       "      <td>367286.0</td>\n",
       "      <td>3</td>\n",
       "      <td>March</td>\n",
       "      <td>15</td>\n",
       "      <td>102</td>\n",
       "      <td>NaN</td>\n",
       "      <td>NaN</td>\n",
       "      <td>NaN</td>\n",
       "      <td>NaN</td>\n",
       "      <td>NaN</td>\n",
       "      <td>119.966627</td>\n",
       "    </tr>\n",
       "    <tr>\n",
       "      <th>3</th>\n",
       "      <td>1984-04-01</td>\n",
       "      <td>429432.0</td>\n",
       "      <td>4</td>\n",
       "      <td>April</td>\n",
       "      <td>16</td>\n",
       "      <td>107</td>\n",
       "      <td>NaN</td>\n",
       "      <td>NaN</td>\n",
       "      <td>NaN</td>\n",
       "      <td>NaN</td>\n",
       "      <td>NaN</td>\n",
       "      <td>95.971315</td>\n",
       "    </tr>\n",
       "    <tr>\n",
       "      <th>4</th>\n",
       "      <td>1984-05-01</td>\n",
       "      <td>347874.0</td>\n",
       "      <td>5</td>\n",
       "      <td>May</td>\n",
       "      <td>17</td>\n",
       "      <td>119</td>\n",
       "      <td>NaN</td>\n",
       "      <td>NaN</td>\n",
       "      <td>NaN</td>\n",
       "      <td>NaN</td>\n",
       "      <td>NaN</td>\n",
       "      <td>121.894583</td>\n",
       "    </tr>\n",
       "    <tr>\n",
       "      <th>5</th>\n",
       "      <td>1984-06-01</td>\n",
       "      <td>435529.0</td>\n",
       "      <td>6</td>\n",
       "      <td>June</td>\n",
       "      <td>18</td>\n",
       "      <td>104</td>\n",
       "      <td>NaN</td>\n",
       "      <td>NaN</td>\n",
       "      <td>NaN</td>\n",
       "      <td>NaN</td>\n",
       "      <td>NaN</td>\n",
       "      <td>92.577138</td>\n",
       "    </tr>\n",
       "    <tr>\n",
       "      <th>6</th>\n",
       "      <td>1984-07-01</td>\n",
       "      <td>299403.0</td>\n",
       "      <td>7</td>\n",
       "      <td>July</td>\n",
       "      <td>19</td>\n",
       "      <td>107</td>\n",
       "      <td>351930.791667</td>\n",
       "      <td>351183.773211</td>\n",
       "      <td>375766.637335</td>\n",
       "      <td>76363.637335</td>\n",
       "      <td>85.074397</td>\n",
       "      <td>106.286339</td>\n",
       "    </tr>\n",
       "    <tr>\n",
       "      <th>7</th>\n",
       "      <td>1984-08-01</td>\n",
       "      <td>296505.0</td>\n",
       "      <td>8</td>\n",
       "      <td>August</td>\n",
       "      <td>20</td>\n",
       "      <td>81</td>\n",
       "      <td>358284.500000</td>\n",
       "      <td>352794.414808</td>\n",
       "      <td>285763.475994</td>\n",
       "      <td>10741.524006</td>\n",
       "      <td>82.756859</td>\n",
       "      <td>72.757960</td>\n",
       "    </tr>\n",
       "    <tr>\n",
       "      <th>8</th>\n",
       "      <td>1984-09-01</td>\n",
       "      <td>426701.0</td>\n",
       "      <td>9</td>\n",
       "      <td>September</td>\n",
       "      <td>21</td>\n",
       "      <td>113</td>\n",
       "      <td>357417.666667</td>\n",
       "      <td>354405.056405</td>\n",
       "      <td>400477.713737</td>\n",
       "      <td>26223.286263</td>\n",
       "      <td>119.384418</td>\n",
       "      <td>130.764380</td>\n",
       "    </tr>\n",
       "    <tr>\n",
       "      <th>9</th>\n",
       "      <td>1984-10-01</td>\n",
       "      <td>329722.0</td>\n",
       "      <td>10</td>\n",
       "      <td>October</td>\n",
       "      <td>22</td>\n",
       "      <td>97</td>\n",
       "      <td>356508.125000</td>\n",
       "      <td>356015.698002</td>\n",
       "      <td>345335.227062</td>\n",
       "      <td>15613.227062</td>\n",
       "      <td>92.486532</td>\n",
       "      <td>86.392592</td>\n",
       "    </tr>\n",
       "    <tr>\n",
       "      <th>10</th>\n",
       "      <td>1984-11-01</td>\n",
       "      <td>281783.0</td>\n",
       "      <td>11</td>\n",
       "      <td>November</td>\n",
       "      <td>23</td>\n",
       "      <td>95</td>\n",
       "      <td>358327.583333</td>\n",
       "      <td>357626.339599</td>\n",
       "      <td>339745.022619</td>\n",
       "      <td>57962.022619</td>\n",
       "      <td>78.638378</td>\n",
       "      <td>81.168608</td>\n",
       "    </tr>\n",
       "    <tr>\n",
       "      <th>11</th>\n",
       "      <td>1984-12-01</td>\n",
       "      <td>166391.0</td>\n",
       "      <td>12</td>\n",
       "      <td>December</td>\n",
       "      <td>24</td>\n",
       "      <td>65</td>\n",
       "      <td>360327.041667</td>\n",
       "      <td>359236.981195</td>\n",
       "      <td>233504.037777</td>\n",
       "      <td>67113.037777</td>\n",
       "      <td>46.177772</td>\n",
       "      <td>54.968106</td>\n",
       "    </tr>\n",
       "    <tr>\n",
       "      <th>12</th>\n",
       "      <td>1985-01-01</td>\n",
       "      <td>629402.0</td>\n",
       "      <td>1</td>\n",
       "      <td>January</td>\n",
       "      <td>25</td>\n",
       "      <td>113</td>\n",
       "      <td>363092.375000</td>\n",
       "      <td>360847.622792</td>\n",
       "      <td>407757.813755</td>\n",
       "      <td>221644.186245</td>\n",
       "      <td>173.344869</td>\n",
       "      <td>154.602095</td>\n",
       "    </tr>\n",
       "    <tr>\n",
       "      <th>13</th>\n",
       "      <td>1985-02-01</td>\n",
       "      <td>263467.0</td>\n",
       "      <td>2</td>\n",
       "      <td>February</td>\n",
       "      <td>26</td>\n",
       "      <td>98</td>\n",
       "      <td>366088.166667</td>\n",
       "      <td>362458.264389</td>\n",
       "      <td>355209.099102</td>\n",
       "      <td>91742.099102</td>\n",
       "      <td>71.968183</td>\n",
       "      <td>68.887757</td>\n",
       "    </tr>\n",
       "    <tr>\n",
       "      <th>14</th>\n",
       "      <td>1985-03-01</td>\n",
       "      <td>398320.0</td>\n",
       "      <td>3</td>\n",
       "      <td>March</td>\n",
       "      <td>27</td>\n",
       "      <td>102</td>\n",
       "      <td>366698.666667</td>\n",
       "      <td>364068.905986</td>\n",
       "      <td>371350.284106</td>\n",
       "      <td>26969.715894</td>\n",
       "      <td>108.623247</td>\n",
       "      <td>119.966627</td>\n",
       "    </tr>\n",
       "    <tr>\n",
       "      <th>15</th>\n",
       "      <td>1985-04-01</td>\n",
       "      <td>376569.0</td>\n",
       "      <td>4</td>\n",
       "      <td>April</td>\n",
       "      <td>28</td>\n",
       "      <td>107</td>\n",
       "      <td>368112.458333</td>\n",
       "      <td>365679.547583</td>\n",
       "      <td>391277.115914</td>\n",
       "      <td>14708.115914</td>\n",
       "      <td>102.297271</td>\n",
       "      <td>95.971315</td>\n",
       "    </tr>\n",
       "    <tr>\n",
       "      <th>16</th>\n",
       "      <td>1985-05-01</td>\n",
       "      <td>444404.0</td>\n",
       "      <td>5</td>\n",
       "      <td>May</td>\n",
       "      <td>29</td>\n",
       "      <td>119</td>\n",
       "      <td>368524.583333</td>\n",
       "      <td>367290.189180</td>\n",
       "      <td>437075.325124</td>\n",
       "      <td>7328.674876</td>\n",
       "      <td>120.590056</td>\n",
       "      <td>121.894583</td>\n",
       "    </tr>\n",
       "    <tr>\n",
       "      <th>17</th>\n",
       "      <td>1985-06-01</td>\n",
       "      <td>386986.0</td>\n",
       "      <td>6</td>\n",
       "      <td>June</td>\n",
       "      <td>30</td>\n",
       "      <td>104</td>\n",
       "      <td>370608.625000</td>\n",
       "      <td>368900.830777</td>\n",
       "      <td>383656.864008</td>\n",
       "      <td>3329.135992</td>\n",
       "      <td>104.419049</td>\n",
       "      <td>92.577138</td>\n",
       "    </tr>\n",
       "    <tr>\n",
       "      <th>18</th>\n",
       "      <td>1985-07-01</td>\n",
       "      <td>414314.0</td>\n",
       "      <td>7</td>\n",
       "      <td>July</td>\n",
       "      <td>31</td>\n",
       "      <td>107</td>\n",
       "      <td>372389.416667</td>\n",
       "      <td>370511.472374</td>\n",
       "      <td>396447.275440</td>\n",
       "      <td>17866.724560</td>\n",
       "      <td>111.258264</td>\n",
       "      <td>106.286339</td>\n",
       "    </tr>\n",
       "    <tr>\n",
       "      <th>19</th>\n",
       "      <td>1985-08-01</td>\n",
       "      <td>253493.0</td>\n",
       "      <td>8</td>\n",
       "      <td>August</td>\n",
       "      <td>32</td>\n",
       "      <td>81</td>\n",
       "      <td>373779.500000</td>\n",
       "      <td>372122.113971</td>\n",
       "      <td>301418.912317</td>\n",
       "      <td>47925.912317</td>\n",
       "      <td>67.818861</td>\n",
       "      <td>72.757960</td>\n",
       "    </tr>\n",
       "    <tr>\n",
       "      <th>20</th>\n",
       "      <td>1985-09-01</td>\n",
       "      <td>484365.0</td>\n",
       "      <td>9</td>\n",
       "      <td>September</td>\n",
       "      <td>33</td>\n",
       "      <td>113</td>\n",
       "      <td>372685.916667</td>\n",
       "      <td>373732.755568</td>\n",
       "      <td>422318.013792</td>\n",
       "      <td>62046.986208</td>\n",
       "      <td>129.966006</td>\n",
       "      <td>130.764380</td>\n",
       "    </tr>\n",
       "    <tr>\n",
       "      <th>21</th>\n",
       "      <td>1985-10-01</td>\n",
       "      <td>305989.0</td>\n",
       "      <td>10</td>\n",
       "      <td>October</td>\n",
       "      <td>34</td>\n",
       "      <td>97</td>\n",
       "      <td>368656.916667</td>\n",
       "      <td>375343.397165</td>\n",
       "      <td>364083.095250</td>\n",
       "      <td>58094.095250</td>\n",
       "      <td>83.001020</td>\n",
       "      <td>86.392592</td>\n",
       "    </tr>\n",
       "    <tr>\n",
       "      <th>22</th>\n",
       "      <td>1985-11-01</td>\n",
       "      <td>315407.0</td>\n",
       "      <td>11</td>\n",
       "      <td>November</td>\n",
       "      <td>35</td>\n",
       "      <td>95</td>\n",
       "      <td>369505.750000</td>\n",
       "      <td>376954.038762</td>\n",
       "      <td>358106.336824</td>\n",
       "      <td>42699.336824</td>\n",
       "      <td>85.359159</td>\n",
       "      <td>81.168608</td>\n",
       "    </tr>\n",
       "    <tr>\n",
       "      <th>23</th>\n",
       "      <td>1985-12-01</td>\n",
       "      <td>182784.0</td>\n",
       "      <td>12</td>\n",
       "      <td>December</td>\n",
       "      <td>36</td>\n",
       "      <td>65</td>\n",
       "      <td>372700.583333</td>\n",
       "      <td>378564.680359</td>\n",
       "      <td>246067.042233</td>\n",
       "      <td>63283.042233</td>\n",
       "      <td>49.043122</td>\n",
       "      <td>54.968106</td>\n",
       "    </tr>\n",
       "    <tr>\n",
       "      <th>24</th>\n",
       "      <td>1986-01-01</td>\n",
       "      <td>655748.0</td>\n",
       "      <td>1</td>\n",
       "      <td>January</td>\n",
       "      <td>37</td>\n",
       "      <td>113</td>\n",
       "      <td>374809.500000</td>\n",
       "      <td>380175.321956</td>\n",
       "      <td>429598.113810</td>\n",
       "      <td>226149.886190</td>\n",
       "      <td>174.955010</td>\n",
       "      <td>154.602095</td>\n",
       "    </tr>\n",
       "    <tr>\n",
       "      <th>25</th>\n",
       "      <td>1986-02-01</td>\n",
       "      <td>270483.0</td>\n",
       "      <td>2</td>\n",
       "      <td>February</td>\n",
       "      <td>38</td>\n",
       "      <td>98</td>\n",
       "      <td>377258.125000</td>\n",
       "      <td>381785.963553</td>\n",
       "      <td>374150.244282</td>\n",
       "      <td>103667.244282</td>\n",
       "      <td>71.697064</td>\n",
       "      <td>68.887757</td>\n",
       "    </tr>\n",
       "    <tr>\n",
       "      <th>26</th>\n",
       "      <td>1986-03-01</td>\n",
       "      <td>365058.0</td>\n",
       "      <td>3</td>\n",
       "      <td>March</td>\n",
       "      <td>39</td>\n",
       "      <td>102</td>\n",
       "      <td>380091.958333</td>\n",
       "      <td>383396.605150</td>\n",
       "      <td>391064.537253</td>\n",
       "      <td>26006.537253</td>\n",
       "      <td>96.044652</td>\n",
       "      <td>119.966627</td>\n",
       "    </tr>\n",
       "    <tr>\n",
       "      <th>27</th>\n",
       "      <td>1986-04-01</td>\n",
       "      <td>313135.0</td>\n",
       "      <td>4</td>\n",
       "      <td>April</td>\n",
       "      <td>40</td>\n",
       "      <td>107</td>\n",
       "      <td>384126.375000</td>\n",
       "      <td>385007.246747</td>\n",
       "      <td>411957.754019</td>\n",
       "      <td>98822.754019</td>\n",
       "      <td>81.518745</td>\n",
       "      <td>95.971315</td>\n",
       "    </tr>\n",
       "    <tr>\n",
       "      <th>28</th>\n",
       "      <td>1986-05-01</td>\n",
       "      <td>528210.0</td>\n",
       "      <td>5</td>\n",
       "      <td>May</td>\n",
       "      <td>41</td>\n",
       "      <td>119</td>\n",
       "      <td>385577.958333</td>\n",
       "      <td>386617.888344</td>\n",
       "      <td>460075.287129</td>\n",
       "      <td>68134.712871</td>\n",
       "      <td>136.991752</td>\n",
       "      <td>121.894583</td>\n",
       "    </tr>\n",
       "    <tr>\n",
       "      <th>29</th>\n",
       "      <td>1986-06-01</td>\n",
       "      <td>379856.0</td>\n",
       "      <td>6</td>\n",
       "      <td>June</td>\n",
       "      <td>42</td>\n",
       "      <td>104</td>\n",
       "      <td>389707.875000</td>\n",
       "      <td>388228.529941</td>\n",
       "      <td>403757.671138</td>\n",
       "      <td>23901.671138</td>\n",
       "      <td>97.471985</td>\n",
       "      <td>92.577138</td>\n",
       "    </tr>\n",
       "    <tr>\n",
       "      <th>30</th>\n",
       "      <td>1986-07-01</td>\n",
       "      <td>472058.0</td>\n",
       "      <td>7</td>\n",
       "      <td>July</td>\n",
       "      <td>43</td>\n",
       "      <td>107</td>\n",
       "      <td>385270.583333</td>\n",
       "      <td>389839.171538</td>\n",
       "      <td>417127.913545</td>\n",
       "      <td>54930.086455</td>\n",
       "      <td>122.526354</td>\n",
       "      <td>106.286339</td>\n",
       "    </tr>\n",
       "    <tr>\n",
       "      <th>31</th>\n",
       "      <td>1986-08-01</td>\n",
       "      <td>254516.0</td>\n",
       "      <td>8</td>\n",
       "      <td>August</td>\n",
       "      <td>44</td>\n",
       "      <td>81</td>\n",
       "      <td>375957.041667</td>\n",
       "      <td>391449.813135</td>\n",
       "      <td>317074.348639</td>\n",
       "      <td>62558.348639</td>\n",
       "      <td>67.698160</td>\n",
       "      <td>72.757960</td>\n",
       "    </tr>\n",
       "    <tr>\n",
       "      <th>32</th>\n",
       "      <td>1986-09-01</td>\n",
       "      <td>551354.0</td>\n",
       "      <td>9</td>\n",
       "      <td>September</td>\n",
       "      <td>45</td>\n",
       "      <td>113</td>\n",
       "      <td>385716.750000</td>\n",
       "      <td>393060.454732</td>\n",
       "      <td>444158.313847</td>\n",
       "      <td>107195.686153</td>\n",
       "      <td>142.942716</td>\n",
       "      <td>130.764380</td>\n",
       "    </tr>\n",
       "    <tr>\n",
       "      <th>33</th>\n",
       "      <td>1986-10-01</td>\n",
       "      <td>335826.0</td>\n",
       "      <td>10</td>\n",
       "      <td>October</td>\n",
       "      <td>46</td>\n",
       "      <td>97</td>\n",
       "      <td>401272.666667</td>\n",
       "      <td>394671.096328</td>\n",
       "      <td>382830.963439</td>\n",
       "      <td>47004.963439</td>\n",
       "      <td>83.690226</td>\n",
       "      <td>86.392592</td>\n",
       "    </tr>\n",
       "    <tr>\n",
       "      <th>34</th>\n",
       "      <td>1986-11-01</td>\n",
       "      <td>320408.0</td>\n",
       "      <td>11</td>\n",
       "      <td>November</td>\n",
       "      <td>47</td>\n",
       "      <td>95</td>\n",
       "      <td>402986.916667</td>\n",
       "      <td>396281.737925</td>\n",
       "      <td>376467.651029</td>\n",
       "      <td>56059.651029</td>\n",
       "      <td>79.508288</td>\n",
       "      <td>81.168608</td>\n",
       "    </tr>\n",
       "    <tr>\n",
       "      <th>35</th>\n",
       "      <td>1986-12-01</td>\n",
       "      <td>276901.0</td>\n",
       "      <td>12</td>\n",
       "      <td>December</td>\n",
       "      <td>48</td>\n",
       "      <td>65</td>\n",
       "      <td>397369.958333</td>\n",
       "      <td>397892.379522</td>\n",
       "      <td>258630.046690</td>\n",
       "      <td>18270.953310</td>\n",
       "      <td>69.683426</td>\n",
       "      <td>54.968106</td>\n",
       "    </tr>\n",
       "    <tr>\n",
       "      <th>36</th>\n",
       "      <td>1987-01-01</td>\n",
       "      <td>455136.0</td>\n",
       "      <td>1</td>\n",
       "      <td>January</td>\n",
       "      <td>49</td>\n",
       "      <td>113</td>\n",
       "      <td>394035.291667</td>\n",
       "      <td>399503.021119</td>\n",
       "      <td>451438.413865</td>\n",
       "      <td>3697.586135</td>\n",
       "      <td>115.506405</td>\n",
       "      <td>154.602095</td>\n",
       "    </tr>\n",
       "    <tr>\n",
       "      <th>37</th>\n",
       "      <td>1987-02-01</td>\n",
       "      <td>247570.0</td>\n",
       "      <td>2</td>\n",
       "      <td>February</td>\n",
       "      <td>50</td>\n",
       "      <td>98</td>\n",
       "      <td>392980.583333</td>\n",
       "      <td>401113.662716</td>\n",
       "      <td>393091.389462</td>\n",
       "      <td>145521.389462</td>\n",
       "      <td>62.998023</td>\n",
       "      <td>68.887757</td>\n",
       "    </tr>\n",
       "    <tr>\n",
       "      <th>38</th>\n",
       "      <td>1987-03-01</td>\n",
       "      <td>622204.0</td>\n",
       "      <td>3</td>\n",
       "      <td>March</td>\n",
       "      <td>51</td>\n",
       "      <td>102</td>\n",
       "      <td>400822.041667</td>\n",
       "      <td>402724.304313</td>\n",
       "      <td>410778.790400</td>\n",
       "      <td>211425.209600</td>\n",
       "      <td>155.231982</td>\n",
       "      <td>119.966627</td>\n",
       "    </tr>\n",
       "    <tr>\n",
       "      <th>39</th>\n",
       "      <td>1987-04-01</td>\n",
       "      <td>429331.0</td>\n",
       "      <td>4</td>\n",
       "      <td>April</td>\n",
       "      <td>52</td>\n",
       "      <td>107</td>\n",
       "      <td>412429.916667</td>\n",
       "      <td>404334.945910</td>\n",
       "      <td>432638.392124</td>\n",
       "      <td>3307.392124</td>\n",
       "      <td>104.097929</td>\n",
       "      <td>95.971315</td>\n",
       "    </tr>\n",
       "    <tr>\n",
       "      <th>40</th>\n",
       "      <td>1987-05-01</td>\n",
       "      <td>453156.0</td>\n",
       "      <td>5</td>\n",
       "      <td>May</td>\n",
       "      <td>53</td>\n",
       "      <td>119</td>\n",
       "      <td>419193.208333</td>\n",
       "      <td>405945.587507</td>\n",
       "      <td>483075.249134</td>\n",
       "      <td>29919.249134</td>\n",
       "      <td>108.101942</td>\n",
       "      <td>121.894583</td>\n",
       "    </tr>\n",
       "    <tr>\n",
       "      <th>41</th>\n",
       "      <td>1987-06-01</td>\n",
       "      <td>320103.0</td>\n",
       "      <td>6</td>\n",
       "      <td>June</td>\n",
       "      <td>54</td>\n",
       "      <td>104</td>\n",
       "      <td>422074.625000</td>\n",
       "      <td>407556.229104</td>\n",
       "      <td>423858.478268</td>\n",
       "      <td>103755.478268</td>\n",
       "      <td>75.840380</td>\n",
       "      <td>92.577138</td>\n",
       "    </tr>\n",
       "    <tr>\n",
       "      <th>42</th>\n",
       "      <td>1987-07-01</td>\n",
       "      <td>451779.0</td>\n",
       "      <td>7</td>\n",
       "      <td>July</td>\n",
       "      <td>55</td>\n",
       "      <td>107</td>\n",
       "      <td>NaN</td>\n",
       "      <td>NaN</td>\n",
       "      <td>NaN</td>\n",
       "      <td>NaN</td>\n",
       "      <td>NaN</td>\n",
       "      <td>106.286339</td>\n",
       "    </tr>\n",
       "    <tr>\n",
       "      <th>43</th>\n",
       "      <td>1987-08-01</td>\n",
       "      <td>249482.0</td>\n",
       "      <td>8</td>\n",
       "      <td>August</td>\n",
       "      <td>56</td>\n",
       "      <td>81</td>\n",
       "      <td>NaN</td>\n",
       "      <td>NaN</td>\n",
       "      <td>NaN</td>\n",
       "      <td>NaN</td>\n",
       "      <td>NaN</td>\n",
       "      <td>72.757960</td>\n",
       "    </tr>\n",
       "    <tr>\n",
       "      <th>44</th>\n",
       "      <td>1987-09-01</td>\n",
       "      <td>744583.0</td>\n",
       "      <td>9</td>\n",
       "      <td>September</td>\n",
       "      <td>57</td>\n",
       "      <td>113</td>\n",
       "      <td>NaN</td>\n",
       "      <td>NaN</td>\n",
       "      <td>NaN</td>\n",
       "      <td>NaN</td>\n",
       "      <td>NaN</td>\n",
       "      <td>130.764380</td>\n",
       "    </tr>\n",
       "    <tr>\n",
       "      <th>45</th>\n",
       "      <td>1987-10-01</td>\n",
       "      <td>421186.0</td>\n",
       "      <td>10</td>\n",
       "      <td>October</td>\n",
       "      <td>58</td>\n",
       "      <td>97</td>\n",
       "      <td>NaN</td>\n",
       "      <td>NaN</td>\n",
       "      <td>NaN</td>\n",
       "      <td>NaN</td>\n",
       "      <td>NaN</td>\n",
       "      <td>86.392592</td>\n",
       "    </tr>\n",
       "    <tr>\n",
       "      <th>46</th>\n",
       "      <td>1987-11-01</td>\n",
       "      <td>397367.0</td>\n",
       "      <td>11</td>\n",
       "      <td>November</td>\n",
       "      <td>59</td>\n",
       "      <td>95</td>\n",
       "      <td>NaN</td>\n",
       "      <td>NaN</td>\n",
       "      <td>NaN</td>\n",
       "      <td>NaN</td>\n",
       "      <td>NaN</td>\n",
       "      <td>81.168608</td>\n",
       "    </tr>\n",
       "    <tr>\n",
       "      <th>47</th>\n",
       "      <td>1987-12-01</td>\n",
       "      <td>269096.0</td>\n",
       "      <td>12</td>\n",
       "      <td>December</td>\n",
       "      <td>60</td>\n",
       "      <td>65</td>\n",
       "      <td>NaN</td>\n",
       "      <td>NaN</td>\n",
       "      <td>NaN</td>\n",
       "      <td>NaN</td>\n",
       "      <td>NaN</td>\n",
       "      <td>54.968106</td>\n",
       "    </tr>\n",
       "  </tbody>\n",
       "</table>\n",
       "</div>"
      ],
      "text/plain": [
       "        Month  Case Shipments  Month of year Month name  Seq month number  \\\n",
       "0  1984-01-01        425075.0              1    January                13   \n",
       "1  1984-02-01        315305.0              2   February                14   \n",
       "2  1984-03-01        367286.0              3      March                15   \n",
       "3  1984-04-01        429432.0              4      April                16   \n",
       "4  1984-05-01        347874.0              5        May                17   \n",
       "5  1984-06-01        435529.0              6       June                18   \n",
       "6  1984-07-01        299403.0              7       July                19   \n",
       "7  1984-08-01        296505.0              8     August                20   \n",
       "8  1984-09-01        426701.0              9  September                21   \n",
       "9  1984-10-01        329722.0             10    October                22   \n",
       "10 1984-11-01        281783.0             11   November                23   \n",
       "11 1984-12-01        166391.0             12   December                24   \n",
       "12 1985-01-01        629402.0              1    January                25   \n",
       "13 1985-02-01        263467.0              2   February                26   \n",
       "14 1985-03-01        398320.0              3      March                27   \n",
       "15 1985-04-01        376569.0              4      April                28   \n",
       "16 1985-05-01        444404.0              5        May                29   \n",
       "17 1985-06-01        386986.0              6       June                30   \n",
       "18 1985-07-01        414314.0              7       July                31   \n",
       "19 1985-08-01        253493.0              8     August                32   \n",
       "20 1985-09-01        484365.0              9  September                33   \n",
       "21 1985-10-01        305989.0             10    October                34   \n",
       "22 1985-11-01        315407.0             11   November                35   \n",
       "23 1985-12-01        182784.0             12   December                36   \n",
       "24 1986-01-01        655748.0              1    January                37   \n",
       "25 1986-02-01        270483.0              2   February                38   \n",
       "26 1986-03-01        365058.0              3      March                39   \n",
       "27 1986-04-01        313135.0              4      April                40   \n",
       "28 1986-05-01        528210.0              5        May                41   \n",
       "29 1986-06-01        379856.0              6       June                42   \n",
       "30 1986-07-01        472058.0              7       July                43   \n",
       "31 1986-08-01        254516.0              8     August                44   \n",
       "32 1986-09-01        551354.0              9  September                45   \n",
       "33 1986-10-01        335826.0             10    October                46   \n",
       "34 1986-11-01        320408.0             11   November                47   \n",
       "35 1986-12-01        276901.0             12   December                48   \n",
       "36 1987-01-01        455136.0              1    January                49   \n",
       "37 1987-02-01        247570.0              2   February                50   \n",
       "38 1987-03-01        622204.0              3      March                51   \n",
       "39 1987-04-01        429331.0              4      April                52   \n",
       "40 1987-05-01        453156.0              5        May                53   \n",
       "41 1987-06-01        320103.0              6       June                54   \n",
       "42 1987-07-01        451779.0              7       July                55   \n",
       "43 1987-08-01        249482.0              8     August                56   \n",
       "44 1987-09-01        744583.0              9  September                57   \n",
       "45 1987-10-01        421186.0             10    October                58   \n",
       "46 1987-11-01        397367.0             11   November                59   \n",
       "47 1987-12-01        269096.0             12   December                60   \n",
       "\n",
       "    Industry SI  Deseasonalized Case Shipments  \\\n",
       "0           113                            NaN   \n",
       "1            98                            NaN   \n",
       "2           102                            NaN   \n",
       "3           107                            NaN   \n",
       "4           119                            NaN   \n",
       "5           104                            NaN   \n",
       "6           107                  351930.791667   \n",
       "7            81                  358284.500000   \n",
       "8           113                  357417.666667   \n",
       "9            97                  356508.125000   \n",
       "10           95                  358327.583333   \n",
       "11           65                  360327.041667   \n",
       "12          113                  363092.375000   \n",
       "13           98                  366088.166667   \n",
       "14          102                  366698.666667   \n",
       "15          107                  368112.458333   \n",
       "16          119                  368524.583333   \n",
       "17          104                  370608.625000   \n",
       "18          107                  372389.416667   \n",
       "19           81                  373779.500000   \n",
       "20          113                  372685.916667   \n",
       "21           97                  368656.916667   \n",
       "22           95                  369505.750000   \n",
       "23           65                  372700.583333   \n",
       "24          113                  374809.500000   \n",
       "25           98                  377258.125000   \n",
       "26          102                  380091.958333   \n",
       "27          107                  384126.375000   \n",
       "28          119                  385577.958333   \n",
       "29          104                  389707.875000   \n",
       "30          107                  385270.583333   \n",
       "31           81                  375957.041667   \n",
       "32          113                  385716.750000   \n",
       "33           97                  401272.666667   \n",
       "34           95                  402986.916667   \n",
       "35           65                  397369.958333   \n",
       "36          113                  394035.291667   \n",
       "37           98                  392980.583333   \n",
       "38          102                  400822.041667   \n",
       "39          107                  412429.916667   \n",
       "40          119                  419193.208333   \n",
       "41          104                  422074.625000   \n",
       "42          107                            NaN   \n",
       "43           81                            NaN   \n",
       "44          113                            NaN   \n",
       "45           97                            NaN   \n",
       "46           95                            NaN   \n",
       "47           65                            NaN   \n",
       "\n",
       "    M1 Predicted Deseasonalized Case Shipments  M1 Predicted Case Shipments  \\\n",
       "0                                          NaN                          NaN   \n",
       "1                                          NaN                          NaN   \n",
       "2                                          NaN                          NaN   \n",
       "3                                          NaN                          NaN   \n",
       "4                                          NaN                          NaN   \n",
       "5                                          NaN                          NaN   \n",
       "6                                351183.773211                375766.637335   \n",
       "7                                352794.414808                285763.475994   \n",
       "8                                354405.056405                400477.713737   \n",
       "9                                356015.698002                345335.227062   \n",
       "10                               357626.339599                339745.022619   \n",
       "11                               359236.981195                233504.037777   \n",
       "12                               360847.622792                407757.813755   \n",
       "13                               362458.264389                355209.099102   \n",
       "14                               364068.905986                371350.284106   \n",
       "15                               365679.547583                391277.115914   \n",
       "16                               367290.189180                437075.325124   \n",
       "17                               368900.830777                383656.864008   \n",
       "18                               370511.472374                396447.275440   \n",
       "19                               372122.113971                301418.912317   \n",
       "20                               373732.755568                422318.013792   \n",
       "21                               375343.397165                364083.095250   \n",
       "22                               376954.038762                358106.336824   \n",
       "23                               378564.680359                246067.042233   \n",
       "24                               380175.321956                429598.113810   \n",
       "25                               381785.963553                374150.244282   \n",
       "26                               383396.605150                391064.537253   \n",
       "27                               385007.246747                411957.754019   \n",
       "28                               386617.888344                460075.287129   \n",
       "29                               388228.529941                403757.671138   \n",
       "30                               389839.171538                417127.913545   \n",
       "31                               391449.813135                317074.348639   \n",
       "32                               393060.454732                444158.313847   \n",
       "33                               394671.096328                382830.963439   \n",
       "34                               396281.737925                376467.651029   \n",
       "35                               397892.379522                258630.046690   \n",
       "36                               399503.021119                451438.413865   \n",
       "37                               401113.662716                393091.389462   \n",
       "38                               402724.304313                410778.790400   \n",
       "39                               404334.945910                432638.392124   \n",
       "40                               405945.587507                483075.249134   \n",
       "41                               407556.229104                423858.478268   \n",
       "42                                         NaN                          NaN   \n",
       "43                                         NaN                          NaN   \n",
       "44                                         NaN                          NaN   \n",
       "45                                         NaN                          NaN   \n",
       "46                                         NaN                          NaN   \n",
       "47                                         NaN                          NaN   \n",
       "\n",
       "     M1 Abs Error  Data-driven seasonal factor  Data-driven SI  \n",
       "0             NaN                          NaN      154.602095  \n",
       "1             NaN                          NaN       68.887757  \n",
       "2             NaN                          NaN      119.966627  \n",
       "3             NaN                          NaN       95.971315  \n",
       "4             NaN                          NaN      121.894583  \n",
       "5             NaN                          NaN       92.577138  \n",
       "6    76363.637335                    85.074397      106.286339  \n",
       "7    10741.524006                    82.756859       72.757960  \n",
       "8    26223.286263                   119.384418      130.764380  \n",
       "9    15613.227062                    92.486532       86.392592  \n",
       "10   57962.022619                    78.638378       81.168608  \n",
       "11   67113.037777                    46.177772       54.968106  \n",
       "12  221644.186245                   173.344869      154.602095  \n",
       "13   91742.099102                    71.968183       68.887757  \n",
       "14   26969.715894                   108.623247      119.966627  \n",
       "15   14708.115914                   102.297271       95.971315  \n",
       "16    7328.674876                   120.590056      121.894583  \n",
       "17    3329.135992                   104.419049       92.577138  \n",
       "18   17866.724560                   111.258264      106.286339  \n",
       "19   47925.912317                    67.818861       72.757960  \n",
       "20   62046.986208                   129.966006      130.764380  \n",
       "21   58094.095250                    83.001020       86.392592  \n",
       "22   42699.336824                    85.359159       81.168608  \n",
       "23   63283.042233                    49.043122       54.968106  \n",
       "24  226149.886190                   174.955010      154.602095  \n",
       "25  103667.244282                    71.697064       68.887757  \n",
       "26   26006.537253                    96.044652      119.966627  \n",
       "27   98822.754019                    81.518745       95.971315  \n",
       "28   68134.712871                   136.991752      121.894583  \n",
       "29   23901.671138                    97.471985       92.577138  \n",
       "30   54930.086455                   122.526354      106.286339  \n",
       "31   62558.348639                    67.698160       72.757960  \n",
       "32  107195.686153                   142.942716      130.764380  \n",
       "33   47004.963439                    83.690226       86.392592  \n",
       "34   56059.651029                    79.508288       81.168608  \n",
       "35   18270.953310                    69.683426       54.968106  \n",
       "36    3697.586135                   115.506405      154.602095  \n",
       "37  145521.389462                    62.998023       68.887757  \n",
       "38  211425.209600                   155.231982      119.966627  \n",
       "39    3307.392124                   104.097929       95.971315  \n",
       "40   29919.249134                   108.101942      121.894583  \n",
       "41  103755.478268                    75.840380       92.577138  \n",
       "42            NaN                          NaN      106.286339  \n",
       "43            NaN                          NaN       72.757960  \n",
       "44            NaN                          NaN      130.764380  \n",
       "45            NaN                          NaN       86.392592  \n",
       "46            NaN                          NaN       81.168608  \n",
       "47            NaN                          NaN       54.968106  "
      ]
     },
     "execution_count": 37,
     "metadata": {},
     "output_type": "execute_result"
    }
   ],
   "source": [
    "harmon"
   ]
  },
  {
   "cell_type": "markdown",
   "metadata": {},
   "source": [
    "### Calculate predicted case shipments based the data-driven SI"
   ]
  },
  {
   "cell_type": "code",
   "execution_count": 38,
   "metadata": {},
   "outputs": [],
   "source": [
    "harmon['M2 Predicted Case Shipments'] = harmon['M1 Predicted Deseasonalized Case Shipments']*(harmon['Data-driven SI']/100)"
   ]
  },
  {
   "cell_type": "markdown",
   "metadata": {},
   "source": [
    "### Check data"
   ]
  },
  {
   "cell_type": "code",
   "execution_count": 39,
   "metadata": {},
   "outputs": [
    {
     "data": {
      "text/html": [
       "<div>\n",
       "<style scoped>\n",
       "    .dataframe tbody tr th:only-of-type {\n",
       "        vertical-align: middle;\n",
       "    }\n",
       "\n",
       "    .dataframe tbody tr th {\n",
       "        vertical-align: top;\n",
       "    }\n",
       "\n",
       "    .dataframe thead th {\n",
       "        text-align: right;\n",
       "    }\n",
       "</style>\n",
       "<table border=\"1\" class=\"dataframe\">\n",
       "  <thead>\n",
       "    <tr style=\"text-align: right;\">\n",
       "      <th></th>\n",
       "      <th>Month</th>\n",
       "      <th>Case Shipments</th>\n",
       "      <th>Month of year</th>\n",
       "      <th>Month name</th>\n",
       "      <th>Seq month number</th>\n",
       "      <th>Industry SI</th>\n",
       "      <th>Deseasonalized Case Shipments</th>\n",
       "      <th>M1 Predicted Deseasonalized Case Shipments</th>\n",
       "      <th>M1 Predicted Case Shipments</th>\n",
       "      <th>M1 Abs Error</th>\n",
       "      <th>Data-driven seasonal factor</th>\n",
       "      <th>Data-driven SI</th>\n",
       "      <th>M2 Predicted Case Shipments</th>\n",
       "    </tr>\n",
       "  </thead>\n",
       "  <tbody>\n",
       "    <tr>\n",
       "      <th>0</th>\n",
       "      <td>1984-01-01</td>\n",
       "      <td>425075.0</td>\n",
       "      <td>1</td>\n",
       "      <td>January</td>\n",
       "      <td>13</td>\n",
       "      <td>113</td>\n",
       "      <td>NaN</td>\n",
       "      <td>NaN</td>\n",
       "      <td>NaN</td>\n",
       "      <td>NaN</td>\n",
       "      <td>NaN</td>\n",
       "      <td>154.602095</td>\n",
       "      <td>NaN</td>\n",
       "    </tr>\n",
       "    <tr>\n",
       "      <th>1</th>\n",
       "      <td>1984-02-01</td>\n",
       "      <td>315305.0</td>\n",
       "      <td>2</td>\n",
       "      <td>February</td>\n",
       "      <td>14</td>\n",
       "      <td>98</td>\n",
       "      <td>NaN</td>\n",
       "      <td>NaN</td>\n",
       "      <td>NaN</td>\n",
       "      <td>NaN</td>\n",
       "      <td>NaN</td>\n",
       "      <td>68.887757</td>\n",
       "      <td>NaN</td>\n",
       "    </tr>\n",
       "    <tr>\n",
       "      <th>2</th>\n",
       "      <td>1984-03-01</td>\n",
       "      <td>367286.0</td>\n",
       "      <td>3</td>\n",
       "      <td>March</td>\n",
       "      <td>15</td>\n",
       "      <td>102</td>\n",
       "      <td>NaN</td>\n",
       "      <td>NaN</td>\n",
       "      <td>NaN</td>\n",
       "      <td>NaN</td>\n",
       "      <td>NaN</td>\n",
       "      <td>119.966627</td>\n",
       "      <td>NaN</td>\n",
       "    </tr>\n",
       "    <tr>\n",
       "      <th>3</th>\n",
       "      <td>1984-04-01</td>\n",
       "      <td>429432.0</td>\n",
       "      <td>4</td>\n",
       "      <td>April</td>\n",
       "      <td>16</td>\n",
       "      <td>107</td>\n",
       "      <td>NaN</td>\n",
       "      <td>NaN</td>\n",
       "      <td>NaN</td>\n",
       "      <td>NaN</td>\n",
       "      <td>NaN</td>\n",
       "      <td>95.971315</td>\n",
       "      <td>NaN</td>\n",
       "    </tr>\n",
       "    <tr>\n",
       "      <th>4</th>\n",
       "      <td>1984-05-01</td>\n",
       "      <td>347874.0</td>\n",
       "      <td>5</td>\n",
       "      <td>May</td>\n",
       "      <td>17</td>\n",
       "      <td>119</td>\n",
       "      <td>NaN</td>\n",
       "      <td>NaN</td>\n",
       "      <td>NaN</td>\n",
       "      <td>NaN</td>\n",
       "      <td>NaN</td>\n",
       "      <td>121.894583</td>\n",
       "      <td>NaN</td>\n",
       "    </tr>\n",
       "    <tr>\n",
       "      <th>5</th>\n",
       "      <td>1984-06-01</td>\n",
       "      <td>435529.0</td>\n",
       "      <td>6</td>\n",
       "      <td>June</td>\n",
       "      <td>18</td>\n",
       "      <td>104</td>\n",
       "      <td>NaN</td>\n",
       "      <td>NaN</td>\n",
       "      <td>NaN</td>\n",
       "      <td>NaN</td>\n",
       "      <td>NaN</td>\n",
       "      <td>92.577138</td>\n",
       "      <td>NaN</td>\n",
       "    </tr>\n",
       "    <tr>\n",
       "      <th>6</th>\n",
       "      <td>1984-07-01</td>\n",
       "      <td>299403.0</td>\n",
       "      <td>7</td>\n",
       "      <td>July</td>\n",
       "      <td>19</td>\n",
       "      <td>107</td>\n",
       "      <td>351930.791667</td>\n",
       "      <td>351183.773211</td>\n",
       "      <td>375766.637335</td>\n",
       "      <td>76363.637335</td>\n",
       "      <td>85.074397</td>\n",
       "      <td>106.286339</td>\n",
       "      <td>373260.374015</td>\n",
       "    </tr>\n",
       "    <tr>\n",
       "      <th>7</th>\n",
       "      <td>1984-08-01</td>\n",
       "      <td>296505.0</td>\n",
       "      <td>8</td>\n",
       "      <td>August</td>\n",
       "      <td>20</td>\n",
       "      <td>81</td>\n",
       "      <td>358284.500000</td>\n",
       "      <td>352794.414808</td>\n",
       "      <td>285763.475994</td>\n",
       "      <td>10741.524006</td>\n",
       "      <td>82.756859</td>\n",
       "      <td>72.757960</td>\n",
       "      <td>256686.019972</td>\n",
       "    </tr>\n",
       "    <tr>\n",
       "      <th>8</th>\n",
       "      <td>1984-09-01</td>\n",
       "      <td>426701.0</td>\n",
       "      <td>9</td>\n",
       "      <td>September</td>\n",
       "      <td>21</td>\n",
       "      <td>113</td>\n",
       "      <td>357417.666667</td>\n",
       "      <td>354405.056405</td>\n",
       "      <td>400477.713737</td>\n",
       "      <td>26223.286263</td>\n",
       "      <td>119.384418</td>\n",
       "      <td>130.764380</td>\n",
       "      <td>463435.574502</td>\n",
       "    </tr>\n",
       "    <tr>\n",
       "      <th>9</th>\n",
       "      <td>1984-10-01</td>\n",
       "      <td>329722.0</td>\n",
       "      <td>10</td>\n",
       "      <td>October</td>\n",
       "      <td>22</td>\n",
       "      <td>97</td>\n",
       "      <td>356508.125000</td>\n",
       "      <td>356015.698002</td>\n",
       "      <td>345335.227062</td>\n",
       "      <td>15613.227062</td>\n",
       "      <td>92.486532</td>\n",
       "      <td>86.392592</td>\n",
       "      <td>307571.190593</td>\n",
       "    </tr>\n",
       "    <tr>\n",
       "      <th>10</th>\n",
       "      <td>1984-11-01</td>\n",
       "      <td>281783.0</td>\n",
       "      <td>11</td>\n",
       "      <td>November</td>\n",
       "      <td>23</td>\n",
       "      <td>95</td>\n",
       "      <td>358327.583333</td>\n",
       "      <td>357626.339599</td>\n",
       "      <td>339745.022619</td>\n",
       "      <td>57962.022619</td>\n",
       "      <td>78.638378</td>\n",
       "      <td>81.168608</td>\n",
       "      <td>290280.323355</td>\n",
       "    </tr>\n",
       "    <tr>\n",
       "      <th>11</th>\n",
       "      <td>1984-12-01</td>\n",
       "      <td>166391.0</td>\n",
       "      <td>12</td>\n",
       "      <td>December</td>\n",
       "      <td>24</td>\n",
       "      <td>65</td>\n",
       "      <td>360327.041667</td>\n",
       "      <td>359236.981195</td>\n",
       "      <td>233504.037777</td>\n",
       "      <td>67113.037777</td>\n",
       "      <td>46.177772</td>\n",
       "      <td>54.968106</td>\n",
       "      <td>197465.766260</td>\n",
       "    </tr>\n",
       "    <tr>\n",
       "      <th>12</th>\n",
       "      <td>1985-01-01</td>\n",
       "      <td>629402.0</td>\n",
       "      <td>1</td>\n",
       "      <td>January</td>\n",
       "      <td>25</td>\n",
       "      <td>113</td>\n",
       "      <td>363092.375000</td>\n",
       "      <td>360847.622792</td>\n",
       "      <td>407757.813755</td>\n",
       "      <td>221644.186245</td>\n",
       "      <td>173.344869</td>\n",
       "      <td>154.602095</td>\n",
       "      <td>557877.983424</td>\n",
       "    </tr>\n",
       "    <tr>\n",
       "      <th>13</th>\n",
       "      <td>1985-02-01</td>\n",
       "      <td>263467.0</td>\n",
       "      <td>2</td>\n",
       "      <td>February</td>\n",
       "      <td>26</td>\n",
       "      <td>98</td>\n",
       "      <td>366088.166667</td>\n",
       "      <td>362458.264389</td>\n",
       "      <td>355209.099102</td>\n",
       "      <td>91742.099102</td>\n",
       "      <td>71.968183</td>\n",
       "      <td>68.887757</td>\n",
       "      <td>249689.367367</td>\n",
       "    </tr>\n",
       "    <tr>\n",
       "      <th>14</th>\n",
       "      <td>1985-03-01</td>\n",
       "      <td>398320.0</td>\n",
       "      <td>3</td>\n",
       "      <td>March</td>\n",
       "      <td>27</td>\n",
       "      <td>102</td>\n",
       "      <td>366698.666667</td>\n",
       "      <td>364068.905986</td>\n",
       "      <td>371350.284106</td>\n",
       "      <td>26969.715894</td>\n",
       "      <td>108.623247</td>\n",
       "      <td>119.966627</td>\n",
       "      <td>436761.187541</td>\n",
       "    </tr>\n",
       "    <tr>\n",
       "      <th>15</th>\n",
       "      <td>1985-04-01</td>\n",
       "      <td>376569.0</td>\n",
       "      <td>4</td>\n",
       "      <td>April</td>\n",
       "      <td>28</td>\n",
       "      <td>107</td>\n",
       "      <td>368112.458333</td>\n",
       "      <td>365679.547583</td>\n",
       "      <td>391277.115914</td>\n",
       "      <td>14708.115914</td>\n",
       "      <td>102.297271</td>\n",
       "      <td>95.971315</td>\n",
       "      <td>350947.470228</td>\n",
       "    </tr>\n",
       "    <tr>\n",
       "      <th>16</th>\n",
       "      <td>1985-05-01</td>\n",
       "      <td>444404.0</td>\n",
       "      <td>5</td>\n",
       "      <td>May</td>\n",
       "      <td>29</td>\n",
       "      <td>119</td>\n",
       "      <td>368524.583333</td>\n",
       "      <td>367290.189180</td>\n",
       "      <td>437075.325124</td>\n",
       "      <td>7328.674876</td>\n",
       "      <td>120.590056</td>\n",
       "      <td>121.894583</td>\n",
       "      <td>447706.845423</td>\n",
       "    </tr>\n",
       "    <tr>\n",
       "      <th>17</th>\n",
       "      <td>1985-06-01</td>\n",
       "      <td>386986.0</td>\n",
       "      <td>6</td>\n",
       "      <td>June</td>\n",
       "      <td>30</td>\n",
       "      <td>104</td>\n",
       "      <td>370608.625000</td>\n",
       "      <td>368900.830777</td>\n",
       "      <td>383656.864008</td>\n",
       "      <td>3329.135992</td>\n",
       "      <td>104.419049</td>\n",
       "      <td>92.577138</td>\n",
       "      <td>341517.830304</td>\n",
       "    </tr>\n",
       "    <tr>\n",
       "      <th>18</th>\n",
       "      <td>1985-07-01</td>\n",
       "      <td>414314.0</td>\n",
       "      <td>7</td>\n",
       "      <td>July</td>\n",
       "      <td>31</td>\n",
       "      <td>107</td>\n",
       "      <td>372389.416667</td>\n",
       "      <td>370511.472374</td>\n",
       "      <td>396447.275440</td>\n",
       "      <td>17866.724560</td>\n",
       "      <td>111.258264</td>\n",
       "      <td>106.286339</td>\n",
       "      <td>393803.077775</td>\n",
       "    </tr>\n",
       "    <tr>\n",
       "      <th>19</th>\n",
       "      <td>1985-08-01</td>\n",
       "      <td>253493.0</td>\n",
       "      <td>8</td>\n",
       "      <td>August</td>\n",
       "      <td>32</td>\n",
       "      <td>81</td>\n",
       "      <td>373779.500000</td>\n",
       "      <td>372122.113971</td>\n",
       "      <td>301418.912317</td>\n",
       "      <td>47925.912317</td>\n",
       "      <td>67.818861</td>\n",
       "      <td>72.757960</td>\n",
       "      <td>270748.459640</td>\n",
       "    </tr>\n",
       "    <tr>\n",
       "      <th>20</th>\n",
       "      <td>1985-09-01</td>\n",
       "      <td>484365.0</td>\n",
       "      <td>9</td>\n",
       "      <td>September</td>\n",
       "      <td>33</td>\n",
       "      <td>113</td>\n",
       "      <td>372685.916667</td>\n",
       "      <td>373732.755568</td>\n",
       "      <td>422318.013792</td>\n",
       "      <td>62046.986208</td>\n",
       "      <td>129.966006</td>\n",
       "      <td>130.764380</td>\n",
       "      <td>488709.320471</td>\n",
       "    </tr>\n",
       "    <tr>\n",
       "      <th>21</th>\n",
       "      <td>1985-10-01</td>\n",
       "      <td>305989.0</td>\n",
       "      <td>10</td>\n",
       "      <td>October</td>\n",
       "      <td>34</td>\n",
       "      <td>97</td>\n",
       "      <td>368656.916667</td>\n",
       "      <td>375343.397165</td>\n",
       "      <td>364083.095250</td>\n",
       "      <td>58094.095250</td>\n",
       "      <td>83.001020</td>\n",
       "      <td>86.392592</td>\n",
       "      <td>324268.890938</td>\n",
       "    </tr>\n",
       "    <tr>\n",
       "      <th>22</th>\n",
       "      <td>1985-11-01</td>\n",
       "      <td>315407.0</td>\n",
       "      <td>11</td>\n",
       "      <td>November</td>\n",
       "      <td>35</td>\n",
       "      <td>95</td>\n",
       "      <td>369505.750000</td>\n",
       "      <td>376954.038762</td>\n",
       "      <td>358106.336824</td>\n",
       "      <td>42699.336824</td>\n",
       "      <td>85.359159</td>\n",
       "      <td>81.168608</td>\n",
       "      <td>305968.347814</td>\n",
       "    </tr>\n",
       "    <tr>\n",
       "      <th>23</th>\n",
       "      <td>1985-12-01</td>\n",
       "      <td>182784.0</td>\n",
       "      <td>12</td>\n",
       "      <td>December</td>\n",
       "      <td>36</td>\n",
       "      <td>65</td>\n",
       "      <td>372700.583333</td>\n",
       "      <td>378564.680359</td>\n",
       "      <td>246067.042233</td>\n",
       "      <td>63283.042233</td>\n",
       "      <td>49.043122</td>\n",
       "      <td>54.968106</td>\n",
       "      <td>208089.836512</td>\n",
       "    </tr>\n",
       "    <tr>\n",
       "      <th>24</th>\n",
       "      <td>1986-01-01</td>\n",
       "      <td>655748.0</td>\n",
       "      <td>1</td>\n",
       "      <td>January</td>\n",
       "      <td>37</td>\n",
       "      <td>113</td>\n",
       "      <td>374809.500000</td>\n",
       "      <td>380175.321956</td>\n",
       "      <td>429598.113810</td>\n",
       "      <td>226149.886190</td>\n",
       "      <td>174.955010</td>\n",
       "      <td>154.602095</td>\n",
       "      <td>587759.011183</td>\n",
       "    </tr>\n",
       "    <tr>\n",
       "      <th>25</th>\n",
       "      <td>1986-02-01</td>\n",
       "      <td>270483.0</td>\n",
       "      <td>2</td>\n",
       "      <td>February</td>\n",
       "      <td>38</td>\n",
       "      <td>98</td>\n",
       "      <td>377258.125000</td>\n",
       "      <td>381785.963553</td>\n",
       "      <td>374150.244282</td>\n",
       "      <td>103667.244282</td>\n",
       "      <td>71.697064</td>\n",
       "      <td>68.887757</td>\n",
       "      <td>263003.785745</td>\n",
       "    </tr>\n",
       "    <tr>\n",
       "      <th>26</th>\n",
       "      <td>1986-03-01</td>\n",
       "      <td>365058.0</td>\n",
       "      <td>3</td>\n",
       "      <td>March</td>\n",
       "      <td>39</td>\n",
       "      <td>102</td>\n",
       "      <td>380091.958333</td>\n",
       "      <td>383396.605150</td>\n",
       "      <td>391064.537253</td>\n",
       "      <td>26006.537253</td>\n",
       "      <td>96.044652</td>\n",
       "      <td>119.966627</td>\n",
       "      <td>459947.976361</td>\n",
       "    </tr>\n",
       "    <tr>\n",
       "      <th>27</th>\n",
       "      <td>1986-04-01</td>\n",
       "      <td>313135.0</td>\n",
       "      <td>4</td>\n",
       "      <td>April</td>\n",
       "      <td>40</td>\n",
       "      <td>107</td>\n",
       "      <td>384126.375000</td>\n",
       "      <td>385007.246747</td>\n",
       "      <td>411957.754019</td>\n",
       "      <td>98822.754019</td>\n",
       "      <td>81.518745</td>\n",
       "      <td>95.971315</td>\n",
       "      <td>369496.517260</td>\n",
       "    </tr>\n",
       "    <tr>\n",
       "      <th>28</th>\n",
       "      <td>1986-05-01</td>\n",
       "      <td>528210.0</td>\n",
       "      <td>5</td>\n",
       "      <td>May</td>\n",
       "      <td>41</td>\n",
       "      <td>119</td>\n",
       "      <td>385577.958333</td>\n",
       "      <td>386617.888344</td>\n",
       "      <td>460075.287129</td>\n",
       "      <td>68134.712871</td>\n",
       "      <td>136.991752</td>\n",
       "      <td>121.894583</td>\n",
       "      <td>471266.263770</td>\n",
       "    </tr>\n",
       "    <tr>\n",
       "      <th>29</th>\n",
       "      <td>1986-06-01</td>\n",
       "      <td>379856.0</td>\n",
       "      <td>6</td>\n",
       "      <td>June</td>\n",
       "      <td>42</td>\n",
       "      <td>104</td>\n",
       "      <td>389707.875000</td>\n",
       "      <td>388228.529941</td>\n",
       "      <td>403757.671138</td>\n",
       "      <td>23901.671138</td>\n",
       "      <td>97.471985</td>\n",
       "      <td>92.577138</td>\n",
       "      <td>359410.860984</td>\n",
       "    </tr>\n",
       "    <tr>\n",
       "      <th>30</th>\n",
       "      <td>1986-07-01</td>\n",
       "      <td>472058.0</td>\n",
       "      <td>7</td>\n",
       "      <td>July</td>\n",
       "      <td>43</td>\n",
       "      <td>107</td>\n",
       "      <td>385270.583333</td>\n",
       "      <td>389839.171538</td>\n",
       "      <td>417127.913545</td>\n",
       "      <td>54930.086455</td>\n",
       "      <td>122.526354</td>\n",
       "      <td>106.286339</td>\n",
       "      <td>414345.781536</td>\n",
       "    </tr>\n",
       "    <tr>\n",
       "      <th>31</th>\n",
       "      <td>1986-08-01</td>\n",
       "      <td>254516.0</td>\n",
       "      <td>8</td>\n",
       "      <td>August</td>\n",
       "      <td>44</td>\n",
       "      <td>81</td>\n",
       "      <td>375957.041667</td>\n",
       "      <td>391449.813135</td>\n",
       "      <td>317074.348639</td>\n",
       "      <td>62558.348639</td>\n",
       "      <td>67.698160</td>\n",
       "      <td>72.757960</td>\n",
       "      <td>284810.899309</td>\n",
       "    </tr>\n",
       "    <tr>\n",
       "      <th>32</th>\n",
       "      <td>1986-09-01</td>\n",
       "      <td>551354.0</td>\n",
       "      <td>9</td>\n",
       "      <td>September</td>\n",
       "      <td>45</td>\n",
       "      <td>113</td>\n",
       "      <td>385716.750000</td>\n",
       "      <td>393060.454732</td>\n",
       "      <td>444158.313847</td>\n",
       "      <td>107195.686153</td>\n",
       "      <td>142.942716</td>\n",
       "      <td>130.764380</td>\n",
       "      <td>513983.066439</td>\n",
       "    </tr>\n",
       "    <tr>\n",
       "      <th>33</th>\n",
       "      <td>1986-10-01</td>\n",
       "      <td>335826.0</td>\n",
       "      <td>10</td>\n",
       "      <td>October</td>\n",
       "      <td>46</td>\n",
       "      <td>97</td>\n",
       "      <td>401272.666667</td>\n",
       "      <td>394671.096328</td>\n",
       "      <td>382830.963439</td>\n",
       "      <td>47004.963439</td>\n",
       "      <td>83.690226</td>\n",
       "      <td>86.392592</td>\n",
       "      <td>340966.591282</td>\n",
       "    </tr>\n",
       "    <tr>\n",
       "      <th>34</th>\n",
       "      <td>1986-11-01</td>\n",
       "      <td>320408.0</td>\n",
       "      <td>11</td>\n",
       "      <td>November</td>\n",
       "      <td>47</td>\n",
       "      <td>95</td>\n",
       "      <td>402986.916667</td>\n",
       "      <td>396281.737925</td>\n",
       "      <td>376467.651029</td>\n",
       "      <td>56059.651029</td>\n",
       "      <td>79.508288</td>\n",
       "      <td>81.168608</td>\n",
       "      <td>321656.372273</td>\n",
       "    </tr>\n",
       "    <tr>\n",
       "      <th>35</th>\n",
       "      <td>1986-12-01</td>\n",
       "      <td>276901.0</td>\n",
       "      <td>12</td>\n",
       "      <td>December</td>\n",
       "      <td>48</td>\n",
       "      <td>65</td>\n",
       "      <td>397369.958333</td>\n",
       "      <td>397892.379522</td>\n",
       "      <td>258630.046690</td>\n",
       "      <td>18270.953310</td>\n",
       "      <td>69.683426</td>\n",
       "      <td>54.968106</td>\n",
       "      <td>218713.906764</td>\n",
       "    </tr>\n",
       "    <tr>\n",
       "      <th>36</th>\n",
       "      <td>1987-01-01</td>\n",
       "      <td>455136.0</td>\n",
       "      <td>1</td>\n",
       "      <td>January</td>\n",
       "      <td>49</td>\n",
       "      <td>113</td>\n",
       "      <td>394035.291667</td>\n",
       "      <td>399503.021119</td>\n",
       "      <td>451438.413865</td>\n",
       "      <td>3697.586135</td>\n",
       "      <td>115.506405</td>\n",
       "      <td>154.602095</td>\n",
       "      <td>617640.038943</td>\n",
       "    </tr>\n",
       "    <tr>\n",
       "      <th>37</th>\n",
       "      <td>1987-02-01</td>\n",
       "      <td>247570.0</td>\n",
       "      <td>2</td>\n",
       "      <td>February</td>\n",
       "      <td>50</td>\n",
       "      <td>98</td>\n",
       "      <td>392980.583333</td>\n",
       "      <td>401113.662716</td>\n",
       "      <td>393091.389462</td>\n",
       "      <td>145521.389462</td>\n",
       "      <td>62.998023</td>\n",
       "      <td>68.887757</td>\n",
       "      <td>276318.204124</td>\n",
       "    </tr>\n",
       "    <tr>\n",
       "      <th>38</th>\n",
       "      <td>1987-03-01</td>\n",
       "      <td>622204.0</td>\n",
       "      <td>3</td>\n",
       "      <td>March</td>\n",
       "      <td>51</td>\n",
       "      <td>102</td>\n",
       "      <td>400822.041667</td>\n",
       "      <td>402724.304313</td>\n",
       "      <td>410778.790400</td>\n",
       "      <td>211425.209600</td>\n",
       "      <td>155.231982</td>\n",
       "      <td>119.966627</td>\n",
       "      <td>483134.765181</td>\n",
       "    </tr>\n",
       "    <tr>\n",
       "      <th>39</th>\n",
       "      <td>1987-04-01</td>\n",
       "      <td>429331.0</td>\n",
       "      <td>4</td>\n",
       "      <td>April</td>\n",
       "      <td>52</td>\n",
       "      <td>107</td>\n",
       "      <td>412429.916667</td>\n",
       "      <td>404334.945910</td>\n",
       "      <td>432638.392124</td>\n",
       "      <td>3307.392124</td>\n",
       "      <td>104.097929</td>\n",
       "      <td>95.971315</td>\n",
       "      <td>388045.564292</td>\n",
       "    </tr>\n",
       "    <tr>\n",
       "      <th>40</th>\n",
       "      <td>1987-05-01</td>\n",
       "      <td>453156.0</td>\n",
       "      <td>5</td>\n",
       "      <td>May</td>\n",
       "      <td>53</td>\n",
       "      <td>119</td>\n",
       "      <td>419193.208333</td>\n",
       "      <td>405945.587507</td>\n",
       "      <td>483075.249134</td>\n",
       "      <td>29919.249134</td>\n",
       "      <td>108.101942</td>\n",
       "      <td>121.894583</td>\n",
       "      <td>494825.682117</td>\n",
       "    </tr>\n",
       "    <tr>\n",
       "      <th>41</th>\n",
       "      <td>1987-06-01</td>\n",
       "      <td>320103.0</td>\n",
       "      <td>6</td>\n",
       "      <td>June</td>\n",
       "      <td>54</td>\n",
       "      <td>104</td>\n",
       "      <td>422074.625000</td>\n",
       "      <td>407556.229104</td>\n",
       "      <td>423858.478268</td>\n",
       "      <td>103755.478268</td>\n",
       "      <td>75.840380</td>\n",
       "      <td>92.577138</td>\n",
       "      <td>377303.891665</td>\n",
       "    </tr>\n",
       "    <tr>\n",
       "      <th>42</th>\n",
       "      <td>1987-07-01</td>\n",
       "      <td>451779.0</td>\n",
       "      <td>7</td>\n",
       "      <td>July</td>\n",
       "      <td>55</td>\n",
       "      <td>107</td>\n",
       "      <td>NaN</td>\n",
       "      <td>NaN</td>\n",
       "      <td>NaN</td>\n",
       "      <td>NaN</td>\n",
       "      <td>NaN</td>\n",
       "      <td>106.286339</td>\n",
       "      <td>NaN</td>\n",
       "    </tr>\n",
       "    <tr>\n",
       "      <th>43</th>\n",
       "      <td>1987-08-01</td>\n",
       "      <td>249482.0</td>\n",
       "      <td>8</td>\n",
       "      <td>August</td>\n",
       "      <td>56</td>\n",
       "      <td>81</td>\n",
       "      <td>NaN</td>\n",
       "      <td>NaN</td>\n",
       "      <td>NaN</td>\n",
       "      <td>NaN</td>\n",
       "      <td>NaN</td>\n",
       "      <td>72.757960</td>\n",
       "      <td>NaN</td>\n",
       "    </tr>\n",
       "    <tr>\n",
       "      <th>44</th>\n",
       "      <td>1987-09-01</td>\n",
       "      <td>744583.0</td>\n",
       "      <td>9</td>\n",
       "      <td>September</td>\n",
       "      <td>57</td>\n",
       "      <td>113</td>\n",
       "      <td>NaN</td>\n",
       "      <td>NaN</td>\n",
       "      <td>NaN</td>\n",
       "      <td>NaN</td>\n",
       "      <td>NaN</td>\n",
       "      <td>130.764380</td>\n",
       "      <td>NaN</td>\n",
       "    </tr>\n",
       "    <tr>\n",
       "      <th>45</th>\n",
       "      <td>1987-10-01</td>\n",
       "      <td>421186.0</td>\n",
       "      <td>10</td>\n",
       "      <td>October</td>\n",
       "      <td>58</td>\n",
       "      <td>97</td>\n",
       "      <td>NaN</td>\n",
       "      <td>NaN</td>\n",
       "      <td>NaN</td>\n",
       "      <td>NaN</td>\n",
       "      <td>NaN</td>\n",
       "      <td>86.392592</td>\n",
       "      <td>NaN</td>\n",
       "    </tr>\n",
       "    <tr>\n",
       "      <th>46</th>\n",
       "      <td>1987-11-01</td>\n",
       "      <td>397367.0</td>\n",
       "      <td>11</td>\n",
       "      <td>November</td>\n",
       "      <td>59</td>\n",
       "      <td>95</td>\n",
       "      <td>NaN</td>\n",
       "      <td>NaN</td>\n",
       "      <td>NaN</td>\n",
       "      <td>NaN</td>\n",
       "      <td>NaN</td>\n",
       "      <td>81.168608</td>\n",
       "      <td>NaN</td>\n",
       "    </tr>\n",
       "    <tr>\n",
       "      <th>47</th>\n",
       "      <td>1987-12-01</td>\n",
       "      <td>269096.0</td>\n",
       "      <td>12</td>\n",
       "      <td>December</td>\n",
       "      <td>60</td>\n",
       "      <td>65</td>\n",
       "      <td>NaN</td>\n",
       "      <td>NaN</td>\n",
       "      <td>NaN</td>\n",
       "      <td>NaN</td>\n",
       "      <td>NaN</td>\n",
       "      <td>54.968106</td>\n",
       "      <td>NaN</td>\n",
       "    </tr>\n",
       "  </tbody>\n",
       "</table>\n",
       "</div>"
      ],
      "text/plain": [
       "        Month  Case Shipments  Month of year Month name  Seq month number  \\\n",
       "0  1984-01-01        425075.0              1    January                13   \n",
       "1  1984-02-01        315305.0              2   February                14   \n",
       "2  1984-03-01        367286.0              3      March                15   \n",
       "3  1984-04-01        429432.0              4      April                16   \n",
       "4  1984-05-01        347874.0              5        May                17   \n",
       "5  1984-06-01        435529.0              6       June                18   \n",
       "6  1984-07-01        299403.0              7       July                19   \n",
       "7  1984-08-01        296505.0              8     August                20   \n",
       "8  1984-09-01        426701.0              9  September                21   \n",
       "9  1984-10-01        329722.0             10    October                22   \n",
       "10 1984-11-01        281783.0             11   November                23   \n",
       "11 1984-12-01        166391.0             12   December                24   \n",
       "12 1985-01-01        629402.0              1    January                25   \n",
       "13 1985-02-01        263467.0              2   February                26   \n",
       "14 1985-03-01        398320.0              3      March                27   \n",
       "15 1985-04-01        376569.0              4      April                28   \n",
       "16 1985-05-01        444404.0              5        May                29   \n",
       "17 1985-06-01        386986.0              6       June                30   \n",
       "18 1985-07-01        414314.0              7       July                31   \n",
       "19 1985-08-01        253493.0              8     August                32   \n",
       "20 1985-09-01        484365.0              9  September                33   \n",
       "21 1985-10-01        305989.0             10    October                34   \n",
       "22 1985-11-01        315407.0             11   November                35   \n",
       "23 1985-12-01        182784.0             12   December                36   \n",
       "24 1986-01-01        655748.0              1    January                37   \n",
       "25 1986-02-01        270483.0              2   February                38   \n",
       "26 1986-03-01        365058.0              3      March                39   \n",
       "27 1986-04-01        313135.0              4      April                40   \n",
       "28 1986-05-01        528210.0              5        May                41   \n",
       "29 1986-06-01        379856.0              6       June                42   \n",
       "30 1986-07-01        472058.0              7       July                43   \n",
       "31 1986-08-01        254516.0              8     August                44   \n",
       "32 1986-09-01        551354.0              9  September                45   \n",
       "33 1986-10-01        335826.0             10    October                46   \n",
       "34 1986-11-01        320408.0             11   November                47   \n",
       "35 1986-12-01        276901.0             12   December                48   \n",
       "36 1987-01-01        455136.0              1    January                49   \n",
       "37 1987-02-01        247570.0              2   February                50   \n",
       "38 1987-03-01        622204.0              3      March                51   \n",
       "39 1987-04-01        429331.0              4      April                52   \n",
       "40 1987-05-01        453156.0              5        May                53   \n",
       "41 1987-06-01        320103.0              6       June                54   \n",
       "42 1987-07-01        451779.0              7       July                55   \n",
       "43 1987-08-01        249482.0              8     August                56   \n",
       "44 1987-09-01        744583.0              9  September                57   \n",
       "45 1987-10-01        421186.0             10    October                58   \n",
       "46 1987-11-01        397367.0             11   November                59   \n",
       "47 1987-12-01        269096.0             12   December                60   \n",
       "\n",
       "    Industry SI  Deseasonalized Case Shipments  \\\n",
       "0           113                            NaN   \n",
       "1            98                            NaN   \n",
       "2           102                            NaN   \n",
       "3           107                            NaN   \n",
       "4           119                            NaN   \n",
       "5           104                            NaN   \n",
       "6           107                  351930.791667   \n",
       "7            81                  358284.500000   \n",
       "8           113                  357417.666667   \n",
       "9            97                  356508.125000   \n",
       "10           95                  358327.583333   \n",
       "11           65                  360327.041667   \n",
       "12          113                  363092.375000   \n",
       "13           98                  366088.166667   \n",
       "14          102                  366698.666667   \n",
       "15          107                  368112.458333   \n",
       "16          119                  368524.583333   \n",
       "17          104                  370608.625000   \n",
       "18          107                  372389.416667   \n",
       "19           81                  373779.500000   \n",
       "20          113                  372685.916667   \n",
       "21           97                  368656.916667   \n",
       "22           95                  369505.750000   \n",
       "23           65                  372700.583333   \n",
       "24          113                  374809.500000   \n",
       "25           98                  377258.125000   \n",
       "26          102                  380091.958333   \n",
       "27          107                  384126.375000   \n",
       "28          119                  385577.958333   \n",
       "29          104                  389707.875000   \n",
       "30          107                  385270.583333   \n",
       "31           81                  375957.041667   \n",
       "32          113                  385716.750000   \n",
       "33           97                  401272.666667   \n",
       "34           95                  402986.916667   \n",
       "35           65                  397369.958333   \n",
       "36          113                  394035.291667   \n",
       "37           98                  392980.583333   \n",
       "38          102                  400822.041667   \n",
       "39          107                  412429.916667   \n",
       "40          119                  419193.208333   \n",
       "41          104                  422074.625000   \n",
       "42          107                            NaN   \n",
       "43           81                            NaN   \n",
       "44          113                            NaN   \n",
       "45           97                            NaN   \n",
       "46           95                            NaN   \n",
       "47           65                            NaN   \n",
       "\n",
       "    M1 Predicted Deseasonalized Case Shipments  M1 Predicted Case Shipments  \\\n",
       "0                                          NaN                          NaN   \n",
       "1                                          NaN                          NaN   \n",
       "2                                          NaN                          NaN   \n",
       "3                                          NaN                          NaN   \n",
       "4                                          NaN                          NaN   \n",
       "5                                          NaN                          NaN   \n",
       "6                                351183.773211                375766.637335   \n",
       "7                                352794.414808                285763.475994   \n",
       "8                                354405.056405                400477.713737   \n",
       "9                                356015.698002                345335.227062   \n",
       "10                               357626.339599                339745.022619   \n",
       "11                               359236.981195                233504.037777   \n",
       "12                               360847.622792                407757.813755   \n",
       "13                               362458.264389                355209.099102   \n",
       "14                               364068.905986                371350.284106   \n",
       "15                               365679.547583                391277.115914   \n",
       "16                               367290.189180                437075.325124   \n",
       "17                               368900.830777                383656.864008   \n",
       "18                               370511.472374                396447.275440   \n",
       "19                               372122.113971                301418.912317   \n",
       "20                               373732.755568                422318.013792   \n",
       "21                               375343.397165                364083.095250   \n",
       "22                               376954.038762                358106.336824   \n",
       "23                               378564.680359                246067.042233   \n",
       "24                               380175.321956                429598.113810   \n",
       "25                               381785.963553                374150.244282   \n",
       "26                               383396.605150                391064.537253   \n",
       "27                               385007.246747                411957.754019   \n",
       "28                               386617.888344                460075.287129   \n",
       "29                               388228.529941                403757.671138   \n",
       "30                               389839.171538                417127.913545   \n",
       "31                               391449.813135                317074.348639   \n",
       "32                               393060.454732                444158.313847   \n",
       "33                               394671.096328                382830.963439   \n",
       "34                               396281.737925                376467.651029   \n",
       "35                               397892.379522                258630.046690   \n",
       "36                               399503.021119                451438.413865   \n",
       "37                               401113.662716                393091.389462   \n",
       "38                               402724.304313                410778.790400   \n",
       "39                               404334.945910                432638.392124   \n",
       "40                               405945.587507                483075.249134   \n",
       "41                               407556.229104                423858.478268   \n",
       "42                                         NaN                          NaN   \n",
       "43                                         NaN                          NaN   \n",
       "44                                         NaN                          NaN   \n",
       "45                                         NaN                          NaN   \n",
       "46                                         NaN                          NaN   \n",
       "47                                         NaN                          NaN   \n",
       "\n",
       "     M1 Abs Error  Data-driven seasonal factor  Data-driven SI  \\\n",
       "0             NaN                          NaN      154.602095   \n",
       "1             NaN                          NaN       68.887757   \n",
       "2             NaN                          NaN      119.966627   \n",
       "3             NaN                          NaN       95.971315   \n",
       "4             NaN                          NaN      121.894583   \n",
       "5             NaN                          NaN       92.577138   \n",
       "6    76363.637335                    85.074397      106.286339   \n",
       "7    10741.524006                    82.756859       72.757960   \n",
       "8    26223.286263                   119.384418      130.764380   \n",
       "9    15613.227062                    92.486532       86.392592   \n",
       "10   57962.022619                    78.638378       81.168608   \n",
       "11   67113.037777                    46.177772       54.968106   \n",
       "12  221644.186245                   173.344869      154.602095   \n",
       "13   91742.099102                    71.968183       68.887757   \n",
       "14   26969.715894                   108.623247      119.966627   \n",
       "15   14708.115914                   102.297271       95.971315   \n",
       "16    7328.674876                   120.590056      121.894583   \n",
       "17    3329.135992                   104.419049       92.577138   \n",
       "18   17866.724560                   111.258264      106.286339   \n",
       "19   47925.912317                    67.818861       72.757960   \n",
       "20   62046.986208                   129.966006      130.764380   \n",
       "21   58094.095250                    83.001020       86.392592   \n",
       "22   42699.336824                    85.359159       81.168608   \n",
       "23   63283.042233                    49.043122       54.968106   \n",
       "24  226149.886190                   174.955010      154.602095   \n",
       "25  103667.244282                    71.697064       68.887757   \n",
       "26   26006.537253                    96.044652      119.966627   \n",
       "27   98822.754019                    81.518745       95.971315   \n",
       "28   68134.712871                   136.991752      121.894583   \n",
       "29   23901.671138                    97.471985       92.577138   \n",
       "30   54930.086455                   122.526354      106.286339   \n",
       "31   62558.348639                    67.698160       72.757960   \n",
       "32  107195.686153                   142.942716      130.764380   \n",
       "33   47004.963439                    83.690226       86.392592   \n",
       "34   56059.651029                    79.508288       81.168608   \n",
       "35   18270.953310                    69.683426       54.968106   \n",
       "36    3697.586135                   115.506405      154.602095   \n",
       "37  145521.389462                    62.998023       68.887757   \n",
       "38  211425.209600                   155.231982      119.966627   \n",
       "39    3307.392124                   104.097929       95.971315   \n",
       "40   29919.249134                   108.101942      121.894583   \n",
       "41  103755.478268                    75.840380       92.577138   \n",
       "42            NaN                          NaN      106.286339   \n",
       "43            NaN                          NaN       72.757960   \n",
       "44            NaN                          NaN      130.764380   \n",
       "45            NaN                          NaN       86.392592   \n",
       "46            NaN                          NaN       81.168608   \n",
       "47            NaN                          NaN       54.968106   \n",
       "\n",
       "    M2 Predicted Case Shipments  \n",
       "0                           NaN  \n",
       "1                           NaN  \n",
       "2                           NaN  \n",
       "3                           NaN  \n",
       "4                           NaN  \n",
       "5                           NaN  \n",
       "6                 373260.374015  \n",
       "7                 256686.019972  \n",
       "8                 463435.574502  \n",
       "9                 307571.190593  \n",
       "10                290280.323355  \n",
       "11                197465.766260  \n",
       "12                557877.983424  \n",
       "13                249689.367367  \n",
       "14                436761.187541  \n",
       "15                350947.470228  \n",
       "16                447706.845423  \n",
       "17                341517.830304  \n",
       "18                393803.077775  \n",
       "19                270748.459640  \n",
       "20                488709.320471  \n",
       "21                324268.890938  \n",
       "22                305968.347814  \n",
       "23                208089.836512  \n",
       "24                587759.011183  \n",
       "25                263003.785745  \n",
       "26                459947.976361  \n",
       "27                369496.517260  \n",
       "28                471266.263770  \n",
       "29                359410.860984  \n",
       "30                414345.781536  \n",
       "31                284810.899309  \n",
       "32                513983.066439  \n",
       "33                340966.591282  \n",
       "34                321656.372273  \n",
       "35                218713.906764  \n",
       "36                617640.038943  \n",
       "37                276318.204124  \n",
       "38                483134.765181  \n",
       "39                388045.564292  \n",
       "40                494825.682117  \n",
       "41                377303.891665  \n",
       "42                          NaN  \n",
       "43                          NaN  \n",
       "44                          NaN  \n",
       "45                          NaN  \n",
       "46                          NaN  \n",
       "47                          NaN  "
      ]
     },
     "execution_count": 39,
     "metadata": {},
     "output_type": "execute_result"
    }
   ],
   "source": [
    "harmon"
   ]
  },
  {
   "cell_type": "markdown",
   "metadata": {},
   "source": [
    "### Calculate absolute error"
   ]
  },
  {
   "cell_type": "code",
   "execution_count": 40,
   "metadata": {},
   "outputs": [],
   "source": [
    "harmon['M2 Abs Error']= abs(harmon['M2 Predicted Case Shipments'] - harmon['Case Shipments'])"
   ]
  },
  {
   "cell_type": "markdown",
   "metadata": {},
   "source": [
    "### Plot case shipments and prediction from data-driven SI model"
   ]
  },
  {
   "cell_type": "code",
   "execution_count": 41,
   "metadata": {},
   "outputs": [
    {
     "data": {
      "application/vnd.plotly.v1+json": {
       "config": {
        "plotlyServerURL": "https://plot.ly"
       },
       "data": [
        {
         "mode": "lines+markers",
         "name": "Case Shipments",
         "type": "scatter",
         "x": [
          13,
          14,
          15,
          16,
          17,
          18,
          19,
          20,
          21,
          22,
          23,
          24,
          25,
          26,
          27,
          28,
          29,
          30,
          31,
          32,
          33,
          34,
          35,
          36,
          37,
          38,
          39,
          40,
          41,
          42,
          43,
          44,
          45,
          46,
          47,
          48,
          49,
          50,
          51,
          52,
          53,
          54,
          55,
          56,
          57,
          58,
          59,
          60
         ],
         "xaxis": "x",
         "y": [
          425075,
          315305,
          367286,
          429432,
          347874,
          435529,
          299403,
          296505,
          426701,
          329722,
          281783,
          166391,
          629402,
          263467,
          398320,
          376569,
          444404,
          386986,
          414314,
          253493,
          484365,
          305989,
          315407,
          182784,
          655748,
          270483,
          365058,
          313135,
          528210,
          379856,
          472058,
          254516,
          551354,
          335826,
          320408,
          276901,
          455136,
          247570,
          622204,
          429331,
          453156,
          320103,
          451779,
          249482,
          744583,
          421186,
          397367,
          269096
         ],
         "yaxis": "y"
        },
        {
         "mode": "lines+markers",
         "name": "M2 Predicted Case Shipments",
         "type": "scatter",
         "x": [
          13,
          14,
          15,
          16,
          17,
          18,
          19,
          20,
          21,
          22,
          23,
          24,
          25,
          26,
          27,
          28,
          29,
          30,
          31,
          32,
          33,
          34,
          35,
          36,
          37,
          38,
          39,
          40,
          41,
          42,
          43,
          44,
          45,
          46,
          47,
          48,
          49,
          50,
          51,
          52,
          53,
          54,
          55,
          56,
          57,
          58,
          59,
          60
         ],
         "xaxis": "x",
         "y": [
          null,
          null,
          null,
          null,
          null,
          null,
          373260.37401463016,
          256686.01997224503,
          463435.57450192195,
          307571.19059314847,
          290280.3233546012,
          197465.7662598757,
          557877.9834240678,
          249689.36736689074,
          436761.18754122365,
          350947.4702284193,
          447706.8454228792,
          341517.83030400326,
          393803.0777752129,
          270748.4596403769,
          488709.3204706791,
          324268.8909375361,
          305968.34781377506,
          208089.83651191372,
          587759.0111833509,
          263003.78574526357,
          459947.9763613165,
          369496.5172603793,
          471266.2637701622,
          359410.8609842625,
          414345.78153579566,
          284810.8993085087,
          513983.0664394362,
          340966.59128192376,
          321656.37227294885,
          218713.90676395173,
          617640.038942634,
          276318.2041236365,
          483134.76518140937,
          388045.5642923392,
          494825.6821174451,
          377303.89166452177,
          null,
          null,
          null,
          null,
          null,
          null
         ],
         "yaxis": "y"
        }
       ],
       "layout": {
        "template": {
         "data": {
          "bar": [
           {
            "error_x": {
             "color": "#2a3f5f"
            },
            "error_y": {
             "color": "#2a3f5f"
            },
            "marker": {
             "line": {
              "color": "#E5ECF6",
              "width": 0.5
             }
            },
            "type": "bar"
           }
          ],
          "barpolar": [
           {
            "marker": {
             "line": {
              "color": "#E5ECF6",
              "width": 0.5
             }
            },
            "type": "barpolar"
           }
          ],
          "carpet": [
           {
            "aaxis": {
             "endlinecolor": "#2a3f5f",
             "gridcolor": "white",
             "linecolor": "white",
             "minorgridcolor": "white",
             "startlinecolor": "#2a3f5f"
            },
            "baxis": {
             "endlinecolor": "#2a3f5f",
             "gridcolor": "white",
             "linecolor": "white",
             "minorgridcolor": "white",
             "startlinecolor": "#2a3f5f"
            },
            "type": "carpet"
           }
          ],
          "choropleth": [
           {
            "colorbar": {
             "outlinewidth": 0,
             "ticks": ""
            },
            "type": "choropleth"
           }
          ],
          "contour": [
           {
            "colorbar": {
             "outlinewidth": 0,
             "ticks": ""
            },
            "colorscale": [
             [
              0,
              "#0d0887"
             ],
             [
              0.1111111111111111,
              "#46039f"
             ],
             [
              0.2222222222222222,
              "#7201a8"
             ],
             [
              0.3333333333333333,
              "#9c179e"
             ],
             [
              0.4444444444444444,
              "#bd3786"
             ],
             [
              0.5555555555555556,
              "#d8576b"
             ],
             [
              0.6666666666666666,
              "#ed7953"
             ],
             [
              0.7777777777777778,
              "#fb9f3a"
             ],
             [
              0.8888888888888888,
              "#fdca26"
             ],
             [
              1,
              "#f0f921"
             ]
            ],
            "type": "contour"
           }
          ],
          "contourcarpet": [
           {
            "colorbar": {
             "outlinewidth": 0,
             "ticks": ""
            },
            "type": "contourcarpet"
           }
          ],
          "heatmap": [
           {
            "colorbar": {
             "outlinewidth": 0,
             "ticks": ""
            },
            "colorscale": [
             [
              0,
              "#0d0887"
             ],
             [
              0.1111111111111111,
              "#46039f"
             ],
             [
              0.2222222222222222,
              "#7201a8"
             ],
             [
              0.3333333333333333,
              "#9c179e"
             ],
             [
              0.4444444444444444,
              "#bd3786"
             ],
             [
              0.5555555555555556,
              "#d8576b"
             ],
             [
              0.6666666666666666,
              "#ed7953"
             ],
             [
              0.7777777777777778,
              "#fb9f3a"
             ],
             [
              0.8888888888888888,
              "#fdca26"
             ],
             [
              1,
              "#f0f921"
             ]
            ],
            "type": "heatmap"
           }
          ],
          "heatmapgl": [
           {
            "colorbar": {
             "outlinewidth": 0,
             "ticks": ""
            },
            "colorscale": [
             [
              0,
              "#0d0887"
             ],
             [
              0.1111111111111111,
              "#46039f"
             ],
             [
              0.2222222222222222,
              "#7201a8"
             ],
             [
              0.3333333333333333,
              "#9c179e"
             ],
             [
              0.4444444444444444,
              "#bd3786"
             ],
             [
              0.5555555555555556,
              "#d8576b"
             ],
             [
              0.6666666666666666,
              "#ed7953"
             ],
             [
              0.7777777777777778,
              "#fb9f3a"
             ],
             [
              0.8888888888888888,
              "#fdca26"
             ],
             [
              1,
              "#f0f921"
             ]
            ],
            "type": "heatmapgl"
           }
          ],
          "histogram": [
           {
            "marker": {
             "colorbar": {
              "outlinewidth": 0,
              "ticks": ""
             }
            },
            "type": "histogram"
           }
          ],
          "histogram2d": [
           {
            "colorbar": {
             "outlinewidth": 0,
             "ticks": ""
            },
            "colorscale": [
             [
              0,
              "#0d0887"
             ],
             [
              0.1111111111111111,
              "#46039f"
             ],
             [
              0.2222222222222222,
              "#7201a8"
             ],
             [
              0.3333333333333333,
              "#9c179e"
             ],
             [
              0.4444444444444444,
              "#bd3786"
             ],
             [
              0.5555555555555556,
              "#d8576b"
             ],
             [
              0.6666666666666666,
              "#ed7953"
             ],
             [
              0.7777777777777778,
              "#fb9f3a"
             ],
             [
              0.8888888888888888,
              "#fdca26"
             ],
             [
              1,
              "#f0f921"
             ]
            ],
            "type": "histogram2d"
           }
          ],
          "histogram2dcontour": [
           {
            "colorbar": {
             "outlinewidth": 0,
             "ticks": ""
            },
            "colorscale": [
             [
              0,
              "#0d0887"
             ],
             [
              0.1111111111111111,
              "#46039f"
             ],
             [
              0.2222222222222222,
              "#7201a8"
             ],
             [
              0.3333333333333333,
              "#9c179e"
             ],
             [
              0.4444444444444444,
              "#bd3786"
             ],
             [
              0.5555555555555556,
              "#d8576b"
             ],
             [
              0.6666666666666666,
              "#ed7953"
             ],
             [
              0.7777777777777778,
              "#fb9f3a"
             ],
             [
              0.8888888888888888,
              "#fdca26"
             ],
             [
              1,
              "#f0f921"
             ]
            ],
            "type": "histogram2dcontour"
           }
          ],
          "mesh3d": [
           {
            "colorbar": {
             "outlinewidth": 0,
             "ticks": ""
            },
            "type": "mesh3d"
           }
          ],
          "parcoords": [
           {
            "line": {
             "colorbar": {
              "outlinewidth": 0,
              "ticks": ""
             }
            },
            "type": "parcoords"
           }
          ],
          "pie": [
           {
            "automargin": true,
            "type": "pie"
           }
          ],
          "scatter": [
           {
            "marker": {
             "colorbar": {
              "outlinewidth": 0,
              "ticks": ""
             }
            },
            "type": "scatter"
           }
          ],
          "scatter3d": [
           {
            "line": {
             "colorbar": {
              "outlinewidth": 0,
              "ticks": ""
             }
            },
            "marker": {
             "colorbar": {
              "outlinewidth": 0,
              "ticks": ""
             }
            },
            "type": "scatter3d"
           }
          ],
          "scattercarpet": [
           {
            "marker": {
             "colorbar": {
              "outlinewidth": 0,
              "ticks": ""
             }
            },
            "type": "scattercarpet"
           }
          ],
          "scattergeo": [
           {
            "marker": {
             "colorbar": {
              "outlinewidth": 0,
              "ticks": ""
             }
            },
            "type": "scattergeo"
           }
          ],
          "scattergl": [
           {
            "marker": {
             "colorbar": {
              "outlinewidth": 0,
              "ticks": ""
             }
            },
            "type": "scattergl"
           }
          ],
          "scattermapbox": [
           {
            "marker": {
             "colorbar": {
              "outlinewidth": 0,
              "ticks": ""
             }
            },
            "type": "scattermapbox"
           }
          ],
          "scatterpolar": [
           {
            "marker": {
             "colorbar": {
              "outlinewidth": 0,
              "ticks": ""
             }
            },
            "type": "scatterpolar"
           }
          ],
          "scatterpolargl": [
           {
            "marker": {
             "colorbar": {
              "outlinewidth": 0,
              "ticks": ""
             }
            },
            "type": "scatterpolargl"
           }
          ],
          "scatterternary": [
           {
            "marker": {
             "colorbar": {
              "outlinewidth": 0,
              "ticks": ""
             }
            },
            "type": "scatterternary"
           }
          ],
          "surface": [
           {
            "colorbar": {
             "outlinewidth": 0,
             "ticks": ""
            },
            "colorscale": [
             [
              0,
              "#0d0887"
             ],
             [
              0.1111111111111111,
              "#46039f"
             ],
             [
              0.2222222222222222,
              "#7201a8"
             ],
             [
              0.3333333333333333,
              "#9c179e"
             ],
             [
              0.4444444444444444,
              "#bd3786"
             ],
             [
              0.5555555555555556,
              "#d8576b"
             ],
             [
              0.6666666666666666,
              "#ed7953"
             ],
             [
              0.7777777777777778,
              "#fb9f3a"
             ],
             [
              0.8888888888888888,
              "#fdca26"
             ],
             [
              1,
              "#f0f921"
             ]
            ],
            "type": "surface"
           }
          ],
          "table": [
           {
            "cells": {
             "fill": {
              "color": "#EBF0F8"
             },
             "line": {
              "color": "white"
             }
            },
            "header": {
             "fill": {
              "color": "#C8D4E3"
             },
             "line": {
              "color": "white"
             }
            },
            "type": "table"
           }
          ]
         },
         "layout": {
          "annotationdefaults": {
           "arrowcolor": "#2a3f5f",
           "arrowhead": 0,
           "arrowwidth": 1
          },
          "coloraxis": {
           "colorbar": {
            "outlinewidth": 0,
            "ticks": ""
           }
          },
          "colorscale": {
           "diverging": [
            [
             0,
             "#8e0152"
            ],
            [
             0.1,
             "#c51b7d"
            ],
            [
             0.2,
             "#de77ae"
            ],
            [
             0.3,
             "#f1b6da"
            ],
            [
             0.4,
             "#fde0ef"
            ],
            [
             0.5,
             "#f7f7f7"
            ],
            [
             0.6,
             "#e6f5d0"
            ],
            [
             0.7,
             "#b8e186"
            ],
            [
             0.8,
             "#7fbc41"
            ],
            [
             0.9,
             "#4d9221"
            ],
            [
             1,
             "#276419"
            ]
           ],
           "sequential": [
            [
             0,
             "#0d0887"
            ],
            [
             0.1111111111111111,
             "#46039f"
            ],
            [
             0.2222222222222222,
             "#7201a8"
            ],
            [
             0.3333333333333333,
             "#9c179e"
            ],
            [
             0.4444444444444444,
             "#bd3786"
            ],
            [
             0.5555555555555556,
             "#d8576b"
            ],
            [
             0.6666666666666666,
             "#ed7953"
            ],
            [
             0.7777777777777778,
             "#fb9f3a"
            ],
            [
             0.8888888888888888,
             "#fdca26"
            ],
            [
             1,
             "#f0f921"
            ]
           ],
           "sequentialminus": [
            [
             0,
             "#0d0887"
            ],
            [
             0.1111111111111111,
             "#46039f"
            ],
            [
             0.2222222222222222,
             "#7201a8"
            ],
            [
             0.3333333333333333,
             "#9c179e"
            ],
            [
             0.4444444444444444,
             "#bd3786"
            ],
            [
             0.5555555555555556,
             "#d8576b"
            ],
            [
             0.6666666666666666,
             "#ed7953"
            ],
            [
             0.7777777777777778,
             "#fb9f3a"
            ],
            [
             0.8888888888888888,
             "#fdca26"
            ],
            [
             1,
             "#f0f921"
            ]
           ]
          },
          "colorway": [
           "#636efa",
           "#EF553B",
           "#00cc96",
           "#ab63fa",
           "#FFA15A",
           "#19d3f3",
           "#FF6692",
           "#B6E880",
           "#FF97FF",
           "#FECB52"
          ],
          "font": {
           "color": "#2a3f5f"
          },
          "geo": {
           "bgcolor": "white",
           "lakecolor": "white",
           "landcolor": "#E5ECF6",
           "showlakes": true,
           "showland": true,
           "subunitcolor": "white"
          },
          "hoverlabel": {
           "align": "left"
          },
          "hovermode": "closest",
          "mapbox": {
           "style": "light"
          },
          "paper_bgcolor": "white",
          "plot_bgcolor": "#E5ECF6",
          "polar": {
           "angularaxis": {
            "gridcolor": "white",
            "linecolor": "white",
            "ticks": ""
           },
           "bgcolor": "#E5ECF6",
           "radialaxis": {
            "gridcolor": "white",
            "linecolor": "white",
            "ticks": ""
           }
          },
          "scene": {
           "xaxis": {
            "backgroundcolor": "#E5ECF6",
            "gridcolor": "white",
            "gridwidth": 2,
            "linecolor": "white",
            "showbackground": true,
            "ticks": "",
            "zerolinecolor": "white"
           },
           "yaxis": {
            "backgroundcolor": "#E5ECF6",
            "gridcolor": "white",
            "gridwidth": 2,
            "linecolor": "white",
            "showbackground": true,
            "ticks": "",
            "zerolinecolor": "white"
           },
           "zaxis": {
            "backgroundcolor": "#E5ECF6",
            "gridcolor": "white",
            "gridwidth": 2,
            "linecolor": "white",
            "showbackground": true,
            "ticks": "",
            "zerolinecolor": "white"
           }
          },
          "shapedefaults": {
           "line": {
            "color": "#2a3f5f"
           }
          },
          "ternary": {
           "aaxis": {
            "gridcolor": "white",
            "linecolor": "white",
            "ticks": ""
           },
           "baxis": {
            "gridcolor": "white",
            "linecolor": "white",
            "ticks": ""
           },
           "bgcolor": "#E5ECF6",
           "caxis": {
            "gridcolor": "white",
            "linecolor": "white",
            "ticks": ""
           }
          },
          "title": {
           "x": 0.05
          },
          "xaxis": {
           "automargin": true,
           "gridcolor": "white",
           "linecolor": "white",
           "ticks": "",
           "title": {
            "standoff": 15
           },
           "zerolinecolor": "white",
           "zerolinewidth": 2
          },
          "yaxis": {
           "automargin": true,
           "gridcolor": "white",
           "linecolor": "white",
           "ticks": "",
           "title": {
            "standoff": 15
           },
           "zerolinecolor": "white",
           "zerolinewidth": 2
          }
         }
        },
        "xaxis": {
         "anchor": "y",
         "domain": [
          0,
          0.94
         ]
        },
        "yaxis": {
         "anchor": "x",
         "domain": [
          0,
          1
         ]
        },
        "yaxis2": {
         "anchor": "x",
         "overlaying": "y",
         "side": "right"
        }
       }
      },
      "text/html": [
       "<div>                            <div id=\"5695ef81-6eb4-407d-bc11-0baddbe6da02\" class=\"plotly-graph-div\" style=\"height:525px; width:100%;\"></div>            <script type=\"text/javascript\">                require([\"plotly\"], function(Plotly) {                    window.PLOTLYENV=window.PLOTLYENV || {};                                    if (document.getElementById(\"5695ef81-6eb4-407d-bc11-0baddbe6da02\")) {                    Plotly.newPlot(                        \"5695ef81-6eb4-407d-bc11-0baddbe6da02\",                        [{\"mode\": \"lines+markers\", \"name\": \"Case Shipments\", \"type\": \"scatter\", \"x\": [13, 14, 15, 16, 17, 18, 19, 20, 21, 22, 23, 24, 25, 26, 27, 28, 29, 30, 31, 32, 33, 34, 35, 36, 37, 38, 39, 40, 41, 42, 43, 44, 45, 46, 47, 48, 49, 50, 51, 52, 53, 54, 55, 56, 57, 58, 59, 60], \"xaxis\": \"x\", \"y\": [425075.0, 315305.0, 367286.0, 429432.0, 347874.0, 435529.0, 299403.0, 296505.0, 426701.0, 329722.0, 281783.0, 166391.0, 629402.0, 263467.0, 398320.0, 376569.0, 444404.0, 386986.0, 414314.0, 253493.0, 484365.0, 305989.0, 315407.0, 182784.0, 655748.0, 270483.0, 365058.0, 313135.0, 528210.0, 379856.0, 472058.0, 254516.0, 551354.0, 335826.0, 320408.0, 276901.0, 455136.0, 247570.0, 622204.0, 429331.0, 453156.0, 320103.0, 451779.0, 249482.0, 744583.0, 421186.0, 397367.0, 269096.0], \"yaxis\": \"y\"}, {\"mode\": \"lines+markers\", \"name\": \"M2 Predicted Case Shipments\", \"type\": \"scatter\", \"x\": [13, 14, 15, 16, 17, 18, 19, 20, 21, 22, 23, 24, 25, 26, 27, 28, 29, 30, 31, 32, 33, 34, 35, 36, 37, 38, 39, 40, 41, 42, 43, 44, 45, 46, 47, 48, 49, 50, 51, 52, 53, 54, 55, 56, 57, 58, 59, 60], \"xaxis\": \"x\", \"y\": [null, null, null, null, null, null, 373260.37401463016, 256686.01997224503, 463435.57450192195, 307571.19059314847, 290280.3233546012, 197465.7662598757, 557877.9834240678, 249689.36736689074, 436761.18754122365, 350947.4702284193, 447706.8454228792, 341517.83030400326, 393803.0777752129, 270748.4596403769, 488709.3204706791, 324268.8909375361, 305968.34781377506, 208089.83651191372, 587759.0111833509, 263003.78574526357, 459947.9763613165, 369496.5172603793, 471266.2637701622, 359410.8609842625, 414345.78153579566, 284810.8993085087, 513983.0664394362, 340966.59128192376, 321656.37227294885, 218713.90676395173, 617640.038942634, 276318.2041236365, 483134.76518140937, 388045.5642923392, 494825.6821174451, 377303.89166452177, null, null, null, null, null, null], \"yaxis\": \"y\"}],                        {\"template\": {\"data\": {\"bar\": [{\"error_x\": {\"color\": \"#2a3f5f\"}, \"error_y\": {\"color\": \"#2a3f5f\"}, \"marker\": {\"line\": {\"color\": \"#E5ECF6\", \"width\": 0.5}}, \"type\": \"bar\"}], \"barpolar\": [{\"marker\": {\"line\": {\"color\": \"#E5ECF6\", \"width\": 0.5}}, \"type\": \"barpolar\"}], \"carpet\": [{\"aaxis\": {\"endlinecolor\": \"#2a3f5f\", \"gridcolor\": \"white\", \"linecolor\": \"white\", \"minorgridcolor\": \"white\", \"startlinecolor\": \"#2a3f5f\"}, \"baxis\": {\"endlinecolor\": \"#2a3f5f\", \"gridcolor\": \"white\", \"linecolor\": \"white\", \"minorgridcolor\": \"white\", \"startlinecolor\": \"#2a3f5f\"}, \"type\": \"carpet\"}], \"choropleth\": [{\"colorbar\": {\"outlinewidth\": 0, \"ticks\": \"\"}, \"type\": \"choropleth\"}], \"contour\": [{\"colorbar\": {\"outlinewidth\": 0, \"ticks\": \"\"}, \"colorscale\": [[0.0, \"#0d0887\"], [0.1111111111111111, \"#46039f\"], [0.2222222222222222, \"#7201a8\"], [0.3333333333333333, \"#9c179e\"], [0.4444444444444444, \"#bd3786\"], [0.5555555555555556, \"#d8576b\"], [0.6666666666666666, \"#ed7953\"], [0.7777777777777778, \"#fb9f3a\"], [0.8888888888888888, \"#fdca26\"], [1.0, \"#f0f921\"]], \"type\": \"contour\"}], \"contourcarpet\": [{\"colorbar\": {\"outlinewidth\": 0, \"ticks\": \"\"}, \"type\": \"contourcarpet\"}], \"heatmap\": [{\"colorbar\": {\"outlinewidth\": 0, \"ticks\": \"\"}, \"colorscale\": [[0.0, \"#0d0887\"], [0.1111111111111111, \"#46039f\"], [0.2222222222222222, \"#7201a8\"], [0.3333333333333333, \"#9c179e\"], [0.4444444444444444, \"#bd3786\"], [0.5555555555555556, \"#d8576b\"], [0.6666666666666666, \"#ed7953\"], [0.7777777777777778, \"#fb9f3a\"], [0.8888888888888888, \"#fdca26\"], [1.0, \"#f0f921\"]], \"type\": \"heatmap\"}], \"heatmapgl\": [{\"colorbar\": {\"outlinewidth\": 0, \"ticks\": \"\"}, \"colorscale\": [[0.0, \"#0d0887\"], [0.1111111111111111, \"#46039f\"], [0.2222222222222222, \"#7201a8\"], [0.3333333333333333, \"#9c179e\"], [0.4444444444444444, \"#bd3786\"], [0.5555555555555556, \"#d8576b\"], [0.6666666666666666, \"#ed7953\"], [0.7777777777777778, \"#fb9f3a\"], [0.8888888888888888, \"#fdca26\"], [1.0, \"#f0f921\"]], \"type\": \"heatmapgl\"}], \"histogram\": [{\"marker\": {\"colorbar\": {\"outlinewidth\": 0, \"ticks\": \"\"}}, \"type\": \"histogram\"}], \"histogram2d\": [{\"colorbar\": {\"outlinewidth\": 0, \"ticks\": \"\"}, \"colorscale\": [[0.0, \"#0d0887\"], [0.1111111111111111, \"#46039f\"], [0.2222222222222222, \"#7201a8\"], [0.3333333333333333, \"#9c179e\"], [0.4444444444444444, \"#bd3786\"], [0.5555555555555556, \"#d8576b\"], [0.6666666666666666, \"#ed7953\"], [0.7777777777777778, \"#fb9f3a\"], [0.8888888888888888, \"#fdca26\"], [1.0, \"#f0f921\"]], \"type\": \"histogram2d\"}], \"histogram2dcontour\": [{\"colorbar\": {\"outlinewidth\": 0, \"ticks\": \"\"}, \"colorscale\": [[0.0, \"#0d0887\"], [0.1111111111111111, \"#46039f\"], [0.2222222222222222, \"#7201a8\"], [0.3333333333333333, \"#9c179e\"], [0.4444444444444444, \"#bd3786\"], [0.5555555555555556, \"#d8576b\"], [0.6666666666666666, \"#ed7953\"], [0.7777777777777778, \"#fb9f3a\"], [0.8888888888888888, \"#fdca26\"], [1.0, \"#f0f921\"]], \"type\": \"histogram2dcontour\"}], \"mesh3d\": [{\"colorbar\": {\"outlinewidth\": 0, \"ticks\": \"\"}, \"type\": \"mesh3d\"}], \"parcoords\": [{\"line\": {\"colorbar\": {\"outlinewidth\": 0, \"ticks\": \"\"}}, \"type\": \"parcoords\"}], \"pie\": [{\"automargin\": true, \"type\": \"pie\"}], \"scatter\": [{\"marker\": {\"colorbar\": {\"outlinewidth\": 0, \"ticks\": \"\"}}, \"type\": \"scatter\"}], \"scatter3d\": [{\"line\": {\"colorbar\": {\"outlinewidth\": 0, \"ticks\": \"\"}}, \"marker\": {\"colorbar\": {\"outlinewidth\": 0, \"ticks\": \"\"}}, \"type\": \"scatter3d\"}], \"scattercarpet\": [{\"marker\": {\"colorbar\": {\"outlinewidth\": 0, \"ticks\": \"\"}}, \"type\": \"scattercarpet\"}], \"scattergeo\": [{\"marker\": {\"colorbar\": {\"outlinewidth\": 0, \"ticks\": \"\"}}, \"type\": \"scattergeo\"}], \"scattergl\": [{\"marker\": {\"colorbar\": {\"outlinewidth\": 0, \"ticks\": \"\"}}, \"type\": \"scattergl\"}], \"scattermapbox\": [{\"marker\": {\"colorbar\": {\"outlinewidth\": 0, \"ticks\": \"\"}}, \"type\": \"scattermapbox\"}], \"scatterpolar\": [{\"marker\": {\"colorbar\": {\"outlinewidth\": 0, \"ticks\": \"\"}}, \"type\": \"scatterpolar\"}], \"scatterpolargl\": [{\"marker\": {\"colorbar\": {\"outlinewidth\": 0, \"ticks\": \"\"}}, \"type\": \"scatterpolargl\"}], \"scatterternary\": [{\"marker\": {\"colorbar\": {\"outlinewidth\": 0, \"ticks\": \"\"}}, \"type\": \"scatterternary\"}], \"surface\": [{\"colorbar\": {\"outlinewidth\": 0, \"ticks\": \"\"}, \"colorscale\": [[0.0, \"#0d0887\"], [0.1111111111111111, \"#46039f\"], [0.2222222222222222, \"#7201a8\"], [0.3333333333333333, \"#9c179e\"], [0.4444444444444444, \"#bd3786\"], [0.5555555555555556, \"#d8576b\"], [0.6666666666666666, \"#ed7953\"], [0.7777777777777778, \"#fb9f3a\"], [0.8888888888888888, \"#fdca26\"], [1.0, \"#f0f921\"]], \"type\": \"surface\"}], \"table\": [{\"cells\": {\"fill\": {\"color\": \"#EBF0F8\"}, \"line\": {\"color\": \"white\"}}, \"header\": {\"fill\": {\"color\": \"#C8D4E3\"}, \"line\": {\"color\": \"white\"}}, \"type\": \"table\"}]}, \"layout\": {\"annotationdefaults\": {\"arrowcolor\": \"#2a3f5f\", \"arrowhead\": 0, \"arrowwidth\": 1}, \"coloraxis\": {\"colorbar\": {\"outlinewidth\": 0, \"ticks\": \"\"}}, \"colorscale\": {\"diverging\": [[0, \"#8e0152\"], [0.1, \"#c51b7d\"], [0.2, \"#de77ae\"], [0.3, \"#f1b6da\"], [0.4, \"#fde0ef\"], [0.5, \"#f7f7f7\"], [0.6, \"#e6f5d0\"], [0.7, \"#b8e186\"], [0.8, \"#7fbc41\"], [0.9, \"#4d9221\"], [1, \"#276419\"]], \"sequential\": [[0.0, \"#0d0887\"], [0.1111111111111111, \"#46039f\"], [0.2222222222222222, \"#7201a8\"], [0.3333333333333333, \"#9c179e\"], [0.4444444444444444, \"#bd3786\"], [0.5555555555555556, \"#d8576b\"], [0.6666666666666666, \"#ed7953\"], [0.7777777777777778, \"#fb9f3a\"], [0.8888888888888888, \"#fdca26\"], [1.0, \"#f0f921\"]], \"sequentialminus\": [[0.0, \"#0d0887\"], [0.1111111111111111, \"#46039f\"], [0.2222222222222222, \"#7201a8\"], [0.3333333333333333, \"#9c179e\"], [0.4444444444444444, \"#bd3786\"], [0.5555555555555556, \"#d8576b\"], [0.6666666666666666, \"#ed7953\"], [0.7777777777777778, \"#fb9f3a\"], [0.8888888888888888, \"#fdca26\"], [1.0, \"#f0f921\"]]}, \"colorway\": [\"#636efa\", \"#EF553B\", \"#00cc96\", \"#ab63fa\", \"#FFA15A\", \"#19d3f3\", \"#FF6692\", \"#B6E880\", \"#FF97FF\", \"#FECB52\"], \"font\": {\"color\": \"#2a3f5f\"}, \"geo\": {\"bgcolor\": \"white\", \"lakecolor\": \"white\", \"landcolor\": \"#E5ECF6\", \"showlakes\": true, \"showland\": true, \"subunitcolor\": \"white\"}, \"hoverlabel\": {\"align\": \"left\"}, \"hovermode\": \"closest\", \"mapbox\": {\"style\": \"light\"}, \"paper_bgcolor\": \"white\", \"plot_bgcolor\": \"#E5ECF6\", \"polar\": {\"angularaxis\": {\"gridcolor\": \"white\", \"linecolor\": \"white\", \"ticks\": \"\"}, \"bgcolor\": \"#E5ECF6\", \"radialaxis\": {\"gridcolor\": \"white\", \"linecolor\": \"white\", \"ticks\": \"\"}}, \"scene\": {\"xaxis\": {\"backgroundcolor\": \"#E5ECF6\", \"gridcolor\": \"white\", \"gridwidth\": 2, \"linecolor\": \"white\", \"showbackground\": true, \"ticks\": \"\", \"zerolinecolor\": \"white\"}, \"yaxis\": {\"backgroundcolor\": \"#E5ECF6\", \"gridcolor\": \"white\", \"gridwidth\": 2, \"linecolor\": \"white\", \"showbackground\": true, \"ticks\": \"\", \"zerolinecolor\": \"white\"}, \"zaxis\": {\"backgroundcolor\": \"#E5ECF6\", \"gridcolor\": \"white\", \"gridwidth\": 2, \"linecolor\": \"white\", \"showbackground\": true, \"ticks\": \"\", \"zerolinecolor\": \"white\"}}, \"shapedefaults\": {\"line\": {\"color\": \"#2a3f5f\"}}, \"ternary\": {\"aaxis\": {\"gridcolor\": \"white\", \"linecolor\": \"white\", \"ticks\": \"\"}, \"baxis\": {\"gridcolor\": \"white\", \"linecolor\": \"white\", \"ticks\": \"\"}, \"bgcolor\": \"#E5ECF6\", \"caxis\": {\"gridcolor\": \"white\", \"linecolor\": \"white\", \"ticks\": \"\"}}, \"title\": {\"x\": 0.05}, \"xaxis\": {\"automargin\": true, \"gridcolor\": \"white\", \"linecolor\": \"white\", \"ticks\": \"\", \"title\": {\"standoff\": 15}, \"zerolinecolor\": \"white\", \"zerolinewidth\": 2}, \"yaxis\": {\"automargin\": true, \"gridcolor\": \"white\", \"linecolor\": \"white\", \"ticks\": \"\", \"title\": {\"standoff\": 15}, \"zerolinecolor\": \"white\", \"zerolinewidth\": 2}}}, \"xaxis\": {\"anchor\": \"y\", \"domain\": [0.0, 0.94]}, \"yaxis\": {\"anchor\": \"x\", \"domain\": [0.0, 1.0]}, \"yaxis2\": {\"anchor\": \"x\", \"overlaying\": \"y\", \"side\": \"right\"}},                        {\"responsive\": true}                    ).then(function(){\n",
       "                            \n",
       "var gd = document.getElementById('5695ef81-6eb4-407d-bc11-0baddbe6da02');\n",
       "var x = new MutationObserver(function (mutations, observer) {{\n",
       "        var display = window.getComputedStyle(gd).display;\n",
       "        if (!display || display === 'none') {{\n",
       "            console.log([gd, 'removed!']);\n",
       "            Plotly.purge(gd);\n",
       "            observer.disconnect();\n",
       "        }}\n",
       "}});\n",
       "\n",
       "// Listen for the removal of the full notebook cells\n",
       "var notebookContainer = gd.closest('#notebook-container');\n",
       "if (notebookContainer) {{\n",
       "    x.observe(notebookContainer, {childList: true});\n",
       "}}\n",
       "\n",
       "// Listen for the clearing of the current output cell\n",
       "var outputEl = gd.closest('.output');\n",
       "if (outputEl) {{\n",
       "    x.observe(outputEl, {childList: true});\n",
       "}}\n",
       "\n",
       "                        })                };                });            </script>        </div>"
      ]
     },
     "metadata": {},
     "output_type": "display_data"
    }
   ],
   "source": [
    "x=harmon['Seq month number']\n",
    "y1=harmon['Case Shipments']\n",
    "y2=harmon['M2 Predicted Case Shipments']\n",
    "#fig = go.Figure()\n",
    "fig = make_subplots(specs=[[{\"secondary_y\": True}]])\n",
    "fig.add_trace(go.Scatter(x=x, y=y1,\n",
    "                    mode='lines+markers', name='Case Shipments'), secondary_y=False)\n",
    "fig.add_trace(go.Scatter(x=x, y=y2,\n",
    "                    mode='lines+markers', name='M2 Predicted Case Shipments'), secondary_y=False)\n",
    "fig.show()"
   ]
  },
  {
   "cell_type": "markdown",
   "metadata": {},
   "source": [
    "### Plot data on case shipments and predictions from both models"
   ]
  },
  {
   "cell_type": "code",
   "execution_count": 42,
   "metadata": {},
   "outputs": [
    {
     "data": {
      "application/vnd.plotly.v1+json": {
       "config": {
        "plotlyServerURL": "https://plot.ly"
       },
       "data": [
        {
         "mode": "lines+markers",
         "name": "Case Shipments",
         "type": "scatter",
         "x": [
          13,
          14,
          15,
          16,
          17,
          18,
          19,
          20,
          21,
          22,
          23,
          24,
          25,
          26,
          27,
          28,
          29,
          30,
          31,
          32,
          33,
          34,
          35,
          36,
          37,
          38,
          39,
          40,
          41,
          42,
          43,
          44,
          45,
          46,
          47,
          48,
          49,
          50,
          51,
          52,
          53,
          54,
          55,
          56,
          57,
          58,
          59,
          60
         ],
         "xaxis": "x",
         "y": [
          425075,
          315305,
          367286,
          429432,
          347874,
          435529,
          299403,
          296505,
          426701,
          329722,
          281783,
          166391,
          629402,
          263467,
          398320,
          376569,
          444404,
          386986,
          414314,
          253493,
          484365,
          305989,
          315407,
          182784,
          655748,
          270483,
          365058,
          313135,
          528210,
          379856,
          472058,
          254516,
          551354,
          335826,
          320408,
          276901,
          455136,
          247570,
          622204,
          429331,
          453156,
          320103,
          451779,
          249482,
          744583,
          421186,
          397367,
          269096
         ],
         "yaxis": "y"
        },
        {
         "mode": "lines+markers",
         "name": "M1 Predicted Case Shipments",
         "type": "scatter",
         "x": [
          13,
          14,
          15,
          16,
          17,
          18,
          19,
          20,
          21,
          22,
          23,
          24,
          25,
          26,
          27,
          28,
          29,
          30,
          31,
          32,
          33,
          34,
          35,
          36,
          37,
          38,
          39,
          40,
          41,
          42,
          43,
          44,
          45,
          46,
          47,
          48,
          49,
          50,
          51,
          52,
          53,
          54,
          55,
          56,
          57,
          58,
          59,
          60
         ],
         "xaxis": "x",
         "y": [
          null,
          null,
          null,
          null,
          null,
          null,
          375766.63733546034,
          285763.47599420836,
          400477.71373721916,
          345335.2270615257,
          339745.0226186006,
          233504.0377770627,
          407757.8137554517,
          355209.09910160146,
          371350.28410607023,
          391277.1159141283,
          437075.32512449933,
          383656.8640082939,
          396447.27544035093,
          301418.91231660225,
          422318.0137919167,
          364083.0952500714,
          358106.33682387735,
          246067.04223330467,
          429598.11381014925,
          374150.24428178166,
          391064.53725278843,
          411957.75401901896,
          460075.28712900385,
          403757.671138281,
          417127.9135452416,
          317074.3486389961,
          444158.3138466143,
          382830.9634386171,
          376467.6510291541,
          258630.04668954664,
          451438.4138648468,
          393091.38946196187,
          410778.7903995066,
          432638.39212390955,
          483075.24913350836,
          423858.4782682682,
          null,
          null,
          null,
          null,
          null,
          null
         ],
         "yaxis": "y"
        },
        {
         "mode": "lines+markers",
         "name": "M2 Predicted Case Shipments",
         "type": "scatter",
         "x": [
          13,
          14,
          15,
          16,
          17,
          18,
          19,
          20,
          21,
          22,
          23,
          24,
          25,
          26,
          27,
          28,
          29,
          30,
          31,
          32,
          33,
          34,
          35,
          36,
          37,
          38,
          39,
          40,
          41,
          42,
          43,
          44,
          45,
          46,
          47,
          48,
          49,
          50,
          51,
          52,
          53,
          54,
          55,
          56,
          57,
          58,
          59,
          60
         ],
         "xaxis": "x",
         "y": [
          null,
          null,
          null,
          null,
          null,
          null,
          373260.37401463016,
          256686.01997224503,
          463435.57450192195,
          307571.19059314847,
          290280.3233546012,
          197465.7662598757,
          557877.9834240678,
          249689.36736689074,
          436761.18754122365,
          350947.4702284193,
          447706.8454228792,
          341517.83030400326,
          393803.0777752129,
          270748.4596403769,
          488709.3204706791,
          324268.8909375361,
          305968.34781377506,
          208089.83651191372,
          587759.0111833509,
          263003.78574526357,
          459947.9763613165,
          369496.5172603793,
          471266.2637701622,
          359410.8609842625,
          414345.78153579566,
          284810.8993085087,
          513983.0664394362,
          340966.59128192376,
          321656.37227294885,
          218713.90676395173,
          617640.038942634,
          276318.2041236365,
          483134.76518140937,
          388045.5642923392,
          494825.6821174451,
          377303.89166452177,
          null,
          null,
          null,
          null,
          null,
          null
         ],
         "yaxis": "y"
        }
       ],
       "layout": {
        "template": {
         "data": {
          "bar": [
           {
            "error_x": {
             "color": "#2a3f5f"
            },
            "error_y": {
             "color": "#2a3f5f"
            },
            "marker": {
             "line": {
              "color": "#E5ECF6",
              "width": 0.5
             }
            },
            "type": "bar"
           }
          ],
          "barpolar": [
           {
            "marker": {
             "line": {
              "color": "#E5ECF6",
              "width": 0.5
             }
            },
            "type": "barpolar"
           }
          ],
          "carpet": [
           {
            "aaxis": {
             "endlinecolor": "#2a3f5f",
             "gridcolor": "white",
             "linecolor": "white",
             "minorgridcolor": "white",
             "startlinecolor": "#2a3f5f"
            },
            "baxis": {
             "endlinecolor": "#2a3f5f",
             "gridcolor": "white",
             "linecolor": "white",
             "minorgridcolor": "white",
             "startlinecolor": "#2a3f5f"
            },
            "type": "carpet"
           }
          ],
          "choropleth": [
           {
            "colorbar": {
             "outlinewidth": 0,
             "ticks": ""
            },
            "type": "choropleth"
           }
          ],
          "contour": [
           {
            "colorbar": {
             "outlinewidth": 0,
             "ticks": ""
            },
            "colorscale": [
             [
              0,
              "#0d0887"
             ],
             [
              0.1111111111111111,
              "#46039f"
             ],
             [
              0.2222222222222222,
              "#7201a8"
             ],
             [
              0.3333333333333333,
              "#9c179e"
             ],
             [
              0.4444444444444444,
              "#bd3786"
             ],
             [
              0.5555555555555556,
              "#d8576b"
             ],
             [
              0.6666666666666666,
              "#ed7953"
             ],
             [
              0.7777777777777778,
              "#fb9f3a"
             ],
             [
              0.8888888888888888,
              "#fdca26"
             ],
             [
              1,
              "#f0f921"
             ]
            ],
            "type": "contour"
           }
          ],
          "contourcarpet": [
           {
            "colorbar": {
             "outlinewidth": 0,
             "ticks": ""
            },
            "type": "contourcarpet"
           }
          ],
          "heatmap": [
           {
            "colorbar": {
             "outlinewidth": 0,
             "ticks": ""
            },
            "colorscale": [
             [
              0,
              "#0d0887"
             ],
             [
              0.1111111111111111,
              "#46039f"
             ],
             [
              0.2222222222222222,
              "#7201a8"
             ],
             [
              0.3333333333333333,
              "#9c179e"
             ],
             [
              0.4444444444444444,
              "#bd3786"
             ],
             [
              0.5555555555555556,
              "#d8576b"
             ],
             [
              0.6666666666666666,
              "#ed7953"
             ],
             [
              0.7777777777777778,
              "#fb9f3a"
             ],
             [
              0.8888888888888888,
              "#fdca26"
             ],
             [
              1,
              "#f0f921"
             ]
            ],
            "type": "heatmap"
           }
          ],
          "heatmapgl": [
           {
            "colorbar": {
             "outlinewidth": 0,
             "ticks": ""
            },
            "colorscale": [
             [
              0,
              "#0d0887"
             ],
             [
              0.1111111111111111,
              "#46039f"
             ],
             [
              0.2222222222222222,
              "#7201a8"
             ],
             [
              0.3333333333333333,
              "#9c179e"
             ],
             [
              0.4444444444444444,
              "#bd3786"
             ],
             [
              0.5555555555555556,
              "#d8576b"
             ],
             [
              0.6666666666666666,
              "#ed7953"
             ],
             [
              0.7777777777777778,
              "#fb9f3a"
             ],
             [
              0.8888888888888888,
              "#fdca26"
             ],
             [
              1,
              "#f0f921"
             ]
            ],
            "type": "heatmapgl"
           }
          ],
          "histogram": [
           {
            "marker": {
             "colorbar": {
              "outlinewidth": 0,
              "ticks": ""
             }
            },
            "type": "histogram"
           }
          ],
          "histogram2d": [
           {
            "colorbar": {
             "outlinewidth": 0,
             "ticks": ""
            },
            "colorscale": [
             [
              0,
              "#0d0887"
             ],
             [
              0.1111111111111111,
              "#46039f"
             ],
             [
              0.2222222222222222,
              "#7201a8"
             ],
             [
              0.3333333333333333,
              "#9c179e"
             ],
             [
              0.4444444444444444,
              "#bd3786"
             ],
             [
              0.5555555555555556,
              "#d8576b"
             ],
             [
              0.6666666666666666,
              "#ed7953"
             ],
             [
              0.7777777777777778,
              "#fb9f3a"
             ],
             [
              0.8888888888888888,
              "#fdca26"
             ],
             [
              1,
              "#f0f921"
             ]
            ],
            "type": "histogram2d"
           }
          ],
          "histogram2dcontour": [
           {
            "colorbar": {
             "outlinewidth": 0,
             "ticks": ""
            },
            "colorscale": [
             [
              0,
              "#0d0887"
             ],
             [
              0.1111111111111111,
              "#46039f"
             ],
             [
              0.2222222222222222,
              "#7201a8"
             ],
             [
              0.3333333333333333,
              "#9c179e"
             ],
             [
              0.4444444444444444,
              "#bd3786"
             ],
             [
              0.5555555555555556,
              "#d8576b"
             ],
             [
              0.6666666666666666,
              "#ed7953"
             ],
             [
              0.7777777777777778,
              "#fb9f3a"
             ],
             [
              0.8888888888888888,
              "#fdca26"
             ],
             [
              1,
              "#f0f921"
             ]
            ],
            "type": "histogram2dcontour"
           }
          ],
          "mesh3d": [
           {
            "colorbar": {
             "outlinewidth": 0,
             "ticks": ""
            },
            "type": "mesh3d"
           }
          ],
          "parcoords": [
           {
            "line": {
             "colorbar": {
              "outlinewidth": 0,
              "ticks": ""
             }
            },
            "type": "parcoords"
           }
          ],
          "pie": [
           {
            "automargin": true,
            "type": "pie"
           }
          ],
          "scatter": [
           {
            "marker": {
             "colorbar": {
              "outlinewidth": 0,
              "ticks": ""
             }
            },
            "type": "scatter"
           }
          ],
          "scatter3d": [
           {
            "line": {
             "colorbar": {
              "outlinewidth": 0,
              "ticks": ""
             }
            },
            "marker": {
             "colorbar": {
              "outlinewidth": 0,
              "ticks": ""
             }
            },
            "type": "scatter3d"
           }
          ],
          "scattercarpet": [
           {
            "marker": {
             "colorbar": {
              "outlinewidth": 0,
              "ticks": ""
             }
            },
            "type": "scattercarpet"
           }
          ],
          "scattergeo": [
           {
            "marker": {
             "colorbar": {
              "outlinewidth": 0,
              "ticks": ""
             }
            },
            "type": "scattergeo"
           }
          ],
          "scattergl": [
           {
            "marker": {
             "colorbar": {
              "outlinewidth": 0,
              "ticks": ""
             }
            },
            "type": "scattergl"
           }
          ],
          "scattermapbox": [
           {
            "marker": {
             "colorbar": {
              "outlinewidth": 0,
              "ticks": ""
             }
            },
            "type": "scattermapbox"
           }
          ],
          "scatterpolar": [
           {
            "marker": {
             "colorbar": {
              "outlinewidth": 0,
              "ticks": ""
             }
            },
            "type": "scatterpolar"
           }
          ],
          "scatterpolargl": [
           {
            "marker": {
             "colorbar": {
              "outlinewidth": 0,
              "ticks": ""
             }
            },
            "type": "scatterpolargl"
           }
          ],
          "scatterternary": [
           {
            "marker": {
             "colorbar": {
              "outlinewidth": 0,
              "ticks": ""
             }
            },
            "type": "scatterternary"
           }
          ],
          "surface": [
           {
            "colorbar": {
             "outlinewidth": 0,
             "ticks": ""
            },
            "colorscale": [
             [
              0,
              "#0d0887"
             ],
             [
              0.1111111111111111,
              "#46039f"
             ],
             [
              0.2222222222222222,
              "#7201a8"
             ],
             [
              0.3333333333333333,
              "#9c179e"
             ],
             [
              0.4444444444444444,
              "#bd3786"
             ],
             [
              0.5555555555555556,
              "#d8576b"
             ],
             [
              0.6666666666666666,
              "#ed7953"
             ],
             [
              0.7777777777777778,
              "#fb9f3a"
             ],
             [
              0.8888888888888888,
              "#fdca26"
             ],
             [
              1,
              "#f0f921"
             ]
            ],
            "type": "surface"
           }
          ],
          "table": [
           {
            "cells": {
             "fill": {
              "color": "#EBF0F8"
             },
             "line": {
              "color": "white"
             }
            },
            "header": {
             "fill": {
              "color": "#C8D4E3"
             },
             "line": {
              "color": "white"
             }
            },
            "type": "table"
           }
          ]
         },
         "layout": {
          "annotationdefaults": {
           "arrowcolor": "#2a3f5f",
           "arrowhead": 0,
           "arrowwidth": 1
          },
          "coloraxis": {
           "colorbar": {
            "outlinewidth": 0,
            "ticks": ""
           }
          },
          "colorscale": {
           "diverging": [
            [
             0,
             "#8e0152"
            ],
            [
             0.1,
             "#c51b7d"
            ],
            [
             0.2,
             "#de77ae"
            ],
            [
             0.3,
             "#f1b6da"
            ],
            [
             0.4,
             "#fde0ef"
            ],
            [
             0.5,
             "#f7f7f7"
            ],
            [
             0.6,
             "#e6f5d0"
            ],
            [
             0.7,
             "#b8e186"
            ],
            [
             0.8,
             "#7fbc41"
            ],
            [
             0.9,
             "#4d9221"
            ],
            [
             1,
             "#276419"
            ]
           ],
           "sequential": [
            [
             0,
             "#0d0887"
            ],
            [
             0.1111111111111111,
             "#46039f"
            ],
            [
             0.2222222222222222,
             "#7201a8"
            ],
            [
             0.3333333333333333,
             "#9c179e"
            ],
            [
             0.4444444444444444,
             "#bd3786"
            ],
            [
             0.5555555555555556,
             "#d8576b"
            ],
            [
             0.6666666666666666,
             "#ed7953"
            ],
            [
             0.7777777777777778,
             "#fb9f3a"
            ],
            [
             0.8888888888888888,
             "#fdca26"
            ],
            [
             1,
             "#f0f921"
            ]
           ],
           "sequentialminus": [
            [
             0,
             "#0d0887"
            ],
            [
             0.1111111111111111,
             "#46039f"
            ],
            [
             0.2222222222222222,
             "#7201a8"
            ],
            [
             0.3333333333333333,
             "#9c179e"
            ],
            [
             0.4444444444444444,
             "#bd3786"
            ],
            [
             0.5555555555555556,
             "#d8576b"
            ],
            [
             0.6666666666666666,
             "#ed7953"
            ],
            [
             0.7777777777777778,
             "#fb9f3a"
            ],
            [
             0.8888888888888888,
             "#fdca26"
            ],
            [
             1,
             "#f0f921"
            ]
           ]
          },
          "colorway": [
           "#636efa",
           "#EF553B",
           "#00cc96",
           "#ab63fa",
           "#FFA15A",
           "#19d3f3",
           "#FF6692",
           "#B6E880",
           "#FF97FF",
           "#FECB52"
          ],
          "font": {
           "color": "#2a3f5f"
          },
          "geo": {
           "bgcolor": "white",
           "lakecolor": "white",
           "landcolor": "#E5ECF6",
           "showlakes": true,
           "showland": true,
           "subunitcolor": "white"
          },
          "hoverlabel": {
           "align": "left"
          },
          "hovermode": "closest",
          "mapbox": {
           "style": "light"
          },
          "paper_bgcolor": "white",
          "plot_bgcolor": "#E5ECF6",
          "polar": {
           "angularaxis": {
            "gridcolor": "white",
            "linecolor": "white",
            "ticks": ""
           },
           "bgcolor": "#E5ECF6",
           "radialaxis": {
            "gridcolor": "white",
            "linecolor": "white",
            "ticks": ""
           }
          },
          "scene": {
           "xaxis": {
            "backgroundcolor": "#E5ECF6",
            "gridcolor": "white",
            "gridwidth": 2,
            "linecolor": "white",
            "showbackground": true,
            "ticks": "",
            "zerolinecolor": "white"
           },
           "yaxis": {
            "backgroundcolor": "#E5ECF6",
            "gridcolor": "white",
            "gridwidth": 2,
            "linecolor": "white",
            "showbackground": true,
            "ticks": "",
            "zerolinecolor": "white"
           },
           "zaxis": {
            "backgroundcolor": "#E5ECF6",
            "gridcolor": "white",
            "gridwidth": 2,
            "linecolor": "white",
            "showbackground": true,
            "ticks": "",
            "zerolinecolor": "white"
           }
          },
          "shapedefaults": {
           "line": {
            "color": "#2a3f5f"
           }
          },
          "ternary": {
           "aaxis": {
            "gridcolor": "white",
            "linecolor": "white",
            "ticks": ""
           },
           "baxis": {
            "gridcolor": "white",
            "linecolor": "white",
            "ticks": ""
           },
           "bgcolor": "#E5ECF6",
           "caxis": {
            "gridcolor": "white",
            "linecolor": "white",
            "ticks": ""
           }
          },
          "title": {
           "x": 0.05
          },
          "xaxis": {
           "automargin": true,
           "gridcolor": "white",
           "linecolor": "white",
           "ticks": "",
           "title": {
            "standoff": 15
           },
           "zerolinecolor": "white",
           "zerolinewidth": 2
          },
          "yaxis": {
           "automargin": true,
           "gridcolor": "white",
           "linecolor": "white",
           "ticks": "",
           "title": {
            "standoff": 15
           },
           "zerolinecolor": "white",
           "zerolinewidth": 2
          }
         }
        },
        "xaxis": {
         "anchor": "y",
         "domain": [
          0,
          0.94
         ]
        },
        "yaxis": {
         "anchor": "x",
         "domain": [
          0,
          1
         ]
        },
        "yaxis2": {
         "anchor": "x",
         "overlaying": "y",
         "side": "right"
        }
       }
      },
      "text/html": [
       "<div>                            <div id=\"ba249c1d-e4c5-4232-87b7-3ce2dd859aea\" class=\"plotly-graph-div\" style=\"height:525px; width:100%;\"></div>            <script type=\"text/javascript\">                require([\"plotly\"], function(Plotly) {                    window.PLOTLYENV=window.PLOTLYENV || {};                                    if (document.getElementById(\"ba249c1d-e4c5-4232-87b7-3ce2dd859aea\")) {                    Plotly.newPlot(                        \"ba249c1d-e4c5-4232-87b7-3ce2dd859aea\",                        [{\"mode\": \"lines+markers\", \"name\": \"Case Shipments\", \"type\": \"scatter\", \"x\": [13, 14, 15, 16, 17, 18, 19, 20, 21, 22, 23, 24, 25, 26, 27, 28, 29, 30, 31, 32, 33, 34, 35, 36, 37, 38, 39, 40, 41, 42, 43, 44, 45, 46, 47, 48, 49, 50, 51, 52, 53, 54, 55, 56, 57, 58, 59, 60], \"xaxis\": \"x\", \"y\": [425075.0, 315305.0, 367286.0, 429432.0, 347874.0, 435529.0, 299403.0, 296505.0, 426701.0, 329722.0, 281783.0, 166391.0, 629402.0, 263467.0, 398320.0, 376569.0, 444404.0, 386986.0, 414314.0, 253493.0, 484365.0, 305989.0, 315407.0, 182784.0, 655748.0, 270483.0, 365058.0, 313135.0, 528210.0, 379856.0, 472058.0, 254516.0, 551354.0, 335826.0, 320408.0, 276901.0, 455136.0, 247570.0, 622204.0, 429331.0, 453156.0, 320103.0, 451779.0, 249482.0, 744583.0, 421186.0, 397367.0, 269096.0], \"yaxis\": \"y\"}, {\"mode\": \"lines+markers\", \"name\": \"M1 Predicted Case Shipments\", \"type\": \"scatter\", \"x\": [13, 14, 15, 16, 17, 18, 19, 20, 21, 22, 23, 24, 25, 26, 27, 28, 29, 30, 31, 32, 33, 34, 35, 36, 37, 38, 39, 40, 41, 42, 43, 44, 45, 46, 47, 48, 49, 50, 51, 52, 53, 54, 55, 56, 57, 58, 59, 60], \"xaxis\": \"x\", \"y\": [null, null, null, null, null, null, 375766.63733546034, 285763.47599420836, 400477.71373721916, 345335.2270615257, 339745.0226186006, 233504.0377770627, 407757.8137554517, 355209.09910160146, 371350.28410607023, 391277.1159141283, 437075.32512449933, 383656.8640082939, 396447.27544035093, 301418.91231660225, 422318.0137919167, 364083.0952500714, 358106.33682387735, 246067.04223330467, 429598.11381014925, 374150.24428178166, 391064.53725278843, 411957.75401901896, 460075.28712900385, 403757.671138281, 417127.9135452416, 317074.3486389961, 444158.3138466143, 382830.9634386171, 376467.6510291541, 258630.04668954664, 451438.4138648468, 393091.38946196187, 410778.7903995066, 432638.39212390955, 483075.24913350836, 423858.4782682682, null, null, null, null, null, null], \"yaxis\": \"y\"}, {\"mode\": \"lines+markers\", \"name\": \"M2 Predicted Case Shipments\", \"type\": \"scatter\", \"x\": [13, 14, 15, 16, 17, 18, 19, 20, 21, 22, 23, 24, 25, 26, 27, 28, 29, 30, 31, 32, 33, 34, 35, 36, 37, 38, 39, 40, 41, 42, 43, 44, 45, 46, 47, 48, 49, 50, 51, 52, 53, 54, 55, 56, 57, 58, 59, 60], \"xaxis\": \"x\", \"y\": [null, null, null, null, null, null, 373260.37401463016, 256686.01997224503, 463435.57450192195, 307571.19059314847, 290280.3233546012, 197465.7662598757, 557877.9834240678, 249689.36736689074, 436761.18754122365, 350947.4702284193, 447706.8454228792, 341517.83030400326, 393803.0777752129, 270748.4596403769, 488709.3204706791, 324268.8909375361, 305968.34781377506, 208089.83651191372, 587759.0111833509, 263003.78574526357, 459947.9763613165, 369496.5172603793, 471266.2637701622, 359410.8609842625, 414345.78153579566, 284810.8993085087, 513983.0664394362, 340966.59128192376, 321656.37227294885, 218713.90676395173, 617640.038942634, 276318.2041236365, 483134.76518140937, 388045.5642923392, 494825.6821174451, 377303.89166452177, null, null, null, null, null, null], \"yaxis\": \"y\"}],                        {\"template\": {\"data\": {\"bar\": [{\"error_x\": {\"color\": \"#2a3f5f\"}, \"error_y\": {\"color\": \"#2a3f5f\"}, \"marker\": {\"line\": {\"color\": \"#E5ECF6\", \"width\": 0.5}}, \"type\": \"bar\"}], \"barpolar\": [{\"marker\": {\"line\": {\"color\": \"#E5ECF6\", \"width\": 0.5}}, \"type\": \"barpolar\"}], \"carpet\": [{\"aaxis\": {\"endlinecolor\": \"#2a3f5f\", \"gridcolor\": \"white\", \"linecolor\": \"white\", \"minorgridcolor\": \"white\", \"startlinecolor\": \"#2a3f5f\"}, \"baxis\": {\"endlinecolor\": \"#2a3f5f\", \"gridcolor\": \"white\", \"linecolor\": \"white\", \"minorgridcolor\": \"white\", \"startlinecolor\": \"#2a3f5f\"}, \"type\": \"carpet\"}], \"choropleth\": [{\"colorbar\": {\"outlinewidth\": 0, \"ticks\": \"\"}, \"type\": \"choropleth\"}], \"contour\": [{\"colorbar\": {\"outlinewidth\": 0, \"ticks\": \"\"}, \"colorscale\": [[0.0, \"#0d0887\"], [0.1111111111111111, \"#46039f\"], [0.2222222222222222, \"#7201a8\"], [0.3333333333333333, \"#9c179e\"], [0.4444444444444444, \"#bd3786\"], [0.5555555555555556, \"#d8576b\"], [0.6666666666666666, \"#ed7953\"], [0.7777777777777778, \"#fb9f3a\"], [0.8888888888888888, \"#fdca26\"], [1.0, \"#f0f921\"]], \"type\": \"contour\"}], \"contourcarpet\": [{\"colorbar\": {\"outlinewidth\": 0, \"ticks\": \"\"}, \"type\": \"contourcarpet\"}], \"heatmap\": [{\"colorbar\": {\"outlinewidth\": 0, \"ticks\": \"\"}, \"colorscale\": [[0.0, \"#0d0887\"], [0.1111111111111111, \"#46039f\"], [0.2222222222222222, \"#7201a8\"], [0.3333333333333333, \"#9c179e\"], [0.4444444444444444, \"#bd3786\"], [0.5555555555555556, \"#d8576b\"], [0.6666666666666666, \"#ed7953\"], [0.7777777777777778, \"#fb9f3a\"], [0.8888888888888888, \"#fdca26\"], [1.0, \"#f0f921\"]], \"type\": \"heatmap\"}], \"heatmapgl\": [{\"colorbar\": {\"outlinewidth\": 0, \"ticks\": \"\"}, \"colorscale\": [[0.0, \"#0d0887\"], [0.1111111111111111, \"#46039f\"], [0.2222222222222222, \"#7201a8\"], [0.3333333333333333, \"#9c179e\"], [0.4444444444444444, \"#bd3786\"], [0.5555555555555556, \"#d8576b\"], [0.6666666666666666, \"#ed7953\"], [0.7777777777777778, \"#fb9f3a\"], [0.8888888888888888, \"#fdca26\"], [1.0, \"#f0f921\"]], \"type\": \"heatmapgl\"}], \"histogram\": [{\"marker\": {\"colorbar\": {\"outlinewidth\": 0, \"ticks\": \"\"}}, \"type\": \"histogram\"}], \"histogram2d\": [{\"colorbar\": {\"outlinewidth\": 0, \"ticks\": \"\"}, \"colorscale\": [[0.0, \"#0d0887\"], [0.1111111111111111, \"#46039f\"], [0.2222222222222222, \"#7201a8\"], [0.3333333333333333, \"#9c179e\"], [0.4444444444444444, \"#bd3786\"], [0.5555555555555556, \"#d8576b\"], [0.6666666666666666, \"#ed7953\"], [0.7777777777777778, \"#fb9f3a\"], [0.8888888888888888, \"#fdca26\"], [1.0, \"#f0f921\"]], \"type\": \"histogram2d\"}], \"histogram2dcontour\": [{\"colorbar\": {\"outlinewidth\": 0, \"ticks\": \"\"}, \"colorscale\": [[0.0, \"#0d0887\"], [0.1111111111111111, \"#46039f\"], [0.2222222222222222, \"#7201a8\"], [0.3333333333333333, \"#9c179e\"], [0.4444444444444444, \"#bd3786\"], [0.5555555555555556, \"#d8576b\"], [0.6666666666666666, \"#ed7953\"], [0.7777777777777778, \"#fb9f3a\"], [0.8888888888888888, \"#fdca26\"], [1.0, \"#f0f921\"]], \"type\": \"histogram2dcontour\"}], \"mesh3d\": [{\"colorbar\": {\"outlinewidth\": 0, \"ticks\": \"\"}, \"type\": \"mesh3d\"}], \"parcoords\": [{\"line\": {\"colorbar\": {\"outlinewidth\": 0, \"ticks\": \"\"}}, \"type\": \"parcoords\"}], \"pie\": [{\"automargin\": true, \"type\": \"pie\"}], \"scatter\": [{\"marker\": {\"colorbar\": {\"outlinewidth\": 0, \"ticks\": \"\"}}, \"type\": \"scatter\"}], \"scatter3d\": [{\"line\": {\"colorbar\": {\"outlinewidth\": 0, \"ticks\": \"\"}}, \"marker\": {\"colorbar\": {\"outlinewidth\": 0, \"ticks\": \"\"}}, \"type\": \"scatter3d\"}], \"scattercarpet\": [{\"marker\": {\"colorbar\": {\"outlinewidth\": 0, \"ticks\": \"\"}}, \"type\": \"scattercarpet\"}], \"scattergeo\": [{\"marker\": {\"colorbar\": {\"outlinewidth\": 0, \"ticks\": \"\"}}, \"type\": \"scattergeo\"}], \"scattergl\": [{\"marker\": {\"colorbar\": {\"outlinewidth\": 0, \"ticks\": \"\"}}, \"type\": \"scattergl\"}], \"scattermapbox\": [{\"marker\": {\"colorbar\": {\"outlinewidth\": 0, \"ticks\": \"\"}}, \"type\": \"scattermapbox\"}], \"scatterpolar\": [{\"marker\": {\"colorbar\": {\"outlinewidth\": 0, \"ticks\": \"\"}}, \"type\": \"scatterpolar\"}], \"scatterpolargl\": [{\"marker\": {\"colorbar\": {\"outlinewidth\": 0, \"ticks\": \"\"}}, \"type\": \"scatterpolargl\"}], \"scatterternary\": [{\"marker\": {\"colorbar\": {\"outlinewidth\": 0, \"ticks\": \"\"}}, \"type\": \"scatterternary\"}], \"surface\": [{\"colorbar\": {\"outlinewidth\": 0, \"ticks\": \"\"}, \"colorscale\": [[0.0, \"#0d0887\"], [0.1111111111111111, \"#46039f\"], [0.2222222222222222, \"#7201a8\"], [0.3333333333333333, \"#9c179e\"], [0.4444444444444444, \"#bd3786\"], [0.5555555555555556, \"#d8576b\"], [0.6666666666666666, \"#ed7953\"], [0.7777777777777778, \"#fb9f3a\"], [0.8888888888888888, \"#fdca26\"], [1.0, \"#f0f921\"]], \"type\": \"surface\"}], \"table\": [{\"cells\": {\"fill\": {\"color\": \"#EBF0F8\"}, \"line\": {\"color\": \"white\"}}, \"header\": {\"fill\": {\"color\": \"#C8D4E3\"}, \"line\": {\"color\": \"white\"}}, \"type\": \"table\"}]}, \"layout\": {\"annotationdefaults\": {\"arrowcolor\": \"#2a3f5f\", \"arrowhead\": 0, \"arrowwidth\": 1}, \"coloraxis\": {\"colorbar\": {\"outlinewidth\": 0, \"ticks\": \"\"}}, \"colorscale\": {\"diverging\": [[0, \"#8e0152\"], [0.1, \"#c51b7d\"], [0.2, \"#de77ae\"], [0.3, \"#f1b6da\"], [0.4, \"#fde0ef\"], [0.5, \"#f7f7f7\"], [0.6, \"#e6f5d0\"], [0.7, \"#b8e186\"], [0.8, \"#7fbc41\"], [0.9, \"#4d9221\"], [1, \"#276419\"]], \"sequential\": [[0.0, \"#0d0887\"], [0.1111111111111111, \"#46039f\"], [0.2222222222222222, \"#7201a8\"], [0.3333333333333333, \"#9c179e\"], [0.4444444444444444, \"#bd3786\"], [0.5555555555555556, \"#d8576b\"], [0.6666666666666666, \"#ed7953\"], [0.7777777777777778, \"#fb9f3a\"], [0.8888888888888888, \"#fdca26\"], [1.0, \"#f0f921\"]], \"sequentialminus\": [[0.0, \"#0d0887\"], [0.1111111111111111, \"#46039f\"], [0.2222222222222222, \"#7201a8\"], [0.3333333333333333, \"#9c179e\"], [0.4444444444444444, \"#bd3786\"], [0.5555555555555556, \"#d8576b\"], [0.6666666666666666, \"#ed7953\"], [0.7777777777777778, \"#fb9f3a\"], [0.8888888888888888, \"#fdca26\"], [1.0, \"#f0f921\"]]}, \"colorway\": [\"#636efa\", \"#EF553B\", \"#00cc96\", \"#ab63fa\", \"#FFA15A\", \"#19d3f3\", \"#FF6692\", \"#B6E880\", \"#FF97FF\", \"#FECB52\"], \"font\": {\"color\": \"#2a3f5f\"}, \"geo\": {\"bgcolor\": \"white\", \"lakecolor\": \"white\", \"landcolor\": \"#E5ECF6\", \"showlakes\": true, \"showland\": true, \"subunitcolor\": \"white\"}, \"hoverlabel\": {\"align\": \"left\"}, \"hovermode\": \"closest\", \"mapbox\": {\"style\": \"light\"}, \"paper_bgcolor\": \"white\", \"plot_bgcolor\": \"#E5ECF6\", \"polar\": {\"angularaxis\": {\"gridcolor\": \"white\", \"linecolor\": \"white\", \"ticks\": \"\"}, \"bgcolor\": \"#E5ECF6\", \"radialaxis\": {\"gridcolor\": \"white\", \"linecolor\": \"white\", \"ticks\": \"\"}}, \"scene\": {\"xaxis\": {\"backgroundcolor\": \"#E5ECF6\", \"gridcolor\": \"white\", \"gridwidth\": 2, \"linecolor\": \"white\", \"showbackground\": true, \"ticks\": \"\", \"zerolinecolor\": \"white\"}, \"yaxis\": {\"backgroundcolor\": \"#E5ECF6\", \"gridcolor\": \"white\", \"gridwidth\": 2, \"linecolor\": \"white\", \"showbackground\": true, \"ticks\": \"\", \"zerolinecolor\": \"white\"}, \"zaxis\": {\"backgroundcolor\": \"#E5ECF6\", \"gridcolor\": \"white\", \"gridwidth\": 2, \"linecolor\": \"white\", \"showbackground\": true, \"ticks\": \"\", \"zerolinecolor\": \"white\"}}, \"shapedefaults\": {\"line\": {\"color\": \"#2a3f5f\"}}, \"ternary\": {\"aaxis\": {\"gridcolor\": \"white\", \"linecolor\": \"white\", \"ticks\": \"\"}, \"baxis\": {\"gridcolor\": \"white\", \"linecolor\": \"white\", \"ticks\": \"\"}, \"bgcolor\": \"#E5ECF6\", \"caxis\": {\"gridcolor\": \"white\", \"linecolor\": \"white\", \"ticks\": \"\"}}, \"title\": {\"x\": 0.05}, \"xaxis\": {\"automargin\": true, \"gridcolor\": \"white\", \"linecolor\": \"white\", \"ticks\": \"\", \"title\": {\"standoff\": 15}, \"zerolinecolor\": \"white\", \"zerolinewidth\": 2}, \"yaxis\": {\"automargin\": true, \"gridcolor\": \"white\", \"linecolor\": \"white\", \"ticks\": \"\", \"title\": {\"standoff\": 15}, \"zerolinecolor\": \"white\", \"zerolinewidth\": 2}}}, \"xaxis\": {\"anchor\": \"y\", \"domain\": [0.0, 0.94]}, \"yaxis\": {\"anchor\": \"x\", \"domain\": [0.0, 1.0]}, \"yaxis2\": {\"anchor\": \"x\", \"overlaying\": \"y\", \"side\": \"right\"}},                        {\"responsive\": true}                    ).then(function(){\n",
       "                            \n",
       "var gd = document.getElementById('ba249c1d-e4c5-4232-87b7-3ce2dd859aea');\n",
       "var x = new MutationObserver(function (mutations, observer) {{\n",
       "        var display = window.getComputedStyle(gd).display;\n",
       "        if (!display || display === 'none') {{\n",
       "            console.log([gd, 'removed!']);\n",
       "            Plotly.purge(gd);\n",
       "            observer.disconnect();\n",
       "        }}\n",
       "}});\n",
       "\n",
       "// Listen for the removal of the full notebook cells\n",
       "var notebookContainer = gd.closest('#notebook-container');\n",
       "if (notebookContainer) {{\n",
       "    x.observe(notebookContainer, {childList: true});\n",
       "}}\n",
       "\n",
       "// Listen for the clearing of the current output cell\n",
       "var outputEl = gd.closest('.output');\n",
       "if (outputEl) {{\n",
       "    x.observe(outputEl, {childList: true});\n",
       "}}\n",
       "\n",
       "                        })                };                });            </script>        </div>"
      ]
     },
     "metadata": {},
     "output_type": "display_data"
    }
   ],
   "source": [
    "x=harmon['Seq month number']\n",
    "y1=harmon['Case Shipments']\n",
    "y2=harmon['M1 Predicted Case Shipments']\n",
    "y3=harmon['M2 Predicted Case Shipments']\n",
    "#fig = go.Figure()\n",
    "fig = make_subplots(specs=[[{\"secondary_y\": True}]])\n",
    "fig.add_trace(go.Scatter(x=x, y=y1,\n",
    "                    mode='lines+markers', name='Case Shipments'), secondary_y=False)\n",
    "fig.add_trace(go.Scatter(x=x, y=y2,\n",
    "                    mode='lines+markers', name='M1 Predicted Case Shipments'), secondary_y=False)\n",
    "fig.add_trace(go.Scatter(x=x, y=y3,\n",
    "                    mode='lines+markers', name='M2 Predicted Case Shipments'), secondary_y=False)\n",
    "fig.show()"
   ]
  },
  {
   "cell_type": "markdown",
   "metadata": {},
   "source": [
    "### Compare absolute errors"
   ]
  },
  {
   "cell_type": "markdown",
   "metadata": {},
   "source": [
    "#### Model 1 Mean Abs Error"
   ]
  },
  {
   "cell_type": "code",
   "execution_count": 43,
   "metadata": {},
   "outputs": [
    {
     "data": {
      "text/plain": [
       "63943.98777710001"
      ]
     },
     "execution_count": 43,
     "metadata": {},
     "output_type": "execute_result"
    }
   ],
   "source": [
    "harmon['M1 Abs Error'].mean()"
   ]
  },
  {
   "cell_type": "markdown",
   "metadata": {},
   "source": [
    "#### Model 2 Mean Abs Error"
   ]
  },
  {
   "cell_type": "code",
   "execution_count": 44,
   "metadata": {},
   "outputs": [
    {
     "data": {
      "text/plain": [
       "40831.790517089394"
      ]
     },
     "execution_count": 44,
     "metadata": {},
     "output_type": "execute_result"
    }
   ],
   "source": [
    "harmon['M2 Abs Error'].mean()"
   ]
  },
  {
   "cell_type": "code",
   "execution_count": null,
   "metadata": {},
   "outputs": [],
   "source": []
  }
 ],
 "metadata": {
  "kernelspec": {
   "display_name": "Python 3",
   "language": "python",
   "name": "python3"
  },
  "language_info": {
   "codemirror_mode": {
    "name": "ipython",
    "version": 3
   },
   "file_extension": ".py",
   "mimetype": "text/x-python",
   "name": "python",
   "nbconvert_exporter": "python",
   "pygments_lexer": "ipython3",
   "version": "3.6.12"
  }
 },
 "nbformat": 4,
 "nbformat_minor": 2
}
