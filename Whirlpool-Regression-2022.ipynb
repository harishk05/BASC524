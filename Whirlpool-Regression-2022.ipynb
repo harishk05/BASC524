{
 "cells": [
  {
   "cell_type": "markdown",
   "metadata": {},
   "source": [
    "# WHIRLPOOL REGRESSION"
   ]
  },
  {
   "cell_type": "markdown",
   "metadata": {},
   "source": [
    "## Import required packges"
   ]
  },
  {
   "cell_type": "code",
   "execution_count": 1,
   "metadata": {},
   "outputs": [],
   "source": [
    "import pandas as pd\n",
    "import numpy as np\n",
    "import matplotlib.pyplot as plt\n",
    "import plotly.express as px\n",
    "import plotly.graph_objects as go\n",
    "from plotly.subplots import make_subplots\n",
    "import statsmodels.api as sm\n",
    "#import seaborn as sns"
   ]
  },
  {
   "cell_type": "markdown",
   "metadata": {},
   "source": [
    "## Read csv file into dataframes"
   ]
  },
  {
   "cell_type": "code",
   "execution_count": 2,
   "metadata": {},
   "outputs": [],
   "source": [
    "dfwhirlpool = pd.read_csv('whirlpool_csv.csv')"
   ]
  },
  {
   "cell_type": "markdown",
   "metadata": {},
   "source": [
    "## Check what data is in the dataframes"
   ]
  },
  {
   "cell_type": "code",
   "execution_count": 3,
   "metadata": {},
   "outputs": [
    {
     "data": {
      "text/html": [
       "<div>\n",
       "<style scoped>\n",
       "    .dataframe tbody tr th:only-of-type {\n",
       "        vertical-align: middle;\n",
       "    }\n",
       "\n",
       "    .dataframe tbody tr th {\n",
       "        vertical-align: top;\n",
       "    }\n",
       "\n",
       "    .dataframe thead th {\n",
       "        text-align: right;\n",
       "    }\n",
       "</style>\n",
       "<table border=\"1\" class=\"dataframe\">\n",
       "  <thead>\n",
       "    <tr style=\"text-align: right;\">\n",
       "      <th></th>\n",
       "      <th>Part number</th>\n",
       "      <th>Price/ Unit</th>\n",
       "      <th>Type</th>\n",
       "      <th>Region</th>\n",
       "      <th>Capacity BTU/Hr</th>\n",
       "      <th>Weight</th>\n",
       "      <th>EER*</th>\n",
       "      <th>Unit Volume</th>\n",
       "    </tr>\n",
       "  </thead>\n",
       "  <tbody>\n",
       "    <tr>\n",
       "      <th>0</th>\n",
       "      <td>110-1574</td>\n",
       "      <td>34.49</td>\n",
       "      <td>Reciprocating</td>\n",
       "      <td>North America</td>\n",
       "      <td>510</td>\n",
       "      <td>5.68</td>\n",
       "      <td>3.26</td>\n",
       "      <td>81000</td>\n",
       "    </tr>\n",
       "    <tr>\n",
       "      <th>1</th>\n",
       "      <td>111-0810</td>\n",
       "      <td>39.48</td>\n",
       "      <td>Scroll</td>\n",
       "      <td>Europe</td>\n",
       "      <td>920</td>\n",
       "      <td>10.51</td>\n",
       "      <td>4.90</td>\n",
       "      <td>137000</td>\n",
       "    </tr>\n",
       "    <tr>\n",
       "      <th>2</th>\n",
       "      <td>116-7080</td>\n",
       "      <td>32.08</td>\n",
       "      <td>Reciprocating</td>\n",
       "      <td>North America</td>\n",
       "      <td>720</td>\n",
       "      <td>8.16</td>\n",
       "      <td>4.28</td>\n",
       "      <td>47000</td>\n",
       "    </tr>\n",
       "    <tr>\n",
       "      <th>3</th>\n",
       "      <td>116-7532</td>\n",
       "      <td>29.47</td>\n",
       "      <td>Reciprocating</td>\n",
       "      <td>Europe</td>\n",
       "      <td>285</td>\n",
       "      <td>3.31</td>\n",
       "      <td>5.03</td>\n",
       "      <td>82000</td>\n",
       "    </tr>\n",
       "    <tr>\n",
       "      <th>4</th>\n",
       "      <td>122-7151</td>\n",
       "      <td>26.56</td>\n",
       "      <td>Reciprocating</td>\n",
       "      <td>Europe</td>\n",
       "      <td>260</td>\n",
       "      <td>2.97</td>\n",
       "      <td>4.16</td>\n",
       "      <td>66000</td>\n",
       "    </tr>\n",
       "  </tbody>\n",
       "</table>\n",
       "</div>"
      ],
      "text/plain": [
       "  Part number  Price/ Unit           Type         Region  Capacity BTU/Hr  \\\n",
       "0    110-1574        34.49  Reciprocating  North America              510   \n",
       "1    111-0810        39.48         Scroll         Europe              920   \n",
       "2    116-7080        32.08  Reciprocating  North America              720   \n",
       "3    116-7532        29.47  Reciprocating         Europe              285   \n",
       "4    122-7151        26.56  Reciprocating         Europe              260   \n",
       "\n",
       "   Weight  EER*  Unit Volume  \n",
       "0    5.68  3.26        81000  \n",
       "1   10.51  4.90       137000  \n",
       "2    8.16  4.28        47000  \n",
       "3    3.31  5.03        82000  \n",
       "4    2.97  4.16        66000  "
      ]
     },
     "execution_count": 3,
     "metadata": {},
     "output_type": "execute_result"
    }
   ],
   "source": [
    "dfwhirlpool.head()"
   ]
  },
  {
   "cell_type": "markdown",
   "metadata": {},
   "source": [
    "## Rename columns for convenience"
   ]
  },
  {
   "cell_type": "code",
   "execution_count": 4,
   "metadata": {},
   "outputs": [],
   "source": [
    "dfwhirlpool=dfwhirlpool.rename(columns={\"Price/ Unit\": \"Price/Unit\", \"EER*\": \"EER\"})#, errors=\"raise\")"
   ]
  },
  {
   "cell_type": "markdown",
   "metadata": {},
   "source": [
    "## Transform unit volume to log of unit volume"
   ]
  },
  {
   "cell_type": "code",
   "execution_count": 5,
   "metadata": {},
   "outputs": [],
   "source": [
    "dfwhirlpool['log Unit Volume']=np.log(dfwhirlpool['Unit Volume'])"
   ]
  },
  {
   "cell_type": "markdown",
   "metadata": {},
   "source": [
    "## Check if change has been made"
   ]
  },
  {
   "cell_type": "code",
   "execution_count": 6,
   "metadata": {},
   "outputs": [
    {
     "data": {
      "text/html": [
       "<div>\n",
       "<style scoped>\n",
       "    .dataframe tbody tr th:only-of-type {\n",
       "        vertical-align: middle;\n",
       "    }\n",
       "\n",
       "    .dataframe tbody tr th {\n",
       "        vertical-align: top;\n",
       "    }\n",
       "\n",
       "    .dataframe thead th {\n",
       "        text-align: right;\n",
       "    }\n",
       "</style>\n",
       "<table border=\"1\" class=\"dataframe\">\n",
       "  <thead>\n",
       "    <tr style=\"text-align: right;\">\n",
       "      <th></th>\n",
       "      <th>Part number</th>\n",
       "      <th>Price/Unit</th>\n",
       "      <th>Type</th>\n",
       "      <th>Region</th>\n",
       "      <th>Capacity BTU/Hr</th>\n",
       "      <th>Weight</th>\n",
       "      <th>EER</th>\n",
       "      <th>Unit Volume</th>\n",
       "      <th>log Unit Volume</th>\n",
       "    </tr>\n",
       "  </thead>\n",
       "  <tbody>\n",
       "    <tr>\n",
       "      <th>0</th>\n",
       "      <td>110-1574</td>\n",
       "      <td>34.49</td>\n",
       "      <td>Reciprocating</td>\n",
       "      <td>North America</td>\n",
       "      <td>510</td>\n",
       "      <td>5.68</td>\n",
       "      <td>3.26</td>\n",
       "      <td>81000</td>\n",
       "      <td>11.302204</td>\n",
       "    </tr>\n",
       "    <tr>\n",
       "      <th>1</th>\n",
       "      <td>111-0810</td>\n",
       "      <td>39.48</td>\n",
       "      <td>Scroll</td>\n",
       "      <td>Europe</td>\n",
       "      <td>920</td>\n",
       "      <td>10.51</td>\n",
       "      <td>4.90</td>\n",
       "      <td>137000</td>\n",
       "      <td>11.827736</td>\n",
       "    </tr>\n",
       "    <tr>\n",
       "      <th>2</th>\n",
       "      <td>116-7080</td>\n",
       "      <td>32.08</td>\n",
       "      <td>Reciprocating</td>\n",
       "      <td>North America</td>\n",
       "      <td>720</td>\n",
       "      <td>8.16</td>\n",
       "      <td>4.28</td>\n",
       "      <td>47000</td>\n",
       "      <td>10.757903</td>\n",
       "    </tr>\n",
       "    <tr>\n",
       "      <th>3</th>\n",
       "      <td>116-7532</td>\n",
       "      <td>29.47</td>\n",
       "      <td>Reciprocating</td>\n",
       "      <td>Europe</td>\n",
       "      <td>285</td>\n",
       "      <td>3.31</td>\n",
       "      <td>5.03</td>\n",
       "      <td>82000</td>\n",
       "      <td>11.314475</td>\n",
       "    </tr>\n",
       "    <tr>\n",
       "      <th>4</th>\n",
       "      <td>122-7151</td>\n",
       "      <td>26.56</td>\n",
       "      <td>Reciprocating</td>\n",
       "      <td>Europe</td>\n",
       "      <td>260</td>\n",
       "      <td>2.97</td>\n",
       "      <td>4.16</td>\n",
       "      <td>66000</td>\n",
       "      <td>11.097410</td>\n",
       "    </tr>\n",
       "  </tbody>\n",
       "</table>\n",
       "</div>"
      ],
      "text/plain": [
       "  Part number  Price/Unit           Type         Region  Capacity BTU/Hr  \\\n",
       "0    110-1574       34.49  Reciprocating  North America              510   \n",
       "1    111-0810       39.48         Scroll         Europe              920   \n",
       "2    116-7080       32.08  Reciprocating  North America              720   \n",
       "3    116-7532       29.47  Reciprocating         Europe              285   \n",
       "4    122-7151       26.56  Reciprocating         Europe              260   \n",
       "\n",
       "   Weight   EER  Unit Volume  log Unit Volume  \n",
       "0    5.68  3.26        81000        11.302204  \n",
       "1   10.51  4.90       137000        11.827736  \n",
       "2    8.16  4.28        47000        10.757903  \n",
       "3    3.31  5.03        82000        11.314475  \n",
       "4    2.97  4.16        66000        11.097410  "
      ]
     },
     "execution_count": 6,
     "metadata": {},
     "output_type": "execute_result"
    }
   ],
   "source": [
    "dfwhirlpool.head()"
   ]
  },
  {
   "cell_type": "markdown",
   "metadata": {},
   "source": [
    "## Summarize data"
   ]
  },
  {
   "cell_type": "code",
   "execution_count": 7,
   "metadata": {},
   "outputs": [
    {
     "data": {
      "text/html": [
       "<div>\n",
       "<style scoped>\n",
       "    .dataframe tbody tr th:only-of-type {\n",
       "        vertical-align: middle;\n",
       "    }\n",
       "\n",
       "    .dataframe tbody tr th {\n",
       "        vertical-align: top;\n",
       "    }\n",
       "\n",
       "    .dataframe thead th {\n",
       "        text-align: right;\n",
       "    }\n",
       "</style>\n",
       "<table border=\"1\" class=\"dataframe\">\n",
       "  <thead>\n",
       "    <tr style=\"text-align: right;\">\n",
       "      <th></th>\n",
       "      <th>Price/Unit</th>\n",
       "      <th>Capacity BTU/Hr</th>\n",
       "      <th>Weight</th>\n",
       "      <th>EER</th>\n",
       "      <th>Unit Volume</th>\n",
       "      <th>log Unit Volume</th>\n",
       "    </tr>\n",
       "  </thead>\n",
       "  <tbody>\n",
       "    <tr>\n",
       "      <th>count</th>\n",
       "      <td>45.000000</td>\n",
       "      <td>45.000000</td>\n",
       "      <td>45.000000</td>\n",
       "      <td>45.000000</td>\n",
       "      <td>45.000000</td>\n",
       "      <td>45.000000</td>\n",
       "    </tr>\n",
       "    <tr>\n",
       "      <th>mean</th>\n",
       "      <td>34.075333</td>\n",
       "      <td>545.333333</td>\n",
       "      <td>6.181111</td>\n",
       "      <td>4.276667</td>\n",
       "      <td>111911.111111</td>\n",
       "      <td>11.227207</td>\n",
       "    </tr>\n",
       "    <tr>\n",
       "      <th>std</th>\n",
       "      <td>4.047022</td>\n",
       "      <td>249.386520</td>\n",
       "      <td>2.872977</td>\n",
       "      <td>0.643414</td>\n",
       "      <td>136961.975848</td>\n",
       "      <td>0.797831</td>\n",
       "    </tr>\n",
       "    <tr>\n",
       "      <th>min</th>\n",
       "      <td>26.560000</td>\n",
       "      <td>120.000000</td>\n",
       "      <td>1.360000</td>\n",
       "      <td>3.020000</td>\n",
       "      <td>23000.000000</td>\n",
       "      <td>10.043249</td>\n",
       "    </tr>\n",
       "    <tr>\n",
       "      <th>25%</th>\n",
       "      <td>31.660000</td>\n",
       "      <td>345.000000</td>\n",
       "      <td>3.900000</td>\n",
       "      <td>3.830000</td>\n",
       "      <td>45000.000000</td>\n",
       "      <td>10.714418</td>\n",
       "    </tr>\n",
       "    <tr>\n",
       "      <th>50%</th>\n",
       "      <td>33.340000</td>\n",
       "      <td>510.000000</td>\n",
       "      <td>5.680000</td>\n",
       "      <td>4.370000</td>\n",
       "      <td>62000.000000</td>\n",
       "      <td>11.034890</td>\n",
       "    </tr>\n",
       "    <tr>\n",
       "      <th>75%</th>\n",
       "      <td>37.070000</td>\n",
       "      <td>725.000000</td>\n",
       "      <td>8.300000</td>\n",
       "      <td>4.680000</td>\n",
       "      <td>98000.000000</td>\n",
       "      <td>11.492723</td>\n",
       "    </tr>\n",
       "    <tr>\n",
       "      <th>max</th>\n",
       "      <td>43.780000</td>\n",
       "      <td>1090.000000</td>\n",
       "      <td>12.770000</td>\n",
       "      <td>5.330000</td>\n",
       "      <td>750000.000000</td>\n",
       "      <td>13.527828</td>\n",
       "    </tr>\n",
       "  </tbody>\n",
       "</table>\n",
       "</div>"
      ],
      "text/plain": [
       "       Price/Unit  Capacity BTU/Hr     Weight        EER    Unit Volume  \\\n",
       "count   45.000000        45.000000  45.000000  45.000000      45.000000   \n",
       "mean    34.075333       545.333333   6.181111   4.276667  111911.111111   \n",
       "std      4.047022       249.386520   2.872977   0.643414  136961.975848   \n",
       "min     26.560000       120.000000   1.360000   3.020000   23000.000000   \n",
       "25%     31.660000       345.000000   3.900000   3.830000   45000.000000   \n",
       "50%     33.340000       510.000000   5.680000   4.370000   62000.000000   \n",
       "75%     37.070000       725.000000   8.300000   4.680000   98000.000000   \n",
       "max     43.780000      1090.000000  12.770000   5.330000  750000.000000   \n",
       "\n",
       "       log Unit Volume  \n",
       "count        45.000000  \n",
       "mean         11.227207  \n",
       "std           0.797831  \n",
       "min          10.043249  \n",
       "25%          10.714418  \n",
       "50%          11.034890  \n",
       "75%          11.492723  \n",
       "max          13.527828  "
      ]
     },
     "execution_count": 7,
     "metadata": {},
     "output_type": "execute_result"
    }
   ],
   "source": [
    "dfwhirlpool.describe()"
   ]
  },
  {
   "cell_type": "code",
   "execution_count": 8,
   "metadata": {},
   "outputs": [
    {
     "data": {
      "text/html": [
       "<div>\n",
       "<style scoped>\n",
       "    .dataframe tbody tr th:only-of-type {\n",
       "        vertical-align: middle;\n",
       "    }\n",
       "\n",
       "    .dataframe tbody tr th {\n",
       "        vertical-align: top;\n",
       "    }\n",
       "\n",
       "    .dataframe thead th {\n",
       "        text-align: right;\n",
       "    }\n",
       "</style>\n",
       "<table border=\"1\" class=\"dataframe\">\n",
       "  <thead>\n",
       "    <tr style=\"text-align: right;\">\n",
       "      <th></th>\n",
       "      <th>Part number</th>\n",
       "      <th>Price/Unit</th>\n",
       "      <th>Type</th>\n",
       "      <th>Region</th>\n",
       "      <th>Capacity BTU/Hr</th>\n",
       "      <th>Weight</th>\n",
       "      <th>EER</th>\n",
       "      <th>Unit Volume</th>\n",
       "      <th>log Unit Volume</th>\n",
       "      <th>Reciprocating</th>\n",
       "      <th>Scroll</th>\n",
       "      <th>Europe</th>\n",
       "      <th>Latin America</th>\n",
       "      <th>North America</th>\n",
       "    </tr>\n",
       "  </thead>\n",
       "  <tbody>\n",
       "    <tr>\n",
       "      <th>0</th>\n",
       "      <td>110-1574</td>\n",
       "      <td>34.49</td>\n",
       "      <td>Reciprocating</td>\n",
       "      <td>North America</td>\n",
       "      <td>510</td>\n",
       "      <td>5.68</td>\n",
       "      <td>3.26</td>\n",
       "      <td>81000</td>\n",
       "      <td>11.302204</td>\n",
       "      <td>1</td>\n",
       "      <td>0</td>\n",
       "      <td>0</td>\n",
       "      <td>0</td>\n",
       "      <td>1</td>\n",
       "    </tr>\n",
       "    <tr>\n",
       "      <th>1</th>\n",
       "      <td>111-0810</td>\n",
       "      <td>39.48</td>\n",
       "      <td>Scroll</td>\n",
       "      <td>Europe</td>\n",
       "      <td>920</td>\n",
       "      <td>10.51</td>\n",
       "      <td>4.90</td>\n",
       "      <td>137000</td>\n",
       "      <td>11.827736</td>\n",
       "      <td>0</td>\n",
       "      <td>1</td>\n",
       "      <td>1</td>\n",
       "      <td>0</td>\n",
       "      <td>0</td>\n",
       "    </tr>\n",
       "    <tr>\n",
       "      <th>2</th>\n",
       "      <td>116-7080</td>\n",
       "      <td>32.08</td>\n",
       "      <td>Reciprocating</td>\n",
       "      <td>North America</td>\n",
       "      <td>720</td>\n",
       "      <td>8.16</td>\n",
       "      <td>4.28</td>\n",
       "      <td>47000</td>\n",
       "      <td>10.757903</td>\n",
       "      <td>1</td>\n",
       "      <td>0</td>\n",
       "      <td>0</td>\n",
       "      <td>0</td>\n",
       "      <td>1</td>\n",
       "    </tr>\n",
       "    <tr>\n",
       "      <th>3</th>\n",
       "      <td>116-7532</td>\n",
       "      <td>29.47</td>\n",
       "      <td>Reciprocating</td>\n",
       "      <td>Europe</td>\n",
       "      <td>285</td>\n",
       "      <td>3.31</td>\n",
       "      <td>5.03</td>\n",
       "      <td>82000</td>\n",
       "      <td>11.314475</td>\n",
       "      <td>1</td>\n",
       "      <td>0</td>\n",
       "      <td>1</td>\n",
       "      <td>0</td>\n",
       "      <td>0</td>\n",
       "    </tr>\n",
       "    <tr>\n",
       "      <th>4</th>\n",
       "      <td>122-7151</td>\n",
       "      <td>26.56</td>\n",
       "      <td>Reciprocating</td>\n",
       "      <td>Europe</td>\n",
       "      <td>260</td>\n",
       "      <td>2.97</td>\n",
       "      <td>4.16</td>\n",
       "      <td>66000</td>\n",
       "      <td>11.097410</td>\n",
       "      <td>1</td>\n",
       "      <td>0</td>\n",
       "      <td>1</td>\n",
       "      <td>0</td>\n",
       "      <td>0</td>\n",
       "    </tr>\n",
       "  </tbody>\n",
       "</table>\n",
       "</div>"
      ],
      "text/plain": [
       "  Part number  Price/Unit           Type         Region  Capacity BTU/Hr  \\\n",
       "0    110-1574       34.49  Reciprocating  North America              510   \n",
       "1    111-0810       39.48         Scroll         Europe              920   \n",
       "2    116-7080       32.08  Reciprocating  North America              720   \n",
       "3    116-7532       29.47  Reciprocating         Europe              285   \n",
       "4    122-7151       26.56  Reciprocating         Europe              260   \n",
       "\n",
       "   Weight   EER  Unit Volume  log Unit Volume  Reciprocating  Scroll  Europe  \\\n",
       "0    5.68  3.26        81000        11.302204              1       0       0   \n",
       "1   10.51  4.90       137000        11.827736              0       1       1   \n",
       "2    8.16  4.28        47000        10.757903              1       0       0   \n",
       "3    3.31  5.03        82000        11.314475              1       0       1   \n",
       "4    2.97  4.16        66000        11.097410              1       0       1   \n",
       "\n",
       "   Latin America  North America  \n",
       "0              0              1  \n",
       "1              0              0  \n",
       "2              0              1  \n",
       "3              0              0  \n",
       "4              0              0  "
      ]
     },
     "execution_count": 8,
     "metadata": {},
     "output_type": "execute_result"
    }
   ],
   "source": [
    "dummies1 = pd.get_dummies(dfwhirlpool['Type'])\n",
    "dummies2 = pd.get_dummies(dfwhirlpool['Region'])\n",
    "dfwhirlpool = pd.concat([dfwhirlpool, dummies1, dummies2], axis=1)\n",
    "dfwhirlpool.head()"
   ]
  },
  {
   "cell_type": "code",
   "execution_count": 9,
   "metadata": {},
   "outputs": [
    {
     "data": {
      "text/html": [
       "<div>\n",
       "<style scoped>\n",
       "    .dataframe tbody tr th:only-of-type {\n",
       "        vertical-align: middle;\n",
       "    }\n",
       "\n",
       "    .dataframe tbody tr th {\n",
       "        vertical-align: top;\n",
       "    }\n",
       "\n",
       "    .dataframe thead th {\n",
       "        text-align: right;\n",
       "    }\n",
       "</style>\n",
       "<table border=\"1\" class=\"dataframe\">\n",
       "  <thead>\n",
       "    <tr style=\"text-align: right;\">\n",
       "      <th></th>\n",
       "      <th>Part number</th>\n",
       "      <th>Price/Unit</th>\n",
       "      <th>Type</th>\n",
       "      <th>Region</th>\n",
       "      <th>Capacity BTU/Hr</th>\n",
       "      <th>Weight</th>\n",
       "      <th>EER</th>\n",
       "      <th>Unit Volume</th>\n",
       "      <th>log Unit Volume</th>\n",
       "      <th>Scroll</th>\n",
       "      <th>Europe</th>\n",
       "      <th>Latin America</th>\n",
       "    </tr>\n",
       "  </thead>\n",
       "  <tbody>\n",
       "    <tr>\n",
       "      <th>0</th>\n",
       "      <td>110-1574</td>\n",
       "      <td>34.49</td>\n",
       "      <td>Reciprocating</td>\n",
       "      <td>North America</td>\n",
       "      <td>510</td>\n",
       "      <td>5.68</td>\n",
       "      <td>3.26</td>\n",
       "      <td>81000</td>\n",
       "      <td>11.302204</td>\n",
       "      <td>0</td>\n",
       "      <td>0</td>\n",
       "      <td>0</td>\n",
       "    </tr>\n",
       "    <tr>\n",
       "      <th>1</th>\n",
       "      <td>111-0810</td>\n",
       "      <td>39.48</td>\n",
       "      <td>Scroll</td>\n",
       "      <td>Europe</td>\n",
       "      <td>920</td>\n",
       "      <td>10.51</td>\n",
       "      <td>4.90</td>\n",
       "      <td>137000</td>\n",
       "      <td>11.827736</td>\n",
       "      <td>1</td>\n",
       "      <td>1</td>\n",
       "      <td>0</td>\n",
       "    </tr>\n",
       "    <tr>\n",
       "      <th>2</th>\n",
       "      <td>116-7080</td>\n",
       "      <td>32.08</td>\n",
       "      <td>Reciprocating</td>\n",
       "      <td>North America</td>\n",
       "      <td>720</td>\n",
       "      <td>8.16</td>\n",
       "      <td>4.28</td>\n",
       "      <td>47000</td>\n",
       "      <td>10.757903</td>\n",
       "      <td>0</td>\n",
       "      <td>0</td>\n",
       "      <td>0</td>\n",
       "    </tr>\n",
       "    <tr>\n",
       "      <th>3</th>\n",
       "      <td>116-7532</td>\n",
       "      <td>29.47</td>\n",
       "      <td>Reciprocating</td>\n",
       "      <td>Europe</td>\n",
       "      <td>285</td>\n",
       "      <td>3.31</td>\n",
       "      <td>5.03</td>\n",
       "      <td>82000</td>\n",
       "      <td>11.314475</td>\n",
       "      <td>0</td>\n",
       "      <td>1</td>\n",
       "      <td>0</td>\n",
       "    </tr>\n",
       "    <tr>\n",
       "      <th>4</th>\n",
       "      <td>122-7151</td>\n",
       "      <td>26.56</td>\n",
       "      <td>Reciprocating</td>\n",
       "      <td>Europe</td>\n",
       "      <td>260</td>\n",
       "      <td>2.97</td>\n",
       "      <td>4.16</td>\n",
       "      <td>66000</td>\n",
       "      <td>11.097410</td>\n",
       "      <td>0</td>\n",
       "      <td>1</td>\n",
       "      <td>0</td>\n",
       "    </tr>\n",
       "  </tbody>\n",
       "</table>\n",
       "</div>"
      ],
      "text/plain": [
       "  Part number  Price/Unit           Type         Region  Capacity BTU/Hr  \\\n",
       "0    110-1574       34.49  Reciprocating  North America              510   \n",
       "1    111-0810       39.48         Scroll         Europe              920   \n",
       "2    116-7080       32.08  Reciprocating  North America              720   \n",
       "3    116-7532       29.47  Reciprocating         Europe              285   \n",
       "4    122-7151       26.56  Reciprocating         Europe              260   \n",
       "\n",
       "   Weight   EER  Unit Volume  log Unit Volume  Scroll  Europe  Latin America  \n",
       "0    5.68  3.26        81000        11.302204       0       0              0  \n",
       "1   10.51  4.90       137000        11.827736       1       1              0  \n",
       "2    8.16  4.28        47000        10.757903       0       0              0  \n",
       "3    3.31  5.03        82000        11.314475       0       1              0  \n",
       "4    2.97  4.16        66000        11.097410       0       1              0  "
      ]
     },
     "execution_count": 9,
     "metadata": {},
     "output_type": "execute_result"
    }
   ],
   "source": [
    "dfwhirlpool = dfwhirlpool.drop(columns=[\"Reciprocating\", \"North America\"])\n",
    "dfwhirlpool.head()"
   ]
  },
  {
   "cell_type": "code",
   "execution_count": 10,
   "metadata": {},
   "outputs": [
    {
     "data": {
      "text/html": [
       "<div>\n",
       "<style scoped>\n",
       "    .dataframe tbody tr th:only-of-type {\n",
       "        vertical-align: middle;\n",
       "    }\n",
       "\n",
       "    .dataframe tbody tr th {\n",
       "        vertical-align: top;\n",
       "    }\n",
       "\n",
       "    .dataframe thead th {\n",
       "        text-align: right;\n",
       "    }\n",
       "</style>\n",
       "<table border=\"1\" class=\"dataframe\">\n",
       "  <thead>\n",
       "    <tr style=\"text-align: right;\">\n",
       "      <th></th>\n",
       "      <th>Price/Unit</th>\n",
       "      <th>Capacity BTU/Hr</th>\n",
       "      <th>Weight</th>\n",
       "      <th>EER</th>\n",
       "      <th>Unit Volume</th>\n",
       "      <th>log Unit Volume</th>\n",
       "      <th>Scroll</th>\n",
       "      <th>Europe</th>\n",
       "      <th>Latin America</th>\n",
       "    </tr>\n",
       "  </thead>\n",
       "  <tbody>\n",
       "    <tr>\n",
       "      <th>Price/Unit</th>\n",
       "      <td>1.000000</td>\n",
       "      <td>0.323419</td>\n",
       "      <td>0.318801</td>\n",
       "      <td>0.311448</td>\n",
       "      <td>-0.351386</td>\n",
       "      <td>-0.358806</td>\n",
       "      <td>0.185002</td>\n",
       "      <td>-0.317348</td>\n",
       "      <td>0.618520</td>\n",
       "    </tr>\n",
       "    <tr>\n",
       "      <th>Capacity BTU/Hr</th>\n",
       "      <td>0.323419</td>\n",
       "      <td>1.000000</td>\n",
       "      <td>0.997922</td>\n",
       "      <td>-0.342144</td>\n",
       "      <td>0.071716</td>\n",
       "      <td>0.038737</td>\n",
       "      <td>0.635764</td>\n",
       "      <td>-0.219836</td>\n",
       "      <td>-0.136196</td>\n",
       "    </tr>\n",
       "    <tr>\n",
       "      <th>Weight</th>\n",
       "      <td>0.318801</td>\n",
       "      <td>0.997922</td>\n",
       "      <td>1.000000</td>\n",
       "      <td>-0.343886</td>\n",
       "      <td>0.085289</td>\n",
       "      <td>0.053180</td>\n",
       "      <td>0.640415</td>\n",
       "      <td>-0.215994</td>\n",
       "      <td>-0.132858</td>\n",
       "    </tr>\n",
       "    <tr>\n",
       "      <th>EER</th>\n",
       "      <td>0.311448</td>\n",
       "      <td>-0.342144</td>\n",
       "      <td>-0.343886</td>\n",
       "      <td>1.000000</td>\n",
       "      <td>-0.246618</td>\n",
       "      <td>-0.191887</td>\n",
       "      <td>-0.417808</td>\n",
       "      <td>0.278593</td>\n",
       "      <td>0.558138</td>\n",
       "    </tr>\n",
       "    <tr>\n",
       "      <th>Unit Volume</th>\n",
       "      <td>-0.351386</td>\n",
       "      <td>0.071716</td>\n",
       "      <td>0.085289</td>\n",
       "      <td>-0.246618</td>\n",
       "      <td>1.000000</td>\n",
       "      <td>0.903965</td>\n",
       "      <td>0.140645</td>\n",
       "      <td>-0.019376</td>\n",
       "      <td>-0.177255</td>\n",
       "    </tr>\n",
       "    <tr>\n",
       "      <th>log Unit Volume</th>\n",
       "      <td>-0.358806</td>\n",
       "      <td>0.038737</td>\n",
       "      <td>0.053180</td>\n",
       "      <td>-0.191887</td>\n",
       "      <td>0.903965</td>\n",
       "      <td>1.000000</td>\n",
       "      <td>0.071281</td>\n",
       "      <td>0.045688</td>\n",
       "      <td>-0.225876</td>\n",
       "    </tr>\n",
       "    <tr>\n",
       "      <th>Scroll</th>\n",
       "      <td>0.185002</td>\n",
       "      <td>0.635764</td>\n",
       "      <td>0.640415</td>\n",
       "      <td>-0.417808</td>\n",
       "      <td>0.140645</td>\n",
       "      <td>0.071281</td>\n",
       "      <td>1.000000</td>\n",
       "      <td>-0.082199</td>\n",
       "      <td>-0.248548</td>\n",
       "    </tr>\n",
       "    <tr>\n",
       "      <th>Europe</th>\n",
       "      <td>-0.317348</td>\n",
       "      <td>-0.219836</td>\n",
       "      <td>-0.215994</td>\n",
       "      <td>0.278593</td>\n",
       "      <td>-0.019376</td>\n",
       "      <td>0.045688</td>\n",
       "      <td>-0.082199</td>\n",
       "      <td>1.000000</td>\n",
       "      <td>-0.377964</td>\n",
       "    </tr>\n",
       "    <tr>\n",
       "      <th>Latin America</th>\n",
       "      <td>0.618520</td>\n",
       "      <td>-0.136196</td>\n",
       "      <td>-0.132858</td>\n",
       "      <td>0.558138</td>\n",
       "      <td>-0.177255</td>\n",
       "      <td>-0.225876</td>\n",
       "      <td>-0.248548</td>\n",
       "      <td>-0.377964</td>\n",
       "      <td>1.000000</td>\n",
       "    </tr>\n",
       "  </tbody>\n",
       "</table>\n",
       "</div>"
      ],
      "text/plain": [
       "                 Price/Unit  Capacity BTU/Hr    Weight       EER  Unit Volume  \\\n",
       "Price/Unit         1.000000         0.323419  0.318801  0.311448    -0.351386   \n",
       "Capacity BTU/Hr    0.323419         1.000000  0.997922 -0.342144     0.071716   \n",
       "Weight             0.318801         0.997922  1.000000 -0.343886     0.085289   \n",
       "EER                0.311448        -0.342144 -0.343886  1.000000    -0.246618   \n",
       "Unit Volume       -0.351386         0.071716  0.085289 -0.246618     1.000000   \n",
       "log Unit Volume   -0.358806         0.038737  0.053180 -0.191887     0.903965   \n",
       "Scroll             0.185002         0.635764  0.640415 -0.417808     0.140645   \n",
       "Europe            -0.317348        -0.219836 -0.215994  0.278593    -0.019376   \n",
       "Latin America      0.618520        -0.136196 -0.132858  0.558138    -0.177255   \n",
       "\n",
       "                 log Unit Volume    Scroll    Europe  Latin America  \n",
       "Price/Unit             -0.358806  0.185002 -0.317348       0.618520  \n",
       "Capacity BTU/Hr         0.038737  0.635764 -0.219836      -0.136196  \n",
       "Weight                  0.053180  0.640415 -0.215994      -0.132858  \n",
       "EER                    -0.191887 -0.417808  0.278593       0.558138  \n",
       "Unit Volume             0.903965  0.140645 -0.019376      -0.177255  \n",
       "log Unit Volume         1.000000  0.071281  0.045688      -0.225876  \n",
       "Scroll                  0.071281  1.000000 -0.082199      -0.248548  \n",
       "Europe                  0.045688 -0.082199  1.000000      -0.377964  \n",
       "Latin America          -0.225876 -0.248548 -0.377964       1.000000  "
      ]
     },
     "execution_count": 10,
     "metadata": {},
     "output_type": "execute_result"
    }
   ],
   "source": [
    "dfwhirlpool.corr()"
   ]
  },
  {
   "cell_type": "code",
   "execution_count": 22,
   "metadata": {
    "scrolled": true
   },
   "outputs": [
    {
     "name": "stdout",
     "output_type": "stream",
     "text": [
      "                            OLS Regression Results                            \n",
      "==============================================================================\n",
      "Dep. Variable:             Price/Unit   R-squared:                       0.623\n",
      "Model:                            OLS   Adj. R-squared:                  0.595\n",
      "Method:                 Least Squares   F-statistic:                     22.55\n",
      "Date:                Wed, 19 Jan 2022   Prob (F-statistic):           8.75e-09\n",
      "Time:                        10:15:49   Log-Likelihood:                -104.33\n",
      "No. Observations:                  45   AIC:                             216.7\n",
      "Df Residuals:                      41   BIC:                             223.9\n",
      "Df Model:                           3                                         \n",
      "Covariance Type:            nonrobust                                         \n",
      "===================================================================================\n",
      "                      coef    std err          t      P>|t|      [0.025      0.975]\n",
      "-----------------------------------------------------------------------------------\n",
      "const              29.8331      1.036     28.798      0.000      27.741      31.925\n",
      "Capacity BTU/Hr     0.0070      0.002      4.420      0.000       0.004       0.010\n",
      "Unit Volume     -7.997e-06   2.88e-06     -2.773      0.008   -1.38e-05   -2.17e-06\n",
      "Latin America       6.0537      0.946      6.401      0.000       4.144       7.964\n",
      "==============================================================================\n",
      "Omnibus:                        2.426   Durbin-Watson:                   2.225\n",
      "Prob(Omnibus):                  0.297   Jarque-Bera (JB):                1.439\n",
      "Skew:                          -0.124   Prob(JB):                        0.487\n",
      "Kurtosis:                       2.160   Cond. No.                     5.31e+05\n",
      "==============================================================================\n",
      "\n",
      "Notes:\n",
      "[1] Standard Errors assume that the covariance matrix of the errors is correctly specified.\n",
      "[2] The condition number is large, 5.31e+05. This might indicate that there are\n",
      "strong multicollinearity or other numerical problems.\n"
     ]
    }
   ],
   "source": [
    "#X1 = ['Capacity BTU/Hr', 'EER', 'Scroll'] #Design drivers\n",
    "#X1 = ['Capacity BTU/Hr', 'EER'] #Design drivers without type\n",
    "#X1 = ['Capacity BTU/Hr', 'EER', 'Unit Volume'] #Design and operations drivers\n",
    "#X1 = ['Capacity BTU/Hr', 'EER', 'Unit Volume', 'Europe', 'Latin America'] #Design, operations and region drivers\n",
    "#X1 = ['Capacity BTU/Hr', 'EER', 'Unit Volume', 'Latin America'] #Remove Europe\n",
    "X1 = ['Capacity BTU/Hr', 'Unit Volume', 'Latin America'] #Remove EER\n",
    "#X1 = ['Capacity BTU/Hr', 'Unit Volume', 'EER'] #Swap Latin America for EER\n",
    "#X1 = ['Capacity BTU/Hr', 'EER', 'Scroll', 'Unit Volume', 'Europe', 'Latin America'] #The kitchen sink model\n",
    "X1 = dfwhirlpool[X1]\n",
    "X1 = sm.add_constant(X1)\n",
    "y = dfwhirlpool['Price/Unit']\n",
    "model = sm.OLS(y, X1)\n",
    "results = model.fit()\n",
    "print(results.summary())"
   ]
  },
  {
   "cell_type": "code",
   "execution_count": 23,
   "metadata": {},
   "outputs": [
    {
     "data": {
      "text/plain": [
       "const              29.833119\n",
       "Capacity BTU/Hr     0.006953\n",
       "Unit Volume        -0.000008\n",
       "Latin America       6.053679\n",
       "dtype: float64"
      ]
     },
     "execution_count": 23,
     "metadata": {},
     "output_type": "execute_result"
    }
   ],
   "source": [
    "results.params"
   ]
  },
  {
   "cell_type": "code",
   "execution_count": 24,
   "metadata": {},
   "outputs": [
    {
     "data": {
      "text/html": [
       "<div>\n",
       "<style scoped>\n",
       "    .dataframe tbody tr th:only-of-type {\n",
       "        vertical-align: middle;\n",
       "    }\n",
       "\n",
       "    .dataframe tbody tr th {\n",
       "        vertical-align: top;\n",
       "    }\n",
       "\n",
       "    .dataframe thead th {\n",
       "        text-align: right;\n",
       "    }\n",
       "</style>\n",
       "<table border=\"1\" class=\"dataframe\">\n",
       "  <thead>\n",
       "    <tr style=\"text-align: right;\">\n",
       "      <th></th>\n",
       "      <th>Part number</th>\n",
       "      <th>Price/Unit</th>\n",
       "      <th>Type</th>\n",
       "      <th>Region</th>\n",
       "      <th>Capacity BTU/Hr</th>\n",
       "      <th>Weight</th>\n",
       "      <th>EER</th>\n",
       "      <th>Unit Volume</th>\n",
       "      <th>log Unit Volume</th>\n",
       "      <th>Scroll</th>\n",
       "      <th>Europe</th>\n",
       "      <th>Latin America</th>\n",
       "      <th>X1 Predicted Price/Unit</th>\n",
       "      <th>X1 Error</th>\n",
       "      <th>X1 Abs Error</th>\n",
       "    </tr>\n",
       "  </thead>\n",
       "  <tbody>\n",
       "    <tr>\n",
       "      <th>0</th>\n",
       "      <td>110-1574</td>\n",
       "      <td>34.49</td>\n",
       "      <td>Reciprocating</td>\n",
       "      <td>North America</td>\n",
       "      <td>510</td>\n",
       "      <td>5.68</td>\n",
       "      <td>3.26</td>\n",
       "      <td>81000</td>\n",
       "      <td>11.302204</td>\n",
       "      <td>0</td>\n",
       "      <td>0</td>\n",
       "      <td>0</td>\n",
       "      <td>32.731581</td>\n",
       "      <td>-3.027807</td>\n",
       "      <td>3.027807</td>\n",
       "    </tr>\n",
       "    <tr>\n",
       "      <th>1</th>\n",
       "      <td>111-0810</td>\n",
       "      <td>39.48</td>\n",
       "      <td>Scroll</td>\n",
       "      <td>Europe</td>\n",
       "      <td>920</td>\n",
       "      <td>10.51</td>\n",
       "      <td>4.90</td>\n",
       "      <td>137000</td>\n",
       "      <td>11.827736</td>\n",
       "      <td>1</td>\n",
       "      <td>1</td>\n",
       "      <td>0</td>\n",
       "      <td>35.134630</td>\n",
       "      <td>-1.088127</td>\n",
       "      <td>1.088127</td>\n",
       "    </tr>\n",
       "    <tr>\n",
       "      <th>2</th>\n",
       "      <td>116-7080</td>\n",
       "      <td>32.08</td>\n",
       "      <td>Reciprocating</td>\n",
       "      <td>North America</td>\n",
       "      <td>720</td>\n",
       "      <td>8.16</td>\n",
       "      <td>4.28</td>\n",
       "      <td>47000</td>\n",
       "      <td>10.757903</td>\n",
       "      <td>0</td>\n",
       "      <td>0</td>\n",
       "      <td>0</td>\n",
       "      <td>34.463684</td>\n",
       "      <td>3.920845</td>\n",
       "      <td>3.920845</td>\n",
       "    </tr>\n",
       "    <tr>\n",
       "      <th>3</th>\n",
       "      <td>116-7532</td>\n",
       "      <td>29.47</td>\n",
       "      <td>Reciprocating</td>\n",
       "      <td>Europe</td>\n",
       "      <td>285</td>\n",
       "      <td>3.31</td>\n",
       "      <td>5.03</td>\n",
       "      <td>82000</td>\n",
       "      <td>11.314475</td>\n",
       "      <td>0</td>\n",
       "      <td>1</td>\n",
       "      <td>0</td>\n",
       "      <td>31.159077</td>\n",
       "      <td>4.742532</td>\n",
       "      <td>4.742532</td>\n",
       "    </tr>\n",
       "    <tr>\n",
       "      <th>4</th>\n",
       "      <td>122-7151</td>\n",
       "      <td>26.56</td>\n",
       "      <td>Reciprocating</td>\n",
       "      <td>Europe</td>\n",
       "      <td>260</td>\n",
       "      <td>2.97</td>\n",
       "      <td>4.16</td>\n",
       "      <td>66000</td>\n",
       "      <td>11.097410</td>\n",
       "      <td>0</td>\n",
       "      <td>1</td>\n",
       "      <td>0</td>\n",
       "      <td>31.113194</td>\n",
       "      <td>5.369120</td>\n",
       "      <td>5.369120</td>\n",
       "    </tr>\n",
       "  </tbody>\n",
       "</table>\n",
       "</div>"
      ],
      "text/plain": [
       "  Part number  Price/Unit           Type         Region  Capacity BTU/Hr  \\\n",
       "0    110-1574       34.49  Reciprocating  North America              510   \n",
       "1    111-0810       39.48         Scroll         Europe              920   \n",
       "2    116-7080       32.08  Reciprocating  North America              720   \n",
       "3    116-7532       29.47  Reciprocating         Europe              285   \n",
       "4    122-7151       26.56  Reciprocating         Europe              260   \n",
       "\n",
       "   Weight   EER  Unit Volume  log Unit Volume  Scroll  Europe  Latin America  \\\n",
       "0    5.68  3.26        81000        11.302204       0       0              0   \n",
       "1   10.51  4.90       137000        11.827736       1       1              0   \n",
       "2    8.16  4.28        47000        10.757903       0       0              0   \n",
       "3    3.31  5.03        82000        11.314475       0       1              0   \n",
       "4    2.97  4.16        66000        11.097410       0       1              0   \n",
       "\n",
       "   X1 Predicted Price/Unit  X1 Error  X1 Abs Error  \n",
       "0                32.731581 -3.027807      3.027807  \n",
       "1                35.134630 -1.088127      1.088127  \n",
       "2                34.463684  3.920845      3.920845  \n",
       "3                31.159077  4.742532      4.742532  \n",
       "4                31.113194  5.369120      5.369120  "
      ]
     },
     "execution_count": 24,
     "metadata": {},
     "output_type": "execute_result"
    }
   ],
   "source": [
    "dfwhirlpool['X1 Predicted Price/Unit'] = results.predict(X1)\n",
    "dfwhirlpool.head()"
   ]
  },
  {
   "cell_type": "code",
   "execution_count": 25,
   "metadata": {},
   "outputs": [],
   "source": [
    "dfwhirlpool['X1 Error']= dfwhirlpool['X1 Predicted Price/Unit'] - dfwhirlpool['Price/Unit']"
   ]
  },
  {
   "cell_type": "code",
   "execution_count": 26,
   "metadata": {},
   "outputs": [],
   "source": [
    "dfwhirlpool['X1 Abs Error']= dfwhirlpool['X1 Error'].abs()"
   ]
  },
  {
   "cell_type": "code",
   "execution_count": 27,
   "metadata": {},
   "outputs": [
    {
     "data": {
      "text/html": [
       "<div>\n",
       "<style scoped>\n",
       "    .dataframe tbody tr th:only-of-type {\n",
       "        vertical-align: middle;\n",
       "    }\n",
       "\n",
       "    .dataframe tbody tr th {\n",
       "        vertical-align: top;\n",
       "    }\n",
       "\n",
       "    .dataframe thead th {\n",
       "        text-align: right;\n",
       "    }\n",
       "</style>\n",
       "<table border=\"1\" class=\"dataframe\">\n",
       "  <thead>\n",
       "    <tr style=\"text-align: right;\">\n",
       "      <th></th>\n",
       "      <th>Part number</th>\n",
       "      <th>Price/Unit</th>\n",
       "      <th>Type</th>\n",
       "      <th>Region</th>\n",
       "      <th>Capacity BTU/Hr</th>\n",
       "      <th>Weight</th>\n",
       "      <th>EER</th>\n",
       "      <th>Unit Volume</th>\n",
       "      <th>log Unit Volume</th>\n",
       "      <th>Scroll</th>\n",
       "      <th>Europe</th>\n",
       "      <th>Latin America</th>\n",
       "      <th>X1 Predicted Price/Unit</th>\n",
       "      <th>X1 Error</th>\n",
       "      <th>X1 Abs Error</th>\n",
       "    </tr>\n",
       "  </thead>\n",
       "  <tbody>\n",
       "    <tr>\n",
       "      <th>0</th>\n",
       "      <td>110-1574</td>\n",
       "      <td>34.49</td>\n",
       "      <td>Reciprocating</td>\n",
       "      <td>North America</td>\n",
       "      <td>510</td>\n",
       "      <td>5.68</td>\n",
       "      <td>3.26</td>\n",
       "      <td>81000</td>\n",
       "      <td>11.302204</td>\n",
       "      <td>0</td>\n",
       "      <td>0</td>\n",
       "      <td>0</td>\n",
       "      <td>32.731581</td>\n",
       "      <td>-1.758419</td>\n",
       "      <td>1.758419</td>\n",
       "    </tr>\n",
       "    <tr>\n",
       "      <th>1</th>\n",
       "      <td>111-0810</td>\n",
       "      <td>39.48</td>\n",
       "      <td>Scroll</td>\n",
       "      <td>Europe</td>\n",
       "      <td>920</td>\n",
       "      <td>10.51</td>\n",
       "      <td>4.90</td>\n",
       "      <td>137000</td>\n",
       "      <td>11.827736</td>\n",
       "      <td>1</td>\n",
       "      <td>1</td>\n",
       "      <td>0</td>\n",
       "      <td>35.134630</td>\n",
       "      <td>-4.345370</td>\n",
       "      <td>4.345370</td>\n",
       "    </tr>\n",
       "    <tr>\n",
       "      <th>2</th>\n",
       "      <td>116-7080</td>\n",
       "      <td>32.08</td>\n",
       "      <td>Reciprocating</td>\n",
       "      <td>North America</td>\n",
       "      <td>720</td>\n",
       "      <td>8.16</td>\n",
       "      <td>4.28</td>\n",
       "      <td>47000</td>\n",
       "      <td>10.757903</td>\n",
       "      <td>0</td>\n",
       "      <td>0</td>\n",
       "      <td>0</td>\n",
       "      <td>34.463684</td>\n",
       "      <td>2.383684</td>\n",
       "      <td>2.383684</td>\n",
       "    </tr>\n",
       "    <tr>\n",
       "      <th>3</th>\n",
       "      <td>116-7532</td>\n",
       "      <td>29.47</td>\n",
       "      <td>Reciprocating</td>\n",
       "      <td>Europe</td>\n",
       "      <td>285</td>\n",
       "      <td>3.31</td>\n",
       "      <td>5.03</td>\n",
       "      <td>82000</td>\n",
       "      <td>11.314475</td>\n",
       "      <td>0</td>\n",
       "      <td>1</td>\n",
       "      <td>0</td>\n",
       "      <td>31.159077</td>\n",
       "      <td>1.689077</td>\n",
       "      <td>1.689077</td>\n",
       "    </tr>\n",
       "    <tr>\n",
       "      <th>4</th>\n",
       "      <td>122-7151</td>\n",
       "      <td>26.56</td>\n",
       "      <td>Reciprocating</td>\n",
       "      <td>Europe</td>\n",
       "      <td>260</td>\n",
       "      <td>2.97</td>\n",
       "      <td>4.16</td>\n",
       "      <td>66000</td>\n",
       "      <td>11.097410</td>\n",
       "      <td>0</td>\n",
       "      <td>1</td>\n",
       "      <td>0</td>\n",
       "      <td>31.113194</td>\n",
       "      <td>4.553194</td>\n",
       "      <td>4.553194</td>\n",
       "    </tr>\n",
       "  </tbody>\n",
       "</table>\n",
       "</div>"
      ],
      "text/plain": [
       "  Part number  Price/Unit           Type         Region  Capacity BTU/Hr  \\\n",
       "0    110-1574       34.49  Reciprocating  North America              510   \n",
       "1    111-0810       39.48         Scroll         Europe              920   \n",
       "2    116-7080       32.08  Reciprocating  North America              720   \n",
       "3    116-7532       29.47  Reciprocating         Europe              285   \n",
       "4    122-7151       26.56  Reciprocating         Europe              260   \n",
       "\n",
       "   Weight   EER  Unit Volume  log Unit Volume  Scroll  Europe  Latin America  \\\n",
       "0    5.68  3.26        81000        11.302204       0       0              0   \n",
       "1   10.51  4.90       137000        11.827736       1       1              0   \n",
       "2    8.16  4.28        47000        10.757903       0       0              0   \n",
       "3    3.31  5.03        82000        11.314475       0       1              0   \n",
       "4    2.97  4.16        66000        11.097410       0       1              0   \n",
       "\n",
       "   X1 Predicted Price/Unit  X1 Error  X1 Abs Error  \n",
       "0                32.731581 -1.758419      1.758419  \n",
       "1                35.134630 -4.345370      4.345370  \n",
       "2                34.463684  2.383684      2.383684  \n",
       "3                31.159077  1.689077      1.689077  \n",
       "4                31.113194  4.553194      4.553194  "
      ]
     },
     "execution_count": 27,
     "metadata": {},
     "output_type": "execute_result"
    }
   ],
   "source": [
    "dfwhirlpool.head()"
   ]
  },
  {
   "cell_type": "code",
   "execution_count": 28,
   "metadata": {},
   "outputs": [
    {
     "data": {
      "application/vnd.plotly.v1+json": {
       "config": {
        "plotlyServerURL": "https://plot.ly"
       },
       "data": [
        {
         "hovertemplate": "Region=North America<br>X1 Predicted Price/Unit=%{x}<br>Price/Unit=%{y}<extra></extra>",
         "legendgroup": "North America",
         "marker": {
          "color": "#636efa",
          "symbol": "circle"
         },
         "mode": "markers",
         "name": "North America",
         "orientation": "v",
         "showlegend": true,
         "type": "scatter",
         "x": [
          32.73158084468428,
          34.463684317425454,
          30.024127777232675,
          33.88586327426777,
          29.571920473197363,
          31.409761688141586,
          35.70451407057759,
          35.235752299258586,
          28.146659611619366,
          36.89248393541258,
          31.388209835795166,
          31.86173040567574,
          35.92389094330502,
          35.19168849864213,
          32.28936831077443,
          34.61142840957837,
          34.54643293835615,
          32.46666122135793,
          33.353185420900736,
          33.23119144454045
         ],
         "xaxis": "x",
         "y": [
          34.49,
          32.08,
          31.81,
          31.97,
          28.23,
          33.45,
          39.15,
          30.56,
          30.85,
          32.46,
          32.71,
          32.33,
          39.89,
          36.44,
          33.02,
          31.98,
          31.66,
          35.36,
          30.72,
          32.98
         ],
         "yaxis": "y"
        },
        {
         "hovertemplate": "Region=Europe<br>X1 Predicted Price/Unit=%{x}<br>Price/Unit=%{y}<extra></extra>",
         "legendgroup": "Europe",
         "marker": {
          "color": "#EF553B",
          "symbol": "circle"
         },
         "mode": "markers",
         "name": "Europe",
         "orientation": "v",
         "showlegend": true,
         "type": "scatter",
         "x": [
          35.13463034687878,
          31.15907677944343,
          31.11319411466155,
          34.94486193920722,
          32.13776586935826,
          33.7332410903027,
          30.514721668455774,
          31.016550693285634,
          30.099738200321013,
          35.514686016280734,
          31.837560567547378,
          33.24162745653069,
          32.134307080903284,
          29.697391203581407,
          31.120511252379774
         ],
         "xaxis": "x",
         "y": [
          39.48,
          29.47,
          26.56,
          37.71,
          31.22,
          34.41,
          29.3,
          30.01,
          26.68,
          37.07,
          32.95,
          33.34,
          34.39,
          28.14,
          33.46
         ],
         "yaxis": "y"
        },
        {
         "hovertemplate": "Region=Latin America<br>X1 Predicted Price/Unit=%{x}<br>Price/Unit=%{y}<extra></extra>",
         "legendgroup": "Latin America",
         "marker": {
          "color": "#00cc96",
          "symbol": "circle"
         },
         "mode": "markers",
         "name": "Latin America",
         "orientation": "v",
         "showlegend": true,
         "type": "scatter",
         "x": [
          36.859869693666,
          36.96620965204093,
          38.13654566041804,
          38.57042131406075,
          38.984104772088926,
          39.984745275158446,
          40.72006659409334,
          40.56148692914192,
          37.845536007116095,
          38.43101410217497
         ],
         "xaxis": "x",
         "y": [
          41.31,
          37.83,
          33.88,
          36.77,
          37.07,
          39.33,
          40.73,
          43.78,
          38.44,
          37.92
         ],
         "yaxis": "y"
        }
       ],
       "layout": {
        "legend": {
         "title": {
          "text": "Region"
         },
         "tracegroupgap": 0
        },
        "margin": {
         "t": 60
        },
        "shapes": [
         {
          "type": "line",
          "x0": 0,
          "x1": 1,
          "xref": "paper",
          "y0": 0,
          "y1": 1,
          "yref": "paper"
         }
        ],
        "template": {
         "data": {
          "bar": [
           {
            "error_x": {
             "color": "#2a3f5f"
            },
            "error_y": {
             "color": "#2a3f5f"
            },
            "marker": {
             "line": {
              "color": "#E5ECF6",
              "width": 0.5
             }
            },
            "type": "bar"
           }
          ],
          "barpolar": [
           {
            "marker": {
             "line": {
              "color": "#E5ECF6",
              "width": 0.5
             }
            },
            "type": "barpolar"
           }
          ],
          "carpet": [
           {
            "aaxis": {
             "endlinecolor": "#2a3f5f",
             "gridcolor": "white",
             "linecolor": "white",
             "minorgridcolor": "white",
             "startlinecolor": "#2a3f5f"
            },
            "baxis": {
             "endlinecolor": "#2a3f5f",
             "gridcolor": "white",
             "linecolor": "white",
             "minorgridcolor": "white",
             "startlinecolor": "#2a3f5f"
            },
            "type": "carpet"
           }
          ],
          "choropleth": [
           {
            "colorbar": {
             "outlinewidth": 0,
             "ticks": ""
            },
            "type": "choropleth"
           }
          ],
          "contour": [
           {
            "colorbar": {
             "outlinewidth": 0,
             "ticks": ""
            },
            "colorscale": [
             [
              0,
              "#0d0887"
             ],
             [
              0.1111111111111111,
              "#46039f"
             ],
             [
              0.2222222222222222,
              "#7201a8"
             ],
             [
              0.3333333333333333,
              "#9c179e"
             ],
             [
              0.4444444444444444,
              "#bd3786"
             ],
             [
              0.5555555555555556,
              "#d8576b"
             ],
             [
              0.6666666666666666,
              "#ed7953"
             ],
             [
              0.7777777777777778,
              "#fb9f3a"
             ],
             [
              0.8888888888888888,
              "#fdca26"
             ],
             [
              1,
              "#f0f921"
             ]
            ],
            "type": "contour"
           }
          ],
          "contourcarpet": [
           {
            "colorbar": {
             "outlinewidth": 0,
             "ticks": ""
            },
            "type": "contourcarpet"
           }
          ],
          "heatmap": [
           {
            "colorbar": {
             "outlinewidth": 0,
             "ticks": ""
            },
            "colorscale": [
             [
              0,
              "#0d0887"
             ],
             [
              0.1111111111111111,
              "#46039f"
             ],
             [
              0.2222222222222222,
              "#7201a8"
             ],
             [
              0.3333333333333333,
              "#9c179e"
             ],
             [
              0.4444444444444444,
              "#bd3786"
             ],
             [
              0.5555555555555556,
              "#d8576b"
             ],
             [
              0.6666666666666666,
              "#ed7953"
             ],
             [
              0.7777777777777778,
              "#fb9f3a"
             ],
             [
              0.8888888888888888,
              "#fdca26"
             ],
             [
              1,
              "#f0f921"
             ]
            ],
            "type": "heatmap"
           }
          ],
          "heatmapgl": [
           {
            "colorbar": {
             "outlinewidth": 0,
             "ticks": ""
            },
            "colorscale": [
             [
              0,
              "#0d0887"
             ],
             [
              0.1111111111111111,
              "#46039f"
             ],
             [
              0.2222222222222222,
              "#7201a8"
             ],
             [
              0.3333333333333333,
              "#9c179e"
             ],
             [
              0.4444444444444444,
              "#bd3786"
             ],
             [
              0.5555555555555556,
              "#d8576b"
             ],
             [
              0.6666666666666666,
              "#ed7953"
             ],
             [
              0.7777777777777778,
              "#fb9f3a"
             ],
             [
              0.8888888888888888,
              "#fdca26"
             ],
             [
              1,
              "#f0f921"
             ]
            ],
            "type": "heatmapgl"
           }
          ],
          "histogram": [
           {
            "marker": {
             "colorbar": {
              "outlinewidth": 0,
              "ticks": ""
             }
            },
            "type": "histogram"
           }
          ],
          "histogram2d": [
           {
            "colorbar": {
             "outlinewidth": 0,
             "ticks": ""
            },
            "colorscale": [
             [
              0,
              "#0d0887"
             ],
             [
              0.1111111111111111,
              "#46039f"
             ],
             [
              0.2222222222222222,
              "#7201a8"
             ],
             [
              0.3333333333333333,
              "#9c179e"
             ],
             [
              0.4444444444444444,
              "#bd3786"
             ],
             [
              0.5555555555555556,
              "#d8576b"
             ],
             [
              0.6666666666666666,
              "#ed7953"
             ],
             [
              0.7777777777777778,
              "#fb9f3a"
             ],
             [
              0.8888888888888888,
              "#fdca26"
             ],
             [
              1,
              "#f0f921"
             ]
            ],
            "type": "histogram2d"
           }
          ],
          "histogram2dcontour": [
           {
            "colorbar": {
             "outlinewidth": 0,
             "ticks": ""
            },
            "colorscale": [
             [
              0,
              "#0d0887"
             ],
             [
              0.1111111111111111,
              "#46039f"
             ],
             [
              0.2222222222222222,
              "#7201a8"
             ],
             [
              0.3333333333333333,
              "#9c179e"
             ],
             [
              0.4444444444444444,
              "#bd3786"
             ],
             [
              0.5555555555555556,
              "#d8576b"
             ],
             [
              0.6666666666666666,
              "#ed7953"
             ],
             [
              0.7777777777777778,
              "#fb9f3a"
             ],
             [
              0.8888888888888888,
              "#fdca26"
             ],
             [
              1,
              "#f0f921"
             ]
            ],
            "type": "histogram2dcontour"
           }
          ],
          "mesh3d": [
           {
            "colorbar": {
             "outlinewidth": 0,
             "ticks": ""
            },
            "type": "mesh3d"
           }
          ],
          "parcoords": [
           {
            "line": {
             "colorbar": {
              "outlinewidth": 0,
              "ticks": ""
             }
            },
            "type": "parcoords"
           }
          ],
          "pie": [
           {
            "automargin": true,
            "type": "pie"
           }
          ],
          "scatter": [
           {
            "marker": {
             "colorbar": {
              "outlinewidth": 0,
              "ticks": ""
             }
            },
            "type": "scatter"
           }
          ],
          "scatter3d": [
           {
            "line": {
             "colorbar": {
              "outlinewidth": 0,
              "ticks": ""
             }
            },
            "marker": {
             "colorbar": {
              "outlinewidth": 0,
              "ticks": ""
             }
            },
            "type": "scatter3d"
           }
          ],
          "scattercarpet": [
           {
            "marker": {
             "colorbar": {
              "outlinewidth": 0,
              "ticks": ""
             }
            },
            "type": "scattercarpet"
           }
          ],
          "scattergeo": [
           {
            "marker": {
             "colorbar": {
              "outlinewidth": 0,
              "ticks": ""
             }
            },
            "type": "scattergeo"
           }
          ],
          "scattergl": [
           {
            "marker": {
             "colorbar": {
              "outlinewidth": 0,
              "ticks": ""
             }
            },
            "type": "scattergl"
           }
          ],
          "scattermapbox": [
           {
            "marker": {
             "colorbar": {
              "outlinewidth": 0,
              "ticks": ""
             }
            },
            "type": "scattermapbox"
           }
          ],
          "scatterpolar": [
           {
            "marker": {
             "colorbar": {
              "outlinewidth": 0,
              "ticks": ""
             }
            },
            "type": "scatterpolar"
           }
          ],
          "scatterpolargl": [
           {
            "marker": {
             "colorbar": {
              "outlinewidth": 0,
              "ticks": ""
             }
            },
            "type": "scatterpolargl"
           }
          ],
          "scatterternary": [
           {
            "marker": {
             "colorbar": {
              "outlinewidth": 0,
              "ticks": ""
             }
            },
            "type": "scatterternary"
           }
          ],
          "surface": [
           {
            "colorbar": {
             "outlinewidth": 0,
             "ticks": ""
            },
            "colorscale": [
             [
              0,
              "#0d0887"
             ],
             [
              0.1111111111111111,
              "#46039f"
             ],
             [
              0.2222222222222222,
              "#7201a8"
             ],
             [
              0.3333333333333333,
              "#9c179e"
             ],
             [
              0.4444444444444444,
              "#bd3786"
             ],
             [
              0.5555555555555556,
              "#d8576b"
             ],
             [
              0.6666666666666666,
              "#ed7953"
             ],
             [
              0.7777777777777778,
              "#fb9f3a"
             ],
             [
              0.8888888888888888,
              "#fdca26"
             ],
             [
              1,
              "#f0f921"
             ]
            ],
            "type": "surface"
           }
          ],
          "table": [
           {
            "cells": {
             "fill": {
              "color": "#EBF0F8"
             },
             "line": {
              "color": "white"
             }
            },
            "header": {
             "fill": {
              "color": "#C8D4E3"
             },
             "line": {
              "color": "white"
             }
            },
            "type": "table"
           }
          ]
         },
         "layout": {
          "annotationdefaults": {
           "arrowcolor": "#2a3f5f",
           "arrowhead": 0,
           "arrowwidth": 1
          },
          "coloraxis": {
           "colorbar": {
            "outlinewidth": 0,
            "ticks": ""
           }
          },
          "colorscale": {
           "diverging": [
            [
             0,
             "#8e0152"
            ],
            [
             0.1,
             "#c51b7d"
            ],
            [
             0.2,
             "#de77ae"
            ],
            [
             0.3,
             "#f1b6da"
            ],
            [
             0.4,
             "#fde0ef"
            ],
            [
             0.5,
             "#f7f7f7"
            ],
            [
             0.6,
             "#e6f5d0"
            ],
            [
             0.7,
             "#b8e186"
            ],
            [
             0.8,
             "#7fbc41"
            ],
            [
             0.9,
             "#4d9221"
            ],
            [
             1,
             "#276419"
            ]
           ],
           "sequential": [
            [
             0,
             "#0d0887"
            ],
            [
             0.1111111111111111,
             "#46039f"
            ],
            [
             0.2222222222222222,
             "#7201a8"
            ],
            [
             0.3333333333333333,
             "#9c179e"
            ],
            [
             0.4444444444444444,
             "#bd3786"
            ],
            [
             0.5555555555555556,
             "#d8576b"
            ],
            [
             0.6666666666666666,
             "#ed7953"
            ],
            [
             0.7777777777777778,
             "#fb9f3a"
            ],
            [
             0.8888888888888888,
             "#fdca26"
            ],
            [
             1,
             "#f0f921"
            ]
           ],
           "sequentialminus": [
            [
             0,
             "#0d0887"
            ],
            [
             0.1111111111111111,
             "#46039f"
            ],
            [
             0.2222222222222222,
             "#7201a8"
            ],
            [
             0.3333333333333333,
             "#9c179e"
            ],
            [
             0.4444444444444444,
             "#bd3786"
            ],
            [
             0.5555555555555556,
             "#d8576b"
            ],
            [
             0.6666666666666666,
             "#ed7953"
            ],
            [
             0.7777777777777778,
             "#fb9f3a"
            ],
            [
             0.8888888888888888,
             "#fdca26"
            ],
            [
             1,
             "#f0f921"
            ]
           ]
          },
          "colorway": [
           "#636efa",
           "#EF553B",
           "#00cc96",
           "#ab63fa",
           "#FFA15A",
           "#19d3f3",
           "#FF6692",
           "#B6E880",
           "#FF97FF",
           "#FECB52"
          ],
          "font": {
           "color": "#2a3f5f"
          },
          "geo": {
           "bgcolor": "white",
           "lakecolor": "white",
           "landcolor": "#E5ECF6",
           "showlakes": true,
           "showland": true,
           "subunitcolor": "white"
          },
          "hoverlabel": {
           "align": "left"
          },
          "hovermode": "closest",
          "mapbox": {
           "style": "light"
          },
          "paper_bgcolor": "white",
          "plot_bgcolor": "#E5ECF6",
          "polar": {
           "angularaxis": {
            "gridcolor": "white",
            "linecolor": "white",
            "ticks": ""
           },
           "bgcolor": "#E5ECF6",
           "radialaxis": {
            "gridcolor": "white",
            "linecolor": "white",
            "ticks": ""
           }
          },
          "scene": {
           "xaxis": {
            "backgroundcolor": "#E5ECF6",
            "gridcolor": "white",
            "gridwidth": 2,
            "linecolor": "white",
            "showbackground": true,
            "ticks": "",
            "zerolinecolor": "white"
           },
           "yaxis": {
            "backgroundcolor": "#E5ECF6",
            "gridcolor": "white",
            "gridwidth": 2,
            "linecolor": "white",
            "showbackground": true,
            "ticks": "",
            "zerolinecolor": "white"
           },
           "zaxis": {
            "backgroundcolor": "#E5ECF6",
            "gridcolor": "white",
            "gridwidth": 2,
            "linecolor": "white",
            "showbackground": true,
            "ticks": "",
            "zerolinecolor": "white"
           }
          },
          "shapedefaults": {
           "line": {
            "color": "#2a3f5f"
           }
          },
          "ternary": {
           "aaxis": {
            "gridcolor": "white",
            "linecolor": "white",
            "ticks": ""
           },
           "baxis": {
            "gridcolor": "white",
            "linecolor": "white",
            "ticks": ""
           },
           "bgcolor": "#E5ECF6",
           "caxis": {
            "gridcolor": "white",
            "linecolor": "white",
            "ticks": ""
           }
          },
          "title": {
           "x": 0.05
          },
          "xaxis": {
           "automargin": true,
           "gridcolor": "white",
           "linecolor": "white",
           "ticks": "",
           "title": {
            "standoff": 15
           },
           "zerolinecolor": "white",
           "zerolinewidth": 2
          },
          "yaxis": {
           "automargin": true,
           "gridcolor": "white",
           "linecolor": "white",
           "ticks": "",
           "title": {
            "standoff": 15
           },
           "zerolinecolor": "white",
           "zerolinewidth": 2
          }
         }
        },
        "xaxis": {
         "anchor": "y",
         "domain": [
          0,
          1
         ],
         "range": [
          26,
          40
         ],
         "title": {
          "text": "X1 Predicted Price/Unit"
         }
        },
        "yaxis": {
         "anchor": "x",
         "domain": [
          0,
          1
         ],
         "range": [
          26,
          40
         ],
         "title": {
          "text": "Price/Unit"
         }
        }
       }
      },
      "text/html": [
       "<div>                            <div id=\"0e574dca-7f68-4c52-ac27-30aedf503cda\" class=\"plotly-graph-div\" style=\"height:525px; width:100%;\"></div>            <script type=\"text/javascript\">                require([\"plotly\"], function(Plotly) {                    window.PLOTLYENV=window.PLOTLYENV || {};                                    if (document.getElementById(\"0e574dca-7f68-4c52-ac27-30aedf503cda\")) {                    Plotly.newPlot(                        \"0e574dca-7f68-4c52-ac27-30aedf503cda\",                        [{\"hovertemplate\": \"Region=North America<br>X1 Predicted Price/Unit=%{x}<br>Price/Unit=%{y}<extra></extra>\", \"legendgroup\": \"North America\", \"marker\": {\"color\": \"#636efa\", \"symbol\": \"circle\"}, \"mode\": \"markers\", \"name\": \"North America\", \"orientation\": \"v\", \"showlegend\": true, \"type\": \"scatter\", \"x\": [32.73158084468428, 34.463684317425454, 30.024127777232675, 33.88586327426777, 29.571920473197363, 31.409761688141586, 35.70451407057759, 35.235752299258586, 28.146659611619366, 36.89248393541258, 31.388209835795166, 31.86173040567574, 35.92389094330502, 35.19168849864213, 32.28936831077443, 34.61142840957837, 34.54643293835615, 32.46666122135793, 33.353185420900736, 33.23119144454045], \"xaxis\": \"x\", \"y\": [34.49, 32.08, 31.81, 31.97, 28.23, 33.45, 39.15, 30.56, 30.85, 32.46, 32.71, 32.33, 39.89, 36.44, 33.02, 31.98, 31.66, 35.36, 30.72, 32.98], \"yaxis\": \"y\"}, {\"hovertemplate\": \"Region=Europe<br>X1 Predicted Price/Unit=%{x}<br>Price/Unit=%{y}<extra></extra>\", \"legendgroup\": \"Europe\", \"marker\": {\"color\": \"#EF553B\", \"symbol\": \"circle\"}, \"mode\": \"markers\", \"name\": \"Europe\", \"orientation\": \"v\", \"showlegend\": true, \"type\": \"scatter\", \"x\": [35.13463034687878, 31.15907677944343, 31.11319411466155, 34.94486193920722, 32.13776586935826, 33.7332410903027, 30.514721668455774, 31.016550693285634, 30.099738200321013, 35.514686016280734, 31.837560567547378, 33.24162745653069, 32.134307080903284, 29.697391203581407, 31.120511252379774], \"xaxis\": \"x\", \"y\": [39.48, 29.47, 26.56, 37.71, 31.22, 34.41, 29.3, 30.01, 26.68, 37.07, 32.95, 33.34, 34.39, 28.14, 33.46], \"yaxis\": \"y\"}, {\"hovertemplate\": \"Region=Latin America<br>X1 Predicted Price/Unit=%{x}<br>Price/Unit=%{y}<extra></extra>\", \"legendgroup\": \"Latin America\", \"marker\": {\"color\": \"#00cc96\", \"symbol\": \"circle\"}, \"mode\": \"markers\", \"name\": \"Latin America\", \"orientation\": \"v\", \"showlegend\": true, \"type\": \"scatter\", \"x\": [36.859869693666, 36.96620965204093, 38.13654566041804, 38.57042131406075, 38.984104772088926, 39.984745275158446, 40.72006659409334, 40.56148692914192, 37.845536007116095, 38.43101410217497], \"xaxis\": \"x\", \"y\": [41.31, 37.83, 33.88, 36.77, 37.07, 39.33, 40.73, 43.78, 38.44, 37.92], \"yaxis\": \"y\"}],                        {\"legend\": {\"title\": {\"text\": \"Region\"}, \"tracegroupgap\": 0}, \"margin\": {\"t\": 60}, \"shapes\": [{\"type\": \"line\", \"x0\": 0, \"x1\": 1, \"xref\": \"paper\", \"y0\": 0, \"y1\": 1, \"yref\": \"paper\"}], \"template\": {\"data\": {\"bar\": [{\"error_x\": {\"color\": \"#2a3f5f\"}, \"error_y\": {\"color\": \"#2a3f5f\"}, \"marker\": {\"line\": {\"color\": \"#E5ECF6\", \"width\": 0.5}}, \"type\": \"bar\"}], \"barpolar\": [{\"marker\": {\"line\": {\"color\": \"#E5ECF6\", \"width\": 0.5}}, \"type\": \"barpolar\"}], \"carpet\": [{\"aaxis\": {\"endlinecolor\": \"#2a3f5f\", \"gridcolor\": \"white\", \"linecolor\": \"white\", \"minorgridcolor\": \"white\", \"startlinecolor\": \"#2a3f5f\"}, \"baxis\": {\"endlinecolor\": \"#2a3f5f\", \"gridcolor\": \"white\", \"linecolor\": \"white\", \"minorgridcolor\": \"white\", \"startlinecolor\": \"#2a3f5f\"}, \"type\": \"carpet\"}], \"choropleth\": [{\"colorbar\": {\"outlinewidth\": 0, \"ticks\": \"\"}, \"type\": \"choropleth\"}], \"contour\": [{\"colorbar\": {\"outlinewidth\": 0, \"ticks\": \"\"}, \"colorscale\": [[0.0, \"#0d0887\"], [0.1111111111111111, \"#46039f\"], [0.2222222222222222, \"#7201a8\"], [0.3333333333333333, \"#9c179e\"], [0.4444444444444444, \"#bd3786\"], [0.5555555555555556, \"#d8576b\"], [0.6666666666666666, \"#ed7953\"], [0.7777777777777778, \"#fb9f3a\"], [0.8888888888888888, \"#fdca26\"], [1.0, \"#f0f921\"]], \"type\": \"contour\"}], \"contourcarpet\": [{\"colorbar\": {\"outlinewidth\": 0, \"ticks\": \"\"}, \"type\": \"contourcarpet\"}], \"heatmap\": [{\"colorbar\": {\"outlinewidth\": 0, \"ticks\": \"\"}, \"colorscale\": [[0.0, \"#0d0887\"], [0.1111111111111111, \"#46039f\"], [0.2222222222222222, \"#7201a8\"], [0.3333333333333333, \"#9c179e\"], [0.4444444444444444, \"#bd3786\"], [0.5555555555555556, \"#d8576b\"], [0.6666666666666666, \"#ed7953\"], [0.7777777777777778, \"#fb9f3a\"], [0.8888888888888888, \"#fdca26\"], [1.0, \"#f0f921\"]], \"type\": \"heatmap\"}], \"heatmapgl\": [{\"colorbar\": {\"outlinewidth\": 0, \"ticks\": \"\"}, \"colorscale\": [[0.0, \"#0d0887\"], [0.1111111111111111, \"#46039f\"], [0.2222222222222222, \"#7201a8\"], [0.3333333333333333, \"#9c179e\"], [0.4444444444444444, \"#bd3786\"], [0.5555555555555556, \"#d8576b\"], [0.6666666666666666, \"#ed7953\"], [0.7777777777777778, \"#fb9f3a\"], [0.8888888888888888, \"#fdca26\"], [1.0, \"#f0f921\"]], \"type\": \"heatmapgl\"}], \"histogram\": [{\"marker\": {\"colorbar\": {\"outlinewidth\": 0, \"ticks\": \"\"}}, \"type\": \"histogram\"}], \"histogram2d\": [{\"colorbar\": {\"outlinewidth\": 0, \"ticks\": \"\"}, \"colorscale\": [[0.0, \"#0d0887\"], [0.1111111111111111, \"#46039f\"], [0.2222222222222222, \"#7201a8\"], [0.3333333333333333, \"#9c179e\"], [0.4444444444444444, \"#bd3786\"], [0.5555555555555556, \"#d8576b\"], [0.6666666666666666, \"#ed7953\"], [0.7777777777777778, \"#fb9f3a\"], [0.8888888888888888, \"#fdca26\"], [1.0, \"#f0f921\"]], \"type\": \"histogram2d\"}], \"histogram2dcontour\": [{\"colorbar\": {\"outlinewidth\": 0, \"ticks\": \"\"}, \"colorscale\": [[0.0, \"#0d0887\"], [0.1111111111111111, \"#46039f\"], [0.2222222222222222, \"#7201a8\"], [0.3333333333333333, \"#9c179e\"], [0.4444444444444444, \"#bd3786\"], [0.5555555555555556, \"#d8576b\"], [0.6666666666666666, \"#ed7953\"], [0.7777777777777778, \"#fb9f3a\"], [0.8888888888888888, \"#fdca26\"], [1.0, \"#f0f921\"]], \"type\": \"histogram2dcontour\"}], \"mesh3d\": [{\"colorbar\": {\"outlinewidth\": 0, \"ticks\": \"\"}, \"type\": \"mesh3d\"}], \"parcoords\": [{\"line\": {\"colorbar\": {\"outlinewidth\": 0, \"ticks\": \"\"}}, \"type\": \"parcoords\"}], \"pie\": [{\"automargin\": true, \"type\": \"pie\"}], \"scatter\": [{\"marker\": {\"colorbar\": {\"outlinewidth\": 0, \"ticks\": \"\"}}, \"type\": \"scatter\"}], \"scatter3d\": [{\"line\": {\"colorbar\": {\"outlinewidth\": 0, \"ticks\": \"\"}}, \"marker\": {\"colorbar\": {\"outlinewidth\": 0, \"ticks\": \"\"}}, \"type\": \"scatter3d\"}], \"scattercarpet\": [{\"marker\": {\"colorbar\": {\"outlinewidth\": 0, \"ticks\": \"\"}}, \"type\": \"scattercarpet\"}], \"scattergeo\": [{\"marker\": {\"colorbar\": {\"outlinewidth\": 0, \"ticks\": \"\"}}, \"type\": \"scattergeo\"}], \"scattergl\": [{\"marker\": {\"colorbar\": {\"outlinewidth\": 0, \"ticks\": \"\"}}, \"type\": \"scattergl\"}], \"scattermapbox\": [{\"marker\": {\"colorbar\": {\"outlinewidth\": 0, \"ticks\": \"\"}}, \"type\": \"scattermapbox\"}], \"scatterpolar\": [{\"marker\": {\"colorbar\": {\"outlinewidth\": 0, \"ticks\": \"\"}}, \"type\": \"scatterpolar\"}], \"scatterpolargl\": [{\"marker\": {\"colorbar\": {\"outlinewidth\": 0, \"ticks\": \"\"}}, \"type\": \"scatterpolargl\"}], \"scatterternary\": [{\"marker\": {\"colorbar\": {\"outlinewidth\": 0, \"ticks\": \"\"}}, \"type\": \"scatterternary\"}], \"surface\": [{\"colorbar\": {\"outlinewidth\": 0, \"ticks\": \"\"}, \"colorscale\": [[0.0, \"#0d0887\"], [0.1111111111111111, \"#46039f\"], [0.2222222222222222, \"#7201a8\"], [0.3333333333333333, \"#9c179e\"], [0.4444444444444444, \"#bd3786\"], [0.5555555555555556, \"#d8576b\"], [0.6666666666666666, \"#ed7953\"], [0.7777777777777778, \"#fb9f3a\"], [0.8888888888888888, \"#fdca26\"], [1.0, \"#f0f921\"]], \"type\": \"surface\"}], \"table\": [{\"cells\": {\"fill\": {\"color\": \"#EBF0F8\"}, \"line\": {\"color\": \"white\"}}, \"header\": {\"fill\": {\"color\": \"#C8D4E3\"}, \"line\": {\"color\": \"white\"}}, \"type\": \"table\"}]}, \"layout\": {\"annotationdefaults\": {\"arrowcolor\": \"#2a3f5f\", \"arrowhead\": 0, \"arrowwidth\": 1}, \"coloraxis\": {\"colorbar\": {\"outlinewidth\": 0, \"ticks\": \"\"}}, \"colorscale\": {\"diverging\": [[0, \"#8e0152\"], [0.1, \"#c51b7d\"], [0.2, \"#de77ae\"], [0.3, \"#f1b6da\"], [0.4, \"#fde0ef\"], [0.5, \"#f7f7f7\"], [0.6, \"#e6f5d0\"], [0.7, \"#b8e186\"], [0.8, \"#7fbc41\"], [0.9, \"#4d9221\"], [1, \"#276419\"]], \"sequential\": [[0.0, \"#0d0887\"], [0.1111111111111111, \"#46039f\"], [0.2222222222222222, \"#7201a8\"], [0.3333333333333333, \"#9c179e\"], [0.4444444444444444, \"#bd3786\"], [0.5555555555555556, \"#d8576b\"], [0.6666666666666666, \"#ed7953\"], [0.7777777777777778, \"#fb9f3a\"], [0.8888888888888888, \"#fdca26\"], [1.0, \"#f0f921\"]], \"sequentialminus\": [[0.0, \"#0d0887\"], [0.1111111111111111, \"#46039f\"], [0.2222222222222222, \"#7201a8\"], [0.3333333333333333, \"#9c179e\"], [0.4444444444444444, \"#bd3786\"], [0.5555555555555556, \"#d8576b\"], [0.6666666666666666, \"#ed7953\"], [0.7777777777777778, \"#fb9f3a\"], [0.8888888888888888, \"#fdca26\"], [1.0, \"#f0f921\"]]}, \"colorway\": [\"#636efa\", \"#EF553B\", \"#00cc96\", \"#ab63fa\", \"#FFA15A\", \"#19d3f3\", \"#FF6692\", \"#B6E880\", \"#FF97FF\", \"#FECB52\"], \"font\": {\"color\": \"#2a3f5f\"}, \"geo\": {\"bgcolor\": \"white\", \"lakecolor\": \"white\", \"landcolor\": \"#E5ECF6\", \"showlakes\": true, \"showland\": true, \"subunitcolor\": \"white\"}, \"hoverlabel\": {\"align\": \"left\"}, \"hovermode\": \"closest\", \"mapbox\": {\"style\": \"light\"}, \"paper_bgcolor\": \"white\", \"plot_bgcolor\": \"#E5ECF6\", \"polar\": {\"angularaxis\": {\"gridcolor\": \"white\", \"linecolor\": \"white\", \"ticks\": \"\"}, \"bgcolor\": \"#E5ECF6\", \"radialaxis\": {\"gridcolor\": \"white\", \"linecolor\": \"white\", \"ticks\": \"\"}}, \"scene\": {\"xaxis\": {\"backgroundcolor\": \"#E5ECF6\", \"gridcolor\": \"white\", \"gridwidth\": 2, \"linecolor\": \"white\", \"showbackground\": true, \"ticks\": \"\", \"zerolinecolor\": \"white\"}, \"yaxis\": {\"backgroundcolor\": \"#E5ECF6\", \"gridcolor\": \"white\", \"gridwidth\": 2, \"linecolor\": \"white\", \"showbackground\": true, \"ticks\": \"\", \"zerolinecolor\": \"white\"}, \"zaxis\": {\"backgroundcolor\": \"#E5ECF6\", \"gridcolor\": \"white\", \"gridwidth\": 2, \"linecolor\": \"white\", \"showbackground\": true, \"ticks\": \"\", \"zerolinecolor\": \"white\"}}, \"shapedefaults\": {\"line\": {\"color\": \"#2a3f5f\"}}, \"ternary\": {\"aaxis\": {\"gridcolor\": \"white\", \"linecolor\": \"white\", \"ticks\": \"\"}, \"baxis\": {\"gridcolor\": \"white\", \"linecolor\": \"white\", \"ticks\": \"\"}, \"bgcolor\": \"#E5ECF6\", \"caxis\": {\"gridcolor\": \"white\", \"linecolor\": \"white\", \"ticks\": \"\"}}, \"title\": {\"x\": 0.05}, \"xaxis\": {\"automargin\": true, \"gridcolor\": \"white\", \"linecolor\": \"white\", \"ticks\": \"\", \"title\": {\"standoff\": 15}, \"zerolinecolor\": \"white\", \"zerolinewidth\": 2}, \"yaxis\": {\"automargin\": true, \"gridcolor\": \"white\", \"linecolor\": \"white\", \"ticks\": \"\", \"title\": {\"standoff\": 15}, \"zerolinecolor\": \"white\", \"zerolinewidth\": 2}}}, \"xaxis\": {\"anchor\": \"y\", \"domain\": [0.0, 1.0], \"range\": [26, 40], \"title\": {\"text\": \"X1 Predicted Price/Unit\"}}, \"yaxis\": {\"anchor\": \"x\", \"domain\": [0.0, 1.0], \"range\": [26, 40], \"title\": {\"text\": \"Price/Unit\"}}},                        {\"responsive\": true}                    ).then(function(){\n",
       "                            \n",
       "var gd = document.getElementById('0e574dca-7f68-4c52-ac27-30aedf503cda');\n",
       "var x = new MutationObserver(function (mutations, observer) {{\n",
       "        var display = window.getComputedStyle(gd).display;\n",
       "        if (!display || display === 'none') {{\n",
       "            console.log([gd, 'removed!']);\n",
       "            Plotly.purge(gd);\n",
       "            observer.disconnect();\n",
       "        }}\n",
       "}});\n",
       "\n",
       "// Listen for the removal of the full notebook cells\n",
       "var notebookContainer = gd.closest('#notebook-container');\n",
       "if (notebookContainer) {{\n",
       "    x.observe(notebookContainer, {childList: true});\n",
       "}}\n",
       "\n",
       "// Listen for the clearing of the current output cell\n",
       "var outputEl = gd.closest('.output');\n",
       "if (outputEl) {{\n",
       "    x.observe(outputEl, {childList: true});\n",
       "}}\n",
       "\n",
       "                        })                };                });            </script>        </div>"
      ]
     },
     "metadata": {},
     "output_type": "display_data"
    }
   ],
   "source": [
    "fig = px.scatter(dfwhirlpool, x=\"X1 Predicted Price/Unit\", y=\"Price/Unit\", color=\"Region\")\n",
    "fig.update_xaxes(range=[26, 40])\n",
    "fig.update_yaxes(range=[26, 40])\n",
    "fig.update_layout(shapes = [{'type': 'line', 'yref': 'paper', 'xref': 'paper', 'y0': 0, 'y1': 1, 'x0': 0, 'x1': 1}])\n",
    "fig.show()"
   ]
  },
  {
   "cell_type": "code",
   "execution_count": 29,
   "metadata": {},
   "outputs": [
    {
     "data": {
      "text/plain": [
       "-3.54631879417866e-12"
      ]
     },
     "execution_count": 29,
     "metadata": {},
     "output_type": "execute_result"
    }
   ],
   "source": [
    "dfwhirlpool['X1 Error'].mean()\n",
    "#round(dfwhirlpool['X1 Error'].mean(),10)"
   ]
  },
  {
   "cell_type": "code",
   "execution_count": 30,
   "metadata": {},
   "outputs": [
    {
     "data": {
      "application/vnd.plotly.v1+json": {
       "config": {
        "plotlyServerURL": "https://plot.ly"
       },
       "data": [
        {
         "hovertemplate": "Region=North America<br>X1 Predicted Price/Unit=%{x}<br>X1 Error=%{y}<extra></extra>",
         "legendgroup": "North America",
         "marker": {
          "color": "#636efa",
          "symbol": "circle"
         },
         "mode": "markers",
         "name": "North America",
         "orientation": "v",
         "showlegend": true,
         "type": "scatter",
         "x": [
          32.73158084468428,
          34.463684317425454,
          30.024127777232675,
          33.88586327426777,
          29.571920473197363,
          31.409761688141586,
          35.70451407057759,
          35.235752299258586,
          28.146659611619366,
          36.89248393541258,
          31.388209835795166,
          31.86173040567574,
          35.92389094330502,
          35.19168849864213,
          32.28936831077443,
          34.61142840957837,
          34.54643293835615,
          32.46666122135793,
          33.353185420900736,
          33.23119144454045
         ],
         "xaxis": "x",
         "y": [
          -1.7584191553157211,
          2.3836843174254554,
          -1.785872222767324,
          1.915863274267771,
          1.3419204731973622,
          -2.040238311858417,
          -3.4454859294224107,
          4.675752299258587,
          -2.703340388380635,
          4.432483935412577,
          -1.3217901642048346,
          -0.4682695943242585,
          -3.9661090566949824,
          -1.2483115013578683,
          -0.7306316892255751,
          2.6314284095783727,
          2.8864329383561476,
          -2.893338778642068,
          2.6331854209007375,
          0.25119144454045284
         ],
         "yaxis": "y"
        },
        {
         "hovertemplate": "Region=Europe<br>X1 Predicted Price/Unit=%{x}<br>X1 Error=%{y}<extra></extra>",
         "legendgroup": "Europe",
         "marker": {
          "color": "#EF553B",
          "symbol": "circle"
         },
         "mode": "markers",
         "name": "Europe",
         "orientation": "v",
         "showlegend": true,
         "type": "scatter",
         "x": [
          35.13463034687878,
          31.15907677944343,
          31.11319411466155,
          34.94486193920722,
          32.13776586935826,
          33.7332410903027,
          30.514721668455774,
          31.016550693285634,
          30.099738200321013,
          35.514686016280734,
          31.837560567547378,
          33.24162745653069,
          32.134307080903284,
          29.697391203581407,
          31.120511252379774
         ],
         "xaxis": "x",
         "y": [
          -4.345369653121217,
          1.6890767794434325,
          4.553194114661551,
          -2.765138060792779,
          0.9177658693582629,
          -0.6767589096972983,
          1.2147216684557733,
          1.0065506932856323,
          3.4197382003210137,
          -1.555313983719266,
          -1.112439432452625,
          -0.0983725434693099,
          -2.2556929190967168,
          1.5573912035814068,
          -2.3394887476202264
         ],
         "yaxis": "y"
        },
        {
         "hovertemplate": "Region=Latin America<br>X1 Predicted Price/Unit=%{x}<br>X1 Error=%{y}<extra></extra>",
         "legendgroup": "Latin America",
         "marker": {
          "color": "#00cc96",
          "symbol": "circle"
         },
         "mode": "markers",
         "name": "Latin America",
         "orientation": "v",
         "showlegend": true,
         "type": "scatter",
         "x": [
          36.859869693666,
          36.96620965204093,
          38.13654566041804,
          38.57042131406075,
          38.984104772088926,
          39.984745275158446,
          40.72006659409334,
          40.56148692914192,
          37.845536007116095,
          38.43101410217497
         ],
         "xaxis": "x",
         "y": [
          -4.450130306334003,
          -0.8637903479590676,
          4.256545660418034,
          1.800421314060749,
          1.9141047720889262,
          0.6547452751584473,
          -0.00993340590665781,
          -3.21851307085808,
          -0.5944639928839024,
          0.5110141021749683
         ],
         "yaxis": "y"
        }
       ],
       "layout": {
        "legend": {
         "title": {
          "text": "Region"
         },
         "tracegroupgap": 0
        },
        "margin": {
         "t": 60
        },
        "template": {
         "data": {
          "bar": [
           {
            "error_x": {
             "color": "#2a3f5f"
            },
            "error_y": {
             "color": "#2a3f5f"
            },
            "marker": {
             "line": {
              "color": "#E5ECF6",
              "width": 0.5
             }
            },
            "type": "bar"
           }
          ],
          "barpolar": [
           {
            "marker": {
             "line": {
              "color": "#E5ECF6",
              "width": 0.5
             }
            },
            "type": "barpolar"
           }
          ],
          "carpet": [
           {
            "aaxis": {
             "endlinecolor": "#2a3f5f",
             "gridcolor": "white",
             "linecolor": "white",
             "minorgridcolor": "white",
             "startlinecolor": "#2a3f5f"
            },
            "baxis": {
             "endlinecolor": "#2a3f5f",
             "gridcolor": "white",
             "linecolor": "white",
             "minorgridcolor": "white",
             "startlinecolor": "#2a3f5f"
            },
            "type": "carpet"
           }
          ],
          "choropleth": [
           {
            "colorbar": {
             "outlinewidth": 0,
             "ticks": ""
            },
            "type": "choropleth"
           }
          ],
          "contour": [
           {
            "colorbar": {
             "outlinewidth": 0,
             "ticks": ""
            },
            "colorscale": [
             [
              0,
              "#0d0887"
             ],
             [
              0.1111111111111111,
              "#46039f"
             ],
             [
              0.2222222222222222,
              "#7201a8"
             ],
             [
              0.3333333333333333,
              "#9c179e"
             ],
             [
              0.4444444444444444,
              "#bd3786"
             ],
             [
              0.5555555555555556,
              "#d8576b"
             ],
             [
              0.6666666666666666,
              "#ed7953"
             ],
             [
              0.7777777777777778,
              "#fb9f3a"
             ],
             [
              0.8888888888888888,
              "#fdca26"
             ],
             [
              1,
              "#f0f921"
             ]
            ],
            "type": "contour"
           }
          ],
          "contourcarpet": [
           {
            "colorbar": {
             "outlinewidth": 0,
             "ticks": ""
            },
            "type": "contourcarpet"
           }
          ],
          "heatmap": [
           {
            "colorbar": {
             "outlinewidth": 0,
             "ticks": ""
            },
            "colorscale": [
             [
              0,
              "#0d0887"
             ],
             [
              0.1111111111111111,
              "#46039f"
             ],
             [
              0.2222222222222222,
              "#7201a8"
             ],
             [
              0.3333333333333333,
              "#9c179e"
             ],
             [
              0.4444444444444444,
              "#bd3786"
             ],
             [
              0.5555555555555556,
              "#d8576b"
             ],
             [
              0.6666666666666666,
              "#ed7953"
             ],
             [
              0.7777777777777778,
              "#fb9f3a"
             ],
             [
              0.8888888888888888,
              "#fdca26"
             ],
             [
              1,
              "#f0f921"
             ]
            ],
            "type": "heatmap"
           }
          ],
          "heatmapgl": [
           {
            "colorbar": {
             "outlinewidth": 0,
             "ticks": ""
            },
            "colorscale": [
             [
              0,
              "#0d0887"
             ],
             [
              0.1111111111111111,
              "#46039f"
             ],
             [
              0.2222222222222222,
              "#7201a8"
             ],
             [
              0.3333333333333333,
              "#9c179e"
             ],
             [
              0.4444444444444444,
              "#bd3786"
             ],
             [
              0.5555555555555556,
              "#d8576b"
             ],
             [
              0.6666666666666666,
              "#ed7953"
             ],
             [
              0.7777777777777778,
              "#fb9f3a"
             ],
             [
              0.8888888888888888,
              "#fdca26"
             ],
             [
              1,
              "#f0f921"
             ]
            ],
            "type": "heatmapgl"
           }
          ],
          "histogram": [
           {
            "marker": {
             "colorbar": {
              "outlinewidth": 0,
              "ticks": ""
             }
            },
            "type": "histogram"
           }
          ],
          "histogram2d": [
           {
            "colorbar": {
             "outlinewidth": 0,
             "ticks": ""
            },
            "colorscale": [
             [
              0,
              "#0d0887"
             ],
             [
              0.1111111111111111,
              "#46039f"
             ],
             [
              0.2222222222222222,
              "#7201a8"
             ],
             [
              0.3333333333333333,
              "#9c179e"
             ],
             [
              0.4444444444444444,
              "#bd3786"
             ],
             [
              0.5555555555555556,
              "#d8576b"
             ],
             [
              0.6666666666666666,
              "#ed7953"
             ],
             [
              0.7777777777777778,
              "#fb9f3a"
             ],
             [
              0.8888888888888888,
              "#fdca26"
             ],
             [
              1,
              "#f0f921"
             ]
            ],
            "type": "histogram2d"
           }
          ],
          "histogram2dcontour": [
           {
            "colorbar": {
             "outlinewidth": 0,
             "ticks": ""
            },
            "colorscale": [
             [
              0,
              "#0d0887"
             ],
             [
              0.1111111111111111,
              "#46039f"
             ],
             [
              0.2222222222222222,
              "#7201a8"
             ],
             [
              0.3333333333333333,
              "#9c179e"
             ],
             [
              0.4444444444444444,
              "#bd3786"
             ],
             [
              0.5555555555555556,
              "#d8576b"
             ],
             [
              0.6666666666666666,
              "#ed7953"
             ],
             [
              0.7777777777777778,
              "#fb9f3a"
             ],
             [
              0.8888888888888888,
              "#fdca26"
             ],
             [
              1,
              "#f0f921"
             ]
            ],
            "type": "histogram2dcontour"
           }
          ],
          "mesh3d": [
           {
            "colorbar": {
             "outlinewidth": 0,
             "ticks": ""
            },
            "type": "mesh3d"
           }
          ],
          "parcoords": [
           {
            "line": {
             "colorbar": {
              "outlinewidth": 0,
              "ticks": ""
             }
            },
            "type": "parcoords"
           }
          ],
          "pie": [
           {
            "automargin": true,
            "type": "pie"
           }
          ],
          "scatter": [
           {
            "marker": {
             "colorbar": {
              "outlinewidth": 0,
              "ticks": ""
             }
            },
            "type": "scatter"
           }
          ],
          "scatter3d": [
           {
            "line": {
             "colorbar": {
              "outlinewidth": 0,
              "ticks": ""
             }
            },
            "marker": {
             "colorbar": {
              "outlinewidth": 0,
              "ticks": ""
             }
            },
            "type": "scatter3d"
           }
          ],
          "scattercarpet": [
           {
            "marker": {
             "colorbar": {
              "outlinewidth": 0,
              "ticks": ""
             }
            },
            "type": "scattercarpet"
           }
          ],
          "scattergeo": [
           {
            "marker": {
             "colorbar": {
              "outlinewidth": 0,
              "ticks": ""
             }
            },
            "type": "scattergeo"
           }
          ],
          "scattergl": [
           {
            "marker": {
             "colorbar": {
              "outlinewidth": 0,
              "ticks": ""
             }
            },
            "type": "scattergl"
           }
          ],
          "scattermapbox": [
           {
            "marker": {
             "colorbar": {
              "outlinewidth": 0,
              "ticks": ""
             }
            },
            "type": "scattermapbox"
           }
          ],
          "scatterpolar": [
           {
            "marker": {
             "colorbar": {
              "outlinewidth": 0,
              "ticks": ""
             }
            },
            "type": "scatterpolar"
           }
          ],
          "scatterpolargl": [
           {
            "marker": {
             "colorbar": {
              "outlinewidth": 0,
              "ticks": ""
             }
            },
            "type": "scatterpolargl"
           }
          ],
          "scatterternary": [
           {
            "marker": {
             "colorbar": {
              "outlinewidth": 0,
              "ticks": ""
             }
            },
            "type": "scatterternary"
           }
          ],
          "surface": [
           {
            "colorbar": {
             "outlinewidth": 0,
             "ticks": ""
            },
            "colorscale": [
             [
              0,
              "#0d0887"
             ],
             [
              0.1111111111111111,
              "#46039f"
             ],
             [
              0.2222222222222222,
              "#7201a8"
             ],
             [
              0.3333333333333333,
              "#9c179e"
             ],
             [
              0.4444444444444444,
              "#bd3786"
             ],
             [
              0.5555555555555556,
              "#d8576b"
             ],
             [
              0.6666666666666666,
              "#ed7953"
             ],
             [
              0.7777777777777778,
              "#fb9f3a"
             ],
             [
              0.8888888888888888,
              "#fdca26"
             ],
             [
              1,
              "#f0f921"
             ]
            ],
            "type": "surface"
           }
          ],
          "table": [
           {
            "cells": {
             "fill": {
              "color": "#EBF0F8"
             },
             "line": {
              "color": "white"
             }
            },
            "header": {
             "fill": {
              "color": "#C8D4E3"
             },
             "line": {
              "color": "white"
             }
            },
            "type": "table"
           }
          ]
         },
         "layout": {
          "annotationdefaults": {
           "arrowcolor": "#2a3f5f",
           "arrowhead": 0,
           "arrowwidth": 1
          },
          "coloraxis": {
           "colorbar": {
            "outlinewidth": 0,
            "ticks": ""
           }
          },
          "colorscale": {
           "diverging": [
            [
             0,
             "#8e0152"
            ],
            [
             0.1,
             "#c51b7d"
            ],
            [
             0.2,
             "#de77ae"
            ],
            [
             0.3,
             "#f1b6da"
            ],
            [
             0.4,
             "#fde0ef"
            ],
            [
             0.5,
             "#f7f7f7"
            ],
            [
             0.6,
             "#e6f5d0"
            ],
            [
             0.7,
             "#b8e186"
            ],
            [
             0.8,
             "#7fbc41"
            ],
            [
             0.9,
             "#4d9221"
            ],
            [
             1,
             "#276419"
            ]
           ],
           "sequential": [
            [
             0,
             "#0d0887"
            ],
            [
             0.1111111111111111,
             "#46039f"
            ],
            [
             0.2222222222222222,
             "#7201a8"
            ],
            [
             0.3333333333333333,
             "#9c179e"
            ],
            [
             0.4444444444444444,
             "#bd3786"
            ],
            [
             0.5555555555555556,
             "#d8576b"
            ],
            [
             0.6666666666666666,
             "#ed7953"
            ],
            [
             0.7777777777777778,
             "#fb9f3a"
            ],
            [
             0.8888888888888888,
             "#fdca26"
            ],
            [
             1,
             "#f0f921"
            ]
           ],
           "sequentialminus": [
            [
             0,
             "#0d0887"
            ],
            [
             0.1111111111111111,
             "#46039f"
            ],
            [
             0.2222222222222222,
             "#7201a8"
            ],
            [
             0.3333333333333333,
             "#9c179e"
            ],
            [
             0.4444444444444444,
             "#bd3786"
            ],
            [
             0.5555555555555556,
             "#d8576b"
            ],
            [
             0.6666666666666666,
             "#ed7953"
            ],
            [
             0.7777777777777778,
             "#fb9f3a"
            ],
            [
             0.8888888888888888,
             "#fdca26"
            ],
            [
             1,
             "#f0f921"
            ]
           ]
          },
          "colorway": [
           "#636efa",
           "#EF553B",
           "#00cc96",
           "#ab63fa",
           "#FFA15A",
           "#19d3f3",
           "#FF6692",
           "#B6E880",
           "#FF97FF",
           "#FECB52"
          ],
          "font": {
           "color": "#2a3f5f"
          },
          "geo": {
           "bgcolor": "white",
           "lakecolor": "white",
           "landcolor": "#E5ECF6",
           "showlakes": true,
           "showland": true,
           "subunitcolor": "white"
          },
          "hoverlabel": {
           "align": "left"
          },
          "hovermode": "closest",
          "mapbox": {
           "style": "light"
          },
          "paper_bgcolor": "white",
          "plot_bgcolor": "#E5ECF6",
          "polar": {
           "angularaxis": {
            "gridcolor": "white",
            "linecolor": "white",
            "ticks": ""
           },
           "bgcolor": "#E5ECF6",
           "radialaxis": {
            "gridcolor": "white",
            "linecolor": "white",
            "ticks": ""
           }
          },
          "scene": {
           "xaxis": {
            "backgroundcolor": "#E5ECF6",
            "gridcolor": "white",
            "gridwidth": 2,
            "linecolor": "white",
            "showbackground": true,
            "ticks": "",
            "zerolinecolor": "white"
           },
           "yaxis": {
            "backgroundcolor": "#E5ECF6",
            "gridcolor": "white",
            "gridwidth": 2,
            "linecolor": "white",
            "showbackground": true,
            "ticks": "",
            "zerolinecolor": "white"
           },
           "zaxis": {
            "backgroundcolor": "#E5ECF6",
            "gridcolor": "white",
            "gridwidth": 2,
            "linecolor": "white",
            "showbackground": true,
            "ticks": "",
            "zerolinecolor": "white"
           }
          },
          "shapedefaults": {
           "line": {
            "color": "#2a3f5f"
           }
          },
          "ternary": {
           "aaxis": {
            "gridcolor": "white",
            "linecolor": "white",
            "ticks": ""
           },
           "baxis": {
            "gridcolor": "white",
            "linecolor": "white",
            "ticks": ""
           },
           "bgcolor": "#E5ECF6",
           "caxis": {
            "gridcolor": "white",
            "linecolor": "white",
            "ticks": ""
           }
          },
          "title": {
           "x": 0.05
          },
          "xaxis": {
           "automargin": true,
           "gridcolor": "white",
           "linecolor": "white",
           "ticks": "",
           "title": {
            "standoff": 15
           },
           "zerolinecolor": "white",
           "zerolinewidth": 2
          },
          "yaxis": {
           "automargin": true,
           "gridcolor": "white",
           "linecolor": "white",
           "ticks": "",
           "title": {
            "standoff": 15
           },
           "zerolinecolor": "white",
           "zerolinewidth": 2
          }
         }
        },
        "xaxis": {
         "anchor": "y",
         "domain": [
          0,
          1
         ],
         "range": [
          25,
          45
         ],
         "title": {
          "text": "X1 Predicted Price/Unit"
         }
        },
        "yaxis": {
         "anchor": "x",
         "domain": [
          0,
          1
         ],
         "range": [
          -6,
          6
         ],
         "title": {
          "text": "X1 Error"
         }
        }
       }
      },
      "text/html": [
       "<div>                            <div id=\"38a9828c-0cbe-4af1-b70d-0445894291b7\" class=\"plotly-graph-div\" style=\"height:525px; width:100%;\"></div>            <script type=\"text/javascript\">                require([\"plotly\"], function(Plotly) {                    window.PLOTLYENV=window.PLOTLYENV || {};                                    if (document.getElementById(\"38a9828c-0cbe-4af1-b70d-0445894291b7\")) {                    Plotly.newPlot(                        \"38a9828c-0cbe-4af1-b70d-0445894291b7\",                        [{\"hovertemplate\": \"Region=North America<br>X1 Predicted Price/Unit=%{x}<br>X1 Error=%{y}<extra></extra>\", \"legendgroup\": \"North America\", \"marker\": {\"color\": \"#636efa\", \"symbol\": \"circle\"}, \"mode\": \"markers\", \"name\": \"North America\", \"orientation\": \"v\", \"showlegend\": true, \"type\": \"scatter\", \"x\": [32.73158084468428, 34.463684317425454, 30.024127777232675, 33.88586327426777, 29.571920473197363, 31.409761688141586, 35.70451407057759, 35.235752299258586, 28.146659611619366, 36.89248393541258, 31.388209835795166, 31.86173040567574, 35.92389094330502, 35.19168849864213, 32.28936831077443, 34.61142840957837, 34.54643293835615, 32.46666122135793, 33.353185420900736, 33.23119144454045], \"xaxis\": \"x\", \"y\": [-1.7584191553157211, 2.3836843174254554, -1.785872222767324, 1.915863274267771, 1.3419204731973622, -2.040238311858417, -3.4454859294224107, 4.675752299258587, -2.703340388380635, 4.432483935412577, -1.3217901642048346, -0.4682695943242585, -3.9661090566949824, -1.2483115013578683, -0.7306316892255751, 2.6314284095783727, 2.8864329383561476, -2.893338778642068, 2.6331854209007375, 0.25119144454045284], \"yaxis\": \"y\"}, {\"hovertemplate\": \"Region=Europe<br>X1 Predicted Price/Unit=%{x}<br>X1 Error=%{y}<extra></extra>\", \"legendgroup\": \"Europe\", \"marker\": {\"color\": \"#EF553B\", \"symbol\": \"circle\"}, \"mode\": \"markers\", \"name\": \"Europe\", \"orientation\": \"v\", \"showlegend\": true, \"type\": \"scatter\", \"x\": [35.13463034687878, 31.15907677944343, 31.11319411466155, 34.94486193920722, 32.13776586935826, 33.7332410903027, 30.514721668455774, 31.016550693285634, 30.099738200321013, 35.514686016280734, 31.837560567547378, 33.24162745653069, 32.134307080903284, 29.697391203581407, 31.120511252379774], \"xaxis\": \"x\", \"y\": [-4.345369653121217, 1.6890767794434325, 4.553194114661551, -2.765138060792779, 0.9177658693582629, -0.6767589096972983, 1.2147216684557733, 1.0065506932856323, 3.4197382003210137, -1.555313983719266, -1.112439432452625, -0.0983725434693099, -2.2556929190967168, 1.5573912035814068, -2.3394887476202264], \"yaxis\": \"y\"}, {\"hovertemplate\": \"Region=Latin America<br>X1 Predicted Price/Unit=%{x}<br>X1 Error=%{y}<extra></extra>\", \"legendgroup\": \"Latin America\", \"marker\": {\"color\": \"#00cc96\", \"symbol\": \"circle\"}, \"mode\": \"markers\", \"name\": \"Latin America\", \"orientation\": \"v\", \"showlegend\": true, \"type\": \"scatter\", \"x\": [36.859869693666, 36.96620965204093, 38.13654566041804, 38.57042131406075, 38.984104772088926, 39.984745275158446, 40.72006659409334, 40.56148692914192, 37.845536007116095, 38.43101410217497], \"xaxis\": \"x\", \"y\": [-4.450130306334003, -0.8637903479590676, 4.256545660418034, 1.800421314060749, 1.9141047720889262, 0.6547452751584473, -0.00993340590665781, -3.21851307085808, -0.5944639928839024, 0.5110141021749683], \"yaxis\": \"y\"}],                        {\"legend\": {\"title\": {\"text\": \"Region\"}, \"tracegroupgap\": 0}, \"margin\": {\"t\": 60}, \"template\": {\"data\": {\"bar\": [{\"error_x\": {\"color\": \"#2a3f5f\"}, \"error_y\": {\"color\": \"#2a3f5f\"}, \"marker\": {\"line\": {\"color\": \"#E5ECF6\", \"width\": 0.5}}, \"type\": \"bar\"}], \"barpolar\": [{\"marker\": {\"line\": {\"color\": \"#E5ECF6\", \"width\": 0.5}}, \"type\": \"barpolar\"}], \"carpet\": [{\"aaxis\": {\"endlinecolor\": \"#2a3f5f\", \"gridcolor\": \"white\", \"linecolor\": \"white\", \"minorgridcolor\": \"white\", \"startlinecolor\": \"#2a3f5f\"}, \"baxis\": {\"endlinecolor\": \"#2a3f5f\", \"gridcolor\": \"white\", \"linecolor\": \"white\", \"minorgridcolor\": \"white\", \"startlinecolor\": \"#2a3f5f\"}, \"type\": \"carpet\"}], \"choropleth\": [{\"colorbar\": {\"outlinewidth\": 0, \"ticks\": \"\"}, \"type\": \"choropleth\"}], \"contour\": [{\"colorbar\": {\"outlinewidth\": 0, \"ticks\": \"\"}, \"colorscale\": [[0.0, \"#0d0887\"], [0.1111111111111111, \"#46039f\"], [0.2222222222222222, \"#7201a8\"], [0.3333333333333333, \"#9c179e\"], [0.4444444444444444, \"#bd3786\"], [0.5555555555555556, \"#d8576b\"], [0.6666666666666666, \"#ed7953\"], [0.7777777777777778, \"#fb9f3a\"], [0.8888888888888888, \"#fdca26\"], [1.0, \"#f0f921\"]], \"type\": \"contour\"}], \"contourcarpet\": [{\"colorbar\": {\"outlinewidth\": 0, \"ticks\": \"\"}, \"type\": \"contourcarpet\"}], \"heatmap\": [{\"colorbar\": {\"outlinewidth\": 0, \"ticks\": \"\"}, \"colorscale\": [[0.0, \"#0d0887\"], [0.1111111111111111, \"#46039f\"], [0.2222222222222222, \"#7201a8\"], [0.3333333333333333, \"#9c179e\"], [0.4444444444444444, \"#bd3786\"], [0.5555555555555556, \"#d8576b\"], [0.6666666666666666, \"#ed7953\"], [0.7777777777777778, \"#fb9f3a\"], [0.8888888888888888, \"#fdca26\"], [1.0, \"#f0f921\"]], \"type\": \"heatmap\"}], \"heatmapgl\": [{\"colorbar\": {\"outlinewidth\": 0, \"ticks\": \"\"}, \"colorscale\": [[0.0, \"#0d0887\"], [0.1111111111111111, \"#46039f\"], [0.2222222222222222, \"#7201a8\"], [0.3333333333333333, \"#9c179e\"], [0.4444444444444444, \"#bd3786\"], [0.5555555555555556, \"#d8576b\"], [0.6666666666666666, \"#ed7953\"], [0.7777777777777778, \"#fb9f3a\"], [0.8888888888888888, \"#fdca26\"], [1.0, \"#f0f921\"]], \"type\": \"heatmapgl\"}], \"histogram\": [{\"marker\": {\"colorbar\": {\"outlinewidth\": 0, \"ticks\": \"\"}}, \"type\": \"histogram\"}], \"histogram2d\": [{\"colorbar\": {\"outlinewidth\": 0, \"ticks\": \"\"}, \"colorscale\": [[0.0, \"#0d0887\"], [0.1111111111111111, \"#46039f\"], [0.2222222222222222, \"#7201a8\"], [0.3333333333333333, \"#9c179e\"], [0.4444444444444444, \"#bd3786\"], [0.5555555555555556, \"#d8576b\"], [0.6666666666666666, \"#ed7953\"], [0.7777777777777778, \"#fb9f3a\"], [0.8888888888888888, \"#fdca26\"], [1.0, \"#f0f921\"]], \"type\": \"histogram2d\"}], \"histogram2dcontour\": [{\"colorbar\": {\"outlinewidth\": 0, \"ticks\": \"\"}, \"colorscale\": [[0.0, \"#0d0887\"], [0.1111111111111111, \"#46039f\"], [0.2222222222222222, \"#7201a8\"], [0.3333333333333333, \"#9c179e\"], [0.4444444444444444, \"#bd3786\"], [0.5555555555555556, \"#d8576b\"], [0.6666666666666666, \"#ed7953\"], [0.7777777777777778, \"#fb9f3a\"], [0.8888888888888888, \"#fdca26\"], [1.0, \"#f0f921\"]], \"type\": \"histogram2dcontour\"}], \"mesh3d\": [{\"colorbar\": {\"outlinewidth\": 0, \"ticks\": \"\"}, \"type\": \"mesh3d\"}], \"parcoords\": [{\"line\": {\"colorbar\": {\"outlinewidth\": 0, \"ticks\": \"\"}}, \"type\": \"parcoords\"}], \"pie\": [{\"automargin\": true, \"type\": \"pie\"}], \"scatter\": [{\"marker\": {\"colorbar\": {\"outlinewidth\": 0, \"ticks\": \"\"}}, \"type\": \"scatter\"}], \"scatter3d\": [{\"line\": {\"colorbar\": {\"outlinewidth\": 0, \"ticks\": \"\"}}, \"marker\": {\"colorbar\": {\"outlinewidth\": 0, \"ticks\": \"\"}}, \"type\": \"scatter3d\"}], \"scattercarpet\": [{\"marker\": {\"colorbar\": {\"outlinewidth\": 0, \"ticks\": \"\"}}, \"type\": \"scattercarpet\"}], \"scattergeo\": [{\"marker\": {\"colorbar\": {\"outlinewidth\": 0, \"ticks\": \"\"}}, \"type\": \"scattergeo\"}], \"scattergl\": [{\"marker\": {\"colorbar\": {\"outlinewidth\": 0, \"ticks\": \"\"}}, \"type\": \"scattergl\"}], \"scattermapbox\": [{\"marker\": {\"colorbar\": {\"outlinewidth\": 0, \"ticks\": \"\"}}, \"type\": \"scattermapbox\"}], \"scatterpolar\": [{\"marker\": {\"colorbar\": {\"outlinewidth\": 0, \"ticks\": \"\"}}, \"type\": \"scatterpolar\"}], \"scatterpolargl\": [{\"marker\": {\"colorbar\": {\"outlinewidth\": 0, \"ticks\": \"\"}}, \"type\": \"scatterpolargl\"}], \"scatterternary\": [{\"marker\": {\"colorbar\": {\"outlinewidth\": 0, \"ticks\": \"\"}}, \"type\": \"scatterternary\"}], \"surface\": [{\"colorbar\": {\"outlinewidth\": 0, \"ticks\": \"\"}, \"colorscale\": [[0.0, \"#0d0887\"], [0.1111111111111111, \"#46039f\"], [0.2222222222222222, \"#7201a8\"], [0.3333333333333333, \"#9c179e\"], [0.4444444444444444, \"#bd3786\"], [0.5555555555555556, \"#d8576b\"], [0.6666666666666666, \"#ed7953\"], [0.7777777777777778, \"#fb9f3a\"], [0.8888888888888888, \"#fdca26\"], [1.0, \"#f0f921\"]], \"type\": \"surface\"}], \"table\": [{\"cells\": {\"fill\": {\"color\": \"#EBF0F8\"}, \"line\": {\"color\": \"white\"}}, \"header\": {\"fill\": {\"color\": \"#C8D4E3\"}, \"line\": {\"color\": \"white\"}}, \"type\": \"table\"}]}, \"layout\": {\"annotationdefaults\": {\"arrowcolor\": \"#2a3f5f\", \"arrowhead\": 0, \"arrowwidth\": 1}, \"coloraxis\": {\"colorbar\": {\"outlinewidth\": 0, \"ticks\": \"\"}}, \"colorscale\": {\"diverging\": [[0, \"#8e0152\"], [0.1, \"#c51b7d\"], [0.2, \"#de77ae\"], [0.3, \"#f1b6da\"], [0.4, \"#fde0ef\"], [0.5, \"#f7f7f7\"], [0.6, \"#e6f5d0\"], [0.7, \"#b8e186\"], [0.8, \"#7fbc41\"], [0.9, \"#4d9221\"], [1, \"#276419\"]], \"sequential\": [[0.0, \"#0d0887\"], [0.1111111111111111, \"#46039f\"], [0.2222222222222222, \"#7201a8\"], [0.3333333333333333, \"#9c179e\"], [0.4444444444444444, \"#bd3786\"], [0.5555555555555556, \"#d8576b\"], [0.6666666666666666, \"#ed7953\"], [0.7777777777777778, \"#fb9f3a\"], [0.8888888888888888, \"#fdca26\"], [1.0, \"#f0f921\"]], \"sequentialminus\": [[0.0, \"#0d0887\"], [0.1111111111111111, \"#46039f\"], [0.2222222222222222, \"#7201a8\"], [0.3333333333333333, \"#9c179e\"], [0.4444444444444444, \"#bd3786\"], [0.5555555555555556, \"#d8576b\"], [0.6666666666666666, \"#ed7953\"], [0.7777777777777778, \"#fb9f3a\"], [0.8888888888888888, \"#fdca26\"], [1.0, \"#f0f921\"]]}, \"colorway\": [\"#636efa\", \"#EF553B\", \"#00cc96\", \"#ab63fa\", \"#FFA15A\", \"#19d3f3\", \"#FF6692\", \"#B6E880\", \"#FF97FF\", \"#FECB52\"], \"font\": {\"color\": \"#2a3f5f\"}, \"geo\": {\"bgcolor\": \"white\", \"lakecolor\": \"white\", \"landcolor\": \"#E5ECF6\", \"showlakes\": true, \"showland\": true, \"subunitcolor\": \"white\"}, \"hoverlabel\": {\"align\": \"left\"}, \"hovermode\": \"closest\", \"mapbox\": {\"style\": \"light\"}, \"paper_bgcolor\": \"white\", \"plot_bgcolor\": \"#E5ECF6\", \"polar\": {\"angularaxis\": {\"gridcolor\": \"white\", \"linecolor\": \"white\", \"ticks\": \"\"}, \"bgcolor\": \"#E5ECF6\", \"radialaxis\": {\"gridcolor\": \"white\", \"linecolor\": \"white\", \"ticks\": \"\"}}, \"scene\": {\"xaxis\": {\"backgroundcolor\": \"#E5ECF6\", \"gridcolor\": \"white\", \"gridwidth\": 2, \"linecolor\": \"white\", \"showbackground\": true, \"ticks\": \"\", \"zerolinecolor\": \"white\"}, \"yaxis\": {\"backgroundcolor\": \"#E5ECF6\", \"gridcolor\": \"white\", \"gridwidth\": 2, \"linecolor\": \"white\", \"showbackground\": true, \"ticks\": \"\", \"zerolinecolor\": \"white\"}, \"zaxis\": {\"backgroundcolor\": \"#E5ECF6\", \"gridcolor\": \"white\", \"gridwidth\": 2, \"linecolor\": \"white\", \"showbackground\": true, \"ticks\": \"\", \"zerolinecolor\": \"white\"}}, \"shapedefaults\": {\"line\": {\"color\": \"#2a3f5f\"}}, \"ternary\": {\"aaxis\": {\"gridcolor\": \"white\", \"linecolor\": \"white\", \"ticks\": \"\"}, \"baxis\": {\"gridcolor\": \"white\", \"linecolor\": \"white\", \"ticks\": \"\"}, \"bgcolor\": \"#E5ECF6\", \"caxis\": {\"gridcolor\": \"white\", \"linecolor\": \"white\", \"ticks\": \"\"}}, \"title\": {\"x\": 0.05}, \"xaxis\": {\"automargin\": true, \"gridcolor\": \"white\", \"linecolor\": \"white\", \"ticks\": \"\", \"title\": {\"standoff\": 15}, \"zerolinecolor\": \"white\", \"zerolinewidth\": 2}, \"yaxis\": {\"automargin\": true, \"gridcolor\": \"white\", \"linecolor\": \"white\", \"ticks\": \"\", \"title\": {\"standoff\": 15}, \"zerolinecolor\": \"white\", \"zerolinewidth\": 2}}}, \"xaxis\": {\"anchor\": \"y\", \"domain\": [0.0, 1.0], \"range\": [25, 45], \"title\": {\"text\": \"X1 Predicted Price/Unit\"}}, \"yaxis\": {\"anchor\": \"x\", \"domain\": [0.0, 1.0], \"range\": [-6, 6], \"title\": {\"text\": \"X1 Error\"}}},                        {\"responsive\": true}                    ).then(function(){\n",
       "                            \n",
       "var gd = document.getElementById('38a9828c-0cbe-4af1-b70d-0445894291b7');\n",
       "var x = new MutationObserver(function (mutations, observer) {{\n",
       "        var display = window.getComputedStyle(gd).display;\n",
       "        if (!display || display === 'none') {{\n",
       "            console.log([gd, 'removed!']);\n",
       "            Plotly.purge(gd);\n",
       "            observer.disconnect();\n",
       "        }}\n",
       "}});\n",
       "\n",
       "// Listen for the removal of the full notebook cells\n",
       "var notebookContainer = gd.closest('#notebook-container');\n",
       "if (notebookContainer) {{\n",
       "    x.observe(notebookContainer, {childList: true});\n",
       "}}\n",
       "\n",
       "// Listen for the clearing of the current output cell\n",
       "var outputEl = gd.closest('.output');\n",
       "if (outputEl) {{\n",
       "    x.observe(outputEl, {childList: true});\n",
       "}}\n",
       "\n",
       "                        })                };                });            </script>        </div>"
      ]
     },
     "metadata": {},
     "output_type": "display_data"
    }
   ],
   "source": [
    "fig = px.scatter(dfwhirlpool, x=\"X1 Predicted Price/Unit\", y=\"X1 Error\", color=\"Region\")\n",
    "#fig = px.scatter(dfwhirlpool, x=\"X1 Predicted Price/Unit\", y=\"X1 Error\", color=\"Region\", symbol=\"Type\")\n",
    "fig.update_xaxes(range=[25, 45])\n",
    "#fig = px.scatter(dfwhirlpool, x=\"Capacity BTU/Hr\", y=\"X1 Error\", color=\"Region\")\n",
    "#fig.update_xaxes(range=[0, 1200])\n",
    "fig.update_yaxes(range=[-6, 6])\n",
    "fig.show()"
   ]
  },
  {
   "cell_type": "code",
   "execution_count": 31,
   "metadata": {},
   "outputs": [],
   "source": [
    "dfwhirlpool_piv_X1 = pd.pivot_table(dfwhirlpool, values='X1 Error', columns=['Region'], aggfunc=np.mean)"
   ]
  },
  {
   "cell_type": "code",
   "execution_count": 32,
   "metadata": {},
   "outputs": [
    {
     "data": {
      "text/html": [
       "<div>\n",
       "<style scoped>\n",
       "    .dataframe tbody tr th:only-of-type {\n",
       "        vertical-align: middle;\n",
       "    }\n",
       "\n",
       "    .dataframe tbody tr th {\n",
       "        vertical-align: top;\n",
       "    }\n",
       "\n",
       "    .dataframe thead th {\n",
       "        text-align: right;\n",
       "    }\n",
       "</style>\n",
       "<table border=\"1\" class=\"dataframe\">\n",
       "  <thead>\n",
       "    <tr style=\"text-align: right;\">\n",
       "      <th>Region</th>\n",
       "      <th>Europe</th>\n",
       "      <th>Latin America</th>\n",
       "      <th>North America</th>\n",
       "    </tr>\n",
       "  </thead>\n",
       "  <tbody>\n",
       "    <tr>\n",
       "      <th>X1 Error</th>\n",
       "      <td>-0.052676</td>\n",
       "      <td>-4.058620e-12</td>\n",
       "      <td>0.039507</td>\n",
       "    </tr>\n",
       "  </tbody>\n",
       "</table>\n",
       "</div>"
      ],
      "text/plain": [
       "Region      Europe  Latin America  North America\n",
       "X1 Error -0.052676  -4.058620e-12       0.039507"
      ]
     },
     "execution_count": 32,
     "metadata": {},
     "output_type": "execute_result"
    }
   ],
   "source": [
    "dfwhirlpool_piv_X1"
   ]
  },
  {
   "cell_type": "code",
   "execution_count": 47,
   "metadata": {},
   "outputs": [],
   "source": [
    "dfwhirlpool_piv_X1_2 = pd.pivot_table(dfwhirlpool, values='X1 Error', columns=['Type'], aggfunc=np.mean)"
   ]
  },
  {
   "cell_type": "code",
   "execution_count": 48,
   "metadata": {},
   "outputs": [
    {
     "data": {
      "text/html": [
       "<div>\n",
       "<style scoped>\n",
       "    .dataframe tbody tr th:only-of-type {\n",
       "        vertical-align: middle;\n",
       "    }\n",
       "\n",
       "    .dataframe tbody tr th {\n",
       "        vertical-align: top;\n",
       "    }\n",
       "\n",
       "    .dataframe thead th {\n",
       "        text-align: right;\n",
       "    }\n",
       "</style>\n",
       "<table border=\"1\" class=\"dataframe\">\n",
       "  <thead>\n",
       "    <tr style=\"text-align: right;\">\n",
       "      <th>Type</th>\n",
       "      <th>Reciprocating</th>\n",
       "      <th>Scroll</th>\n",
       "    </tr>\n",
       "  </thead>\n",
       "  <tbody>\n",
       "    <tr>\n",
       "      <th>X1 Error</th>\n",
       "      <td>0.199043</td>\n",
       "      <td>-0.920573</td>\n",
       "    </tr>\n",
       "  </tbody>\n",
       "</table>\n",
       "</div>"
      ],
      "text/plain": [
       "Type      Reciprocating    Scroll\n",
       "X1 Error       0.199043 -0.920573"
      ]
     },
     "execution_count": 48,
     "metadata": {},
     "output_type": "execute_result"
    }
   ],
   "source": [
    "dfwhirlpool_piv_X1_2"
   ]
  },
  {
   "cell_type": "code",
   "execution_count": null,
   "metadata": {},
   "outputs": [],
   "source": []
  },
  {
   "cell_type": "code",
   "execution_count": null,
   "metadata": {},
   "outputs": [],
   "source": []
  }
 ],
 "metadata": {
  "kernelspec": {
   "display_name": "Python 3",
   "language": "python",
   "name": "python3"
  },
  "language_info": {
   "codemirror_mode": {
    "name": "ipython",
    "version": 3
   },
   "file_extension": ".py",
   "mimetype": "text/x-python",
   "name": "python",
   "nbconvert_exporter": "python",
   "pygments_lexer": "ipython3",
   "version": "3.6.12"
  }
 },
 "nbformat": 4,
 "nbformat_minor": 2
}
