{
 "cells": [
  {
   "cell_type": "code",
   "execution_count": 1,
   "metadata": {},
   "outputs": [],
   "source": [
    "import pandas as pd\n",
    "import numpy as np\n",
    "import matplotlib.pyplot as plt\n",
    "from datetime import datetime\n",
    "import plotly.express as px"
   ]
  },
  {
   "cell_type": "code",
   "execution_count": 2,
   "metadata": {},
   "outputs": [],
   "source": [
    "yvrpassengers = pd.read_csv('Passengers from January 1992 to October 2021.csv')"
   ]
  },
  {
   "cell_type": "code",
   "execution_count": 3,
   "metadata": {},
   "outputs": [
    {
     "data": {
      "text/html": [
       "<div>\n",
       "<style scoped>\n",
       "    .dataframe tbody tr th:only-of-type {\n",
       "        vertical-align: middle;\n",
       "    }\n",
       "\n",
       "    .dataframe tbody tr th {\n",
       "        vertical-align: top;\n",
       "    }\n",
       "\n",
       "    .dataframe thead th {\n",
       "        text-align: right;\n",
       "    }\n",
       "</style>\n",
       "<table border=\"1\" class=\"dataframe\">\n",
       "  <thead>\n",
       "    <tr style=\"text-align: right;\">\n",
       "      <th></th>\n",
       "      <th>Year</th>\n",
       "      <th>Type</th>\n",
       "      <th>January</th>\n",
       "      <th>February</th>\n",
       "      <th>March</th>\n",
       "      <th>April</th>\n",
       "      <th>May</th>\n",
       "      <th>June</th>\n",
       "      <th>July</th>\n",
       "      <th>August</th>\n",
       "      <th>September</th>\n",
       "      <th>October</th>\n",
       "      <th>November</th>\n",
       "      <th>December</th>\n",
       "      <th>Annual</th>\n",
       "    </tr>\n",
       "  </thead>\n",
       "  <tbody>\n",
       "    <tr>\n",
       "      <th>0</th>\n",
       "      <td>1992</td>\n",
       "      <td>Domestic</td>\n",
       "      <td>398,321</td>\n",
       "      <td>381,597</td>\n",
       "      <td>456,665</td>\n",
       "      <td>486,816</td>\n",
       "      <td>520,165</td>\n",
       "      <td>547,384</td>\n",
       "      <td>581,156</td>\n",
       "      <td>623,834</td>\n",
       "      <td>511,111</td>\n",
       "      <td>475,435</td>\n",
       "      <td>390,924</td>\n",
       "      <td>456,135</td>\n",
       "      <td>5,829,543</td>\n",
       "    </tr>\n",
       "    <tr>\n",
       "      <th>1</th>\n",
       "      <td>1992</td>\n",
       "      <td>Transborder</td>\n",
       "      <td>170,320</td>\n",
       "      <td>178,530</td>\n",
       "      <td>195,681</td>\n",
       "      <td>155,069</td>\n",
       "      <td>171,307</td>\n",
       "      <td>192,779</td>\n",
       "      <td>216,777</td>\n",
       "      <td>242,720</td>\n",
       "      <td>189,174</td>\n",
       "      <td>160,999</td>\n",
       "      <td>153,904</td>\n",
       "      <td>179,787</td>\n",
       "      <td>2,207,047</td>\n",
       "    </tr>\n",
       "    <tr>\n",
       "      <th>2</th>\n",
       "      <td>1992</td>\n",
       "      <td>International</td>\n",
       "      <td>138,344</td>\n",
       "      <td>119,117</td>\n",
       "      <td>135,779</td>\n",
       "      <td>132,388</td>\n",
       "      <td>156,695</td>\n",
       "      <td>177,454</td>\n",
       "      <td>214,025</td>\n",
       "      <td>235,437</td>\n",
       "      <td>179,583</td>\n",
       "      <td>146,157</td>\n",
       "      <td>118,539</td>\n",
       "      <td>145,177</td>\n",
       "      <td>1,898,695</td>\n",
       "    </tr>\n",
       "    <tr>\n",
       "      <th>3</th>\n",
       "      <td>1992</td>\n",
       "      <td>Total</td>\n",
       "      <td>706,985</td>\n",
       "      <td>679,244</td>\n",
       "      <td>788,125</td>\n",
       "      <td>774,273</td>\n",
       "      <td>848,167</td>\n",
       "      <td>917,617</td>\n",
       "      <td>1,011,958</td>\n",
       "      <td>1,101,991</td>\n",
       "      <td>879,868</td>\n",
       "      <td>782,591</td>\n",
       "      <td>663,367</td>\n",
       "      <td>781,099</td>\n",
       "      <td>9,935,285</td>\n",
       "    </tr>\n",
       "    <tr>\n",
       "      <th>4</th>\n",
       "      <td>1993</td>\n",
       "      <td>Domestic</td>\n",
       "      <td>395,253</td>\n",
       "      <td>384,860</td>\n",
       "      <td>447,045</td>\n",
       "      <td>445,995</td>\n",
       "      <td>475,682</td>\n",
       "      <td>518,331</td>\n",
       "      <td>549,306</td>\n",
       "      <td>606,560</td>\n",
       "      <td>525,117</td>\n",
       "      <td>478,619</td>\n",
       "      <td>397,811</td>\n",
       "      <td>471,584</td>\n",
       "      <td>5,696,163</td>\n",
       "    </tr>\n",
       "    <tr>\n",
       "      <th>...</th>\n",
       "      <td>...</td>\n",
       "      <td>...</td>\n",
       "      <td>...</td>\n",
       "      <td>...</td>\n",
       "      <td>...</td>\n",
       "      <td>...</td>\n",
       "      <td>...</td>\n",
       "      <td>...</td>\n",
       "      <td>...</td>\n",
       "      <td>...</td>\n",
       "      <td>...</td>\n",
       "      <td>...</td>\n",
       "      <td>...</td>\n",
       "      <td>...</td>\n",
       "      <td>...</td>\n",
       "    </tr>\n",
       "    <tr>\n",
       "      <th>196</th>\n",
       "      <td>2021</td>\n",
       "      <td>Asia Pacific</td>\n",
       "      <td>31,447</td>\n",
       "      <td>20,518</td>\n",
       "      <td>17,208</td>\n",
       "      <td>19,946</td>\n",
       "      <td>19,079</td>\n",
       "      <td>22,174</td>\n",
       "      <td>27,184</td>\n",
       "      <td>46,053</td>\n",
       "      <td>45,989</td>\n",
       "      <td>52,165</td>\n",
       "      <td>NaN</td>\n",
       "      <td>NaN</td>\n",
       "      <td>301,763</td>\n",
       "    </tr>\n",
       "    <tr>\n",
       "      <th>197</th>\n",
       "      <td>2021</td>\n",
       "      <td>Europe</td>\n",
       "      <td>10,230</td>\n",
       "      <td>4,463</td>\n",
       "      <td>3,512</td>\n",
       "      <td>4,365</td>\n",
       "      <td>7,627</td>\n",
       "      <td>13,431</td>\n",
       "      <td>28,300</td>\n",
       "      <td>46,090</td>\n",
       "      <td>61,748</td>\n",
       "      <td>61,059</td>\n",
       "      <td>NaN</td>\n",
       "      <td>NaN</td>\n",
       "      <td>240,825</td>\n",
       "    </tr>\n",
       "    <tr>\n",
       "      <th>198</th>\n",
       "      <td>2021</td>\n",
       "      <td>Misc. Int'l</td>\n",
       "      <td>4,199</td>\n",
       "      <td>1,420</td>\n",
       "      <td>0</td>\n",
       "      <td>0</td>\n",
       "      <td>1,496</td>\n",
       "      <td>3,857</td>\n",
       "      <td>6,446</td>\n",
       "      <td>10,621</td>\n",
       "      <td>13,027</td>\n",
       "      <td>22,279</td>\n",
       "      <td>NaN</td>\n",
       "      <td>NaN</td>\n",
       "      <td>63,345</td>\n",
       "    </tr>\n",
       "    <tr>\n",
       "      <th>199</th>\n",
       "      <td>2021</td>\n",
       "      <td>Sub-Total Int'l</td>\n",
       "      <td>45,876</td>\n",
       "      <td>26,401</td>\n",
       "      <td>20,720</td>\n",
       "      <td>24,311</td>\n",
       "      <td>28,202</td>\n",
       "      <td>39,462</td>\n",
       "      <td>61,930</td>\n",
       "      <td>102,764</td>\n",
       "      <td>120,764</td>\n",
       "      <td>135,503</td>\n",
       "      <td>NaN</td>\n",
       "      <td>NaN</td>\n",
       "      <td>605,933</td>\n",
       "    </tr>\n",
       "    <tr>\n",
       "      <th>200</th>\n",
       "      <td>2021</td>\n",
       "      <td>Total</td>\n",
       "      <td>251,676</td>\n",
       "      <td>177,806</td>\n",
       "      <td>202,133</td>\n",
       "      <td>189,686</td>\n",
       "      <td>200,491</td>\n",
       "      <td>317,293</td>\n",
       "      <td>693,774</td>\n",
       "      <td>1,051,652</td>\n",
       "      <td>948,217</td>\n",
       "      <td>959,115</td>\n",
       "      <td>NaN</td>\n",
       "      <td>NaN</td>\n",
       "      <td>4,991,843</td>\n",
       "    </tr>\n",
       "  </tbody>\n",
       "</table>\n",
       "<p>201 rows × 15 columns</p>\n",
       "</div>"
      ],
      "text/plain": [
       "     Year             Type  January February    March    April      May  \\\n",
       "0    1992         Domestic  398,321  381,597  456,665  486,816  520,165   \n",
       "1    1992      Transborder  170,320  178,530  195,681  155,069  171,307   \n",
       "2    1992    International  138,344  119,117  135,779  132,388  156,695   \n",
       "3    1992            Total  706,985  679,244  788,125  774,273  848,167   \n",
       "4    1993         Domestic  395,253  384,860  447,045  445,995  475,682   \n",
       "..    ...              ...      ...      ...      ...      ...      ...   \n",
       "196  2021     Asia Pacific   31,447   20,518   17,208   19,946   19,079   \n",
       "197  2021           Europe   10,230    4,463    3,512    4,365    7,627   \n",
       "198  2021      Misc. Int'l    4,199    1,420        0        0    1,496   \n",
       "199  2021  Sub-Total Int'l   45,876   26,401   20,720   24,311   28,202   \n",
       "200  2021            Total  251,676  177,806  202,133  189,686  200,491   \n",
       "\n",
       "        June       July     August September  October November December  \\\n",
       "0    547,384    581,156    623,834   511,111  475,435  390,924  456,135   \n",
       "1    192,779    216,777    242,720   189,174  160,999  153,904  179,787   \n",
       "2    177,454    214,025    235,437   179,583  146,157  118,539  145,177   \n",
       "3    917,617  1,011,958  1,101,991   879,868  782,591  663,367  781,099   \n",
       "4    518,331    549,306    606,560   525,117  478,619  397,811  471,584   \n",
       "..       ...        ...        ...       ...      ...      ...      ...   \n",
       "196   22,174     27,184     46,053    45,989   52,165      NaN      NaN   \n",
       "197   13,431     28,300     46,090    61,748   61,059      NaN      NaN   \n",
       "198    3,857      6,446     10,621    13,027   22,279      NaN      NaN   \n",
       "199   39,462     61,930    102,764   120,764  135,503      NaN      NaN   \n",
       "200  317,293    693,774  1,051,652   948,217  959,115      NaN      NaN   \n",
       "\n",
       "        Annual  \n",
       "0    5,829,543  \n",
       "1    2,207,047  \n",
       "2    1,898,695  \n",
       "3    9,935,285  \n",
       "4    5,696,163  \n",
       "..         ...  \n",
       "196    301,763  \n",
       "197    240,825  \n",
       "198     63,345  \n",
       "199    605,933  \n",
       "200  4,991,843  \n",
       "\n",
       "[201 rows x 15 columns]"
      ]
     },
     "execution_count": 3,
     "metadata": {},
     "output_type": "execute_result"
    }
   ],
   "source": [
    "yvrpassengers"
   ]
  },
  {
   "cell_type": "code",
   "execution_count": 4,
   "metadata": {},
   "outputs": [],
   "source": [
    "yvrpassengerslong=pd.melt(yvrpassengers, id_vars=['Year', 'Type'], value_vars=['January', 'February', 'March', 'April', 'May', 'June', 'July', 'August', 'September', 'October', 'November', 'December'])"
   ]
  },
  {
   "cell_type": "code",
   "execution_count": 5,
   "metadata": {},
   "outputs": [
    {
     "data": {
      "text/html": [
       "<div>\n",
       "<style scoped>\n",
       "    .dataframe tbody tr th:only-of-type {\n",
       "        vertical-align: middle;\n",
       "    }\n",
       "\n",
       "    .dataframe tbody tr th {\n",
       "        vertical-align: top;\n",
       "    }\n",
       "\n",
       "    .dataframe thead th {\n",
       "        text-align: right;\n",
       "    }\n",
       "</style>\n",
       "<table border=\"1\" class=\"dataframe\">\n",
       "  <thead>\n",
       "    <tr style=\"text-align: right;\">\n",
       "      <th></th>\n",
       "      <th>Year</th>\n",
       "      <th>Type</th>\n",
       "      <th>variable</th>\n",
       "      <th>value</th>\n",
       "    </tr>\n",
       "  </thead>\n",
       "  <tbody>\n",
       "    <tr>\n",
       "      <th>0</th>\n",
       "      <td>1992</td>\n",
       "      <td>Domestic</td>\n",
       "      <td>January</td>\n",
       "      <td>398,321</td>\n",
       "    </tr>\n",
       "    <tr>\n",
       "      <th>1</th>\n",
       "      <td>1992</td>\n",
       "      <td>Transborder</td>\n",
       "      <td>January</td>\n",
       "      <td>170,320</td>\n",
       "    </tr>\n",
       "    <tr>\n",
       "      <th>2</th>\n",
       "      <td>1992</td>\n",
       "      <td>International</td>\n",
       "      <td>January</td>\n",
       "      <td>138,344</td>\n",
       "    </tr>\n",
       "    <tr>\n",
       "      <th>3</th>\n",
       "      <td>1992</td>\n",
       "      <td>Total</td>\n",
       "      <td>January</td>\n",
       "      <td>706,985</td>\n",
       "    </tr>\n",
       "    <tr>\n",
       "      <th>4</th>\n",
       "      <td>1993</td>\n",
       "      <td>Domestic</td>\n",
       "      <td>January</td>\n",
       "      <td>395,253</td>\n",
       "    </tr>\n",
       "    <tr>\n",
       "      <th>...</th>\n",
       "      <td>...</td>\n",
       "      <td>...</td>\n",
       "      <td>...</td>\n",
       "      <td>...</td>\n",
       "    </tr>\n",
       "    <tr>\n",
       "      <th>2407</th>\n",
       "      <td>2021</td>\n",
       "      <td>Asia Pacific</td>\n",
       "      <td>December</td>\n",
       "      <td>NaN</td>\n",
       "    </tr>\n",
       "    <tr>\n",
       "      <th>2408</th>\n",
       "      <td>2021</td>\n",
       "      <td>Europe</td>\n",
       "      <td>December</td>\n",
       "      <td>NaN</td>\n",
       "    </tr>\n",
       "    <tr>\n",
       "      <th>2409</th>\n",
       "      <td>2021</td>\n",
       "      <td>Misc. Int'l</td>\n",
       "      <td>December</td>\n",
       "      <td>NaN</td>\n",
       "    </tr>\n",
       "    <tr>\n",
       "      <th>2410</th>\n",
       "      <td>2021</td>\n",
       "      <td>Sub-Total Int'l</td>\n",
       "      <td>December</td>\n",
       "      <td>NaN</td>\n",
       "    </tr>\n",
       "    <tr>\n",
       "      <th>2411</th>\n",
       "      <td>2021</td>\n",
       "      <td>Total</td>\n",
       "      <td>December</td>\n",
       "      <td>NaN</td>\n",
       "    </tr>\n",
       "  </tbody>\n",
       "</table>\n",
       "<p>2412 rows × 4 columns</p>\n",
       "</div>"
      ],
      "text/plain": [
       "      Year             Type  variable    value\n",
       "0     1992         Domestic   January  398,321\n",
       "1     1992      Transborder   January  170,320\n",
       "2     1992    International   January  138,344\n",
       "3     1992            Total   January  706,985\n",
       "4     1993         Domestic   January  395,253\n",
       "...    ...              ...       ...      ...\n",
       "2407  2021     Asia Pacific  December      NaN\n",
       "2408  2021           Europe  December      NaN\n",
       "2409  2021      Misc. Int'l  December      NaN\n",
       "2410  2021  Sub-Total Int'l  December      NaN\n",
       "2411  2021            Total  December      NaN\n",
       "\n",
       "[2412 rows x 4 columns]"
      ]
     },
     "execution_count": 5,
     "metadata": {},
     "output_type": "execute_result"
    }
   ],
   "source": [
    "yvrpassengerslong"
   ]
  },
  {
   "cell_type": "code",
   "execution_count": 6,
   "metadata": {},
   "outputs": [],
   "source": [
    "yvrpassengerslongtotal = yvrpassengerslong.loc[yvrpassengerslong['Type'] == 'Total']"
   ]
  },
  {
   "cell_type": "code",
   "execution_count": 7,
   "metadata": {},
   "outputs": [
    {
     "data": {
      "text/html": [
       "<div>\n",
       "<style scoped>\n",
       "    .dataframe tbody tr th:only-of-type {\n",
       "        vertical-align: middle;\n",
       "    }\n",
       "\n",
       "    .dataframe tbody tr th {\n",
       "        vertical-align: top;\n",
       "    }\n",
       "\n",
       "    .dataframe thead th {\n",
       "        text-align: right;\n",
       "    }\n",
       "</style>\n",
       "<table border=\"1\" class=\"dataframe\">\n",
       "  <thead>\n",
       "    <tr style=\"text-align: right;\">\n",
       "      <th></th>\n",
       "      <th>Year</th>\n",
       "      <th>Type</th>\n",
       "      <th>variable</th>\n",
       "      <th>value</th>\n",
       "    </tr>\n",
       "  </thead>\n",
       "  <tbody>\n",
       "    <tr>\n",
       "      <th>3</th>\n",
       "      <td>1992</td>\n",
       "      <td>Total</td>\n",
       "      <td>January</td>\n",
       "      <td>706,985</td>\n",
       "    </tr>\n",
       "    <tr>\n",
       "      <th>7</th>\n",
       "      <td>1993</td>\n",
       "      <td>Total</td>\n",
       "      <td>January</td>\n",
       "      <td>740,294</td>\n",
       "    </tr>\n",
       "    <tr>\n",
       "      <th>11</th>\n",
       "      <td>1994</td>\n",
       "      <td>Total</td>\n",
       "      <td>January</td>\n",
       "      <td>765,070</td>\n",
       "    </tr>\n",
       "    <tr>\n",
       "      <th>18</th>\n",
       "      <td>1995</td>\n",
       "      <td>Total</td>\n",
       "      <td>January</td>\n",
       "      <td>799,520</td>\n",
       "    </tr>\n",
       "    <tr>\n",
       "      <th>25</th>\n",
       "      <td>1996</td>\n",
       "      <td>Total</td>\n",
       "      <td>January</td>\n",
       "      <td>974,490</td>\n",
       "    </tr>\n",
       "    <tr>\n",
       "      <th>...</th>\n",
       "      <td>...</td>\n",
       "      <td>...</td>\n",
       "      <td>...</td>\n",
       "      <td>...</td>\n",
       "    </tr>\n",
       "    <tr>\n",
       "      <th>2383</th>\n",
       "      <td>2017</td>\n",
       "      <td>Total</td>\n",
       "      <td>December</td>\n",
       "      <td>2,007,482</td>\n",
       "    </tr>\n",
       "    <tr>\n",
       "      <th>2390</th>\n",
       "      <td>2018</td>\n",
       "      <td>Total</td>\n",
       "      <td>December</td>\n",
       "      <td>2,064,001</td>\n",
       "    </tr>\n",
       "    <tr>\n",
       "      <th>2397</th>\n",
       "      <td>2019</td>\n",
       "      <td>Total</td>\n",
       "      <td>December</td>\n",
       "      <td>2,155,151</td>\n",
       "    </tr>\n",
       "    <tr>\n",
       "      <th>2404</th>\n",
       "      <td>2020</td>\n",
       "      <td>Total</td>\n",
       "      <td>December</td>\n",
       "      <td>293,525</td>\n",
       "    </tr>\n",
       "    <tr>\n",
       "      <th>2411</th>\n",
       "      <td>2021</td>\n",
       "      <td>Total</td>\n",
       "      <td>December</td>\n",
       "      <td>NaN</td>\n",
       "    </tr>\n",
       "  </tbody>\n",
       "</table>\n",
       "<p>360 rows × 4 columns</p>\n",
       "</div>"
      ],
      "text/plain": [
       "      Year   Type  variable      value\n",
       "3     1992  Total   January    706,985\n",
       "7     1993  Total   January    740,294\n",
       "11    1994  Total   January    765,070\n",
       "18    1995  Total   January    799,520\n",
       "25    1996  Total   January    974,490\n",
       "...    ...    ...       ...        ...\n",
       "2383  2017  Total  December  2,007,482\n",
       "2390  2018  Total  December  2,064,001\n",
       "2397  2019  Total  December  2,155,151\n",
       "2404  2020  Total  December    293,525\n",
       "2411  2021  Total  December        NaN\n",
       "\n",
       "[360 rows x 4 columns]"
      ]
     },
     "execution_count": 7,
     "metadata": {},
     "output_type": "execute_result"
    }
   ],
   "source": [
    "yvrpassengerslongtotal"
   ]
  },
  {
   "cell_type": "code",
   "execution_count": 8,
   "metadata": {},
   "outputs": [],
   "source": [
    "yvrpassengerslongtotal=yvrpassengerslongtotal.drop(['Type'], axis=1)"
   ]
  },
  {
   "cell_type": "code",
   "execution_count": 9,
   "metadata": {},
   "outputs": [],
   "source": [
    "yvrpassengerslongtotal=yvrpassengerslongtotal.rename(columns={\"variable\": \"Month\"})"
   ]
  },
  {
   "cell_type": "code",
   "execution_count": 10,
   "metadata": {},
   "outputs": [],
   "source": [
    "yvrpassengerslongtotal[\"year_month\"]=yvrpassengerslongtotal.Year.astype(str)+'-'+yvrpassengerslongtotal.Month"
   ]
  },
  {
   "cell_type": "code",
   "execution_count": 11,
   "metadata": {},
   "outputs": [
    {
     "data": {
      "text/html": [
       "<div>\n",
       "<style scoped>\n",
       "    .dataframe tbody tr th:only-of-type {\n",
       "        vertical-align: middle;\n",
       "    }\n",
       "\n",
       "    .dataframe tbody tr th {\n",
       "        vertical-align: top;\n",
       "    }\n",
       "\n",
       "    .dataframe thead th {\n",
       "        text-align: right;\n",
       "    }\n",
       "</style>\n",
       "<table border=\"1\" class=\"dataframe\">\n",
       "  <thead>\n",
       "    <tr style=\"text-align: right;\">\n",
       "      <th></th>\n",
       "      <th>Year</th>\n",
       "      <th>Month</th>\n",
       "      <th>value</th>\n",
       "      <th>year_month</th>\n",
       "    </tr>\n",
       "  </thead>\n",
       "  <tbody>\n",
       "    <tr>\n",
       "      <th>3</th>\n",
       "      <td>1992</td>\n",
       "      <td>January</td>\n",
       "      <td>706,985</td>\n",
       "      <td>1992-January</td>\n",
       "    </tr>\n",
       "    <tr>\n",
       "      <th>7</th>\n",
       "      <td>1993</td>\n",
       "      <td>January</td>\n",
       "      <td>740,294</td>\n",
       "      <td>1993-January</td>\n",
       "    </tr>\n",
       "    <tr>\n",
       "      <th>11</th>\n",
       "      <td>1994</td>\n",
       "      <td>January</td>\n",
       "      <td>765,070</td>\n",
       "      <td>1994-January</td>\n",
       "    </tr>\n",
       "    <tr>\n",
       "      <th>18</th>\n",
       "      <td>1995</td>\n",
       "      <td>January</td>\n",
       "      <td>799,520</td>\n",
       "      <td>1995-January</td>\n",
       "    </tr>\n",
       "    <tr>\n",
       "      <th>25</th>\n",
       "      <td>1996</td>\n",
       "      <td>January</td>\n",
       "      <td>974,490</td>\n",
       "      <td>1996-January</td>\n",
       "    </tr>\n",
       "  </tbody>\n",
       "</table>\n",
       "</div>"
      ],
      "text/plain": [
       "    Year    Month    value    year_month\n",
       "3   1992  January  706,985  1992-January\n",
       "7   1993  January  740,294  1993-January\n",
       "11  1994  January  765,070  1994-January\n",
       "18  1995  January  799,520  1995-January\n",
       "25  1996  January  974,490  1996-January"
      ]
     },
     "execution_count": 11,
     "metadata": {},
     "output_type": "execute_result"
    }
   ],
   "source": [
    "yvrpassengerslongtotal.head()"
   ]
  },
  {
   "cell_type": "code",
   "execution_count": 12,
   "metadata": {},
   "outputs": [],
   "source": [
    "yvrpassengerslongtotal[\"year_month\"]=pd.to_datetime(yvrpassengerslongtotal[\"year_month\"],errors='coerce')"
   ]
  },
  {
   "cell_type": "code",
   "execution_count": 53,
   "metadata": {},
   "outputs": [
    {
     "data": {
      "text/html": [
       "<div>\n",
       "<style scoped>\n",
       "    .dataframe tbody tr th:only-of-type {\n",
       "        vertical-align: middle;\n",
       "    }\n",
       "\n",
       "    .dataframe tbody tr th {\n",
       "        vertical-align: top;\n",
       "    }\n",
       "\n",
       "    .dataframe thead th {\n",
       "        text-align: right;\n",
       "    }\n",
       "</style>\n",
       "<table border=\"1\" class=\"dataframe\">\n",
       "  <thead>\n",
       "    <tr style=\"text-align: right;\">\n",
       "      <th></th>\n",
       "      <th>Year</th>\n",
       "      <th>Month</th>\n",
       "      <th>value</th>\n",
       "      <th>year_month</th>\n",
       "    </tr>\n",
       "  </thead>\n",
       "  <tbody>\n",
       "    <tr>\n",
       "      <th>3</th>\n",
       "      <td>1992</td>\n",
       "      <td>January</td>\n",
       "      <td>706,985</td>\n",
       "      <td>1992-01-01</td>\n",
       "    </tr>\n",
       "    <tr>\n",
       "      <th>7</th>\n",
       "      <td>1993</td>\n",
       "      <td>January</td>\n",
       "      <td>740,294</td>\n",
       "      <td>1993-01-01</td>\n",
       "    </tr>\n",
       "    <tr>\n",
       "      <th>11</th>\n",
       "      <td>1994</td>\n",
       "      <td>January</td>\n",
       "      <td>765,070</td>\n",
       "      <td>1994-01-01</td>\n",
       "    </tr>\n",
       "    <tr>\n",
       "      <th>18</th>\n",
       "      <td>1995</td>\n",
       "      <td>January</td>\n",
       "      <td>799,520</td>\n",
       "      <td>1995-01-01</td>\n",
       "    </tr>\n",
       "    <tr>\n",
       "      <th>25</th>\n",
       "      <td>1996</td>\n",
       "      <td>January</td>\n",
       "      <td>974,490</td>\n",
       "      <td>1996-01-01</td>\n",
       "    </tr>\n",
       "  </tbody>\n",
       "</table>\n",
       "</div>"
      ],
      "text/plain": [
       "    Year    Month    value year_month\n",
       "3   1992  January  706,985 1992-01-01\n",
       "7   1993  January  740,294 1993-01-01\n",
       "11  1994  January  765,070 1994-01-01\n",
       "18  1995  January  799,520 1995-01-01\n",
       "25  1996  January  974,490 1996-01-01"
      ]
     },
     "execution_count": 53,
     "metadata": {},
     "output_type": "execute_result"
    }
   ],
   "source": [
    "yvrpassengerslongtotal.head()"
   ]
  },
  {
   "cell_type": "code",
   "execution_count": 54,
   "metadata": {},
   "outputs": [],
   "source": [
    "yvrpassengerslongtotal=yvrpassengerslongtotal.sort_values(by='year_month')"
   ]
  },
  {
   "cell_type": "code",
   "execution_count": 55,
   "metadata": {},
   "outputs": [
    {
     "data": {
      "text/html": [
       "<div>\n",
       "<style scoped>\n",
       "    .dataframe tbody tr th:only-of-type {\n",
       "        vertical-align: middle;\n",
       "    }\n",
       "\n",
       "    .dataframe tbody tr th {\n",
       "        vertical-align: top;\n",
       "    }\n",
       "\n",
       "    .dataframe thead th {\n",
       "        text-align: right;\n",
       "    }\n",
       "</style>\n",
       "<table border=\"1\" class=\"dataframe\">\n",
       "  <thead>\n",
       "    <tr style=\"text-align: right;\">\n",
       "      <th></th>\n",
       "      <th>Year</th>\n",
       "      <th>Month</th>\n",
       "      <th>value</th>\n",
       "      <th>year_month</th>\n",
       "    </tr>\n",
       "  </thead>\n",
       "  <tbody>\n",
       "    <tr>\n",
       "      <th>3</th>\n",
       "      <td>1992</td>\n",
       "      <td>January</td>\n",
       "      <td>706,985</td>\n",
       "      <td>1992-01-01</td>\n",
       "    </tr>\n",
       "    <tr>\n",
       "      <th>204</th>\n",
       "      <td>1992</td>\n",
       "      <td>February</td>\n",
       "      <td>679,244</td>\n",
       "      <td>1992-02-01</td>\n",
       "    </tr>\n",
       "    <tr>\n",
       "      <th>405</th>\n",
       "      <td>1992</td>\n",
       "      <td>March</td>\n",
       "      <td>788,125</td>\n",
       "      <td>1992-03-01</td>\n",
       "    </tr>\n",
       "    <tr>\n",
       "      <th>606</th>\n",
       "      <td>1992</td>\n",
       "      <td>April</td>\n",
       "      <td>774,273</td>\n",
       "      <td>1992-04-01</td>\n",
       "    </tr>\n",
       "    <tr>\n",
       "      <th>807</th>\n",
       "      <td>1992</td>\n",
       "      <td>May</td>\n",
       "      <td>848,167</td>\n",
       "      <td>1992-05-01</td>\n",
       "    </tr>\n",
       "  </tbody>\n",
       "</table>\n",
       "</div>"
      ],
      "text/plain": [
       "     Year     Month    value year_month\n",
       "3    1992   January  706,985 1992-01-01\n",
       "204  1992  February  679,244 1992-02-01\n",
       "405  1992     March  788,125 1992-03-01\n",
       "606  1992     April  774,273 1992-04-01\n",
       "807  1992       May  848,167 1992-05-01"
      ]
     },
     "execution_count": 55,
     "metadata": {},
     "output_type": "execute_result"
    }
   ],
   "source": [
    "yvrpassengerslongtotal.head()"
   ]
  },
  {
   "cell_type": "code",
   "execution_count": 56,
   "metadata": {},
   "outputs": [
    {
     "data": {
      "text/html": [
       "<div>\n",
       "<style scoped>\n",
       "    .dataframe tbody tr th:only-of-type {\n",
       "        vertical-align: middle;\n",
       "    }\n",
       "\n",
       "    .dataframe tbody tr th {\n",
       "        vertical-align: top;\n",
       "    }\n",
       "\n",
       "    .dataframe thead th {\n",
       "        text-align: right;\n",
       "    }\n",
       "</style>\n",
       "<table border=\"1\" class=\"dataframe\">\n",
       "  <thead>\n",
       "    <tr style=\"text-align: right;\">\n",
       "      <th></th>\n",
       "      <th>Year</th>\n",
       "      <th>Month</th>\n",
       "      <th>value</th>\n",
       "      <th>year_month</th>\n",
       "    </tr>\n",
       "  </thead>\n",
       "  <tbody>\n",
       "    <tr>\n",
       "      <th>3</th>\n",
       "      <td>1992</td>\n",
       "      <td>January</td>\n",
       "      <td>706,985</td>\n",
       "      <td>1992-01-01</td>\n",
       "    </tr>\n",
       "    <tr>\n",
       "      <th>204</th>\n",
       "      <td>1992</td>\n",
       "      <td>February</td>\n",
       "      <td>679,244</td>\n",
       "      <td>1992-02-01</td>\n",
       "    </tr>\n",
       "    <tr>\n",
       "      <th>405</th>\n",
       "      <td>1992</td>\n",
       "      <td>March</td>\n",
       "      <td>788,125</td>\n",
       "      <td>1992-03-01</td>\n",
       "    </tr>\n",
       "    <tr>\n",
       "      <th>606</th>\n",
       "      <td>1992</td>\n",
       "      <td>April</td>\n",
       "      <td>774,273</td>\n",
       "      <td>1992-04-01</td>\n",
       "    </tr>\n",
       "    <tr>\n",
       "      <th>807</th>\n",
       "      <td>1992</td>\n",
       "      <td>May</td>\n",
       "      <td>848,167</td>\n",
       "      <td>1992-05-01</td>\n",
       "    </tr>\n",
       "    <tr>\n",
       "      <th>...</th>\n",
       "      <td>...</td>\n",
       "      <td>...</td>\n",
       "      <td>...</td>\n",
       "      <td>...</td>\n",
       "    </tr>\n",
       "    <tr>\n",
       "      <th>1607</th>\n",
       "      <td>2021</td>\n",
       "      <td>August</td>\n",
       "      <td>1,051,652</td>\n",
       "      <td>2021-08-01</td>\n",
       "    </tr>\n",
       "    <tr>\n",
       "      <th>1808</th>\n",
       "      <td>2021</td>\n",
       "      <td>September</td>\n",
       "      <td>948,217</td>\n",
       "      <td>2021-09-01</td>\n",
       "    </tr>\n",
       "    <tr>\n",
       "      <th>2009</th>\n",
       "      <td>2021</td>\n",
       "      <td>October</td>\n",
       "      <td>959,115</td>\n",
       "      <td>2021-10-01</td>\n",
       "    </tr>\n",
       "    <tr>\n",
       "      <th>2210</th>\n",
       "      <td>2021</td>\n",
       "      <td>November</td>\n",
       "      <td>NaN</td>\n",
       "      <td>2021-11-01</td>\n",
       "    </tr>\n",
       "    <tr>\n",
       "      <th>2411</th>\n",
       "      <td>2021</td>\n",
       "      <td>December</td>\n",
       "      <td>NaN</td>\n",
       "      <td>2021-12-01</td>\n",
       "    </tr>\n",
       "  </tbody>\n",
       "</table>\n",
       "<p>360 rows × 4 columns</p>\n",
       "</div>"
      ],
      "text/plain": [
       "      Year      Month      value year_month\n",
       "3     1992    January    706,985 1992-01-01\n",
       "204   1992   February    679,244 1992-02-01\n",
       "405   1992      March    788,125 1992-03-01\n",
       "606   1992      April    774,273 1992-04-01\n",
       "807   1992        May    848,167 1992-05-01\n",
       "...    ...        ...        ...        ...\n",
       "1607  2021     August  1,051,652 2021-08-01\n",
       "1808  2021  September    948,217 2021-09-01\n",
       "2009  2021    October    959,115 2021-10-01\n",
       "2210  2021   November        NaN 2021-11-01\n",
       "2411  2021   December        NaN 2021-12-01\n",
       "\n",
       "[360 rows x 4 columns]"
      ]
     },
     "execution_count": 56,
     "metadata": {},
     "output_type": "execute_result"
    }
   ],
   "source": [
    "yvrpassengerslongtotal"
   ]
  },
  {
   "cell_type": "code",
   "execution_count": 57,
   "metadata": {},
   "outputs": [
    {
     "data": {
      "text/html": [
       "<div>\n",
       "<style scoped>\n",
       "    .dataframe tbody tr th:only-of-type {\n",
       "        vertical-align: middle;\n",
       "    }\n",
       "\n",
       "    .dataframe tbody tr th {\n",
       "        vertical-align: top;\n",
       "    }\n",
       "\n",
       "    .dataframe thead th {\n",
       "        text-align: right;\n",
       "    }\n",
       "</style>\n",
       "<table border=\"1\" class=\"dataframe\">\n",
       "  <thead>\n",
       "    <tr style=\"text-align: right;\">\n",
       "      <th></th>\n",
       "      <th>Year</th>\n",
       "      <th>Month</th>\n",
       "      <th>value</th>\n",
       "      <th>year_month</th>\n",
       "    </tr>\n",
       "  </thead>\n",
       "  <tbody>\n",
       "    <tr>\n",
       "      <th>3</th>\n",
       "      <td>1992</td>\n",
       "      <td>January</td>\n",
       "      <td>706,985</td>\n",
       "      <td>1992-01-01</td>\n",
       "    </tr>\n",
       "    <tr>\n",
       "      <th>204</th>\n",
       "      <td>1992</td>\n",
       "      <td>February</td>\n",
       "      <td>679,244</td>\n",
       "      <td>1992-02-01</td>\n",
       "    </tr>\n",
       "    <tr>\n",
       "      <th>405</th>\n",
       "      <td>1992</td>\n",
       "      <td>March</td>\n",
       "      <td>788,125</td>\n",
       "      <td>1992-03-01</td>\n",
       "    </tr>\n",
       "    <tr>\n",
       "      <th>606</th>\n",
       "      <td>1992</td>\n",
       "      <td>April</td>\n",
       "      <td>774,273</td>\n",
       "      <td>1992-04-01</td>\n",
       "    </tr>\n",
       "    <tr>\n",
       "      <th>807</th>\n",
       "      <td>1992</td>\n",
       "      <td>May</td>\n",
       "      <td>848,167</td>\n",
       "      <td>1992-05-01</td>\n",
       "    </tr>\n",
       "    <tr>\n",
       "      <th>...</th>\n",
       "      <td>...</td>\n",
       "      <td>...</td>\n",
       "      <td>...</td>\n",
       "      <td>...</td>\n",
       "    </tr>\n",
       "    <tr>\n",
       "      <th>1205</th>\n",
       "      <td>2021</td>\n",
       "      <td>June</td>\n",
       "      <td>317,293</td>\n",
       "      <td>2021-06-01</td>\n",
       "    </tr>\n",
       "    <tr>\n",
       "      <th>1406</th>\n",
       "      <td>2021</td>\n",
       "      <td>July</td>\n",
       "      <td>693,774</td>\n",
       "      <td>2021-07-01</td>\n",
       "    </tr>\n",
       "    <tr>\n",
       "      <th>1607</th>\n",
       "      <td>2021</td>\n",
       "      <td>August</td>\n",
       "      <td>1,051,652</td>\n",
       "      <td>2021-08-01</td>\n",
       "    </tr>\n",
       "    <tr>\n",
       "      <th>1808</th>\n",
       "      <td>2021</td>\n",
       "      <td>September</td>\n",
       "      <td>948,217</td>\n",
       "      <td>2021-09-01</td>\n",
       "    </tr>\n",
       "    <tr>\n",
       "      <th>2009</th>\n",
       "      <td>2021</td>\n",
       "      <td>October</td>\n",
       "      <td>959,115</td>\n",
       "      <td>2021-10-01</td>\n",
       "    </tr>\n",
       "  </tbody>\n",
       "</table>\n",
       "<p>358 rows × 4 columns</p>\n",
       "</div>"
      ],
      "text/plain": [
       "      Year      Month      value year_month\n",
       "3     1992    January    706,985 1992-01-01\n",
       "204   1992   February    679,244 1992-02-01\n",
       "405   1992      March    788,125 1992-03-01\n",
       "606   1992      April    774,273 1992-04-01\n",
       "807   1992        May    848,167 1992-05-01\n",
       "...    ...        ...        ...        ...\n",
       "1205  2021       June    317,293 2021-06-01\n",
       "1406  2021       July    693,774 2021-07-01\n",
       "1607  2021     August  1,051,652 2021-08-01\n",
       "1808  2021  September    948,217 2021-09-01\n",
       "2009  2021    October    959,115 2021-10-01\n",
       "\n",
       "[358 rows x 4 columns]"
      ]
     },
     "execution_count": 57,
     "metadata": {},
     "output_type": "execute_result"
    }
   ],
   "source": [
    "yvrpassengerslongtotal.dropna()"
   ]
  },
  {
   "cell_type": "code",
   "execution_count": 58,
   "metadata": {},
   "outputs": [
    {
     "data": {
      "application/vnd.plotly.v1+json": {
       "config": {
        "plotlyServerURL": "https://plot.ly"
       },
       "data": [
        {
         "hovertemplate": "year_month=%{x}<br>value=%{y}<extra></extra>",
         "legendgroup": "",
         "line": {
          "color": "#636efa",
          "dash": "solid"
         },
         "mode": "lines",
         "name": "",
         "orientation": "v",
         "showlegend": false,
         "type": "scatter",
         "x": [
          "1992-01-01T00:00:00",
          "1992-02-01T00:00:00",
          "1992-03-01T00:00:00",
          "1992-04-01T00:00:00",
          "1992-05-01T00:00:00",
          "1992-06-01T00:00:00",
          "1992-07-01T00:00:00",
          "1992-08-01T00:00:00",
          "1992-09-01T00:00:00",
          "1992-10-01T00:00:00",
          "1992-11-01T00:00:00",
          "1992-12-01T00:00:00",
          "1993-01-01T00:00:00",
          "1993-02-01T00:00:00",
          "1993-03-01T00:00:00",
          "1993-04-01T00:00:00",
          "1993-05-01T00:00:00",
          "1993-06-01T00:00:00",
          "1993-07-01T00:00:00",
          "1993-08-01T00:00:00",
          "1993-09-01T00:00:00",
          "1993-10-01T00:00:00",
          "1993-11-01T00:00:00",
          "1993-12-01T00:00:00",
          "1994-01-01T00:00:00",
          "1994-02-01T00:00:00",
          "1994-03-01T00:00:00",
          "1994-04-01T00:00:00",
          "1994-05-01T00:00:00",
          "1994-06-01T00:00:00",
          "1994-07-01T00:00:00",
          "1994-08-01T00:00:00",
          "1994-09-01T00:00:00",
          "1994-10-01T00:00:00",
          "1994-11-01T00:00:00",
          "1994-12-01T00:00:00",
          "1995-01-01T00:00:00",
          "1995-02-01T00:00:00",
          "1995-03-01T00:00:00",
          "1995-04-01T00:00:00",
          "1995-05-01T00:00:00",
          "1995-06-01T00:00:00",
          "1995-07-01T00:00:00",
          "1995-08-01T00:00:00",
          "1995-09-01T00:00:00",
          "1995-10-01T00:00:00",
          "1995-11-01T00:00:00",
          "1995-12-01T00:00:00",
          "1996-01-01T00:00:00",
          "1996-02-01T00:00:00",
          "1996-03-01T00:00:00",
          "1996-04-01T00:00:00",
          "1996-05-01T00:00:00",
          "1996-06-01T00:00:00",
          "1996-07-01T00:00:00",
          "1996-08-01T00:00:00",
          "1996-09-01T00:00:00",
          "1996-10-01T00:00:00",
          "1996-11-01T00:00:00",
          "1996-12-01T00:00:00",
          "1997-01-01T00:00:00",
          "1997-02-01T00:00:00",
          "1997-03-01T00:00:00",
          "1997-04-01T00:00:00",
          "1997-05-01T00:00:00",
          "1997-06-01T00:00:00",
          "1997-07-01T00:00:00",
          "1997-08-01T00:00:00",
          "1997-09-01T00:00:00",
          "1997-10-01T00:00:00",
          "1997-11-01T00:00:00",
          "1997-12-01T00:00:00",
          "1998-01-01T00:00:00",
          "1998-02-01T00:00:00",
          "1998-03-01T00:00:00",
          "1998-04-01T00:00:00",
          "1998-05-01T00:00:00",
          "1998-06-01T00:00:00",
          "1998-07-01T00:00:00",
          "1998-08-01T00:00:00",
          "1998-09-01T00:00:00",
          "1998-10-01T00:00:00",
          "1998-11-01T00:00:00",
          "1998-12-01T00:00:00",
          "1999-01-01T00:00:00",
          "1999-02-01T00:00:00",
          "1999-03-01T00:00:00",
          "1999-04-01T00:00:00",
          "1999-05-01T00:00:00",
          "1999-06-01T00:00:00",
          "1999-07-01T00:00:00",
          "1999-08-01T00:00:00",
          "1999-09-01T00:00:00",
          "1999-10-01T00:00:00",
          "1999-11-01T00:00:00",
          "1999-12-01T00:00:00",
          "2000-01-01T00:00:00",
          "2000-02-01T00:00:00",
          "2000-03-01T00:00:00",
          "2000-04-01T00:00:00",
          "2000-05-01T00:00:00",
          "2000-06-01T00:00:00",
          "2000-07-01T00:00:00",
          "2000-08-01T00:00:00",
          "2000-09-01T00:00:00",
          "2000-10-01T00:00:00",
          "2000-11-01T00:00:00",
          "2000-12-01T00:00:00",
          "2001-01-01T00:00:00",
          "2001-02-01T00:00:00",
          "2001-03-01T00:00:00",
          "2001-04-01T00:00:00",
          "2001-05-01T00:00:00",
          "2001-06-01T00:00:00",
          "2001-07-01T00:00:00",
          "2001-08-01T00:00:00",
          "2001-09-01T00:00:00",
          "2001-10-01T00:00:00",
          "2001-11-01T00:00:00",
          "2001-12-01T00:00:00",
          "2002-01-01T00:00:00",
          "2002-02-01T00:00:00",
          "2002-03-01T00:00:00",
          "2002-04-01T00:00:00",
          "2002-05-01T00:00:00",
          "2002-06-01T00:00:00",
          "2002-07-01T00:00:00",
          "2002-08-01T00:00:00",
          "2002-09-01T00:00:00",
          "2002-10-01T00:00:00",
          "2002-11-01T00:00:00",
          "2002-12-01T00:00:00",
          "2003-01-01T00:00:00",
          "2003-02-01T00:00:00",
          "2003-03-01T00:00:00",
          "2003-04-01T00:00:00",
          "2003-05-01T00:00:00",
          "2003-06-01T00:00:00",
          "2003-07-01T00:00:00",
          "2003-08-01T00:00:00",
          "2003-09-01T00:00:00",
          "2003-10-01T00:00:00",
          "2003-11-01T00:00:00",
          "2003-12-01T00:00:00",
          "2004-01-01T00:00:00",
          "2004-02-01T00:00:00",
          "2004-03-01T00:00:00",
          "2004-04-01T00:00:00",
          "2004-05-01T00:00:00",
          "2004-06-01T00:00:00",
          "2004-07-01T00:00:00",
          "2004-08-01T00:00:00",
          "2004-09-01T00:00:00",
          "2004-10-01T00:00:00",
          "2004-11-01T00:00:00",
          "2004-12-01T00:00:00",
          "2005-01-01T00:00:00",
          "2005-02-01T00:00:00",
          "2005-03-01T00:00:00",
          "2005-04-01T00:00:00",
          "2005-05-01T00:00:00",
          "2005-06-01T00:00:00",
          "2005-07-01T00:00:00",
          "2005-08-01T00:00:00",
          "2005-09-01T00:00:00",
          "2005-10-01T00:00:00",
          "2005-11-01T00:00:00",
          "2005-12-01T00:00:00",
          "2006-01-01T00:00:00",
          "2006-02-01T00:00:00",
          "2006-03-01T00:00:00",
          "2006-04-01T00:00:00",
          "2006-05-01T00:00:00",
          "2006-06-01T00:00:00",
          "2006-07-01T00:00:00",
          "2006-08-01T00:00:00",
          "2006-09-01T00:00:00",
          "2006-10-01T00:00:00",
          "2006-11-01T00:00:00",
          "2006-12-01T00:00:00",
          "2007-01-01T00:00:00",
          "2007-02-01T00:00:00",
          "2007-03-01T00:00:00",
          "2007-04-01T00:00:00",
          "2007-05-01T00:00:00",
          "2007-06-01T00:00:00",
          "2007-07-01T00:00:00",
          "2007-08-01T00:00:00",
          "2007-09-01T00:00:00",
          "2007-10-01T00:00:00",
          "2007-11-01T00:00:00",
          "2007-12-01T00:00:00",
          "2008-01-01T00:00:00",
          "2008-02-01T00:00:00",
          "2008-03-01T00:00:00",
          "2008-04-01T00:00:00",
          "2008-05-01T00:00:00",
          "2008-06-01T00:00:00",
          "2008-07-01T00:00:00",
          "2008-08-01T00:00:00",
          "2008-09-01T00:00:00",
          "2008-10-01T00:00:00",
          "2008-11-01T00:00:00",
          "2008-12-01T00:00:00",
          "2009-01-01T00:00:00",
          "2009-02-01T00:00:00",
          "2009-03-01T00:00:00",
          "2009-04-01T00:00:00",
          "2009-05-01T00:00:00",
          "2009-06-01T00:00:00",
          "2009-07-01T00:00:00",
          "2009-08-01T00:00:00",
          "2009-09-01T00:00:00",
          "2009-10-01T00:00:00",
          "2009-11-01T00:00:00",
          "2009-12-01T00:00:00",
          "2010-01-01T00:00:00",
          "2010-02-01T00:00:00",
          "2010-03-01T00:00:00",
          "2010-04-01T00:00:00",
          "2010-05-01T00:00:00",
          "2010-06-01T00:00:00",
          "2010-07-01T00:00:00",
          "2010-08-01T00:00:00",
          "2010-09-01T00:00:00",
          "2010-10-01T00:00:00",
          "2010-11-01T00:00:00",
          "2010-12-01T00:00:00",
          "2011-01-01T00:00:00",
          "2011-02-01T00:00:00",
          "2011-03-01T00:00:00",
          "2011-04-01T00:00:00",
          "2011-05-01T00:00:00",
          "2011-06-01T00:00:00",
          "2011-07-01T00:00:00",
          "2011-08-01T00:00:00",
          "2011-09-01T00:00:00",
          "2011-10-01T00:00:00",
          "2011-11-01T00:00:00",
          "2011-12-01T00:00:00",
          "2012-01-01T00:00:00",
          "2012-02-01T00:00:00",
          "2012-03-01T00:00:00",
          "2012-04-01T00:00:00",
          "2012-05-01T00:00:00",
          "2012-06-01T00:00:00",
          "2012-07-01T00:00:00",
          "2012-08-01T00:00:00",
          "2012-09-01T00:00:00",
          "2012-10-01T00:00:00",
          "2012-11-01T00:00:00",
          "2012-12-01T00:00:00",
          "2013-01-01T00:00:00",
          "2013-02-01T00:00:00",
          "2013-03-01T00:00:00",
          "2013-04-01T00:00:00",
          "2013-05-01T00:00:00",
          "2013-06-01T00:00:00",
          "2013-07-01T00:00:00",
          "2013-08-01T00:00:00",
          "2013-09-01T00:00:00",
          "2013-10-01T00:00:00",
          "2013-11-01T00:00:00",
          "2013-12-01T00:00:00",
          "2014-01-01T00:00:00",
          "2014-02-01T00:00:00",
          "2014-03-01T00:00:00",
          "2014-04-01T00:00:00",
          "2014-05-01T00:00:00",
          "2014-06-01T00:00:00",
          "2014-07-01T00:00:00",
          "2014-08-01T00:00:00",
          "2014-09-01T00:00:00",
          "2014-10-01T00:00:00",
          "2014-11-01T00:00:00",
          "2014-12-01T00:00:00",
          "2015-01-01T00:00:00",
          "2015-02-01T00:00:00",
          "2015-03-01T00:00:00",
          "2015-04-01T00:00:00",
          "2015-05-01T00:00:00",
          "2015-06-01T00:00:00",
          "2015-07-01T00:00:00",
          "2015-08-01T00:00:00",
          "2015-09-01T00:00:00",
          "2015-10-01T00:00:00",
          "2015-11-01T00:00:00",
          "2015-12-01T00:00:00",
          "2016-01-01T00:00:00",
          "2016-02-01T00:00:00",
          "2016-03-01T00:00:00",
          "2016-04-01T00:00:00",
          "2016-05-01T00:00:00",
          "2016-06-01T00:00:00",
          "2016-07-01T00:00:00",
          "2016-08-01T00:00:00",
          "2016-09-01T00:00:00",
          "2016-10-01T00:00:00",
          "2016-11-01T00:00:00",
          "2016-12-01T00:00:00",
          "2017-01-01T00:00:00",
          "2017-02-01T00:00:00",
          "2017-03-01T00:00:00",
          "2017-04-01T00:00:00",
          "2017-05-01T00:00:00",
          "2017-06-01T00:00:00",
          "2017-07-01T00:00:00",
          "2017-08-01T00:00:00",
          "2017-09-01T00:00:00",
          "2017-10-01T00:00:00",
          "2017-11-01T00:00:00",
          "2017-12-01T00:00:00",
          "2018-01-01T00:00:00",
          "2018-02-01T00:00:00",
          "2018-03-01T00:00:00",
          "2018-04-01T00:00:00",
          "2018-05-01T00:00:00",
          "2018-06-01T00:00:00",
          "2018-07-01T00:00:00",
          "2018-08-01T00:00:00",
          "2018-09-01T00:00:00",
          "2018-10-01T00:00:00",
          "2018-11-01T00:00:00",
          "2018-12-01T00:00:00",
          "2019-01-01T00:00:00",
          "2019-02-01T00:00:00",
          "2019-03-01T00:00:00",
          "2019-04-01T00:00:00",
          "2019-05-01T00:00:00",
          "2019-06-01T00:00:00",
          "2019-07-01T00:00:00",
          "2019-08-01T00:00:00",
          "2019-09-01T00:00:00",
          "2019-10-01T00:00:00",
          "2019-11-01T00:00:00",
          "2019-12-01T00:00:00",
          "2020-01-01T00:00:00",
          "2020-02-01T00:00:00",
          "2020-03-01T00:00:00",
          "2020-04-01T00:00:00",
          "2020-05-01T00:00:00",
          "2020-06-01T00:00:00",
          "2020-07-01T00:00:00",
          "2020-08-01T00:00:00",
          "2020-09-01T00:00:00",
          "2020-10-01T00:00:00",
          "2020-11-01T00:00:00",
          "2020-12-01T00:00:00",
          "2021-01-01T00:00:00",
          "2021-02-01T00:00:00",
          "2021-03-01T00:00:00",
          "2021-04-01T00:00:00",
          "2021-05-01T00:00:00",
          "2021-06-01T00:00:00",
          "2021-07-01T00:00:00",
          "2021-08-01T00:00:00",
          "2021-09-01T00:00:00",
          "2021-10-01T00:00:00",
          "2021-11-01T00:00:00",
          "2021-12-01T00:00:00"
         ],
         "xaxis": "x",
         "y": [
          "706,985",
          "679,244",
          "788,125",
          "774,273",
          "848,167",
          "917,617",
          "1,011,958",
          "1,101,991",
          "879,868",
          "782,591",
          "663,367",
          "781,099",
          "740,294",
          "689,195",
          "818,796",
          "771,858",
          "858,337",
          "931,678",
          "1,041,260",
          "1,135,457",
          "943,843",
          "817,298",
          "674,900",
          "812,099",
          "765,070",
          "704,221",
          "849,386",
          "789,426",
          "891,291",
          "998,459",
          "1,125,938",
          "1,218,721",
          "1,030,690",
          "878,067",
          "717,041",
          "862,486",
          "799,520",
          "751,947",
          "895,158",
          "844,922",
          "988,937",
          "1,113,926",
          "1,248,435",
          "1,393,565",
          "1,165,624",
          "977,349",
          "856,739",
          "970,851",
          "974,490",
          "956,326",
          "1,132,051",
          "1,024,514",
          "1,175,657",
          "1,301,400",
          "1,451,765",
          "1,597,453",
          "1,267,960",
          "1,150,295",
          "927,331",
          "1,077,932",
          "1,068,358",
          "1,040,303",
          "1,195,470",
          "1,086,419",
          "1,244,517",
          "1,352,889",
          "1,517,170",
          "1,668,834",
          "1,348,086",
          "1,195,016",
          "964,900",
          "1,136,602",
          "1,116,810",
          "1,022,709",
          "1,207,282",
          "1,134,327",
          "1,309,206",
          "1,419,278",
          "1,597,609",
          "1,736,542",
          "1,385,777",
          "1,321,314",
          "1,046,534",
          "1,210,721",
          "1,151,301",
          "1,108,200",
          "1,302,486",
          "1,203,495",
          "1,341,701",
          "1,422,087",
          "1,630,838",
          "1,717,770",
          "1,411,756",
          "1,253,087",
          "1,096,934",
          "1,166,844",
          "1,125,890",
          "1,143,341",
          "1,282,824",
          "1,242,363",
          "1,353,296",
          "1,486,685",
          "1,652,316",
          "1,739,403",
          "1,438,566",
          "1,266,562",
          "1,074,866",
          "1,226,419",
          "1,220,568",
          "1,146,890",
          "1,269,070",
          "1,241,644",
          "1,381,675",
          "1,480,690",
          "1,679,267",
          "1,799,740",
          "1,161,925",
          "1,064,991",
          "920,210",
          "1,110,092",
          "1,088,461",
          "1,036,746",
          "1,175,246",
          "1,122,667",
          "1,247,965",
          "1,366,041",
          "1,552,087",
          "1,660,840",
          "1,307,988",
          "1,197,791",
          "963,462",
          "1,158,242",
          "1,118,801",
          "1,030,103",
          "1,158,828",
          "969,727",
          "1,083,248",
          "1,231,738",
          "1,482,809",
          "1,641,249",
          "1,268,535",
          "1,160,743",
          "985,080",
          "1,190,643",
          "1,136,340",
          "1,106,235",
          "1,219,333",
          "1,168,325",
          "1,305,036",
          "1,433,812",
          "1,644,138",
          "1,726,309",
          "1,414,006",
          "1,246,173",
          "1,053,982",
          "1,272,005",
          "1,247,870",
          "1,158,194",
          "1,319,434",
          "1,214,206",
          "1,376,296",
          "1,493,043",
          "1,698,563",
          "1,773,350",
          "1,451,191",
          "1,299,840",
          "1,108,665",
          "1,278,231",
          "1,233,867",
          "1,175,829",
          "1,365,374",
          "1,267,011",
          "1,413,774",
          "1,532,519",
          "1,782,416",
          "1,838,785",
          "1,481,288",
          "1,324,420",
          "1,149,502",
          "1,357,441",
          "1,301,188",
          "1,207,156",
          "1,413,999",
          "1,320,187",
          "1,446,831",
          "1,562,520",
          "1,786,529",
          "1,888,097",
          "1,532,565",
          "1,372,007",
          "1,247,015",
          "1,416,955",
          "1,420,775",
          "1,361,183",
          "1,527,585",
          "1,401,731",
          "1,544,030",
          "1,641,891",
          "1,798,422",
          "1,892,901",
          "1,440,717",
          "1,327,442",
          "1,173,363",
          "1,322,419",
          "1,284,285",
          "1,207,573",
          "1,355,320",
          "1,286,712",
          "1,319,128",
          "1,380,843",
          "1,592,111",
          "1,710,556",
          "1,376,558",
          "1,240,264",
          "1,112,116",
          "1,313,846",
          "1,260,258",
          "1,248,449",
          "1,395,595",
          "1,315,792",
          "1,415,239",
          "1,494,298",
          "1,667,067",
          "1,704,738",
          "1,417,721",
          "1,331,307",
          "1,176,741",
          "1,351,569",
          "1,297,690",
          "1,209,581",
          "1,402,328",
          "1,322,122",
          "1,436,297",
          "1,511,359",
          "1,697,690",
          "1,761,821",
          "1,457,775",
          "1,331,577",
          "1,199,530",
          "1,405,010",
          "1,370,513",
          "1,293,520",
          "1,443,150",
          "1,385,573",
          "1,475,940",
          "1,545,313",
          "1,742,739",
          "1,825,707",
          "1,496,728",
          "1,378,351",
          "1,244,543",
          "1,394,824",
          "1,349,201",
          "1,270,257",
          "1,429,669",
          "1,364,586",
          "1,481,479",
          "1,611,311",
          "1,808,268",
          "1,932,707",
          "1,545,839",
          "1,408,173",
          "1,277,168",
          "1,493,225",
          "1,469,164",
          "1,355,525",
          "1,528,472",
          "1,491,366",
          "1,629,021",
          "1,737,596",
          "1,940,652",
          "2,086,915",
          "1,665,772",
          "1,509,109",
          "1,353,405",
          "1,591,206",
          "1,524,588",
          "1,437,469",
          "1,652,210",
          "1,555,053",
          "1,702,063",
          "1,821,964",
          "2,045,264",
          "2,125,743",
          "1,745,362",
          "1,596,765",
          "1,430,634",
          "1,678,863",
          "1,627,215",
          "1,594,613",
          "1,781,012",
          "1,644,098",
          "1,829,564",
          "1,997,940",
          "2,270,716",
          "2,338,038",
          "1,977,711",
          "1,784,813",
          "1,587,739",
          "1,851,037",
          "1,791,047",
          "1,648,480",
          "1,912,268",
          "1,855,197",
          "1,995,750",
          "2,151,864",
          "2,435,856",
          "2,556,922",
          "2,109,095",
          "1,952,992",
          "1,749,169",
          "2,007,482",
          "1,939,163",
          "1,830,174",
          "2,089,494",
          "2,003,048",
          "2,147,970",
          "2,374,739",
          "2,618,762",
          "2,714,528",
          "2,241,652",
          "2,068,771",
          "1,844,605",
          "2,064,001",
          "2,026,817",
          "1,872,863",
          "2,132,943",
          "2,077,843",
          "2,184,854",
          "2,389,024",
          "2,612,363",
          "2,681,698",
          "2,303,396",
          "2,064,711",
          "1,878,207",
          "2,155,151",
          "2,021,682",
          "1,812,964",
          "1,107,135",
          "68,853",
          "88,798",
          "193,102",
          "331,695",
          "417,445",
          "355,353",
          "333,694",
          "276,041",
          "293,525",
          "251,676",
          "177,806",
          "202,133",
          "189,686",
          "200,491",
          "317,293",
          "693,774",
          "1,051,652",
          "948,217",
          "959,115",
          null,
          null
         ],
         "yaxis": "y"
        }
       ],
       "layout": {
        "legend": {
         "tracegroupgap": 0
        },
        "margin": {
         "t": 60
        },
        "template": {
         "data": {
          "bar": [
           {
            "error_x": {
             "color": "#2a3f5f"
            },
            "error_y": {
             "color": "#2a3f5f"
            },
            "marker": {
             "line": {
              "color": "#E5ECF6",
              "width": 0.5
             }
            },
            "type": "bar"
           }
          ],
          "barpolar": [
           {
            "marker": {
             "line": {
              "color": "#E5ECF6",
              "width": 0.5
             }
            },
            "type": "barpolar"
           }
          ],
          "carpet": [
           {
            "aaxis": {
             "endlinecolor": "#2a3f5f",
             "gridcolor": "white",
             "linecolor": "white",
             "minorgridcolor": "white",
             "startlinecolor": "#2a3f5f"
            },
            "baxis": {
             "endlinecolor": "#2a3f5f",
             "gridcolor": "white",
             "linecolor": "white",
             "minorgridcolor": "white",
             "startlinecolor": "#2a3f5f"
            },
            "type": "carpet"
           }
          ],
          "choropleth": [
           {
            "colorbar": {
             "outlinewidth": 0,
             "ticks": ""
            },
            "type": "choropleth"
           }
          ],
          "contour": [
           {
            "colorbar": {
             "outlinewidth": 0,
             "ticks": ""
            },
            "colorscale": [
             [
              0,
              "#0d0887"
             ],
             [
              0.1111111111111111,
              "#46039f"
             ],
             [
              0.2222222222222222,
              "#7201a8"
             ],
             [
              0.3333333333333333,
              "#9c179e"
             ],
             [
              0.4444444444444444,
              "#bd3786"
             ],
             [
              0.5555555555555556,
              "#d8576b"
             ],
             [
              0.6666666666666666,
              "#ed7953"
             ],
             [
              0.7777777777777778,
              "#fb9f3a"
             ],
             [
              0.8888888888888888,
              "#fdca26"
             ],
             [
              1,
              "#f0f921"
             ]
            ],
            "type": "contour"
           }
          ],
          "contourcarpet": [
           {
            "colorbar": {
             "outlinewidth": 0,
             "ticks": ""
            },
            "type": "contourcarpet"
           }
          ],
          "heatmap": [
           {
            "colorbar": {
             "outlinewidth": 0,
             "ticks": ""
            },
            "colorscale": [
             [
              0,
              "#0d0887"
             ],
             [
              0.1111111111111111,
              "#46039f"
             ],
             [
              0.2222222222222222,
              "#7201a8"
             ],
             [
              0.3333333333333333,
              "#9c179e"
             ],
             [
              0.4444444444444444,
              "#bd3786"
             ],
             [
              0.5555555555555556,
              "#d8576b"
             ],
             [
              0.6666666666666666,
              "#ed7953"
             ],
             [
              0.7777777777777778,
              "#fb9f3a"
             ],
             [
              0.8888888888888888,
              "#fdca26"
             ],
             [
              1,
              "#f0f921"
             ]
            ],
            "type": "heatmap"
           }
          ],
          "heatmapgl": [
           {
            "colorbar": {
             "outlinewidth": 0,
             "ticks": ""
            },
            "colorscale": [
             [
              0,
              "#0d0887"
             ],
             [
              0.1111111111111111,
              "#46039f"
             ],
             [
              0.2222222222222222,
              "#7201a8"
             ],
             [
              0.3333333333333333,
              "#9c179e"
             ],
             [
              0.4444444444444444,
              "#bd3786"
             ],
             [
              0.5555555555555556,
              "#d8576b"
             ],
             [
              0.6666666666666666,
              "#ed7953"
             ],
             [
              0.7777777777777778,
              "#fb9f3a"
             ],
             [
              0.8888888888888888,
              "#fdca26"
             ],
             [
              1,
              "#f0f921"
             ]
            ],
            "type": "heatmapgl"
           }
          ],
          "histogram": [
           {
            "marker": {
             "colorbar": {
              "outlinewidth": 0,
              "ticks": ""
             }
            },
            "type": "histogram"
           }
          ],
          "histogram2d": [
           {
            "colorbar": {
             "outlinewidth": 0,
             "ticks": ""
            },
            "colorscale": [
             [
              0,
              "#0d0887"
             ],
             [
              0.1111111111111111,
              "#46039f"
             ],
             [
              0.2222222222222222,
              "#7201a8"
             ],
             [
              0.3333333333333333,
              "#9c179e"
             ],
             [
              0.4444444444444444,
              "#bd3786"
             ],
             [
              0.5555555555555556,
              "#d8576b"
             ],
             [
              0.6666666666666666,
              "#ed7953"
             ],
             [
              0.7777777777777778,
              "#fb9f3a"
             ],
             [
              0.8888888888888888,
              "#fdca26"
             ],
             [
              1,
              "#f0f921"
             ]
            ],
            "type": "histogram2d"
           }
          ],
          "histogram2dcontour": [
           {
            "colorbar": {
             "outlinewidth": 0,
             "ticks": ""
            },
            "colorscale": [
             [
              0,
              "#0d0887"
             ],
             [
              0.1111111111111111,
              "#46039f"
             ],
             [
              0.2222222222222222,
              "#7201a8"
             ],
             [
              0.3333333333333333,
              "#9c179e"
             ],
             [
              0.4444444444444444,
              "#bd3786"
             ],
             [
              0.5555555555555556,
              "#d8576b"
             ],
             [
              0.6666666666666666,
              "#ed7953"
             ],
             [
              0.7777777777777778,
              "#fb9f3a"
             ],
             [
              0.8888888888888888,
              "#fdca26"
             ],
             [
              1,
              "#f0f921"
             ]
            ],
            "type": "histogram2dcontour"
           }
          ],
          "mesh3d": [
           {
            "colorbar": {
             "outlinewidth": 0,
             "ticks": ""
            },
            "type": "mesh3d"
           }
          ],
          "parcoords": [
           {
            "line": {
             "colorbar": {
              "outlinewidth": 0,
              "ticks": ""
             }
            },
            "type": "parcoords"
           }
          ],
          "pie": [
           {
            "automargin": true,
            "type": "pie"
           }
          ],
          "scatter": [
           {
            "marker": {
             "colorbar": {
              "outlinewidth": 0,
              "ticks": ""
             }
            },
            "type": "scatter"
           }
          ],
          "scatter3d": [
           {
            "line": {
             "colorbar": {
              "outlinewidth": 0,
              "ticks": ""
             }
            },
            "marker": {
             "colorbar": {
              "outlinewidth": 0,
              "ticks": ""
             }
            },
            "type": "scatter3d"
           }
          ],
          "scattercarpet": [
           {
            "marker": {
             "colorbar": {
              "outlinewidth": 0,
              "ticks": ""
             }
            },
            "type": "scattercarpet"
           }
          ],
          "scattergeo": [
           {
            "marker": {
             "colorbar": {
              "outlinewidth": 0,
              "ticks": ""
             }
            },
            "type": "scattergeo"
           }
          ],
          "scattergl": [
           {
            "marker": {
             "colorbar": {
              "outlinewidth": 0,
              "ticks": ""
             }
            },
            "type": "scattergl"
           }
          ],
          "scattermapbox": [
           {
            "marker": {
             "colorbar": {
              "outlinewidth": 0,
              "ticks": ""
             }
            },
            "type": "scattermapbox"
           }
          ],
          "scatterpolar": [
           {
            "marker": {
             "colorbar": {
              "outlinewidth": 0,
              "ticks": ""
             }
            },
            "type": "scatterpolar"
           }
          ],
          "scatterpolargl": [
           {
            "marker": {
             "colorbar": {
              "outlinewidth": 0,
              "ticks": ""
             }
            },
            "type": "scatterpolargl"
           }
          ],
          "scatterternary": [
           {
            "marker": {
             "colorbar": {
              "outlinewidth": 0,
              "ticks": ""
             }
            },
            "type": "scatterternary"
           }
          ],
          "surface": [
           {
            "colorbar": {
             "outlinewidth": 0,
             "ticks": ""
            },
            "colorscale": [
             [
              0,
              "#0d0887"
             ],
             [
              0.1111111111111111,
              "#46039f"
             ],
             [
              0.2222222222222222,
              "#7201a8"
             ],
             [
              0.3333333333333333,
              "#9c179e"
             ],
             [
              0.4444444444444444,
              "#bd3786"
             ],
             [
              0.5555555555555556,
              "#d8576b"
             ],
             [
              0.6666666666666666,
              "#ed7953"
             ],
             [
              0.7777777777777778,
              "#fb9f3a"
             ],
             [
              0.8888888888888888,
              "#fdca26"
             ],
             [
              1,
              "#f0f921"
             ]
            ],
            "type": "surface"
           }
          ],
          "table": [
           {
            "cells": {
             "fill": {
              "color": "#EBF0F8"
             },
             "line": {
              "color": "white"
             }
            },
            "header": {
             "fill": {
              "color": "#C8D4E3"
             },
             "line": {
              "color": "white"
             }
            },
            "type": "table"
           }
          ]
         },
         "layout": {
          "annotationdefaults": {
           "arrowcolor": "#2a3f5f",
           "arrowhead": 0,
           "arrowwidth": 1
          },
          "coloraxis": {
           "colorbar": {
            "outlinewidth": 0,
            "ticks": ""
           }
          },
          "colorscale": {
           "diverging": [
            [
             0,
             "#8e0152"
            ],
            [
             0.1,
             "#c51b7d"
            ],
            [
             0.2,
             "#de77ae"
            ],
            [
             0.3,
             "#f1b6da"
            ],
            [
             0.4,
             "#fde0ef"
            ],
            [
             0.5,
             "#f7f7f7"
            ],
            [
             0.6,
             "#e6f5d0"
            ],
            [
             0.7,
             "#b8e186"
            ],
            [
             0.8,
             "#7fbc41"
            ],
            [
             0.9,
             "#4d9221"
            ],
            [
             1,
             "#276419"
            ]
           ],
           "sequential": [
            [
             0,
             "#0d0887"
            ],
            [
             0.1111111111111111,
             "#46039f"
            ],
            [
             0.2222222222222222,
             "#7201a8"
            ],
            [
             0.3333333333333333,
             "#9c179e"
            ],
            [
             0.4444444444444444,
             "#bd3786"
            ],
            [
             0.5555555555555556,
             "#d8576b"
            ],
            [
             0.6666666666666666,
             "#ed7953"
            ],
            [
             0.7777777777777778,
             "#fb9f3a"
            ],
            [
             0.8888888888888888,
             "#fdca26"
            ],
            [
             1,
             "#f0f921"
            ]
           ],
           "sequentialminus": [
            [
             0,
             "#0d0887"
            ],
            [
             0.1111111111111111,
             "#46039f"
            ],
            [
             0.2222222222222222,
             "#7201a8"
            ],
            [
             0.3333333333333333,
             "#9c179e"
            ],
            [
             0.4444444444444444,
             "#bd3786"
            ],
            [
             0.5555555555555556,
             "#d8576b"
            ],
            [
             0.6666666666666666,
             "#ed7953"
            ],
            [
             0.7777777777777778,
             "#fb9f3a"
            ],
            [
             0.8888888888888888,
             "#fdca26"
            ],
            [
             1,
             "#f0f921"
            ]
           ]
          },
          "colorway": [
           "#636efa",
           "#EF553B",
           "#00cc96",
           "#ab63fa",
           "#FFA15A",
           "#19d3f3",
           "#FF6692",
           "#B6E880",
           "#FF97FF",
           "#FECB52"
          ],
          "font": {
           "color": "#2a3f5f"
          },
          "geo": {
           "bgcolor": "white",
           "lakecolor": "white",
           "landcolor": "#E5ECF6",
           "showlakes": true,
           "showland": true,
           "subunitcolor": "white"
          },
          "hoverlabel": {
           "align": "left"
          },
          "hovermode": "closest",
          "mapbox": {
           "style": "light"
          },
          "paper_bgcolor": "white",
          "plot_bgcolor": "#E5ECF6",
          "polar": {
           "angularaxis": {
            "gridcolor": "white",
            "linecolor": "white",
            "ticks": ""
           },
           "bgcolor": "#E5ECF6",
           "radialaxis": {
            "gridcolor": "white",
            "linecolor": "white",
            "ticks": ""
           }
          },
          "scene": {
           "xaxis": {
            "backgroundcolor": "#E5ECF6",
            "gridcolor": "white",
            "gridwidth": 2,
            "linecolor": "white",
            "showbackground": true,
            "ticks": "",
            "zerolinecolor": "white"
           },
           "yaxis": {
            "backgroundcolor": "#E5ECF6",
            "gridcolor": "white",
            "gridwidth": 2,
            "linecolor": "white",
            "showbackground": true,
            "ticks": "",
            "zerolinecolor": "white"
           },
           "zaxis": {
            "backgroundcolor": "#E5ECF6",
            "gridcolor": "white",
            "gridwidth": 2,
            "linecolor": "white",
            "showbackground": true,
            "ticks": "",
            "zerolinecolor": "white"
           }
          },
          "shapedefaults": {
           "line": {
            "color": "#2a3f5f"
           }
          },
          "ternary": {
           "aaxis": {
            "gridcolor": "white",
            "linecolor": "white",
            "ticks": ""
           },
           "baxis": {
            "gridcolor": "white",
            "linecolor": "white",
            "ticks": ""
           },
           "bgcolor": "#E5ECF6",
           "caxis": {
            "gridcolor": "white",
            "linecolor": "white",
            "ticks": ""
           }
          },
          "title": {
           "x": 0.05
          },
          "xaxis": {
           "automargin": true,
           "gridcolor": "white",
           "linecolor": "white",
           "ticks": "",
           "title": {
            "standoff": 15
           },
           "zerolinecolor": "white",
           "zerolinewidth": 2
          },
          "yaxis": {
           "automargin": true,
           "gridcolor": "white",
           "linecolor": "white",
           "ticks": "",
           "title": {
            "standoff": 15
           },
           "zerolinecolor": "white",
           "zerolinewidth": 2
          }
         }
        },
        "xaxis": {
         "anchor": "y",
         "domain": [
          0,
          1
         ],
         "title": {
          "text": "year_month"
         }
        },
        "yaxis": {
         "anchor": "x",
         "domain": [
          0,
          1
         ],
         "title": {
          "text": "value"
         }
        }
       }
      },
      "text/html": [
       "<div>                            <div id=\"48b1cfd8-80b1-4e5a-b737-ae9e2232a352\" class=\"plotly-graph-div\" style=\"height:525px; width:100%;\"></div>            <script type=\"text/javascript\">                require([\"plotly\"], function(Plotly) {                    window.PLOTLYENV=window.PLOTLYENV || {};                                    if (document.getElementById(\"48b1cfd8-80b1-4e5a-b737-ae9e2232a352\")) {                    Plotly.newPlot(                        \"48b1cfd8-80b1-4e5a-b737-ae9e2232a352\",                        [{\"hovertemplate\": \"year_month=%{x}<br>value=%{y}<extra></extra>\", \"legendgroup\": \"\", \"line\": {\"color\": \"#636efa\", \"dash\": \"solid\"}, \"mode\": \"lines\", \"name\": \"\", \"orientation\": \"v\", \"showlegend\": false, \"type\": \"scatter\", \"x\": [\"1992-01-01T00:00:00\", \"1992-02-01T00:00:00\", \"1992-03-01T00:00:00\", \"1992-04-01T00:00:00\", \"1992-05-01T00:00:00\", \"1992-06-01T00:00:00\", \"1992-07-01T00:00:00\", \"1992-08-01T00:00:00\", \"1992-09-01T00:00:00\", \"1992-10-01T00:00:00\", \"1992-11-01T00:00:00\", \"1992-12-01T00:00:00\", \"1993-01-01T00:00:00\", \"1993-02-01T00:00:00\", \"1993-03-01T00:00:00\", \"1993-04-01T00:00:00\", \"1993-05-01T00:00:00\", \"1993-06-01T00:00:00\", \"1993-07-01T00:00:00\", \"1993-08-01T00:00:00\", \"1993-09-01T00:00:00\", \"1993-10-01T00:00:00\", \"1993-11-01T00:00:00\", \"1993-12-01T00:00:00\", \"1994-01-01T00:00:00\", \"1994-02-01T00:00:00\", \"1994-03-01T00:00:00\", \"1994-04-01T00:00:00\", \"1994-05-01T00:00:00\", \"1994-06-01T00:00:00\", \"1994-07-01T00:00:00\", \"1994-08-01T00:00:00\", \"1994-09-01T00:00:00\", \"1994-10-01T00:00:00\", \"1994-11-01T00:00:00\", \"1994-12-01T00:00:00\", \"1995-01-01T00:00:00\", \"1995-02-01T00:00:00\", \"1995-03-01T00:00:00\", \"1995-04-01T00:00:00\", \"1995-05-01T00:00:00\", \"1995-06-01T00:00:00\", \"1995-07-01T00:00:00\", \"1995-08-01T00:00:00\", \"1995-09-01T00:00:00\", \"1995-10-01T00:00:00\", \"1995-11-01T00:00:00\", \"1995-12-01T00:00:00\", \"1996-01-01T00:00:00\", \"1996-02-01T00:00:00\", \"1996-03-01T00:00:00\", \"1996-04-01T00:00:00\", \"1996-05-01T00:00:00\", \"1996-06-01T00:00:00\", \"1996-07-01T00:00:00\", \"1996-08-01T00:00:00\", \"1996-09-01T00:00:00\", \"1996-10-01T00:00:00\", \"1996-11-01T00:00:00\", \"1996-12-01T00:00:00\", \"1997-01-01T00:00:00\", \"1997-02-01T00:00:00\", \"1997-03-01T00:00:00\", \"1997-04-01T00:00:00\", \"1997-05-01T00:00:00\", \"1997-06-01T00:00:00\", \"1997-07-01T00:00:00\", \"1997-08-01T00:00:00\", \"1997-09-01T00:00:00\", \"1997-10-01T00:00:00\", \"1997-11-01T00:00:00\", \"1997-12-01T00:00:00\", \"1998-01-01T00:00:00\", \"1998-02-01T00:00:00\", \"1998-03-01T00:00:00\", \"1998-04-01T00:00:00\", \"1998-05-01T00:00:00\", \"1998-06-01T00:00:00\", \"1998-07-01T00:00:00\", \"1998-08-01T00:00:00\", \"1998-09-01T00:00:00\", \"1998-10-01T00:00:00\", \"1998-11-01T00:00:00\", \"1998-12-01T00:00:00\", \"1999-01-01T00:00:00\", \"1999-02-01T00:00:00\", \"1999-03-01T00:00:00\", \"1999-04-01T00:00:00\", \"1999-05-01T00:00:00\", \"1999-06-01T00:00:00\", \"1999-07-01T00:00:00\", \"1999-08-01T00:00:00\", \"1999-09-01T00:00:00\", \"1999-10-01T00:00:00\", \"1999-11-01T00:00:00\", \"1999-12-01T00:00:00\", \"2000-01-01T00:00:00\", \"2000-02-01T00:00:00\", \"2000-03-01T00:00:00\", \"2000-04-01T00:00:00\", \"2000-05-01T00:00:00\", \"2000-06-01T00:00:00\", \"2000-07-01T00:00:00\", \"2000-08-01T00:00:00\", \"2000-09-01T00:00:00\", \"2000-10-01T00:00:00\", \"2000-11-01T00:00:00\", \"2000-12-01T00:00:00\", \"2001-01-01T00:00:00\", \"2001-02-01T00:00:00\", \"2001-03-01T00:00:00\", \"2001-04-01T00:00:00\", \"2001-05-01T00:00:00\", \"2001-06-01T00:00:00\", \"2001-07-01T00:00:00\", \"2001-08-01T00:00:00\", \"2001-09-01T00:00:00\", \"2001-10-01T00:00:00\", \"2001-11-01T00:00:00\", \"2001-12-01T00:00:00\", \"2002-01-01T00:00:00\", \"2002-02-01T00:00:00\", \"2002-03-01T00:00:00\", \"2002-04-01T00:00:00\", \"2002-05-01T00:00:00\", \"2002-06-01T00:00:00\", \"2002-07-01T00:00:00\", \"2002-08-01T00:00:00\", \"2002-09-01T00:00:00\", \"2002-10-01T00:00:00\", \"2002-11-01T00:00:00\", \"2002-12-01T00:00:00\", \"2003-01-01T00:00:00\", \"2003-02-01T00:00:00\", \"2003-03-01T00:00:00\", \"2003-04-01T00:00:00\", \"2003-05-01T00:00:00\", \"2003-06-01T00:00:00\", \"2003-07-01T00:00:00\", \"2003-08-01T00:00:00\", \"2003-09-01T00:00:00\", \"2003-10-01T00:00:00\", \"2003-11-01T00:00:00\", \"2003-12-01T00:00:00\", \"2004-01-01T00:00:00\", \"2004-02-01T00:00:00\", \"2004-03-01T00:00:00\", \"2004-04-01T00:00:00\", \"2004-05-01T00:00:00\", \"2004-06-01T00:00:00\", \"2004-07-01T00:00:00\", \"2004-08-01T00:00:00\", \"2004-09-01T00:00:00\", \"2004-10-01T00:00:00\", \"2004-11-01T00:00:00\", \"2004-12-01T00:00:00\", \"2005-01-01T00:00:00\", \"2005-02-01T00:00:00\", \"2005-03-01T00:00:00\", \"2005-04-01T00:00:00\", \"2005-05-01T00:00:00\", \"2005-06-01T00:00:00\", \"2005-07-01T00:00:00\", \"2005-08-01T00:00:00\", \"2005-09-01T00:00:00\", \"2005-10-01T00:00:00\", \"2005-11-01T00:00:00\", \"2005-12-01T00:00:00\", \"2006-01-01T00:00:00\", \"2006-02-01T00:00:00\", \"2006-03-01T00:00:00\", \"2006-04-01T00:00:00\", \"2006-05-01T00:00:00\", \"2006-06-01T00:00:00\", \"2006-07-01T00:00:00\", \"2006-08-01T00:00:00\", \"2006-09-01T00:00:00\", \"2006-10-01T00:00:00\", \"2006-11-01T00:00:00\", \"2006-12-01T00:00:00\", \"2007-01-01T00:00:00\", \"2007-02-01T00:00:00\", \"2007-03-01T00:00:00\", \"2007-04-01T00:00:00\", \"2007-05-01T00:00:00\", \"2007-06-01T00:00:00\", \"2007-07-01T00:00:00\", \"2007-08-01T00:00:00\", \"2007-09-01T00:00:00\", \"2007-10-01T00:00:00\", \"2007-11-01T00:00:00\", \"2007-12-01T00:00:00\", \"2008-01-01T00:00:00\", \"2008-02-01T00:00:00\", \"2008-03-01T00:00:00\", \"2008-04-01T00:00:00\", \"2008-05-01T00:00:00\", \"2008-06-01T00:00:00\", \"2008-07-01T00:00:00\", \"2008-08-01T00:00:00\", \"2008-09-01T00:00:00\", \"2008-10-01T00:00:00\", \"2008-11-01T00:00:00\", \"2008-12-01T00:00:00\", \"2009-01-01T00:00:00\", \"2009-02-01T00:00:00\", \"2009-03-01T00:00:00\", \"2009-04-01T00:00:00\", \"2009-05-01T00:00:00\", \"2009-06-01T00:00:00\", \"2009-07-01T00:00:00\", \"2009-08-01T00:00:00\", \"2009-09-01T00:00:00\", \"2009-10-01T00:00:00\", \"2009-11-01T00:00:00\", \"2009-12-01T00:00:00\", \"2010-01-01T00:00:00\", \"2010-02-01T00:00:00\", \"2010-03-01T00:00:00\", \"2010-04-01T00:00:00\", \"2010-05-01T00:00:00\", \"2010-06-01T00:00:00\", \"2010-07-01T00:00:00\", \"2010-08-01T00:00:00\", \"2010-09-01T00:00:00\", \"2010-10-01T00:00:00\", \"2010-11-01T00:00:00\", \"2010-12-01T00:00:00\", \"2011-01-01T00:00:00\", \"2011-02-01T00:00:00\", \"2011-03-01T00:00:00\", \"2011-04-01T00:00:00\", \"2011-05-01T00:00:00\", \"2011-06-01T00:00:00\", \"2011-07-01T00:00:00\", \"2011-08-01T00:00:00\", \"2011-09-01T00:00:00\", \"2011-10-01T00:00:00\", \"2011-11-01T00:00:00\", \"2011-12-01T00:00:00\", \"2012-01-01T00:00:00\", \"2012-02-01T00:00:00\", \"2012-03-01T00:00:00\", \"2012-04-01T00:00:00\", \"2012-05-01T00:00:00\", \"2012-06-01T00:00:00\", \"2012-07-01T00:00:00\", \"2012-08-01T00:00:00\", \"2012-09-01T00:00:00\", \"2012-10-01T00:00:00\", \"2012-11-01T00:00:00\", \"2012-12-01T00:00:00\", \"2013-01-01T00:00:00\", \"2013-02-01T00:00:00\", \"2013-03-01T00:00:00\", \"2013-04-01T00:00:00\", \"2013-05-01T00:00:00\", \"2013-06-01T00:00:00\", \"2013-07-01T00:00:00\", \"2013-08-01T00:00:00\", \"2013-09-01T00:00:00\", \"2013-10-01T00:00:00\", \"2013-11-01T00:00:00\", \"2013-12-01T00:00:00\", \"2014-01-01T00:00:00\", \"2014-02-01T00:00:00\", \"2014-03-01T00:00:00\", \"2014-04-01T00:00:00\", \"2014-05-01T00:00:00\", \"2014-06-01T00:00:00\", \"2014-07-01T00:00:00\", \"2014-08-01T00:00:00\", \"2014-09-01T00:00:00\", \"2014-10-01T00:00:00\", \"2014-11-01T00:00:00\", \"2014-12-01T00:00:00\", \"2015-01-01T00:00:00\", \"2015-02-01T00:00:00\", \"2015-03-01T00:00:00\", \"2015-04-01T00:00:00\", \"2015-05-01T00:00:00\", \"2015-06-01T00:00:00\", \"2015-07-01T00:00:00\", \"2015-08-01T00:00:00\", \"2015-09-01T00:00:00\", \"2015-10-01T00:00:00\", \"2015-11-01T00:00:00\", \"2015-12-01T00:00:00\", \"2016-01-01T00:00:00\", \"2016-02-01T00:00:00\", \"2016-03-01T00:00:00\", \"2016-04-01T00:00:00\", \"2016-05-01T00:00:00\", \"2016-06-01T00:00:00\", \"2016-07-01T00:00:00\", \"2016-08-01T00:00:00\", \"2016-09-01T00:00:00\", \"2016-10-01T00:00:00\", \"2016-11-01T00:00:00\", \"2016-12-01T00:00:00\", \"2017-01-01T00:00:00\", \"2017-02-01T00:00:00\", \"2017-03-01T00:00:00\", \"2017-04-01T00:00:00\", \"2017-05-01T00:00:00\", \"2017-06-01T00:00:00\", \"2017-07-01T00:00:00\", \"2017-08-01T00:00:00\", \"2017-09-01T00:00:00\", \"2017-10-01T00:00:00\", \"2017-11-01T00:00:00\", \"2017-12-01T00:00:00\", \"2018-01-01T00:00:00\", \"2018-02-01T00:00:00\", \"2018-03-01T00:00:00\", \"2018-04-01T00:00:00\", \"2018-05-01T00:00:00\", \"2018-06-01T00:00:00\", \"2018-07-01T00:00:00\", \"2018-08-01T00:00:00\", \"2018-09-01T00:00:00\", \"2018-10-01T00:00:00\", \"2018-11-01T00:00:00\", \"2018-12-01T00:00:00\", \"2019-01-01T00:00:00\", \"2019-02-01T00:00:00\", \"2019-03-01T00:00:00\", \"2019-04-01T00:00:00\", \"2019-05-01T00:00:00\", \"2019-06-01T00:00:00\", \"2019-07-01T00:00:00\", \"2019-08-01T00:00:00\", \"2019-09-01T00:00:00\", \"2019-10-01T00:00:00\", \"2019-11-01T00:00:00\", \"2019-12-01T00:00:00\", \"2020-01-01T00:00:00\", \"2020-02-01T00:00:00\", \"2020-03-01T00:00:00\", \"2020-04-01T00:00:00\", \"2020-05-01T00:00:00\", \"2020-06-01T00:00:00\", \"2020-07-01T00:00:00\", \"2020-08-01T00:00:00\", \"2020-09-01T00:00:00\", \"2020-10-01T00:00:00\", \"2020-11-01T00:00:00\", \"2020-12-01T00:00:00\", \"2021-01-01T00:00:00\", \"2021-02-01T00:00:00\", \"2021-03-01T00:00:00\", \"2021-04-01T00:00:00\", \"2021-05-01T00:00:00\", \"2021-06-01T00:00:00\", \"2021-07-01T00:00:00\", \"2021-08-01T00:00:00\", \"2021-09-01T00:00:00\", \"2021-10-01T00:00:00\", \"2021-11-01T00:00:00\", \"2021-12-01T00:00:00\"], \"xaxis\": \"x\", \"y\": [\"706,985\", \"679,244\", \"788,125\", \"774,273\", \"848,167\", \"917,617\", \"1,011,958\", \"1,101,991\", \"879,868\", \"782,591\", \"663,367\", \"781,099\", \"740,294\", \"689,195\", \"818,796\", \"771,858\", \"858,337\", \"931,678\", \"1,041,260\", \"1,135,457\", \"943,843\", \"817,298\", \"674,900\", \"812,099\", \"765,070\", \"704,221\", \"849,386\", \"789,426\", \"891,291\", \"998,459\", \"1,125,938\", \"1,218,721\", \"1,030,690\", \"878,067\", \"717,041\", \"862,486\", \"799,520\", \"751,947\", \"895,158\", \"844,922\", \"988,937\", \"1,113,926\", \"1,248,435\", \"1,393,565\", \"1,165,624\", \"977,349\", \"856,739\", \"970,851\", \"974,490\", \"956,326\", \"1,132,051\", \"1,024,514\", \"1,175,657\", \"1,301,400\", \"1,451,765\", \"1,597,453\", \"1,267,960\", \"1,150,295\", \"927,331\", \"1,077,932\", \"1,068,358\", \"1,040,303\", \"1,195,470\", \"1,086,419\", \"1,244,517\", \"1,352,889\", \"1,517,170\", \"1,668,834\", \"1,348,086\", \"1,195,016\", \"964,900\", \"1,136,602\", \"1,116,810\", \"1,022,709\", \"1,207,282\", \"1,134,327\", \"1,309,206\", \"1,419,278\", \"1,597,609\", \"1,736,542\", \"1,385,777\", \"1,321,314\", \"1,046,534\", \"1,210,721\", \"1,151,301\", \"1,108,200\", \"1,302,486\", \"1,203,495\", \"1,341,701\", \"1,422,087\", \"1,630,838\", \"1,717,770\", \"1,411,756\", \"1,253,087\", \"1,096,934\", \"1,166,844\", \"1,125,890\", \"1,143,341\", \"1,282,824\", \"1,242,363\", \"1,353,296\", \"1,486,685\", \"1,652,316\", \"1,739,403\", \"1,438,566\", \"1,266,562\", \"1,074,866\", \"1,226,419\", \"1,220,568\", \"1,146,890\", \"1,269,070\", \"1,241,644\", \"1,381,675\", \"1,480,690\", \"1,679,267\", \"1,799,740\", \"1,161,925\", \"1,064,991\", \"920,210\", \"1,110,092\", \"1,088,461\", \"1,036,746\", \"1,175,246\", \"1,122,667\", \"1,247,965\", \"1,366,041\", \"1,552,087\", \"1,660,840\", \"1,307,988\", \"1,197,791\", \"963,462\", \"1,158,242\", \"1,118,801\", \"1,030,103\", \"1,158,828\", \"969,727\", \"1,083,248\", \"1,231,738\", \"1,482,809\", \"1,641,249\", \"1,268,535\", \"1,160,743\", \"985,080\", \"1,190,643\", \"1,136,340\", \"1,106,235\", \"1,219,333\", \"1,168,325\", \"1,305,036\", \"1,433,812\", \"1,644,138\", \"1,726,309\", \"1,414,006\", \"1,246,173\", \"1,053,982\", \"1,272,005\", \"1,247,870\", \"1,158,194\", \"1,319,434\", \"1,214,206\", \"1,376,296\", \"1,493,043\", \"1,698,563\", \"1,773,350\", \"1,451,191\", \"1,299,840\", \"1,108,665\", \"1,278,231\", \"1,233,867\", \"1,175,829\", \"1,365,374\", \"1,267,011\", \"1,413,774\", \"1,532,519\", \"1,782,416\", \"1,838,785\", \"1,481,288\", \"1,324,420\", \"1,149,502\", \"1,357,441\", \"1,301,188\", \"1,207,156\", \"1,413,999\", \"1,320,187\", \"1,446,831\", \"1,562,520\", \"1,786,529\", \"1,888,097\", \"1,532,565\", \"1,372,007\", \"1,247,015\", \"1,416,955\", \"1,420,775\", \"1,361,183\", \"1,527,585\", \"1,401,731\", \"1,544,030\", \"1,641,891\", \"1,798,422\", \"1,892,901\", \"1,440,717\", \"1,327,442\", \"1,173,363\", \"1,322,419\", \"1,284,285\", \"1,207,573\", \"1,355,320\", \"1,286,712\", \"1,319,128\", \"1,380,843\", \"1,592,111\", \"1,710,556\", \"1,376,558\", \"1,240,264\", \"1,112,116\", \"1,313,846\", \"1,260,258\", \"1,248,449\", \"1,395,595\", \"1,315,792\", \"1,415,239\", \"1,494,298\", \"1,667,067\", \"1,704,738\", \"1,417,721\", \"1,331,307\", \"1,176,741\", \"1,351,569\", \"1,297,690\", \"1,209,581\", \"1,402,328\", \"1,322,122\", \"1,436,297\", \"1,511,359\", \"1,697,690\", \"1,761,821\", \"1,457,775\", \"1,331,577\", \"1,199,530\", \"1,405,010\", \"1,370,513\", \"1,293,520\", \"1,443,150\", \"1,385,573\", \"1,475,940\", \"1,545,313\", \"1,742,739\", \"1,825,707\", \"1,496,728\", \"1,378,351\", \"1,244,543\", \"1,394,824\", \"1,349,201\", \"1,270,257\", \"1,429,669\", \"1,364,586\", \"1,481,479\", \"1,611,311\", \"1,808,268\", \"1,932,707\", \"1,545,839\", \"1,408,173\", \"1,277,168\", \"1,493,225\", \"1,469,164\", \"1,355,525\", \"1,528,472\", \"1,491,366\", \"1,629,021\", \"1,737,596\", \"1,940,652\", \"2,086,915\", \"1,665,772\", \"1,509,109\", \"1,353,405\", \"1,591,206\", \"1,524,588\", \"1,437,469\", \"1,652,210\", \"1,555,053\", \"1,702,063\", \"1,821,964\", \"2,045,264\", \"2,125,743\", \"1,745,362\", \"1,596,765\", \"1,430,634\", \"1,678,863\", \"1,627,215\", \"1,594,613\", \"1,781,012\", \"1,644,098\", \"1,829,564\", \"1,997,940\", \"2,270,716\", \"2,338,038\", \"1,977,711\", \"1,784,813\", \"1,587,739\", \"1,851,037\", \"1,791,047\", \"1,648,480\", \"1,912,268\", \"1,855,197\", \"1,995,750\", \"2,151,864\", \"2,435,856\", \"2,556,922\", \"2,109,095\", \"1,952,992\", \"1,749,169\", \"2,007,482\", \"1,939,163\", \"1,830,174\", \"2,089,494\", \"2,003,048\", \"2,147,970\", \"2,374,739\", \"2,618,762\", \"2,714,528\", \"2,241,652\", \"2,068,771\", \"1,844,605\", \"2,064,001\", \"2,026,817\", \"1,872,863\", \"2,132,943\", \"2,077,843\", \"2,184,854\", \"2,389,024\", \"2,612,363\", \"2,681,698\", \"2,303,396\", \"2,064,711\", \"1,878,207\", \"2,155,151\", \"2,021,682\", \"1,812,964\", \"1,107,135\", \"68,853\", \"88,798\", \"193,102\", \"331,695\", \"417,445\", \"355,353\", \"333,694\", \"276,041\", \"293,525\", \"251,676\", \"177,806\", \"202,133\", \"189,686\", \"200,491\", \"317,293\", \"693,774\", \"1,051,652\", \"948,217\", \"959,115\", null, null], \"yaxis\": \"y\"}],                        {\"legend\": {\"tracegroupgap\": 0}, \"margin\": {\"t\": 60}, \"template\": {\"data\": {\"bar\": [{\"error_x\": {\"color\": \"#2a3f5f\"}, \"error_y\": {\"color\": \"#2a3f5f\"}, \"marker\": {\"line\": {\"color\": \"#E5ECF6\", \"width\": 0.5}}, \"type\": \"bar\"}], \"barpolar\": [{\"marker\": {\"line\": {\"color\": \"#E5ECF6\", \"width\": 0.5}}, \"type\": \"barpolar\"}], \"carpet\": [{\"aaxis\": {\"endlinecolor\": \"#2a3f5f\", \"gridcolor\": \"white\", \"linecolor\": \"white\", \"minorgridcolor\": \"white\", \"startlinecolor\": \"#2a3f5f\"}, \"baxis\": {\"endlinecolor\": \"#2a3f5f\", \"gridcolor\": \"white\", \"linecolor\": \"white\", \"minorgridcolor\": \"white\", \"startlinecolor\": \"#2a3f5f\"}, \"type\": \"carpet\"}], \"choropleth\": [{\"colorbar\": {\"outlinewidth\": 0, \"ticks\": \"\"}, \"type\": \"choropleth\"}], \"contour\": [{\"colorbar\": {\"outlinewidth\": 0, \"ticks\": \"\"}, \"colorscale\": [[0.0, \"#0d0887\"], [0.1111111111111111, \"#46039f\"], [0.2222222222222222, \"#7201a8\"], [0.3333333333333333, \"#9c179e\"], [0.4444444444444444, \"#bd3786\"], [0.5555555555555556, \"#d8576b\"], [0.6666666666666666, \"#ed7953\"], [0.7777777777777778, \"#fb9f3a\"], [0.8888888888888888, \"#fdca26\"], [1.0, \"#f0f921\"]], \"type\": \"contour\"}], \"contourcarpet\": [{\"colorbar\": {\"outlinewidth\": 0, \"ticks\": \"\"}, \"type\": \"contourcarpet\"}], \"heatmap\": [{\"colorbar\": {\"outlinewidth\": 0, \"ticks\": \"\"}, \"colorscale\": [[0.0, \"#0d0887\"], [0.1111111111111111, \"#46039f\"], [0.2222222222222222, \"#7201a8\"], [0.3333333333333333, \"#9c179e\"], [0.4444444444444444, \"#bd3786\"], [0.5555555555555556, \"#d8576b\"], [0.6666666666666666, \"#ed7953\"], [0.7777777777777778, \"#fb9f3a\"], [0.8888888888888888, \"#fdca26\"], [1.0, \"#f0f921\"]], \"type\": \"heatmap\"}], \"heatmapgl\": [{\"colorbar\": {\"outlinewidth\": 0, \"ticks\": \"\"}, \"colorscale\": [[0.0, \"#0d0887\"], [0.1111111111111111, \"#46039f\"], [0.2222222222222222, \"#7201a8\"], [0.3333333333333333, \"#9c179e\"], [0.4444444444444444, \"#bd3786\"], [0.5555555555555556, \"#d8576b\"], [0.6666666666666666, \"#ed7953\"], [0.7777777777777778, \"#fb9f3a\"], [0.8888888888888888, \"#fdca26\"], [1.0, \"#f0f921\"]], \"type\": \"heatmapgl\"}], \"histogram\": [{\"marker\": {\"colorbar\": {\"outlinewidth\": 0, \"ticks\": \"\"}}, \"type\": \"histogram\"}], \"histogram2d\": [{\"colorbar\": {\"outlinewidth\": 0, \"ticks\": \"\"}, \"colorscale\": [[0.0, \"#0d0887\"], [0.1111111111111111, \"#46039f\"], [0.2222222222222222, \"#7201a8\"], [0.3333333333333333, \"#9c179e\"], [0.4444444444444444, \"#bd3786\"], [0.5555555555555556, \"#d8576b\"], [0.6666666666666666, \"#ed7953\"], [0.7777777777777778, \"#fb9f3a\"], [0.8888888888888888, \"#fdca26\"], [1.0, \"#f0f921\"]], \"type\": \"histogram2d\"}], \"histogram2dcontour\": [{\"colorbar\": {\"outlinewidth\": 0, \"ticks\": \"\"}, \"colorscale\": [[0.0, \"#0d0887\"], [0.1111111111111111, \"#46039f\"], [0.2222222222222222, \"#7201a8\"], [0.3333333333333333, \"#9c179e\"], [0.4444444444444444, \"#bd3786\"], [0.5555555555555556, \"#d8576b\"], [0.6666666666666666, \"#ed7953\"], [0.7777777777777778, \"#fb9f3a\"], [0.8888888888888888, \"#fdca26\"], [1.0, \"#f0f921\"]], \"type\": \"histogram2dcontour\"}], \"mesh3d\": [{\"colorbar\": {\"outlinewidth\": 0, \"ticks\": \"\"}, \"type\": \"mesh3d\"}], \"parcoords\": [{\"line\": {\"colorbar\": {\"outlinewidth\": 0, \"ticks\": \"\"}}, \"type\": \"parcoords\"}], \"pie\": [{\"automargin\": true, \"type\": \"pie\"}], \"scatter\": [{\"marker\": {\"colorbar\": {\"outlinewidth\": 0, \"ticks\": \"\"}}, \"type\": \"scatter\"}], \"scatter3d\": [{\"line\": {\"colorbar\": {\"outlinewidth\": 0, \"ticks\": \"\"}}, \"marker\": {\"colorbar\": {\"outlinewidth\": 0, \"ticks\": \"\"}}, \"type\": \"scatter3d\"}], \"scattercarpet\": [{\"marker\": {\"colorbar\": {\"outlinewidth\": 0, \"ticks\": \"\"}}, \"type\": \"scattercarpet\"}], \"scattergeo\": [{\"marker\": {\"colorbar\": {\"outlinewidth\": 0, \"ticks\": \"\"}}, \"type\": \"scattergeo\"}], \"scattergl\": [{\"marker\": {\"colorbar\": {\"outlinewidth\": 0, \"ticks\": \"\"}}, \"type\": \"scattergl\"}], \"scattermapbox\": [{\"marker\": {\"colorbar\": {\"outlinewidth\": 0, \"ticks\": \"\"}}, \"type\": \"scattermapbox\"}], \"scatterpolar\": [{\"marker\": {\"colorbar\": {\"outlinewidth\": 0, \"ticks\": \"\"}}, \"type\": \"scatterpolar\"}], \"scatterpolargl\": [{\"marker\": {\"colorbar\": {\"outlinewidth\": 0, \"ticks\": \"\"}}, \"type\": \"scatterpolargl\"}], \"scatterternary\": [{\"marker\": {\"colorbar\": {\"outlinewidth\": 0, \"ticks\": \"\"}}, \"type\": \"scatterternary\"}], \"surface\": [{\"colorbar\": {\"outlinewidth\": 0, \"ticks\": \"\"}, \"colorscale\": [[0.0, \"#0d0887\"], [0.1111111111111111, \"#46039f\"], [0.2222222222222222, \"#7201a8\"], [0.3333333333333333, \"#9c179e\"], [0.4444444444444444, \"#bd3786\"], [0.5555555555555556, \"#d8576b\"], [0.6666666666666666, \"#ed7953\"], [0.7777777777777778, \"#fb9f3a\"], [0.8888888888888888, \"#fdca26\"], [1.0, \"#f0f921\"]], \"type\": \"surface\"}], \"table\": [{\"cells\": {\"fill\": {\"color\": \"#EBF0F8\"}, \"line\": {\"color\": \"white\"}}, \"header\": {\"fill\": {\"color\": \"#C8D4E3\"}, \"line\": {\"color\": \"white\"}}, \"type\": \"table\"}]}, \"layout\": {\"annotationdefaults\": {\"arrowcolor\": \"#2a3f5f\", \"arrowhead\": 0, \"arrowwidth\": 1}, \"coloraxis\": {\"colorbar\": {\"outlinewidth\": 0, \"ticks\": \"\"}}, \"colorscale\": {\"diverging\": [[0, \"#8e0152\"], [0.1, \"#c51b7d\"], [0.2, \"#de77ae\"], [0.3, \"#f1b6da\"], [0.4, \"#fde0ef\"], [0.5, \"#f7f7f7\"], [0.6, \"#e6f5d0\"], [0.7, \"#b8e186\"], [0.8, \"#7fbc41\"], [0.9, \"#4d9221\"], [1, \"#276419\"]], \"sequential\": [[0.0, \"#0d0887\"], [0.1111111111111111, \"#46039f\"], [0.2222222222222222, \"#7201a8\"], [0.3333333333333333, \"#9c179e\"], [0.4444444444444444, \"#bd3786\"], [0.5555555555555556, \"#d8576b\"], [0.6666666666666666, \"#ed7953\"], [0.7777777777777778, \"#fb9f3a\"], [0.8888888888888888, \"#fdca26\"], [1.0, \"#f0f921\"]], \"sequentialminus\": [[0.0, \"#0d0887\"], [0.1111111111111111, \"#46039f\"], [0.2222222222222222, \"#7201a8\"], [0.3333333333333333, \"#9c179e\"], [0.4444444444444444, \"#bd3786\"], [0.5555555555555556, \"#d8576b\"], [0.6666666666666666, \"#ed7953\"], [0.7777777777777778, \"#fb9f3a\"], [0.8888888888888888, \"#fdca26\"], [1.0, \"#f0f921\"]]}, \"colorway\": [\"#636efa\", \"#EF553B\", \"#00cc96\", \"#ab63fa\", \"#FFA15A\", \"#19d3f3\", \"#FF6692\", \"#B6E880\", \"#FF97FF\", \"#FECB52\"], \"font\": {\"color\": \"#2a3f5f\"}, \"geo\": {\"bgcolor\": \"white\", \"lakecolor\": \"white\", \"landcolor\": \"#E5ECF6\", \"showlakes\": true, \"showland\": true, \"subunitcolor\": \"white\"}, \"hoverlabel\": {\"align\": \"left\"}, \"hovermode\": \"closest\", \"mapbox\": {\"style\": \"light\"}, \"paper_bgcolor\": \"white\", \"plot_bgcolor\": \"#E5ECF6\", \"polar\": {\"angularaxis\": {\"gridcolor\": \"white\", \"linecolor\": \"white\", \"ticks\": \"\"}, \"bgcolor\": \"#E5ECF6\", \"radialaxis\": {\"gridcolor\": \"white\", \"linecolor\": \"white\", \"ticks\": \"\"}}, \"scene\": {\"xaxis\": {\"backgroundcolor\": \"#E5ECF6\", \"gridcolor\": \"white\", \"gridwidth\": 2, \"linecolor\": \"white\", \"showbackground\": true, \"ticks\": \"\", \"zerolinecolor\": \"white\"}, \"yaxis\": {\"backgroundcolor\": \"#E5ECF6\", \"gridcolor\": \"white\", \"gridwidth\": 2, \"linecolor\": \"white\", \"showbackground\": true, \"ticks\": \"\", \"zerolinecolor\": \"white\"}, \"zaxis\": {\"backgroundcolor\": \"#E5ECF6\", \"gridcolor\": \"white\", \"gridwidth\": 2, \"linecolor\": \"white\", \"showbackground\": true, \"ticks\": \"\", \"zerolinecolor\": \"white\"}}, \"shapedefaults\": {\"line\": {\"color\": \"#2a3f5f\"}}, \"ternary\": {\"aaxis\": {\"gridcolor\": \"white\", \"linecolor\": \"white\", \"ticks\": \"\"}, \"baxis\": {\"gridcolor\": \"white\", \"linecolor\": \"white\", \"ticks\": \"\"}, \"bgcolor\": \"#E5ECF6\", \"caxis\": {\"gridcolor\": \"white\", \"linecolor\": \"white\", \"ticks\": \"\"}}, \"title\": {\"x\": 0.05}, \"xaxis\": {\"automargin\": true, \"gridcolor\": \"white\", \"linecolor\": \"white\", \"ticks\": \"\", \"title\": {\"standoff\": 15}, \"zerolinecolor\": \"white\", \"zerolinewidth\": 2}, \"yaxis\": {\"automargin\": true, \"gridcolor\": \"white\", \"linecolor\": \"white\", \"ticks\": \"\", \"title\": {\"standoff\": 15}, \"zerolinecolor\": \"white\", \"zerolinewidth\": 2}}}, \"xaxis\": {\"anchor\": \"y\", \"domain\": [0.0, 1.0], \"title\": {\"text\": \"year_month\"}}, \"yaxis\": {\"anchor\": \"x\", \"domain\": [0.0, 1.0], \"title\": {\"text\": \"value\"}}},                        {\"responsive\": true}                    ).then(function(){\n",
       "                            \n",
       "var gd = document.getElementById('48b1cfd8-80b1-4e5a-b737-ae9e2232a352');\n",
       "var x = new MutationObserver(function (mutations, observer) {{\n",
       "        var display = window.getComputedStyle(gd).display;\n",
       "        if (!display || display === 'none') {{\n",
       "            console.log([gd, 'removed!']);\n",
       "            Plotly.purge(gd);\n",
       "            observer.disconnect();\n",
       "        }}\n",
       "}});\n",
       "\n",
       "// Listen for the removal of the full notebook cells\n",
       "var notebookContainer = gd.closest('#notebook-container');\n",
       "if (notebookContainer) {{\n",
       "    x.observe(notebookContainer, {childList: true});\n",
       "}}\n",
       "\n",
       "// Listen for the clearing of the current output cell\n",
       "var outputEl = gd.closest('.output');\n",
       "if (outputEl) {{\n",
       "    x.observe(outputEl, {childList: true});\n",
       "}}\n",
       "\n",
       "                        })                };                });            </script>        </div>"
      ]
     },
     "metadata": {},
     "output_type": "display_data"
    }
   ],
   "source": [
    "fig = px.line(yvrpassengerslongtotal, x = \"year_month\", y=\"value\")\n",
    "fig.show()"
   ]
  },
  {
   "cell_type": "code",
   "execution_count": null,
   "metadata": {},
   "outputs": [],
   "source": []
  }
 ],
 "metadata": {
  "kernelspec": {
   "display_name": "Python 3",
   "language": "python",
   "name": "python3"
  },
  "language_info": {
   "codemirror_mode": {
    "name": "ipython",
    "version": 3
   },
   "file_extension": ".py",
   "mimetype": "text/x-python",
   "name": "python",
   "nbconvert_exporter": "python",
   "pygments_lexer": "ipython3",
   "version": "3.6.12"
  }
 },
 "nbformat": 4,
 "nbformat_minor": 4
}
